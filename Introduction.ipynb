{
 "cells": [
  {
   "cell_type": "markdown",
   "metadata": {},
   "source": [
    "# Практическое руководство по анализу данных\n",
    "\n",
    "\n",
    "---"
   ]
  },
  {
   "cell_type": "markdown",
   "metadata": {},
   "source": [
    "# Рабочее окружение: Jupyter"
   ]
  },
  {
   "cell_type": "markdown",
   "metadata": {},
   "source": [
    "### Ноутбуки (тетрадки)\n",
    "\n",
    "- Разметка\n",
    "- Возможность вывода графиков, изображений и тд."
   ]
  },
  {
   "cell_type": "markdown",
   "metadata": {},
   "source": [
    "### Редактирование python-файлов\n",
    "\n",
    "- Как создавать файлы\n",
    "- Идея: выносить сложные куски кода в python-модули, в ноутбуке оставлять эксперименты"
   ]
  },
  {
   "cell_type": "markdown",
   "metadata": {},
   "source": [
    "### Работа в консоли\n",
    "\n",
    "- Вызов команд консоли из ноутбука: `!ls -l`\n",
    "- Использование терминала"
   ]
  },
  {
   "cell_type": "code",
   "execution_count": 1,
   "metadata": {
    "collapsed": false
   },
   "outputs": [
    {
     "name": "stdout",
     "output_type": "stream",
     "text": [
      "wget: missing URL\r\n",
      "Usage: wget [OPTION]... [URL]...\r\n",
      "\r\n",
      "Try `wget --help' for more options.\r\n"
     ]
    }
   ],
   "source": [
    "!wget"
   ]
  },
  {
   "cell_type": "code",
   "execution_count": 2,
   "metadata": {
    "collapsed": false
   },
   "outputs": [
    {
     "name": "stdout",
     "output_type": "stream",
     "text": [
      "Dockerfile           adult.data           environment.yml\r\n",
      "Dockerfile.datanight advanced.ipynb       \u001b[34mscripts\u001b[m\u001b[m\r\n",
      "Introduction.ipynb   baseline.ipynb       submit.py\r\n",
      "README.md            datanight.py         template.ipynb\r\n"
     ]
    }
   ],
   "source": [
    "!ls"
   ]
  },
  {
   "cell_type": "code",
   "execution_count": 3,
   "metadata": {
    "collapsed": false
   },
   "outputs": [
    {
     "name": "stdout",
     "output_type": "stream",
     "text": [
      "tar: Option f requires an argument\r\n",
      "Usage:\r\n",
      "  List:    tar -tf <archive-filename>\r\n",
      "  Extract: tar -xf <archive-filename>\r\n",
      "  Create:  tar -cf <archive-filename> [filenames...]\r\n",
      "  Help:    tar --help\r\n"
     ]
    }
   ],
   "source": [
    "!tar xvf "
   ]
  },
  {
   "cell_type": "code",
   "execution_count": 4,
   "metadata": {
    "collapsed": false
   },
   "outputs": [
    {
     "name": "stdout",
     "output_type": "stream",
     "text": [
      "UnZip 5.52 of 28 February 2005, by Info-ZIP.  Maintained by C. Spieler.  Send\r\n",
      "bug reports using http://www.info-zip.org/zip-bug.html; see README for details.\r\n",
      "\r\n",
      "Usage: unzip [-Z] [-opts[modifiers]] file[.zip] [list] [-x xlist] [-d exdir]\r\n",
      "  Default action is to extract files in list, except those in xlist, to exdir;\r\n",
      "  file[.zip] may be a wildcard.  -Z => ZipInfo mode (\"unzip -Z\" for usage).\r\n",
      "\r\n",
      "  -p  extract files to pipe, no messages     -l  list files (short format)\r\n",
      "  -f  freshen existing files, create none    -t  test compressed archive data\r\n",
      "  -u  update files, create if necessary      -z  display archive comment\r\n",
      "  -x  exclude files that follow (in xlist)   -d  extract files into exdir\r\n",
      "\r\n",
      "modifiers:                                   -q  quiet mode (-qq => quieter)\r\n",
      "  -n  never overwrite existing files         -a  auto-convert any text files\r\n",
      "  -o  overwrite files WITHOUT prompting      -aa treat ALL files as text\r\n",
      "  -j  junk paths (do not make directories)   -v  be verbose/print version info\r\n",
      "  -C  match filenames case-insensitively     -L  make (some) names lowercase\r\n",
      "  -X  restore UID/GID info                   -V  retain VMS version numbers\r\n",
      "  -K  keep setuid/setgid/tacky permissions   -M  pipe through \"more\" pager\r\n",
      "Examples (see unzip.txt for more info):\r\n",
      "  unzip data1 -x joe   => extract all files except joe from zipfile data1.zip\r\n",
      "  unzip -p foo | more  => send contents of foo.zip via pipe into program more\r\n",
      "  unzip -fo foo ReadMe => quietly replace existing ReadMe if archive file newer\r\n"
     ]
    }
   ],
   "source": [
    "!unzip"
   ]
  },
  {
   "cell_type": "markdown",
   "metadata": {},
   "source": [
    "# Получение и работа с данными"
   ]
  },
  {
   "cell_type": "markdown",
   "metadata": {},
   "source": [
    "## Табличные данные"
   ]
  },
  {
   "cell_type": "code",
   "execution_count": 5,
   "metadata": {
    "collapsed": true
   },
   "outputs": [],
   "source": [
    "import pandas"
   ]
  },
  {
   "cell_type": "code",
   "execution_count": null,
   "metadata": {
    "collapsed": false
   },
   "outputs": [],
   "source": [
    "pandas.read_csv('http://')"
   ]
  },
  {
   "cell_type": "code",
   "execution_count": null,
   "metadata": {
    "collapsed": false
   },
   "outputs": [],
   "source": [
    "pandas.read_csv('')"
   ]
  },
  {
   "cell_type": "markdown",
   "metadata": {},
   "source": [
    "## Таблицы со станиц интернета"
   ]
  },
  {
   "cell_type": "code",
   "execution_count": 7,
   "metadata": {
    "collapsed": true
   },
   "outputs": [],
   "source": [
    "import pandas"
   ]
  },
  {
   "cell_type": "code",
   "execution_count": null,
   "metadata": {
    "collapsed": false
   },
   "outputs": [],
   "source": [
    "tables = pandas.read_html(\n",
    "    'https://en.wikipedia.org/w/index.php?search=Dow+Jones+Industrial+Average&title=Special%3ASearch&go=Go', \n",
    "    attrs={'class': 'wikitable'},  # фильтруем только таблицы с данными\n",
    "    header=0, # делаем первую строчку — заголовком\n",
    ")"
   ]
  },
  {
   "cell_type": "code",
   "execution_count": null,
   "metadata": {
    "collapsed": false
   },
   "outputs": [],
   "source": [
    "tables[0]"
   ]
  },
  {
   "cell_type": "markdown",
   "metadata": {},
   "source": [
    "## Использование HTTP API\n",
    "\n",
    "Пример API:\n",
    " - Яндекс Карты"
   ]
  },
  {
   "cell_type": "code",
   "execution_count": 10,
   "metadata": {
    "collapsed": true
   },
   "outputs": [],
   "source": [
    "import requests\n",
    "import json"
   ]
  },
  {
   "cell_type": "code",
   "execution_count": 171,
   "metadata": {
    "collapsed": false
   },
   "outputs": [],
   "source": [
    "resp = requests.get(\n",
    "    'https://geocode-maps.yandex.ru/1.x/',\n",
    "    params={'format': 'json', 'geocode': 'Масква Тверская улца дом 7'},\n",
    ")"
   ]
  },
  {
   "cell_type": "code",
   "execution_count": 172,
   "metadata": {
    "collapsed": false
   },
   "outputs": [],
   "source": [
    "found = resp.json()['response']['GeoObjectCollection']['featureMember'][0]['GeoObject']"
   ]
  },
  {
   "cell_type": "code",
   "execution_count": 173,
   "metadata": {
    "collapsed": false
   },
   "outputs": [
    {
     "name": "stdout",
     "output_type": "stream",
     "text": [
      "{\n",
      "  \"metaDataProperty\": {\n",
      "    \"GeocoderMetaData\": {\n",
      "      \"text\": \"Россия, Москва, Тверская улица, 7\", \n",
      "      \"kind\": \"house\", \n",
      "      \"AddressDetails\": {\n",
      "        \"Country\": {\n",
      "          \"CountryName\": \"Россия\", \n",
      "          \"AdministrativeArea\": {\n",
      "            \"AdministrativeAreaName\": \"Москва\", \n",
      "            \"Locality\": {\n",
      "              \"Thoroughfare\": {\n",
      "                \"Premise\": {\n",
      "                  \"PremiseNumber\": \"7\"\n",
      "                }, \n",
      "                \"ThoroughfareName\": \"Тверская улица\"\n",
      "              }, \n",
      "              \"LocalityName\": \"Москва\"\n",
      "            }\n",
      "          }, \n",
      "          \"AddressLine\": \"Москва, Тверская улица, 7\", \n",
      "          \"CountryNameCode\": \"RU\"\n",
      "        }\n",
      "      }, \n",
      "      \"precision\": \"exact\"\n",
      "    }\n",
      "  }, \n",
      "  \"boundedBy\": {\n",
      "    \"Envelope\": {\n",
      "      \"upperCorner\": \"37.619234 55.762601\", \n",
      "      \"lowerCorner\": \"37.602777 55.753321\"\n",
      "    }\n",
      "  }, \n",
      "  \"Point\": {\n",
      "    \"pos\": \"37.611006 55.757962\"\n",
      "  }, \n",
      "  \"description\": \"Москва, Россия\", \n",
      "  \"name\": \"Тверская улица, 7\"\n",
      "}\n"
     ]
    }
   ],
   "source": [
    "print json.dumps(found, indent=2, encoding='utf8', ensure_ascii=False)"
   ]
  },
  {
   "cell_type": "markdown",
   "metadata": {},
   "source": [
    "## Извлечение данных со страниц\n",
    "\n",
    "- [Scrapy](http://scrapy.org/)\n",
    "- [Пример работы с селекторами](http://doc.scrapy.org/en/1.0/topics/selectors.html)\n",
    "- [Документация по css селекторам](http://www.w3schools.com/cssref/css_selectors.asp)"
   ]
  },
  {
   "cell_type": "code",
   "execution_count": 174,
   "metadata": {
    "collapsed": false
   },
   "outputs": [],
   "source": [
    "resp = requests.get('https://www.hse.ru/staff/arjanstev')"
   ]
  },
  {
   "cell_type": "code",
   "execution_count": null,
   "metadata": {
    "collapsed": false
   },
   "outputs": [],
   "source": [
    "import scrapy"
   ]
  },
  {
   "cell_type": "code",
   "execution_count": 40,
   "metadata": {
    "collapsed": false
   },
   "outputs": [],
   "source": [
    "page = scrapy.Selector(text=resp.content)"
   ]
  },
  {
   "cell_type": "code",
   "execution_count": 45,
   "metadata": {
    "collapsed": false
   },
   "outputs": [
    {
     "data": {
      "text/plain": [
       "u'<dl class=\"main-list large main-list-language-knowledge-level\"><dt class=\"b\">\\u0412\\u043b\\u0430\\u0434\\u0435\\u043d\\u0438\\u0435 \\u044f\\u0437\\u044b\\u043a\\u0430\\u043c\\u0438</dt><dd>\\u0430\\u043d\\u0433\\u043b\\u0438\\u0439\\u0441\\u043a\\u0438\\u0439</dd><dd>\\u0443\\u043a\\u0440\\u0430\\u0438\\u043d\\u0441\\u043a\\u0438\\u0439</dd><dd>\\u043d\\u0435\\u043c\\u0435\\u0446\\u043a\\u0438\\u0439</dd><dd>\\u0444\\u0440\\u0430\\u043d\\u0446\\u0443\\u0437\\u0441\\u043a\\u0438\\u0439</dd></dl>'"
      ]
     },
     "execution_count": 45,
     "metadata": {},
     "output_type": "execute_result"
    }
   ],
   "source": [
    "page.css('dl.main-list-language-knowledge-level').extract_first()"
   ]
  },
  {
   "cell_type": "code",
   "execution_count": 48,
   "metadata": {
    "collapsed": false
   },
   "outputs": [
    {
     "name": "stdout",
     "output_type": "stream",
     "text": [
      "английский\n",
      "украинский\n",
      "немецкий\n",
      "французский\n"
     ]
    }
   ],
   "source": [
    "langs = page.css('dl.main-list-language-knowledge-level dd ::text').extract()\n",
    "for lang in langs:\n",
    "    print lang"
   ]
  },
  {
   "cell_type": "markdown",
   "metadata": {},
   "source": [
    "## Таблица из набора JSON-записей"
   ]
  },
  {
   "cell_type": "code",
   "execution_count": 168,
   "metadata": {
    "collapsed": false
   },
   "outputs": [
    {
     "data": {
      "text/html": [
       "<div>\n",
       "<table border=\"1\" class=\"dataframe\">\n",
       "  <thead>\n",
       "    <tr style=\"text-align: right;\">\n",
       "      <th></th>\n",
       "      <th>x</th>\n",
       "      <th>y</th>\n",
       "    </tr>\n",
       "  </thead>\n",
       "  <tbody>\n",
       "    <tr>\n",
       "      <th>0</th>\n",
       "      <td>1</td>\n",
       "      <td>a</td>\n",
       "    </tr>\n",
       "    <tr>\n",
       "      <th>1</th>\n",
       "      <td>2</td>\n",
       "      <td>b</td>\n",
       "    </tr>\n",
       "    <tr>\n",
       "      <th>2</th>\n",
       "      <td>3</td>\n",
       "      <td>a</td>\n",
       "    </tr>\n",
       "    <tr>\n",
       "      <th>3</th>\n",
       "      <td>4</td>\n",
       "      <td>b</td>\n",
       "    </tr>\n",
       "  </tbody>\n",
       "</table>\n",
       "</div>"
      ],
      "text/plain": [
       "   x  y\n",
       "0  1  a\n",
       "1  2  b\n",
       "2  3  a\n",
       "3  4  b"
      ]
     },
     "execution_count": 168,
     "metadata": {},
     "output_type": "execute_result"
    }
   ],
   "source": [
    "pandas.DataFrame({\n",
    "        'x': [1, 2, 3, 4],\n",
    "        'y': ['a', 'b', 'a', 'b']\n",
    "    })"
   ]
  },
  {
   "cell_type": "code",
   "execution_count": 169,
   "metadata": {
    "collapsed": false
   },
   "outputs": [
    {
     "data": {
      "text/html": [
       "<div>\n",
       "<table border=\"1\" class=\"dataframe\">\n",
       "  <thead>\n",
       "    <tr style=\"text-align: right;\">\n",
       "      <th></th>\n",
       "      <th>x</th>\n",
       "      <th>y</th>\n",
       "    </tr>\n",
       "  </thead>\n",
       "  <tbody>\n",
       "    <tr>\n",
       "      <th>0</th>\n",
       "      <td>1</td>\n",
       "      <td>a</td>\n",
       "    </tr>\n",
       "    <tr>\n",
       "      <th>1</th>\n",
       "      <td>2</td>\n",
       "      <td>b</td>\n",
       "    </tr>\n",
       "  </tbody>\n",
       "</table>\n",
       "</div>"
      ],
      "text/plain": [
       "   x  y\n",
       "0  1  a\n",
       "1  2  b"
      ]
     },
     "execution_count": 169,
     "metadata": {},
     "output_type": "execute_result"
    }
   ],
   "source": [
    "pandas.DataFrame.from_records([\n",
    "        {'x': 1, 'y': 'a'},\n",
    "        {'x': 2, 'y': 'b'}\n",
    "    ])"
   ]
  },
  {
   "cell_type": "markdown",
   "metadata": {},
   "source": [
    "# Машинное обучение"
   ]
  },
  {
   "cell_type": "markdown",
   "metadata": {},
   "source": [
    "Рассмотрим выборку [Census Income Data Set](https://archive.ics.uci.edu/ml/machine-learning-databases/adult/)\n",
    "\n",
    "Решаем следующую задачу - по социальным признакам человека необходимо определить зарабатывает ли он более 50к или менее."
   ]
  },
  {
   "cell_type": "markdown",
   "metadata": {},
   "source": [
    "## Предобработка данных, извлечение признаков"
   ]
  },
  {
   "cell_type": "markdown",
   "metadata": {},
   "source": [
    "### Качаем выборку"
   ]
  },
  {
   "cell_type": "code",
   "execution_count": 10,
   "metadata": {
    "collapsed": false
   },
   "outputs": [
    {
     "name": "stdout",
     "output_type": "stream",
     "text": [
      "--2016-04-08 13:11:51--  https://archive.ics.uci.edu/ml/machine-learning-databases/adult/adult.data\n",
      "Resolving archive.ics.uci.edu... 128.195.10.249\n",
      "Connecting to archive.ics.uci.edu|128.195.10.249|:443... connected.\n",
      "HTTP request sent, awaiting response... 200 OK\n",
      "Length: 3974305 (3.8M) [text/plain]\n",
      "Saving to: 'adult.data'\n",
      "\n",
      "adult.data          100%[=====================>]   3.79M  1.49MB/s   in 2.5s   \n",
      "\n",
      "2016-04-08 13:11:54 (1.49 MB/s) - 'adult.data' saved [3974305/3974305]\n",
      "\n"
     ]
    }
   ],
   "source": [
    "!wget https://archive.ics.uci.edu/ml/machine-learning-databases/adult/adult.data"
   ]
  },
  {
   "cell_type": "markdown",
   "metadata": {},
   "source": [
    "Посмотрим как выглядит начало файла с данными"
   ]
  },
  {
   "cell_type": "code",
   "execution_count": 11,
   "metadata": {
    "collapsed": false
   },
   "outputs": [
    {
     "name": "stdout",
     "output_type": "stream",
     "text": [
      "39, State-gov, 77516, Bachelors, 13, Never-married, Adm-clerical, Not-in-family, White, Male, 2174, 0, 40, United-States, <=50K\r\n",
      "50, Self-emp-not-inc, 83311, Bachelors, 13, Married-civ-spouse, Exec-managerial, Husband, White, Male, 0, 0, 13, United-States, <=50K\r\n",
      "38, Private, 215646, HS-grad, 9, Divorced, Handlers-cleaners, Not-in-family, White, Male, 0, 0, 40, United-States, <=50K\r\n",
      "53, Private, 234721, 11th, 7, Married-civ-spouse, Handlers-cleaners, Husband, Black, Male, 0, 0, 40, United-States, <=50K\r\n",
      "28, Private, 338409, Bachelors, 13, Married-civ-spouse, Prof-specialty, Wife, Black, Female, 0, 0, 40, Cuba, <=50K\r\n",
      "37, Private, 284582, Masters, 14, Married-civ-spouse, Exec-managerial, Wife, White, Female, 0, 0, 40, United-States, <=50K\r\n",
      "49, Private, 160187, 9th, 5, Married-spouse-absent, Other-service, Not-in-family, Black, Female, 0, 0, 16, Jamaica, <=50K\r\n",
      "52, Self-emp-not-inc, 209642, HS-grad, 9, Married-civ-spouse, Exec-managerial, Husband, White, Male, 0, 0, 45, United-States, >50K\r\n",
      "31, Private, 45781, Masters, 14, Never-married, Prof-specialty, Not-in-family, White, Female, 14084, 0, 50, United-States, >50K\r\n",
      "42, Private, 159449, Bachelors, 13, Married-civ-spouse, Exec-managerial, Husband, White, Male, 5178, 0, 40, United-States, >50K\r\n"
     ]
    }
   ],
   "source": [
    "!head adult.data"
   ]
  },
  {
   "cell_type": "markdown",
   "metadata": {},
   "source": [
    "Импортируем необходимые библиотеки"
   ]
  },
  {
   "cell_type": "code",
   "execution_count": 14,
   "metadata": {
    "collapsed": true
   },
   "outputs": [],
   "source": [
    "import pandas\n",
    "import numpy"
   ]
  },
  {
   "cell_type": "markdown",
   "metadata": {},
   "source": [
    "Загружаем файл и делаем из него pandas.DataFrame"
   ]
  },
  {
   "cell_type": "code",
   "execution_count": 15,
   "metadata": {
    "collapsed": false
   },
   "outputs": [
    {
     "name": "stdout",
     "output_type": "stream",
     "text": [
      "(32561, 15)\n"
     ]
    },
    {
     "data": {
      "text/html": [
       "<div>\n",
       "<table border=\"1\" class=\"dataframe\">\n",
       "  <thead>\n",
       "    <tr style=\"text-align: right;\">\n",
       "      <th></th>\n",
       "      <th>0</th>\n",
       "      <th>1</th>\n",
       "      <th>2</th>\n",
       "      <th>3</th>\n",
       "      <th>4</th>\n",
       "      <th>5</th>\n",
       "      <th>6</th>\n",
       "      <th>7</th>\n",
       "      <th>8</th>\n",
       "      <th>9</th>\n",
       "      <th>10</th>\n",
       "      <th>11</th>\n",
       "      <th>12</th>\n",
       "      <th>13</th>\n",
       "      <th>14</th>\n",
       "    </tr>\n",
       "  </thead>\n",
       "  <tbody>\n",
       "    <tr>\n",
       "      <th>0</th>\n",
       "      <td>39</td>\n",
       "      <td>State-gov</td>\n",
       "      <td>77516</td>\n",
       "      <td>Bachelors</td>\n",
       "      <td>13</td>\n",
       "      <td>Never-married</td>\n",
       "      <td>Adm-clerical</td>\n",
       "      <td>Not-in-family</td>\n",
       "      <td>White</td>\n",
       "      <td>Male</td>\n",
       "      <td>2174</td>\n",
       "      <td>0</td>\n",
       "      <td>40</td>\n",
       "      <td>United-States</td>\n",
       "      <td>&lt;=50K</td>\n",
       "    </tr>\n",
       "    <tr>\n",
       "      <th>1</th>\n",
       "      <td>50</td>\n",
       "      <td>Self-emp-not-inc</td>\n",
       "      <td>83311</td>\n",
       "      <td>Bachelors</td>\n",
       "      <td>13</td>\n",
       "      <td>Married-civ-spouse</td>\n",
       "      <td>Exec-managerial</td>\n",
       "      <td>Husband</td>\n",
       "      <td>White</td>\n",
       "      <td>Male</td>\n",
       "      <td>0</td>\n",
       "      <td>0</td>\n",
       "      <td>13</td>\n",
       "      <td>United-States</td>\n",
       "      <td>&lt;=50K</td>\n",
       "    </tr>\n",
       "    <tr>\n",
       "      <th>2</th>\n",
       "      <td>38</td>\n",
       "      <td>Private</td>\n",
       "      <td>215646</td>\n",
       "      <td>HS-grad</td>\n",
       "      <td>9</td>\n",
       "      <td>Divorced</td>\n",
       "      <td>Handlers-cleaners</td>\n",
       "      <td>Not-in-family</td>\n",
       "      <td>White</td>\n",
       "      <td>Male</td>\n",
       "      <td>0</td>\n",
       "      <td>0</td>\n",
       "      <td>40</td>\n",
       "      <td>United-States</td>\n",
       "      <td>&lt;=50K</td>\n",
       "    </tr>\n",
       "    <tr>\n",
       "      <th>3</th>\n",
       "      <td>53</td>\n",
       "      <td>Private</td>\n",
       "      <td>234721</td>\n",
       "      <td>11th</td>\n",
       "      <td>7</td>\n",
       "      <td>Married-civ-spouse</td>\n",
       "      <td>Handlers-cleaners</td>\n",
       "      <td>Husband</td>\n",
       "      <td>Black</td>\n",
       "      <td>Male</td>\n",
       "      <td>0</td>\n",
       "      <td>0</td>\n",
       "      <td>40</td>\n",
       "      <td>United-States</td>\n",
       "      <td>&lt;=50K</td>\n",
       "    </tr>\n",
       "    <tr>\n",
       "      <th>4</th>\n",
       "      <td>28</td>\n",
       "      <td>Private</td>\n",
       "      <td>338409</td>\n",
       "      <td>Bachelors</td>\n",
       "      <td>13</td>\n",
       "      <td>Married-civ-spouse</td>\n",
       "      <td>Prof-specialty</td>\n",
       "      <td>Wife</td>\n",
       "      <td>Black</td>\n",
       "      <td>Female</td>\n",
       "      <td>0</td>\n",
       "      <td>0</td>\n",
       "      <td>40</td>\n",
       "      <td>Cuba</td>\n",
       "      <td>&lt;=50K</td>\n",
       "    </tr>\n",
       "  </tbody>\n",
       "</table>\n",
       "</div>"
      ],
      "text/plain": [
       "   0                  1       2           3   4                    5   \\\n",
       "0  39          State-gov   77516   Bachelors  13        Never-married   \n",
       "1  50   Self-emp-not-inc   83311   Bachelors  13   Married-civ-spouse   \n",
       "2  38            Private  215646     HS-grad   9             Divorced   \n",
       "3  53            Private  234721        11th   7   Married-civ-spouse   \n",
       "4  28            Private  338409   Bachelors  13   Married-civ-spouse   \n",
       "\n",
       "                   6               7       8        9     10  11  12  \\\n",
       "0        Adm-clerical   Not-in-family   White     Male  2174   0  40   \n",
       "1     Exec-managerial         Husband   White     Male     0   0  13   \n",
       "2   Handlers-cleaners   Not-in-family   White     Male     0   0  40   \n",
       "3   Handlers-cleaners         Husband   Black     Male     0   0  40   \n",
       "4      Prof-specialty            Wife   Black   Female     0   0  40   \n",
       "\n",
       "               13      14  \n",
       "0   United-States   <=50K  \n",
       "1   United-States   <=50K  \n",
       "2   United-States   <=50K  \n",
       "3   United-States   <=50K  \n",
       "4            Cuba   <=50K  "
      ]
     },
     "execution_count": 15,
     "metadata": {},
     "output_type": "execute_result"
    }
   ],
   "source": [
    "data = pandas.read_csv('adult.data', header=None)\n",
    "print data.shape\n",
    "data.head()"
   ]
  },
  {
   "cell_type": "markdown",
   "metadata": {},
   "source": [
    "Выберем непрерывные (числовые) признаки и дискретные (категориальные) признаки."
   ]
  },
  {
   "cell_type": "code",
   "execution_count": 16,
   "metadata": {
    "collapsed": true
   },
   "outputs": [],
   "source": [
    "continious_features = [0,2,4,10,11,12]\n",
    "discreete_features = [1,3,5,6,7,8,9,13]\n",
    "target = [14]"
   ]
  },
  {
   "cell_type": "markdown",
   "metadata": {},
   "source": [
    "Создадим матрицу, где строчкой будет объект, а столбцом признак. Сначала составим матрицу из непрерывных признаков."
   ]
  },
  {
   "cell_type": "code",
   "execution_count": 17,
   "metadata": {
    "collapsed": false
   },
   "outputs": [
    {
     "name": "stdout",
     "output_type": "stream",
     "text": [
      "(32561, 6)\n"
     ]
    },
    {
     "data": {
      "text/plain": [
       "array([[    39,  77516,     13,   2174,      0,     40],\n",
       "       [    50,  83311,     13,      0,      0,     13],\n",
       "       [    38, 215646,      9,      0,      0,     40],\n",
       "       ..., \n",
       "       [    58, 151910,      9,      0,      0,     40],\n",
       "       [    22, 201490,      9,      0,      0,     20],\n",
       "       [    52, 287927,      9,  15024,      0,     40]])"
      ]
     },
     "execution_count": 17,
     "metadata": {},
     "output_type": "execute_result"
    }
   ],
   "source": [
    "X = data.iloc[:,continious_features].values\n",
    "print X.shape\n",
    "X"
   ]
  },
  {
   "cell_type": "markdown",
   "metadata": {},
   "source": [
    "### Обработка категориальных признаков"
   ]
  },
  {
   "cell_type": "code",
   "execution_count": 18,
   "metadata": {
    "collapsed": true
   },
   "outputs": [],
   "source": [
    "from sklearn.preprocessing import LabelBinarizer"
   ]
  },
  {
   "cell_type": "markdown",
   "metadata": {},
   "source": [
    "Для каждого категориального признака последовательно бинаризуем его и добавим получившиеся признаки к уже существующим"
   ]
  },
  {
   "cell_type": "code",
   "execution_count": 19,
   "metadata": {
    "collapsed": false
   },
   "outputs": [
    {
     "name": "stdout",
     "output_type": "stream",
     "text": [
      "(32561, 107)\n"
     ]
    },
    {
     "data": {
      "text/plain": [
       "array([[    39,  77516,     13, ...,      1,      0,      0],\n",
       "       [    50,  83311,     13, ...,      1,      0,      0],\n",
       "       [    38, 215646,      9, ...,      1,      0,      0],\n",
       "       ..., \n",
       "       [    58, 151910,      9, ...,      1,      0,      0],\n",
       "       [    22, 201490,      9, ...,      1,      0,      0],\n",
       "       [    52, 287927,      9, ...,      1,      0,      0]])"
      ]
     },
     "execution_count": 19,
     "metadata": {},
     "output_type": "execute_result"
    }
   ],
   "source": [
    "lb = LabelBinarizer()\n",
    "for f in discreete_features:\n",
    "    X = numpy.hstack([X,lb.fit_transform(data.iloc[:,f])])\n",
    "\n",
    "print X.shape\n",
    "X"
   ]
  },
  {
   "cell_type": "markdown",
   "metadata": {},
   "source": [
    "Также бинаризуем таргет"
   ]
  },
  {
   "cell_type": "code",
   "execution_count": 20,
   "metadata": {
    "collapsed": false
   },
   "outputs": [
    {
     "name": "stdout",
     "output_type": "stream",
     "text": [
      "(32561, 1)\n"
     ]
    },
    {
     "data": {
      "text/plain": [
       "array([[0],\n",
       "       [0],\n",
       "       [0],\n",
       "       ..., \n",
       "       [0],\n",
       "       [0],\n",
       "       [1]])"
      ]
     },
     "execution_count": 20,
     "metadata": {},
     "output_type": "execute_result"
    }
   ],
   "source": [
    "Y = lb.fit_transform(data.iloc[:,target])\n",
    "print Y.shape\n",
    "Y"
   ]
  },
  {
   "cell_type": "markdown",
   "metadata": {},
   "source": [
    "Наконец разбиваем выборку на обучающую часть и тестовую"
   ]
  },
  {
   "cell_type": "code",
   "execution_count": 21,
   "metadata": {
    "collapsed": false
   },
   "outputs": [],
   "source": [
    "ids = numpy.arange(X.shape[0])\n",
    "numpy.random.shuffle(ids)\n",
    "\n",
    "train_len = int(len(ids) * 0.8)\n",
    "\n",
    "X_train = X[ids[:train_len],:]\n",
    "Y_train = Y[ids[:train_len],:]\n",
    "X_test = X[ids[train_len:],:]\n",
    "Y_test = Y[ids[train_len:],:]"
   ]
  },
  {
   "cell_type": "markdown",
   "metadata": {},
   "source": [
    "### Построим гистограммы признаков"
   ]
  },
  {
   "cell_type": "code",
   "execution_count": 26,
   "metadata": {
    "collapsed": false
   },
   "outputs": [
    {
     "name": "stdout",
     "output_type": "stream",
     "text": [
      "Populating the interactive namespace from numpy and matplotlib\n"
     ]
    }
   ],
   "source": [
    "%pylab inline\n",
    "import matplotlib.pyplot as plt"
   ]
  },
  {
   "cell_type": "code",
   "execution_count": 36,
   "metadata": {
    "collapsed": false
   },
   "outputs": [
    {
     "data": {
      "image/png": "[encoded data removed]",
      "text/plain": [
       "<matplotlib.figure.Figure at 0x13627dd90>"
      ]
     },
     "metadata": {},
     "output_type": "display_data"
    }
   ],
   "source": [
    "figsize(8,6)\n",
    "data[discreete_features[3]].value_counts().plot(kind='bar')\n",
    "plt.show()"
   ]
  },
  {
   "cell_type": "markdown",
   "metadata": {},
   "source": [
    "Теперь построим гистограммы для непрерывных признаков, при этом разным цветом - разные таргеты\n",
    "\n",
    "Красным - где таргет 0, синим - таргет 1"
   ]
  },
  {
   "cell_type": "code",
   "execution_count": 76,
   "metadata": {
    "collapsed": false
   },
   "outputs": [
    {
     "data": {
      "image/png": "[encoded data removed]",
      "text/plain": [
       "<matplotlib.figure.Figure at 0x134313bd0>"
      ]
     },
     "metadata": {},
     "output_type": "display_data"
    }
   ],
   "source": [
    "figsize(20,10)\n",
    "plt.figure(1)\n",
    "for i in range(len(continious_features)):\n",
    "    plt.subplot(231 + i)\n",
    "    plt.hist(X[np.where(Y == 1)[0], continious_features[i]], bins = 100, alpha = 0.3, color = 'b', normed=True)\n",
    "    plt.hist(X[np.where(Y == 0)[0], continious_features[i]], bins = 100, alpha = 0.3, color = 'r', normed=True)\n",
    "    plt.title(continious_features[i])\n",
    "plt.show()"
   ]
  },
  {
   "cell_type": "markdown",
   "metadata": {},
   "source": [
    "## Модели машинного обучения\n",
    "\n",
    "К получившейся выборке применим различные модели Машинного Обучения"
   ]
  },
  {
   "cell_type": "markdown",
   "metadata": {},
   "source": [
    "### Линейные модели"
   ]
  },
  {
   "cell_type": "code",
   "execution_count": 37,
   "metadata": {
    "collapsed": true
   },
   "outputs": [],
   "source": [
    "from sklearn.linear_model import LogisticRegression"
   ]
  },
  {
   "cell_type": "code",
   "execution_count": 38,
   "metadata": {
    "collapsed": false
   },
   "outputs": [
    {
     "data": {
      "text/plain": [
       "LogisticRegression(C=1.0, class_weight=None, dual=False, fit_intercept=True,\n",
       "          intercept_scaling=1, max_iter=100, multi_class='ovr', n_jobs=1,\n",
       "          penalty='l2', random_state=None, solver='liblinear', tol=0.0001,\n",
       "          verbose=0, warm_start=False)"
      ]
     },
     "execution_count": 38,
     "metadata": {},
     "output_type": "execute_result"
    }
   ],
   "source": [
    "lr = LogisticRegression()\n",
    "lr.fit(X_train, Y_train.flatten())"
   ]
  },
  {
   "cell_type": "code",
   "execution_count": 39,
   "metadata": {
    "collapsed": false
   },
   "outputs": [
    {
     "data": {
      "text/plain": [
       "array([[ 0.36644447,  0.63355553],\n",
       "       [ 0.78502011,  0.21497989],\n",
       "       [ 0.74187257,  0.25812743],\n",
       "       ..., \n",
       "       [ 0.6856135 ,  0.3143865 ],\n",
       "       [ 0.77422698,  0.22577302],\n",
       "       [ 0.77186307,  0.22813693]])"
      ]
     },
     "execution_count": 39,
     "metadata": {},
     "output_type": "execute_result"
    }
   ],
   "source": [
    "lr_preds = lr.predict_proba(X_test)\n",
    "lr_preds"
   ]
  },
  {
   "cell_type": "markdown",
   "metadata": {},
   "source": [
    "## Деревья, композиции, бустинг"
   ]
  },
  {
   "cell_type": "markdown",
   "metadata": {},
   "source": [
    "### Random Forest"
   ]
  },
  {
   "cell_type": "code",
   "execution_count": 40,
   "metadata": {
    "collapsed": true
   },
   "outputs": [],
   "source": [
    "from sklearn.ensemble import RandomForestClassifier"
   ]
  },
  {
   "cell_type": "code",
   "execution_count": 41,
   "metadata": {
    "collapsed": false
   },
   "outputs": [
    {
     "data": {
      "text/plain": [
       "RandomForestClassifier(bootstrap=True, class_weight=None, criterion='gini',\n",
       "            max_depth=5, max_features='auto', max_leaf_nodes=None,\n",
       "            min_samples_leaf=1, min_samples_split=2,\n",
       "            min_weight_fraction_leaf=0.0, n_estimators=200, n_jobs=1,\n",
       "            oob_score=False, random_state=None, verbose=0,\n",
       "            warm_start=False)"
      ]
     },
     "execution_count": 41,
     "metadata": {},
     "output_type": "execute_result"
    }
   ],
   "source": [
    "rf = RandomForestClassifier(n_estimators=200, max_depth=5)\n",
    "rf.fit(X_train, Y_train.flatten())"
   ]
  },
  {
   "cell_type": "code",
   "execution_count": 42,
   "metadata": {
    "collapsed": false
   },
   "outputs": [
    {
     "data": {
      "text/plain": [
       "array([[ 0.62201827,  0.37798173],\n",
       "       [ 0.66189608,  0.33810392],\n",
       "       [ 0.72693107,  0.27306893],\n",
       "       ..., \n",
       "       [ 0.72158769,  0.27841231],\n",
       "       [ 0.46696849,  0.53303151],\n",
       "       [ 0.9691158 ,  0.0308842 ]])"
      ]
     },
     "execution_count": 42,
     "metadata": {},
     "output_type": "execute_result"
    }
   ],
   "source": [
    "rf_preds = rf.predict_proba(X_test)\n",
    "rf_preds"
   ]
  },
  {
   "cell_type": "markdown",
   "metadata": {},
   "source": [
    "### Gradient Boosting"
   ]
  },
  {
   "cell_type": "code",
   "execution_count": 43,
   "metadata": {
    "collapsed": true
   },
   "outputs": [],
   "source": [
    "from sklearn.ensemble import GradientBoostingClassifier"
   ]
  },
  {
   "cell_type": "code",
   "execution_count": 44,
   "metadata": {
    "collapsed": false
   },
   "outputs": [
    {
     "data": {
      "text/plain": [
       "GradientBoostingClassifier(init=None, learning_rate=0.1, loss='deviance',\n",
       "              max_depth=5, max_features=None, max_leaf_nodes=None,\n",
       "              min_samples_leaf=1, min_samples_split=2,\n",
       "              min_weight_fraction_leaf=0.0, n_estimators=200,\n",
       "              presort='auto', random_state=None, subsample=1.0, verbose=0,\n",
       "              warm_start=False)"
      ]
     },
     "execution_count": 44,
     "metadata": {},
     "output_type": "execute_result"
    }
   ],
   "source": [
    "bst = GradientBoostingClassifier(n_estimators=200, max_depth=5)\n",
    "bst.fit(X_train, Y_train.flatten())"
   ]
  },
  {
   "cell_type": "code",
   "execution_count": 45,
   "metadata": {
    "collapsed": false
   },
   "outputs": [
    {
     "data": {
      "text/plain": [
       "array([[ 0.0317485 ,  0.9682515 ],\n",
       "       [ 0.34183345,  0.65816655],\n",
       "       [ 0.91602617,  0.08397383],\n",
       "       ..., \n",
       "       [ 0.67166543,  0.32833457],\n",
       "       [ 0.25647266,  0.74352734],\n",
       "       [ 0.99764185,  0.00235815]])"
      ]
     },
     "execution_count": 45,
     "metadata": {},
     "output_type": "execute_result"
    }
   ],
   "source": [
    "bst_preds = bst.predict_proba(X_test)\n",
    "bst_preds"
   ]
  },
  {
   "cell_type": "markdown",
   "metadata": {},
   "source": [
    "## Оценка качества моделей"
   ]
  },
  {
   "cell_type": "markdown",
   "metadata": {},
   "source": [
    "### Метрики"
   ]
  },
  {
   "cell_type": "code",
   "execution_count": 55,
   "metadata": {
    "collapsed": false
   },
   "outputs": [],
   "source": [
    "from sklearn.metrics import roc_auc_score, roc_curve, accuracy_score\n",
    "import matplotlib.pyplot as plt"
   ]
  },
  {
   "cell_type": "markdown",
   "metadata": {},
   "source": [
    "#### Качество Logistic Regression"
   ]
  },
  {
   "cell_type": "code",
   "execution_count": 57,
   "metadata": {
    "collapsed": false
   },
   "outputs": [
    {
     "name": "stdout",
     "output_type": "stream",
     "text": [
      "AUC 0.622973940921\n",
      "accuracy 0.799477967143\n"
     ]
    }
   ],
   "source": [
    "print 'AUC', roc_auc_score(Y_test, lr_preds[:,1])\n",
    "print 'accuracy', accuracy_score(Y_test, lr.predict(X_test))"
   ]
  },
  {
   "cell_type": "code",
   "execution_count": 58,
   "metadata": {
    "collapsed": false
   },
   "outputs": [
    {
     "data": {
      "image/png": "[encoded data removed]",
      "text/plain": [
       "<matplotlib.figure.Figure at 0x134d98e50>"
      ]
     },
     "metadata": {},
     "output_type": "display_data"
    }
   ],
   "source": [
    "fpr_lr, tpr_lr, thresholds = roc_curve(Y_test, lr_preds[:,1])\n",
    "\n",
    "figsize(8,8)\n",
    "plt.plot(np.arange(0.,1.,1e-5),np.arange(0.,1.,1e-5), c='black')\n",
    "plt.plot(fpr_lr,tpr_lr, c='b')\n",
    "plt.title('ROC curve', size=20)\n",
    "plt.xlabel('False Positive Rate', size=20)\n",
    "plt.ylabel('True Positive Rate', size=20)\n",
    "plt.grid()"
   ]
  },
  {
   "cell_type": "markdown",
   "metadata": {},
   "source": [
    "#### Качество Random Forest"
   ]
  },
  {
   "cell_type": "code",
   "execution_count": 59,
   "metadata": {
    "collapsed": false
   },
   "outputs": [
    {
     "name": "stdout",
     "output_type": "stream",
     "text": [
      "AUC 0.901276750053\n",
      "accuracy 0.839091048672\n"
     ]
    }
   ],
   "source": [
    "print 'AUC', roc_auc_score(Y_test, rf_preds[:,1])\n",
    "print 'accuracy', accuracy_score(Y_test, rf.predict(X_test))"
   ]
  },
  {
   "cell_type": "code",
   "execution_count": 60,
   "metadata": {
    "collapsed": false
   },
   "outputs": [
    {
     "data": {
      "image/png": "[encoded data removed]",
      "text/plain": [
       "<matplotlib.figure.Figure at 0x134994050>"
      ]
     },
     "metadata": {},
     "output_type": "display_data"
    }
   ],
   "source": [
    "fpr_rf, tpr_rf, thresholds = roc_curve(Y_test, rf_preds[:,1])\n",
    "\n",
    "figsize(8,8)\n",
    "plt.plot(np.arange(0.,1.,1e-5),np.arange(0.,1.,1e-5), c='black')\n",
    "plt.plot(fpr_rf,tpr_rf, c='b')\n",
    "plt.title('ROC curve', size=20)\n",
    "plt.xlabel('False Positive Rate', size=20)\n",
    "plt.ylabel('True Positive Rate', size=20)\n",
    "plt.grid()"
   ]
  },
  {
   "cell_type": "markdown",
   "metadata": {},
   "source": [
    "#### Качество Gradient Boosting"
   ]
  },
  {
   "cell_type": "code",
   "execution_count": 61,
   "metadata": {
    "collapsed": false
   },
   "outputs": [
    {
     "name": "stdout",
     "output_type": "stream",
     "text": [
      "AUC 0.931830401361\n",
      "accuracy 0.874405036082\n"
     ]
    }
   ],
   "source": [
    "print 'AUC', roc_auc_score(Y_test, bst_preds[:,1])\n",
    "print 'accuracy', accuracy_score(Y_test, bst.predict(X_test))"
   ]
  },
  {
   "cell_type": "code",
   "execution_count": 62,
   "metadata": {
    "collapsed": false
   },
   "outputs": [
    {
     "data": {
      "image/png": "[encoded data removed]",
      "text/plain": [
       "<matplotlib.figure.Figure at 0x1346d1950>"
      ]
     },
     "metadata": {},
     "output_type": "display_data"
    }
   ],
   "source": [
    "fpr_gb, tpr_gb, thresholds = roc_curve(Y_test, bst_preds[:,1])\n",
    "\n",
    "figsize(8,8)\n",
    "plt.plot(np.arange(0.,1.,1e-5),np.arange(0.,1.,1e-5), c='black')\n",
    "plt.plot(fpr_gb,tpr_gb, c='b')\n",
    "plt.title('ROC curve', size=20)\n",
    "plt.xlabel('False Positive Rate', size=20)\n",
    "plt.ylabel('True Positive Rate', size=20)\n",
    "plt.grid()"
   ]
  },
  {
   "cell_type": "markdown",
   "metadata": {},
   "source": [
    "#### Кросс-валидация"
   ]
  },
  {
   "cell_type": "code",
   "execution_count": 63,
   "metadata": {
    "collapsed": false
   },
   "outputs": [],
   "source": [
    "from sklearn.cross_validation import ShuffleSplit, KFold\n",
    "from tqdm import tqdm"
   ]
  },
  {
   "cell_type": "code",
   "execution_count": null,
   "metadata": {
    "collapsed": false
   },
   "outputs": [],
   "source": [
    "cv = KFold(X.shape[0], n_folds=5, shuffle=True, random_state=123)\n",
    "\n",
    "lr_aucs = []\n",
    "lr_accs = []\n",
    "rf_aucs = []\n",
    "rf_accs = []\n",
    "bst_aucs = []\n",
    "bst_accs = []\n",
    "for train_ids, test_ids in tqdm(cv):\n",
    "    X_train, Y_train = X[train_ids, :], Y[train_ids, :]\n",
    "    X_test, Y_test = X[test_ids, :], Y[test_ids, :]\n",
    "    lr.fit(X_train, Y_train.flatten())\n",
    "    lr_aucs.append(roc_auc_score(Y_test, lr.predict_proba(X_test)[:,1]))\n",
    "    lr_accs.append(accuracy_score(Y_test, lr.predict(X_test)))\n",
    "    \n",
    "    rf.fit(X_train, Y_train.flatten())\n",
    "    rf_aucs.append(roc_auc_score(Y_test, rf.predict_proba(X_test)[:,1]))\n",
    "    rf_accs.append(accuracy_score(Y_test, rf.predict(X_test)))\n",
    "    \n",
    "    bst.fit(X_train, Y_train.flatten())\n",
    "    bst_aucs.append(roc_auc_score(Y_test, bst.predict_proba(X_test)[:,1]))\n",
    "    bst_accs.append(accuracy_score(Y_test, bst.predict(X_test)))"
   ]
  },
  {
   "cell_type": "markdown",
   "metadata": {},
   "source": [
    "#### Смотрим как себя ведёт качество на разных фолдах"
   ]
  },
  {
   "cell_type": "code",
   "execution_count": null,
   "metadata": {
    "collapsed": false
   },
   "outputs": [],
   "source": [
    "figsize(16,8)\n",
    "\n",
    "plt.subplot(121)\n",
    "plt.ylabel('AUC', size=20)\n",
    "plt.xlabel('fold number', size=20)\n",
    "plt.plot(range(5), lr_aucs, label='Logistic Regression')\n",
    "plt.plot(range(5), rf_aucs, label='Random Forest')\n",
    "plt.plot(range(5), bst_aucs, label='Gradient Boosting')\n",
    "plt.legend()\n",
    "\n",
    "plt.subplot(122)\n",
    "plt.ylabel('accuracy', size=20)\n",
    "plt.xlabel('fold number', size=20)\n",
    "plt.plot(range(5), lr_accs, label='Logistic Regression')\n",
    "plt.plot(range(5), rf_accs, label='Random Forest')\n",
    "plt.plot(range(5), bst_accs, label='Gradient Boosting')\n",
    "plt.legend()"
   ]
  },
  {
   "cell_type": "markdown",
   "metadata": {},
   "source": [
    "## XGBoost"
   ]
  },
  {
   "cell_type": "code",
   "execution_count": 65,
   "metadata": {
    "collapsed": true
   },
   "outputs": [],
   "source": [
    "import xgboost as xgb"
   ]
  },
  {
   "cell_type": "code",
   "execution_count": 66,
   "metadata": {
    "collapsed": true
   },
   "outputs": [],
   "source": [
    "ids = numpy.arange(X.shape[0])\n",
    "numpy.random.shuffle(ids)\n",
    "\n",
    "train_len = int(len(ids) * 0.8)\n",
    "dtrain = xgb.DMatrix(X[ids[:train_len],:], label=Y[ids[:train_len],:])\n",
    "dtest = xgb.DMatrix(X[ids[train_len:],:], label=Y[ids[train_len:],:])"
   ]
  },
  {
   "cell_type": "code",
   "execution_count": 67,
   "metadata": {
    "collapsed": false,
    "scrolled": false
   },
   "outputs": [
    {
     "name": "stderr",
     "output_type": "stream",
     "text": [
      "[0]\teval-auc:0.889302\ttrain-auc:0.895943\n",
      "[1]\teval-auc:0.895084\ttrain-auc:0.900388\n",
      "[2]\teval-auc:0.898256\ttrain-auc:0.904709\n",
      "[3]\teval-auc:0.898086\ttrain-auc:0.904308\n",
      "[4]\teval-auc:0.900235\ttrain-auc:0.907075\n",
      "[5]\teval-auc:0.900605\ttrain-auc:0.907007\n",
      "[6]\teval-auc:0.901868\ttrain-auc:0.908684\n",
      "[7]\teval-auc:0.901973\ttrain-auc:0.908967\n",
      "[8]\teval-auc:0.902364\ttrain-auc:0.909490\n",
      "[9]\teval-auc:0.903633\ttrain-auc:0.910443\n",
      "[10]\teval-auc:0.904618\ttrain-auc:0.911046\n",
      "[11]\teval-auc:0.905298\ttrain-auc:0.911705\n",
      "[12]\teval-auc:0.906209\ttrain-auc:0.912846\n",
      "[13]\teval-auc:0.906309\ttrain-auc:0.913592\n",
      "[14]\teval-auc:0.907000\ttrain-auc:0.914280\n",
      "[15]\teval-auc:0.907157\ttrain-auc:0.914550\n",
      "[16]\teval-auc:0.907308\ttrain-auc:0.914721\n",
      "[17]\teval-auc:0.907828\ttrain-auc:0.915327\n",
      "[18]\teval-auc:0.907826\ttrain-auc:0.915462\n",
      "[19]\teval-auc:0.908082\ttrain-auc:0.915814\n",
      "[20]\teval-auc:0.908105\ttrain-auc:0.916054\n",
      "[21]\teval-auc:0.908421\ttrain-auc:0.916444\n",
      "[22]\teval-auc:0.908342\ttrain-auc:0.916513\n",
      "[23]\teval-auc:0.908493\ttrain-auc:0.916710\n",
      "[24]\teval-auc:0.908601\ttrain-auc:0.916841\n",
      "[25]\teval-auc:0.908829\ttrain-auc:0.916975\n",
      "[26]\teval-auc:0.909039\ttrain-auc:0.917327\n",
      "[27]\teval-auc:0.909262\ttrain-auc:0.917832\n",
      "[28]\teval-auc:0.909605\ttrain-auc:0.918073\n",
      "[29]\teval-auc:0.909789\ttrain-auc:0.918442\n",
      "[30]\teval-auc:0.909810\ttrain-auc:0.918704\n",
      "[31]\teval-auc:0.910238\ttrain-auc:0.919341\n",
      "[32]\teval-auc:0.910424\ttrain-auc:0.919553\n",
      "[33]\teval-auc:0.910352\ttrain-auc:0.919797\n",
      "[34]\teval-auc:0.910376\ttrain-auc:0.920019\n",
      "[35]\teval-auc:0.910867\ttrain-auc:0.920650\n",
      "[36]\teval-auc:0.911115\ttrain-auc:0.920989\n",
      "[37]\teval-auc:0.911288\ttrain-auc:0.921193\n",
      "[38]\teval-auc:0.911426\ttrain-auc:0.921456\n",
      "[39]\teval-auc:0.911537\ttrain-auc:0.921706\n",
      "[40]\teval-auc:0.911668\ttrain-auc:0.921969\n",
      "[41]\teval-auc:0.911866\ttrain-auc:0.922112\n",
      "[42]\teval-auc:0.911979\ttrain-auc:0.922434\n",
      "[43]\teval-auc:0.912460\ttrain-auc:0.922940\n",
      "[44]\teval-auc:0.912704\ttrain-auc:0.923199\n",
      "[45]\teval-auc:0.912872\ttrain-auc:0.923456\n",
      "[46]\teval-auc:0.913012\ttrain-auc:0.923691\n",
      "[47]\teval-auc:0.913224\ttrain-auc:0.924034\n",
      "[48]\teval-auc:0.913548\ttrain-auc:0.924467\n",
      "[49]\teval-auc:0.913865\ttrain-auc:0.924790\n",
      "[50]\teval-auc:0.914078\ttrain-auc:0.925071\n",
      "[51]\teval-auc:0.914316\ttrain-auc:0.925291\n",
      "[52]\teval-auc:0.914486\ttrain-auc:0.925467\n",
      "[53]\teval-auc:0.914806\ttrain-auc:0.925858\n",
      "[54]\teval-auc:0.915003\ttrain-auc:0.926075\n",
      "[55]\teval-auc:0.915201\ttrain-auc:0.926341\n",
      "[56]\teval-auc:0.915513\ttrain-auc:0.926747\n",
      "[57]\teval-auc:0.915740\ttrain-auc:0.926991\n",
      "[58]\teval-auc:0.915867\ttrain-auc:0.927127\n",
      "[59]\teval-auc:0.916160\ttrain-auc:0.927435\n",
      "[60]\teval-auc:0.916260\ttrain-auc:0.927639\n",
      "[61]\teval-auc:0.916485\ttrain-auc:0.927978\n",
      "[62]\teval-auc:0.916673\ttrain-auc:0.928156\n",
      "[63]\teval-auc:0.916806\ttrain-auc:0.928378\n",
      "[64]\teval-auc:0.917041\ttrain-auc:0.928658\n",
      "[65]\teval-auc:0.917254\ttrain-auc:0.928910\n",
      "[66]\teval-auc:0.917407\ttrain-auc:0.929150\n",
      "[67]\teval-auc:0.917498\ttrain-auc:0.929320\n",
      "[68]\teval-auc:0.917724\ttrain-auc:0.929517\n",
      "[69]\teval-auc:0.917782\ttrain-auc:0.929732\n",
      "[70]\teval-auc:0.917988\ttrain-auc:0.929940\n",
      "[71]\teval-auc:0.918200\ttrain-auc:0.930229\n",
      "[72]\teval-auc:0.918310\ttrain-auc:0.930398\n",
      "[73]\teval-auc:0.918417\ttrain-auc:0.930582\n",
      "[74]\teval-auc:0.918615\ttrain-auc:0.930759\n",
      "[75]\teval-auc:0.918816\ttrain-auc:0.930969\n",
      "[76]\teval-auc:0.918939\ttrain-auc:0.931060\n",
      "[77]\teval-auc:0.918897\ttrain-auc:0.931161\n",
      "[78]\teval-auc:0.919014\ttrain-auc:0.931313\n",
      "[79]\teval-auc:0.919079\ttrain-auc:0.931581\n",
      "[80]\teval-auc:0.919155\ttrain-auc:0.931786\n",
      "[81]\teval-auc:0.919311\ttrain-auc:0.931945\n",
      "[82]\teval-auc:0.919458\ttrain-auc:0.932089\n",
      "[83]\teval-auc:0.919557\ttrain-auc:0.932250\n",
      "[84]\teval-auc:0.919639\ttrain-auc:0.932444\n",
      "[85]\teval-auc:0.919796\ttrain-auc:0.932702\n",
      "[86]\teval-auc:0.919983\ttrain-auc:0.932858\n",
      "[87]\teval-auc:0.920115\ttrain-auc:0.932962\n",
      "[88]\teval-auc:0.920132\ttrain-auc:0.933097\n",
      "[89]\teval-auc:0.920255\ttrain-auc:0.933305\n",
      "[90]\teval-auc:0.920392\ttrain-auc:0.933424\n",
      "[91]\teval-auc:0.920563\ttrain-auc:0.933645\n",
      "[92]\teval-auc:0.920673\ttrain-auc:0.933753\n",
      "[93]\teval-auc:0.920752\ttrain-auc:0.933933\n",
      "[94]\teval-auc:0.920856\ttrain-auc:0.934026\n",
      "[95]\teval-auc:0.920930\ttrain-auc:0.934287\n",
      "[96]\teval-auc:0.921108\ttrain-auc:0.934555\n",
      "[97]\teval-auc:0.921269\ttrain-auc:0.934664\n",
      "[98]\teval-auc:0.921334\ttrain-auc:0.934919\n",
      "[99]\teval-auc:0.921429\ttrain-auc:0.935006\n",
      "[100]\teval-auc:0.921568\ttrain-auc:0.935170\n",
      "[101]\teval-auc:0.921625\ttrain-auc:0.935270\n",
      "[102]\teval-auc:0.921727\ttrain-auc:0.935329\n",
      "[103]\teval-auc:0.921869\ttrain-auc:0.935593\n",
      "[104]\teval-auc:0.921885\ttrain-auc:0.935757\n",
      "[105]\teval-auc:0.921970\ttrain-auc:0.935823\n",
      "[106]\teval-auc:0.922087\ttrain-auc:0.935902\n",
      "[107]\teval-auc:0.922181\ttrain-auc:0.936157\n",
      "[108]\teval-auc:0.922241\ttrain-auc:0.936234\n",
      "[109]\teval-auc:0.922343\ttrain-auc:0.936380\n",
      "[110]\teval-auc:0.922383\ttrain-auc:0.936551\n",
      "[111]\teval-auc:0.922469\ttrain-auc:0.936626\n",
      "[112]\teval-auc:0.922591\ttrain-auc:0.936720\n",
      "[113]\teval-auc:0.922568\ttrain-auc:0.936855\n",
      "[114]\teval-auc:0.922664\ttrain-auc:0.936920\n",
      "[115]\teval-auc:0.922763\ttrain-auc:0.937068\n",
      "[116]\teval-auc:0.922817\ttrain-auc:0.937101\n",
      "[117]\teval-auc:0.922876\ttrain-auc:0.937304\n",
      "[118]\teval-auc:0.922988\ttrain-auc:0.937427\n",
      "[119]\teval-auc:0.923041\ttrain-auc:0.937580\n",
      "[120]\teval-auc:0.923117\ttrain-auc:0.937655\n",
      "[121]\teval-auc:0.923213\ttrain-auc:0.937744\n",
      "[122]\teval-auc:0.923320\ttrain-auc:0.937830\n",
      "[123]\teval-auc:0.923359\ttrain-auc:0.937886\n",
      "[124]\teval-auc:0.923427\ttrain-auc:0.937968\n",
      "[125]\teval-auc:0.923492\ttrain-auc:0.938042\n",
      "[126]\teval-auc:0.923602\ttrain-auc:0.938132\n",
      "[127]\teval-auc:0.923655\ttrain-auc:0.938179\n",
      "[128]\teval-auc:0.923665\ttrain-auc:0.938288\n",
      "[129]\teval-auc:0.923754\ttrain-auc:0.938366\n",
      "[130]\teval-auc:0.923781\ttrain-auc:0.938598\n",
      "[131]\teval-auc:0.923865\ttrain-auc:0.938660\n",
      "[132]\teval-auc:0.923980\ttrain-auc:0.938733\n",
      "[133]\teval-auc:0.924034\ttrain-auc:0.938770\n",
      "[134]\teval-auc:0.924151\ttrain-auc:0.938865\n",
      "[135]\teval-auc:0.924241\ttrain-auc:0.938957\n",
      "[136]\teval-auc:0.924290\ttrain-auc:0.938980\n",
      "[137]\teval-auc:0.924388\ttrain-auc:0.939063\n",
      "[138]\teval-auc:0.924429\ttrain-auc:0.939270\n",
      "[139]\teval-auc:0.924502\ttrain-auc:0.939333\n",
      "[140]\teval-auc:0.924518\ttrain-auc:0.939371\n",
      "[141]\teval-auc:0.924567\ttrain-auc:0.939482\n",
      "[142]\teval-auc:0.924623\ttrain-auc:0.939533\n",
      "[143]\teval-auc:0.924665\ttrain-auc:0.939563\n",
      "[144]\teval-auc:0.924747\ttrain-auc:0.939642\n",
      "[145]\teval-auc:0.924817\ttrain-auc:0.939703\n",
      "[146]\teval-auc:0.924837\ttrain-auc:0.939804\n",
      "[147]\teval-auc:0.924904\ttrain-auc:0.939886\n",
      "[148]\teval-auc:0.924972\ttrain-auc:0.939931\n",
      "[149]\teval-auc:0.925066\ttrain-auc:0.940116\n",
      "[150]\teval-auc:0.925110\ttrain-auc:0.940145\n",
      "[151]\teval-auc:0.925147\ttrain-auc:0.940186\n",
      "[152]\teval-auc:0.925166\ttrain-auc:0.940213\n",
      "[153]\teval-auc:0.925251\ttrain-auc:0.940266\n",
      "[154]\teval-auc:0.925235\ttrain-auc:0.940352\n",
      "[155]\teval-auc:0.925314\ttrain-auc:0.940408\n",
      "[156]\teval-auc:0.925330\ttrain-auc:0.940435\n",
      "[157]\teval-auc:0.925362\ttrain-auc:0.940474\n",
      "[158]\teval-auc:0.925413\ttrain-auc:0.940635\n",
      "[159]\teval-auc:0.925488\ttrain-auc:0.940718\n",
      "[160]\teval-auc:0.925521\ttrain-auc:0.940738\n",
      "[161]\teval-auc:0.925523\ttrain-auc:0.940776\n",
      "[162]\teval-auc:0.925545\ttrain-auc:0.940793\n",
      "[163]\teval-auc:0.925629\ttrain-auc:0.940850\n",
      "[164]\teval-auc:0.925668\ttrain-auc:0.941008\n",
      "[165]\teval-auc:0.925673\ttrain-auc:0.941141\n",
      "[166]\teval-auc:0.925724\ttrain-auc:0.941173\n",
      "[167]\teval-auc:0.925741\ttrain-auc:0.941208\n",
      "[168]\teval-auc:0.925788\ttrain-auc:0.941236\n",
      "[169]\teval-auc:0.925850\ttrain-auc:0.941323\n",
      "[170]\teval-auc:0.925891\ttrain-auc:0.941378\n",
      "[171]\teval-auc:0.925934\ttrain-auc:0.941399\n",
      "[172]\teval-auc:0.925929\ttrain-auc:0.941527\n",
      "[173]\teval-auc:0.925988\ttrain-auc:0.941604\n",
      "[174]\teval-auc:0.926051\ttrain-auc:0.941658\n",
      "[175]\teval-auc:0.926081\ttrain-auc:0.941676\n",
      "[176]\teval-auc:0.926174\ttrain-auc:0.941731\n",
      "[177]\teval-auc:0.926219\ttrain-auc:0.941766\n",
      "[178]\teval-auc:0.926189\ttrain-auc:0.941810\n",
      "[179]\teval-auc:0.926149\ttrain-auc:0.941965\n",
      "[180]\teval-auc:0.926176\ttrain-auc:0.942025\n",
      "[181]\teval-auc:0.926215\ttrain-auc:0.942056\n",
      "[182]\teval-auc:0.926255\ttrain-auc:0.942099\n",
      "[183]\teval-auc:0.926304\ttrain-auc:0.942128\n",
      "[184]\teval-auc:0.926318\ttrain-auc:0.942145\n",
      "[185]\teval-auc:0.926360\ttrain-auc:0.942176\n",
      "[186]\teval-auc:0.926372\ttrain-auc:0.942221\n",
      "[187]\teval-auc:0.926432\ttrain-auc:0.942319\n",
      "[188]\teval-auc:0.926456\ttrain-auc:0.942392\n",
      "[189]\teval-auc:0.926495\ttrain-auc:0.942413\n",
      "[190]\teval-auc:0.926468\ttrain-auc:0.942431\n",
      "[191]\teval-auc:0.926466\ttrain-auc:0.942568\n",
      "[192]\teval-auc:0.926489\ttrain-auc:0.942583\n",
      "[193]\teval-auc:0.926534\ttrain-auc:0.942613\n",
      "[194]\teval-auc:0.926556\ttrain-auc:0.942627\n",
      "[195]\teval-auc:0.926567\ttrain-auc:0.942654\n",
      "[196]\teval-auc:0.926603\ttrain-auc:0.942676\n",
      "[197]\teval-auc:0.926623\ttrain-auc:0.942741\n",
      "[198]\teval-auc:0.926614\ttrain-auc:0.942771\n",
      "[199]\teval-auc:0.926669\ttrain-auc:0.942876\n",
      "[200]\teval-auc:0.926618\ttrain-auc:0.943033\n",
      "[201]\teval-auc:0.926659\ttrain-auc:0.943061\n",
      "[202]\teval-auc:0.926711\ttrain-auc:0.943088\n",
      "[203]\teval-auc:0.926735\ttrain-auc:0.943105\n",
      "[204]\teval-auc:0.926761\ttrain-auc:0.943172\n",
      "[205]\teval-auc:0.926787\ttrain-auc:0.943185\n",
      "[206]\teval-auc:0.926818\ttrain-auc:0.943208\n",
      "[207]\teval-auc:0.926856\ttrain-auc:0.943373\n",
      "[208]\teval-auc:0.926852\ttrain-auc:0.943496\n",
      "[209]\teval-auc:0.926864\ttrain-auc:0.943541\n",
      "[210]\teval-auc:0.926884\ttrain-auc:0.943554\n",
      "[211]\teval-auc:0.926912\ttrain-auc:0.943578\n",
      "[212]\teval-auc:0.926945\ttrain-auc:0.943604\n",
      "[213]\teval-auc:0.926961\ttrain-auc:0.943618\n",
      "[214]\teval-auc:0.926938\ttrain-auc:0.943717\n",
      "[215]\teval-auc:0.927017\ttrain-auc:0.943885\n",
      "[216]\teval-auc:0.927051\ttrain-auc:0.943936\n",
      "[217]\teval-auc:0.927072\ttrain-auc:0.944000\n",
      "[218]\teval-auc:0.927103\ttrain-auc:0.944021\n",
      "[219]\teval-auc:0.927117\ttrain-auc:0.944030\n",
      "[220]\teval-auc:0.927102\ttrain-auc:0.944102\n",
      "[221]\teval-auc:0.927129\ttrain-auc:0.944114\n",
      "[222]\teval-auc:0.927117\ttrain-auc:0.944220\n",
      "[223]\teval-auc:0.927147\ttrain-auc:0.944236\n",
      "[224]\teval-auc:0.927215\ttrain-auc:0.944395\n",
      "[225]\teval-auc:0.927266\ttrain-auc:0.944414\n",
      "[226]\teval-auc:0.927258\ttrain-auc:0.944458\n",
      "[227]\teval-auc:0.927278\ttrain-auc:0.944527\n",
      "[228]\teval-auc:0.927265\ttrain-auc:0.944656\n",
      "[229]\teval-auc:0.927245\ttrain-auc:0.944750\n",
      "[230]\teval-auc:0.927270\ttrain-auc:0.944770\n",
      "[231]\teval-auc:0.927311\ttrain-auc:0.944791\n",
      "[232]\teval-auc:0.927317\ttrain-auc:0.944813\n",
      "[233]\teval-auc:0.927343\ttrain-auc:0.944882\n",
      "[234]\teval-auc:0.927376\ttrain-auc:0.944903\n",
      "[235]\teval-auc:0.927397\ttrain-auc:0.945002\n",
      "[236]\teval-auc:0.927396\ttrain-auc:0.945028\n",
      "[237]\teval-auc:0.927396\ttrain-auc:0.945045\n",
      "[238]\teval-auc:0.927409\ttrain-auc:0.945053\n",
      "[239]\teval-auc:0.927353\ttrain-auc:0.945154\n",
      "[240]\teval-auc:0.927362\ttrain-auc:0.945243\n",
      "[241]\teval-auc:0.927408\ttrain-auc:0.945261\n",
      "[242]\teval-auc:0.927416\ttrain-auc:0.945362\n",
      "[243]\teval-auc:0.927424\ttrain-auc:0.945390\n",
      "[244]\teval-auc:0.927361\ttrain-auc:0.945493\n",
      "[245]\teval-auc:0.927402\ttrain-auc:0.945508\n",
      "[246]\teval-auc:0.927452\ttrain-auc:0.945657\n",
      "[247]\teval-auc:0.927477\ttrain-auc:0.945674\n",
      "[248]\teval-auc:0.927474\ttrain-auc:0.945699\n",
      "[249]\teval-auc:0.927439\ttrain-auc:0.945754\n",
      "[250]\teval-auc:0.927467\ttrain-auc:0.945768\n",
      "[251]\teval-auc:0.927469\ttrain-auc:0.945843\n",
      "[252]\teval-auc:0.927473\ttrain-auc:0.945862\n",
      "[253]\teval-auc:0.927484\ttrain-auc:0.945870\n",
      "[254]\teval-auc:0.927520\ttrain-auc:0.945891\n",
      "[255]\teval-auc:0.927529\ttrain-auc:0.945923\n",
      "[256]\teval-auc:0.927534\ttrain-auc:0.945930\n",
      "[257]\teval-auc:0.927542\ttrain-auc:0.945998\n",
      "[258]\teval-auc:0.927557\ttrain-auc:0.946010\n",
      "[259]\teval-auc:0.927603\ttrain-auc:0.946090\n",
      "[260]\teval-auc:0.927624\ttrain-auc:0.946227\n",
      "[261]\teval-auc:0.927618\ttrain-auc:0.946273\n",
      "[262]\teval-auc:0.927632\ttrain-auc:0.946280\n",
      "[263]\teval-auc:0.927653\ttrain-auc:0.946290\n",
      "[264]\teval-auc:0.927642\ttrain-auc:0.946334\n",
      "[265]\teval-auc:0.927663\ttrain-auc:0.946405\n",
      "[266]\teval-auc:0.927669\ttrain-auc:0.946426\n",
      "[267]\teval-auc:0.927681\ttrain-auc:0.946474\n",
      "[268]\teval-auc:0.927690\ttrain-auc:0.946481\n",
      "[269]\teval-auc:0.927684\ttrain-auc:0.946550\n",
      "[270]\teval-auc:0.927674\ttrain-auc:0.946567\n",
      "[271]\teval-auc:0.927656\ttrain-auc:0.946615\n",
      "[272]\teval-auc:0.927676\ttrain-auc:0.946633\n",
      "[273]\teval-auc:0.927683\ttrain-auc:0.946712\n",
      "[274]\teval-auc:0.927704\ttrain-auc:0.946722\n",
      "[275]\teval-auc:0.927718\ttrain-auc:0.946754\n",
      "[276]\teval-auc:0.927723\ttrain-auc:0.946764\n",
      "[277]\teval-auc:0.927739\ttrain-auc:0.946834\n",
      "[278]\teval-auc:0.927759\ttrain-auc:0.946842\n",
      "[279]\teval-auc:0.927770\ttrain-auc:0.946940\n",
      "[280]\teval-auc:0.927739\ttrain-auc:0.947054\n",
      "[281]\teval-auc:0.927739\ttrain-auc:0.947063\n",
      "[282]\teval-auc:0.927752\ttrain-auc:0.947078\n",
      "[283]\teval-auc:0.927764\ttrain-auc:0.947128\n",
      "[284]\teval-auc:0.927793\ttrain-auc:0.947149\n",
      "[285]\teval-auc:0.927831\ttrain-auc:0.947217\n",
      "[286]\teval-auc:0.927846\ttrain-auc:0.947223\n",
      "[287]\teval-auc:0.927830\ttrain-auc:0.947298\n",
      "[288]\teval-auc:0.927835\ttrain-auc:0.947361\n",
      "[289]\teval-auc:0.927844\ttrain-auc:0.947377\n",
      "[290]\teval-auc:0.927866\ttrain-auc:0.947394\n",
      "[291]\teval-auc:0.927878\ttrain-auc:0.947406\n",
      "[292]\teval-auc:0.927881\ttrain-auc:0.947447\n",
      "[293]\teval-auc:0.927893\ttrain-auc:0.947453\n",
      "[294]\teval-auc:0.927879\ttrain-auc:0.947469\n",
      "[295]\teval-auc:0.927889\ttrain-auc:0.947483\n",
      "[296]\teval-auc:0.927911\ttrain-auc:0.947561\n",
      "[297]\teval-auc:0.927933\ttrain-auc:0.947616\n",
      "[298]\teval-auc:0.927932\ttrain-auc:0.947625\n",
      "[299]\teval-auc:0.927943\ttrain-auc:0.947634\n"
     ]
    }
   ],
   "source": [
    "param = {'bst:max_depth':6, 'bst:eta':0.05, 'objective':'binary:logistic' }\n",
    "param['eval_metric'] = 'auc'\n",
    "\n",
    "evallist  = [(dtest,'eval'), (dtrain,'train')]\n",
    "num_round = 300\n",
    "bst = xgb.train(param, dtrain, num_round, evallist)"
   ]
  },
  {
   "cell_type": "markdown",
   "metadata": {},
   "source": [
    "### Качество XGBoost"
   ]
  },
  {
   "cell_type": "code",
   "execution_count": 68,
   "metadata": {
    "collapsed": false
   },
   "outputs": [
    {
     "name": "stdout",
     "output_type": "stream",
     "text": [
      "AUC 0.927942508053\n",
      "accuracy 0.869491785659\n"
     ]
    }
   ],
   "source": [
    "labels = dtest.get_label()\n",
    "preds = bst.predict(dtest)\n",
    "\n",
    "print 'AUC', roc_auc_score(labels, preds)\n",
    "print 'accuracy', accuracy_score(labels, np.array(preds > 0.5, dtype=int))"
   ]
  },
  {
   "cell_type": "code",
   "execution_count": 69,
   "metadata": {
    "collapsed": false
   },
   "outputs": [
    {
     "data": {
      "image/png": "[encoded data removed]",
      "text/plain": [
       "<matplotlib.figure.Figure at 0x13430a5d0>"
      ]
     },
     "metadata": {},
     "output_type": "display_data"
    }
   ],
   "source": [
    "fpr_xgb, tpr_xgb, thresholds = roc_curve(labels, preds)\n",
    "\n",
    "figsize(8,8)\n",
    "plt.plot(np.arange(0.,1.,1e-5),np.arange(0.,1.,1e-5), c='black')\n",
    "plt.plot(fpr_xgb,tpr_xgb, c='b')\n",
    "plt.title('ROC curve', size=20)\n",
    "plt.xlabel('False Positive Rate', size=20)\n",
    "plt.ylabel('True Positive Rate', size=20)\n",
    "plt.grid()"
   ]
  },
  {
   "cell_type": "markdown",
   "metadata": {},
   "source": [
    "### RoC кривые разных моделей на одном графике"
   ]
  },
  {
   "cell_type": "code",
   "execution_count": 71,
   "metadata": {
    "collapsed": false
   },
   "outputs": [
    {
     "data": {
      "image/png": "[encoded data removed]",
      "text/plain": [
       "<matplotlib.figure.Figure at 0x133fb5810>"
      ]
     },
     "metadata": {},
     "output_type": "display_data"
    }
   ],
   "source": [
    "figsize(8,8)\n",
    "plt.plot(np.arange(0.,1.,1e-5),np.arange(0.,1.,1e-5), c='black')\n",
    "plt.plot(fpr_lr,tpr_lr, label = 'Logistic Regression')\n",
    "plt.plot(fpr_rf,tpr_rf, label = 'Random Forest')\n",
    "plt.plot(fpr_gb,tpr_gb, label = 'Gradient Boosting')\n",
    "plt.plot(fpr_xgb,tpr_xgb, label = 'XGBoost')\n",
    "plt.title('ROC curve', size=20)\n",
    "plt.xlabel('False Positive Rate', size=20)\n",
    "plt.ylabel('True Positive Rate', size=20)\n",
    "plt.legend()\n",
    "plt.grid()"
   ]
  },
  {
   "cell_type": "markdown",
   "metadata": {},
   "source": [
    "### Feature importance"
   ]
  },
  {
   "cell_type": "markdown",
   "metadata": {},
   "source": [
    "Посмотрим на важность признаков в модели"
   ]
  },
  {
   "cell_type": "code",
   "execution_count": 72,
   "metadata": {
    "collapsed": false
   },
   "outputs": [
    {
     "data": {
      "text/plain": [
       "<matplotlib.text.Text at 0x133d86590>"
      ]
     },
     "execution_count": 72,
     "metadata": {},
     "output_type": "execute_result"
    },
    {
     "data": {
      "image/png": "[encoded data removed]",
      "text/plain": [
       "<matplotlib.figure.Figure at 0x1342467d0>"
      ]
     },
     "metadata": {},
     "output_type": "display_data"
    }
   ],
   "source": [
    "figsize(10,6)\n",
    "plt.plot([i[1] for i in sorted(bst.get_fscore().iteritems(), key = lambda s : -s[1])])\n",
    "plt.title('Feature importances plot', size=20)\n",
    "plt.xlabel('sorted feature number', size=20)\n",
    "plt.ylabel('importance', size=20)"
   ]
  },
  {
   "cell_type": "markdown",
   "metadata": {},
   "source": [
    "### Кросс валидация для XGBoost"
   ]
  },
  {
   "cell_type": "code",
   "execution_count": 73,
   "metadata": {
    "collapsed": false
   },
   "outputs": [],
   "source": [
    "dtrain_cv = xgb.DMatrix(X, label = Y)\n",
    "\n",
    "param = {'bst:max_depth':6, 'bst:eta':0.05, 'objective':'binary:logistic' }\n",
    "param['eval_metric'] = 'auc'\n",
    "\n",
    "num_round = 300\n",
    "cv_results = xgb.cv(param, dtrain_cv, num_round, as_pandas=True)"
   ]
  },
  {
   "cell_type": "markdown",
   "metadata": {},
   "source": [
    "Выведем результаты кросс-валидации на последних 10 итерациях"
   ]
  },
  {
   "cell_type": "code",
   "execution_count": 74,
   "metadata": {
    "collapsed": false
   },
   "outputs": [
    {
     "data": {
      "text/html": [
       "<div>\n",
       "<table border=\"1\" class=\"dataframe\">\n",
       "  <thead>\n",
       "    <tr style=\"text-align: right;\">\n",
       "      <th></th>\n",
       "      <th>test-auc-mean</th>\n",
       "      <th>test-auc-std</th>\n",
       "      <th>train-auc-mean</th>\n",
       "      <th>train-auc-std</th>\n",
       "    </tr>\n",
       "  </thead>\n",
       "  <tbody>\n",
       "    <tr>\n",
       "      <th>290</th>\n",
       "      <td>0.928893</td>\n",
       "      <td>0.002024</td>\n",
       "      <td>0.948755</td>\n",
       "      <td>0.000750</td>\n",
       "    </tr>\n",
       "    <tr>\n",
       "      <th>291</th>\n",
       "      <td>0.928900</td>\n",
       "      <td>0.002033</td>\n",
       "      <td>0.948790</td>\n",
       "      <td>0.000783</td>\n",
       "    </tr>\n",
       "    <tr>\n",
       "      <th>292</th>\n",
       "      <td>0.928922</td>\n",
       "      <td>0.002032</td>\n",
       "      <td>0.948853</td>\n",
       "      <td>0.000755</td>\n",
       "    </tr>\n",
       "    <tr>\n",
       "      <th>293</th>\n",
       "      <td>0.928932</td>\n",
       "      <td>0.002020</td>\n",
       "      <td>0.948920</td>\n",
       "      <td>0.000723</td>\n",
       "    </tr>\n",
       "    <tr>\n",
       "      <th>294</th>\n",
       "      <td>0.928942</td>\n",
       "      <td>0.002024</td>\n",
       "      <td>0.948969</td>\n",
       "      <td>0.000697</td>\n",
       "    </tr>\n",
       "    <tr>\n",
       "      <th>295</th>\n",
       "      <td>0.928943</td>\n",
       "      <td>0.002022</td>\n",
       "      <td>0.949021</td>\n",
       "      <td>0.000691</td>\n",
       "    </tr>\n",
       "    <tr>\n",
       "      <th>296</th>\n",
       "      <td>0.928949</td>\n",
       "      <td>0.002018</td>\n",
       "      <td>0.949061</td>\n",
       "      <td>0.000712</td>\n",
       "    </tr>\n",
       "    <tr>\n",
       "      <th>297</th>\n",
       "      <td>0.928955</td>\n",
       "      <td>0.002022</td>\n",
       "      <td>0.949103</td>\n",
       "      <td>0.000742</td>\n",
       "    </tr>\n",
       "    <tr>\n",
       "      <th>298</th>\n",
       "      <td>0.928953</td>\n",
       "      <td>0.002003</td>\n",
       "      <td>0.949167</td>\n",
       "      <td>0.000673</td>\n",
       "    </tr>\n",
       "    <tr>\n",
       "      <th>299</th>\n",
       "      <td>0.928956</td>\n",
       "      <td>0.001994</td>\n",
       "      <td>0.949215</td>\n",
       "      <td>0.000648</td>\n",
       "    </tr>\n",
       "  </tbody>\n",
       "</table>\n",
       "</div>"
      ],
      "text/plain": [
       "     test-auc-mean  test-auc-std  train-auc-mean  train-auc-std\n",
       "290       0.928893      0.002024        0.948755       0.000750\n",
       "291       0.928900      0.002033        0.948790       0.000783\n",
       "292       0.928922      0.002032        0.948853       0.000755\n",
       "293       0.928932      0.002020        0.948920       0.000723\n",
       "294       0.928942      0.002024        0.948969       0.000697\n",
       "295       0.928943      0.002022        0.949021       0.000691\n",
       "296       0.928949      0.002018        0.949061       0.000712\n",
       "297       0.928955      0.002022        0.949103       0.000742\n",
       "298       0.928953      0.002003        0.949167       0.000673\n",
       "299       0.928956      0.001994        0.949215       0.000648"
      ]
     },
     "execution_count": 74,
     "metadata": {},
     "output_type": "execute_result"
    }
   ],
   "source": [
    "cv_results.iloc[290:,:]"
   ]
  },
  {
   "cell_type": "markdown",
   "metadata": {},
   "source": [
    "### Кривая обучения"
   ]
  },
  {
   "cell_type": "code",
   "execution_count": 75,
   "metadata": {
    "collapsed": false
   },
   "outputs": [
    {
     "data": {
      "image/png": "[encoded data removed]",
      "text/plain": [
       "<matplotlib.figure.Figure at 0x133a3a8d0>"
      ]
     },
     "metadata": {},
     "output_type": "display_data"
    }
   ],
   "source": [
    "plt.plot(cv_results['train-auc-mean'], label = 'train')\n",
    "plt.plot(cv_results['test-auc-mean'], label = 'test')\n",
    "plt.xlabel('n_iter', size=20)\n",
    "plt.ylabel('auc', size=20)\n",
    "plt.legend()\n",
    "plt.show()"
   ]
  },
  {
   "cell_type": "markdown",
   "metadata": {},
   "source": [
    "## Визуализация точек на карте: pygeoplot\n",
    "\n",
    "[пример с камерами видеонаблюдения](http://nbviewer.jupyter.org/github/romovpa/pygeoplot/blob/master/ipynb/DemoMoscowCCTV.ipynb)"
   ]
  },
  {
   "cell_type": "code",
   "execution_count": null,
   "metadata": {
    "collapsed": true
   },
   "outputs": [],
   "source": []
  }
 ],
 "metadata": {
  "kernelspec": {
   "display_name": "Python [Root]",
   "language": "python",
   "name": "Python [Root]"
  },
  "language_info": {
   "codemirror_mode": {
    "name": "ipython",
    "version": 3
   },
   "file_extension": ".py",
   "mimetype": "text/x-python",
   "name": "python",
   "nbconvert_exporter": "python",
   "pygments_lexer": "ipython3",
   "version": "3.5.1"
  }
 },
 "nbformat": 4,
 "nbformat_minor": 0
}
