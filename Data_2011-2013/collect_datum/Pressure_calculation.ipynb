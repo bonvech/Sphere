{
 "cells": [
  {
   "cell_type": "markdown",
   "metadata": {},
   "source": [
    "## Расчет давления и температуры из кодов.\n",
    "\n",
    "Для сенсора давления HP03SB"
   ]
  },
  {
   "cell_type": "code",
   "execution_count": 29,
   "metadata": {},
   "outputs": [
    {
     "name": "stdout",
     "output_type": "stream",
     "text": [
      "/home/alena/SPHERE/Analysis/Collect_datum\r\n"
     ]
    }
   ],
   "source": [
    "!pwd"
   ]
  },
  {
   "cell_type": "code",
   "execution_count": 83,
   "metadata": {},
   "outputs": [],
   "source": [
    "# calculate values of pressure & temperature from kods pp & tt\n",
    "# pp - pressure kod, tt - temperature kod  in INT numbers\n",
    "\n",
    "def calc_bar_temp(pp, tt, ptype):\n",
    "\n",
    "    ## set formula parameters\n",
    "    a  = [4, 7., 16., 6, 13]\n",
    "    c  = [7.0, 13919.0, 1793.0, 198.0, 131.0, 35820.0, 5066.0, 2500.0]  ## C0 onboard 0\n",
    "    c1 = [7.0, 16762.0, 2083.0, 310.0, 750.0, 35424.0, 5338.0, 2500.0]  ## C1 onboard 1\n",
    "    c2 = [7.0, 27626.0, 3949.0, 314.0, 317.0, 30355.0, 5441.0, 2500.0]  ## C2 ground 0\n",
    "    c3 = [7.0, 18489.0, 2736.0, 292.0, 356.0, 35569.0, 5253.0, 2500.0]  ## C3 ground 1\n",
    "    \n",
    "    if   ptype == 0:   ## barometer onboard 1\n",
    "        c = c\n",
    "    elif ptype == 1:   ## barometer onboard 1\n",
    "        c = c1\n",
    "    elif ptype == 2: ## barometer ground 0 \n",
    "        c = c2\n",
    "    elif ptype == 3: ## barometer ground 0\n",
    "        c = c3\n",
    "    elif ptype == 10: ## example barometer\n",
    "        c = [7, 29908, 3724, 312, 441, 9191, 3990, 2500]\n",
    "        a = [4, 1, 4, 4, 9]\n",
    "    else:\n",
    "        print(\"\\n\\n Error! Unknown coefficient set!!! \\n\")\n",
    "        return\n",
    "     \n",
    "    ## -- 1 step: --  \n",
    "    dUT  = tt - c[5]\n",
    "    qqq  = dUT * dUT / (128.0 * 128.0 * (2 ** a[3])) \n",
    "    if(tt < c[5]):\n",
    "        qqq *= a[2]\n",
    "    else:\n",
    "        qqq *= a[1]\n",
    "    dUT -= qqq\n",
    " \n",
    "    ### -- step 2 --\n",
    "    OFF = (c[2] + (c[4] - 1024.0) * dUT / 16384.0 ) * 4\n",
    "    SENS = c[1] + (c[3] * dUT / 1024.0)\n",
    "    X = SENS * (pp - 7168) / 16384 - OFF\n",
    "    P = X * 100.0/ 32.0 + c[7] * 10\n",
    "    P = P / 10\n",
    "     \n",
    "    ### step 3: calculate temperature\n",
    "    T = 250 + dUT * c[6] / 65536 - dUT/ (2 ** a[4])\n",
    "    T = T / 10\n",
    "\n",
    "    print(\"Bar:  T[ %5i ] = %5.1f C  P[ %5i ] = %6.2f kPa (%4.1f mm w)\" % (tt, T, pp, P/100, P/0.981) )\n",
    "    return P/100, T"
   ]
  },
  {
   "cell_type": "markdown",
   "metadata": {},
   "source": [
    "# Проверка"
   ]
  },
  {
   "cell_type": "code",
   "execution_count": 82,
   "metadata": {},
   "outputs": [
    {
     "name": "stdout",
     "output_type": "stream",
     "text": [
      "Bar:  T[  4107 ] =  -7.3 C  P[ 30036 ] =  99.18 kPa (10110.4 mm w)\n",
      "99.18 -7.3\n"
     ]
    }
   ],
   "source": [
    "# example from datasheet sa and sb\n",
    "P, T = calc_bar_temp( 30036, 4107, 10) ## right answer is: T= -7.2 P= 991.8 hpa\n",
    "print(\"%.2f %.1f\" % (P, T))"
   ]
  },
  {
   "cell_type": "code",
   "execution_count": 68,
   "metadata": {},
   "outputs": [
    {
     "name": "stdout",
     "output_type": "stream",
     "text": [
      "Bar:  T[ 30983 ] =  30.2 C  P[ 29401 ] =  93.94 kPa (9575.8 mm w)\n",
      "Bar:  T[ 33579 ] =   8.6 C  P[ 38266 ] =  95.95 kPa (9781.2 mm w)\n"
     ]
    }
   ],
   "source": [
    "# on_ground Wed Mar 14 14:31:50 2012\n",
    "#0 Bar:  T[ 30983 ] = 30.2 C  P[ 29401 ] = 93.64 kPa (9545.1 mm w)\n",
    "#1 Bar:  T[ 33579 ] = 8.6 C  P[ 38266 ] = 95.87 kPa (9772.5 mm w)\n",
    "calc_bar_temp( 29401, 30983, 2)\n",
    "calc_bar_temp( 38266, 33579, 3)"
   ]
  },
  {
   "cell_type": "code",
   "execution_count": 69,
   "metadata": {},
   "outputs": [
    {
     "name": "stdout",
     "output_type": "stream",
     "text": [
      "Bar:  T[ 30236 ] =  24.0 C  P[ 29521 ] =  93.20 kPa (9500.6 mm w)\n",
      "Bar:  T[ 30801 ] = -15.9 C  P[ 40285 ] =  95.77 kPa (9762.2 mm w)\n"
     ]
    }
   ],
   "source": [
    "#0 Bar: t[ 30236 ] =  24.0 C P[ 29521 ] = 92.96 KPa (9476.1 mm w)\n",
    "#1 Bar: t[ 30801 ] = -15.9 C P[ 40285 ] = 95.93 KPa (9778.5 mm w)\n",
    "calc_bar_temp( 29521, 30236, 2)\n",
    "calc_bar_temp( 40285, 30801, 3)"
   ]
  },
  {
   "cell_type": "markdown",
   "metadata": {},
   "source": [
    "# The END"
   ]
  },
  {
   "cell_type": "code",
   "execution_count": null,
   "metadata": {},
   "outputs": [],
   "source": [
    "## функция на си\n",
    "// calculate values of pressure & temperature from kods pp & tt\n",
    "// pp - pressure kod, tt - temperature kod         \n",
    "// in INT numbers\n",
    "int barometer::calc_bar_temp(unsigned int pp, unsigned int tt, char *message)\n",
    "{\n",
    "    double dUT = 0., qqq = 0., ppp = 0.;\n",
    "    double P  = 0.0, T  = 0.0, OFF = 0.0, SENS = 0.0;\n",
    "    long double X = 0.0;\n",
    "    float c[8];\n",
    "    int a[5];\n",
    "    unsigned int i = 0;\n",
    "    //cc[8] = {7, 13919, 1793, 198, 131, 3052, 5066, 2500};\n",
    "    //float cc[8] = {7, 29908, 3724, 312, 441, 9191, 3990, 2500};\n",
    "    //int   aa[5] = {4, 1, 4, 4, 9};\n",
    "\n",
    "    //pp = 42610; tt = 36508;\n",
    "    //pp = 30036; tt = 4107;\n",
    "    //printf(\"tt = %6i pp = %6i\\n\", tt, pp);\n",
    "    pp<<=16;\n",
    "    pp>>=16;\n",
    "    tt<<=16;\n",
    "    tt>>=16;\n",
    "    for(i = 0; i< 8; i++)\n",
    "    {\n",
    "        c[i] = (float) cc[i];\n",
    "        if(i < 5) \n",
    "            a[i] = aa[i];\n",
    "        //printf(\"%i : cc[i]=%i, c[i]=%f, aa[i]=%i, a[i]=%i\\n\", i, cc[i], c[i], aa[i], a[i]);\n",
    "    }\n",
    "\n",
    "    // -- 1 step: --\n",
    "    dUT  = (float)tt - c[5];\n",
    "    //printf(\"dUT = %f\\n\", dUT);\n",
    "    qqq  = dUT * dUT; // 128=2^7\n",
    "    //printf(\"qqq = %f\\n\", qqq);\n",
    "    if(tt < c[5])\n",
    "    {\n",
    "        qqq *= (float) a[2];\n",
    "        //printf(\"qqq = %f, a[2]=%i\\n\", qqq, a[2]);\n",
    "    }\n",
    "    else\n",
    "    {\n",
    "        qqq *= (float) a[1];\n",
    "        //printf(\"qqq = %f, a[1]=%i\\n\", qqq, a[1]);\n",
    "    }\n",
    "\n",
    "    ppp = (128.0 * 128.0 *(float)pow2_x(a[3]) );\n",
    "    //printf(\"qqq = %f, ppp = %f\\n\", qqq, ppp);\n",
    "    qqq /= ppp;\n",
    "    dUT -= qqq;\n",
    "    //printf(\"dUT = %f\\n\", dUT);\n",
    "\n",
    "    qqq = 0;\n",
    "    T  = dUT * c[6];\n",
    "    T /= 65536.0; // 65536 = 2^16\n",
    "    T = T + 250.0;\n",
    "    qqq = dUT/pow2_x(a[4]);\n",
    "    T -= qqq;\n",
    "    //printf(\" T = %f\\n\",  T);\n",
    "\n",
    "    // -- step 2 --\n",
    "    OFF = (c[4] - 1024.0) * dUT;\n",
    "    OFF /= 16384.0;  // 2^14\n",
    "    OFF = (c[2] + OFF ) * 4.0;\n",
    "    //printf(\"OFF = %f\\n\", OFF);\n",
    "\n",
    "    SENS = c[1] + (c[3]* dUT / 1024.0);\n",
    "    //printf(\"SENS = %lf\\n\", SENS);\n",
    "\n",
    "    X = SENS * ((float)pp - 7168.0)/16384.0 - OFF;\n",
    "    //printf(\"X = %Lf\\n\", X);\n",
    "\n",
    "    P = X * 10.0/ 32.0 + c[7];\n",
    "    //printf(\"P = %f\\n\", P);\n",
    "\n",
    "    T = T/10;\n",
    "    P = P/1;//-T;\n",
    "\n",
    "    sprintf(message, \"Bar:  T[ %5i ] = %5.1f C  P[ %5i ] = %6.2f kPa (%4.1f mm w)\\n\", tt, T, pp, P/100, P/0.981);\n",
    "    if(dout) fprintf(dout, \"\\n Bar: P = %.2f kPa  T = %.1f C\\n\", P/10, T);\n",
    "}"
   ]
  }
 ],
 "metadata": {
  "kernelspec": {
   "display_name": "Python 3",
   "language": "python",
   "name": "python3"
  },
  "language_info": {
   "codemirror_mode": {
    "name": "ipython",
    "version": 3
   },
   "file_extension": ".py",
   "mimetype": "text/x-python",
   "name": "python",
   "nbconvert_exporter": "python",
   "pygments_lexer": "ipython3",
   "version": "3.7.4"
  }
 },
 "nbformat": 4,
 "nbformat_minor": 4
}
