{
 "cells": [
  {
   "cell_type": "code",
   "execution_count": 1,
   "metadata": {
    "collapsed": false
   },
   "outputs": [
    {
     "name": "stdout",
     "output_type": "stream",
     "text": [
      "Пнд Май 29 20:48:31 MSK 2017\n",
      "/home/sphere/github/Sphere/separate\n"
     ]
    }
   ],
   "source": [
    "!date\n",
    "!pwd"
   ]
  },
  {
   "cell_type": "code",
   "execution_count": 2,
   "metadata": {
    "collapsed": true
   },
   "outputs": [],
   "source": [
    "%matplotlib inline\n",
    "import pandas as pd\n",
    "import matplotlib.pyplot as plt\n",
    "import matplotlib as mp\n",
    "import math as mt\n",
    "import numpy as np"
   ]
  },
  {
   "cell_type": "code",
   "execution_count": 3,
   "metadata": {
    "collapsed": false
   },
   "outputs": [
    {
     "name": "stdout",
     "output_type": "stream",
     "text": [
      "(575, 25)\n"
     ]
    },
    {
     "data": {
      "text/html": [
       "<div>\n",
       "<table border=\"1\" class=\"dataframe\">\n",
       "  <thead>\n",
       "    <tr style=\"text-align: right;\">\n",
       "      <th></th>\n",
       "      <th>Type</th>\n",
       "      <th>Dt</th>\n",
       "      <th>Atotal</th>\n",
       "      <th>TG5time</th>\n",
       "      <th>TL2time</th>\n",
       "      <th>TL3time</th>\n",
       "      <th>TRIGGER</th>\n",
       "      <th>delay</th>\n",
       "      <th>H</th>\n",
       "      <th>UTC</th>\n",
       "      <th>...</th>\n",
       "      <th>TotalNoise_s</th>\n",
       "      <th>TotalNoise_n</th>\n",
       "      <th>NNear3</th>\n",
       "      <th>Theta</th>\n",
       "      <th>dt2_s</th>\n",
       "      <th>dt2_n</th>\n",
       "      <th>ng_s</th>\n",
       "      <th>ng_n</th>\n",
       "      <th>Crit1</th>\n",
       "      <th>Crit2</th>\n",
       "    </tr>\n",
       "    <tr>\n",
       "      <th>EID</th>\n",
       "      <th></th>\n",
       "      <th></th>\n",
       "      <th></th>\n",
       "      <th></th>\n",
       "      <th></th>\n",
       "      <th></th>\n",
       "      <th></th>\n",
       "      <th></th>\n",
       "      <th></th>\n",
       "      <th></th>\n",
       "      <th></th>\n",
       "      <th></th>\n",
       "      <th></th>\n",
       "      <th></th>\n",
       "      <th></th>\n",
       "      <th></th>\n",
       "      <th></th>\n",
       "      <th></th>\n",
       "      <th></th>\n",
       "      <th></th>\n",
       "      <th></th>\n",
       "    </tr>\n",
       "  </thead>\n",
       "  <tbody>\n",
       "    <tr>\n",
       "      <th>10675</th>\n",
       "      <td>E</td>\n",
       "      <td>10</td>\n",
       "      <td>688</td>\n",
       "      <td>242</td>\n",
       "      <td>241</td>\n",
       "      <td>242</td>\n",
       "      <td>241</td>\n",
       "      <td>360</td>\n",
       "      <td>307.8</td>\n",
       "      <td>2013-03-09 18:16:20</td>\n",
       "      <td>...</td>\n",
       "      <td>3.562</td>\n",
       "      <td>9.965</td>\n",
       "      <td>31.0</td>\n",
       "      <td>0.204204</td>\n",
       "      <td>0.766965</td>\n",
       "      <td>1.802776</td>\n",
       "      <td>34.0</td>\n",
       "      <td>32.0</td>\n",
       "      <td>2.497441</td>\n",
       "      <td>2.845292</td>\n",
       "    </tr>\n",
       "    <tr>\n",
       "      <th>10677</th>\n",
       "      <td>E</td>\n",
       "      <td>29</td>\n",
       "      <td>1336</td>\n",
       "      <td>241</td>\n",
       "      <td>240</td>\n",
       "      <td>243</td>\n",
       "      <td>240</td>\n",
       "      <td>112</td>\n",
       "      <td>307.8</td>\n",
       "      <td>2013-03-09 18:18:12</td>\n",
       "      <td>...</td>\n",
       "      <td>53.317</td>\n",
       "      <td>501.569</td>\n",
       "      <td>51.0</td>\n",
       "      <td>0.486947</td>\n",
       "      <td>1.157275</td>\n",
       "      <td>1.519109</td>\n",
       "      <td>56.0</td>\n",
       "      <td>13.0</td>\n",
       "      <td>5.654537</td>\n",
       "      <td>27.097272</td>\n",
       "    </tr>\n",
       "    <tr>\n",
       "      <th>10679</th>\n",
       "      <td>D</td>\n",
       "      <td>76</td>\n",
       "      <td>7143</td>\n",
       "      <td>242</td>\n",
       "      <td>250</td>\n",
       "      <td>252</td>\n",
       "      <td>242</td>\n",
       "      <td>13</td>\n",
       "      <td>307.6</td>\n",
       "      <td>2013-03-09 18:18:25</td>\n",
       "      <td>...</td>\n",
       "      <td>600.431</td>\n",
       "      <td>2820.565</td>\n",
       "      <td>9.0</td>\n",
       "      <td>1.193805</td>\n",
       "      <td>2.939874</td>\n",
       "      <td>1.058301</td>\n",
       "      <td>14.0</td>\n",
       "      <td>25.0</td>\n",
       "      <td>0.201590</td>\n",
       "      <td>1.311606</td>\n",
       "    </tr>\n",
       "    <tr>\n",
       "      <th>10683</th>\n",
       "      <td>E</td>\n",
       "      <td>22</td>\n",
       "      <td>505</td>\n",
       "      <td>236</td>\n",
       "      <td>243</td>\n",
       "      <td>472</td>\n",
       "      <td>236</td>\n",
       "      <td>181</td>\n",
       "      <td>305.9</td>\n",
       "      <td>2013-03-09 18:32:54</td>\n",
       "      <td>...</td>\n",
       "      <td>30.208</td>\n",
       "      <td>663.708</td>\n",
       "      <td>2.0</td>\n",
       "      <td>1.146681</td>\n",
       "      <td>1.483240</td>\n",
       "      <td>1.927248</td>\n",
       "      <td>5.0</td>\n",
       "      <td>7.0</td>\n",
       "      <td>0.928107</td>\n",
       "      <td>18.222066</td>\n",
       "    </tr>\n",
       "    <tr>\n",
       "      <th>10685</th>\n",
       "      <td>E</td>\n",
       "      <td>15</td>\n",
       "      <td>6588</td>\n",
       "      <td>242</td>\n",
       "      <td>242</td>\n",
       "      <td>242</td>\n",
       "      <td>242</td>\n",
       "      <td>1160</td>\n",
       "      <td>308.1</td>\n",
       "      <td>2013-03-09 18:52:14</td>\n",
       "      <td>...</td>\n",
       "      <td>33.247</td>\n",
       "      <td>1022.189</td>\n",
       "      <td>81.0</td>\n",
       "      <td>0.329867</td>\n",
       "      <td>0.681385</td>\n",
       "      <td>1.568929</td>\n",
       "      <td>84.0</td>\n",
       "      <td>39.0</td>\n",
       "      <td>4.959357</td>\n",
       "      <td>47.367534</td>\n",
       "    </tr>\n",
       "  </tbody>\n",
       "</table>\n",
       "<p>5 rows × 25 columns</p>\n",
       "</div>"
      ],
      "text/plain": [
       "      Type  Dt  Atotal  TG5time  TL2time  TL3time  TRIGGER  delay      H  \\\n",
       "EID                                                                        \n",
       "10675    E  10     688      242      241      242      241    360  307.8   \n",
       "10677    E  29    1336      241      240      243      240    112  307.8   \n",
       "10679    D  76    7143      242      250      252      242     13  307.6   \n",
       "10683    E  22     505      236      243      472      236    181  305.9   \n",
       "10685    E  15    6588      242      242      242      242   1160  308.1   \n",
       "\n",
       "                       UTC    ...      TotalNoise_s  TotalNoise_n  NNear3  \\\n",
       "EID                           ...                                           \n",
       "10675  2013-03-09 18:16:20    ...             3.562         9.965    31.0   \n",
       "10677  2013-03-09 18:18:12    ...            53.317       501.569    51.0   \n",
       "10679  2013-03-09 18:18:25    ...           600.431      2820.565     9.0   \n",
       "10683  2013-03-09 18:32:54    ...            30.208       663.708     2.0   \n",
       "10685  2013-03-09 18:52:14    ...            33.247      1022.189    81.0   \n",
       "\n",
       "          Theta     dt2_s     dt2_n  ng_s  ng_n     Crit1      Crit2  \n",
       "EID                                                                   \n",
       "10675  0.204204  0.766965  1.802776  34.0  32.0  2.497441   2.845292  \n",
       "10677  0.486947  1.157275  1.519109  56.0  13.0  5.654537  27.097272  \n",
       "10679  1.193805  2.939874  1.058301  14.0  25.0  0.201590   1.311606  \n",
       "10683  1.146681  1.483240  1.927248   5.0   7.0  0.928107  18.222066  \n",
       "10685  0.329867  0.681385  1.568929  84.0  39.0  4.959357  47.367534  \n",
       "\n",
       "[5 rows x 25 columns]"
      ]
     },
     "execution_count": 3,
     "metadata": {},
     "output_type": "execute_result"
    }
   ],
   "source": [
    "datum = pd.read_csv('01Events.dat', index_col=0)\n",
    "print(datum.shape)\n",
    "datum[:5]"
   ]
  },
  {
   "cell_type": "code",
   "execution_count": 4,
   "metadata": {
    "collapsed": false
   },
   "outputs": [
    {
     "name": "stdout",
     "output_type": "stream",
     "text": [
      "Index(['Type', 'Dt', 'Atotal', 'TG5time', 'TL2time', 'TL3time', 'TRIGGER',\n",
      "       'delay', 'H', 'UTC', 'EAS', 'SNRatio_s', 'SNRatio_n', 'AbsSignal_s',\n",
      "       'AbsSignal_n', 'TotalNoise_s', 'TotalNoise_n', 'NNear3', 'Theta',\n",
      "       'dt2_s', 'dt2_n', 'ng_s', 'ng_n', 'Crit1', 'Crit2'],\n",
      "      dtype='object')\n"
     ]
    }
   ],
   "source": [
    "print(datum.columns)"
   ]
  },
  {
   "cell_type": "code",
   "execution_count": 5,
   "metadata": {
    "collapsed": false
   },
   "outputs": [
    {
     "data": {
      "text/plain": [
       "17"
      ]
     },
     "execution_count": 5,
     "metadata": {},
     "output_type": "execute_result"
    }
   ],
   "source": [
    "param=['SNRatio_s','SNRatio_n','AbsSignal_s','AbsSignal_n','TotalNoise_s',       \n",
    "       'TotalNoise_n','NNear3','Theta','dt2_s','dt2_n','ng_s','ng_n', 'Crit1', 'Crit2',\n",
    "       'Dt', 'Atotal','delay'] \n",
    "len(param)"
   ]
  },
  {
   "cell_type": "markdown",
   "metadata": {},
   "source": [
    "### Кластеризация"
   ]
  },
  {
   "cell_type": "markdown",
   "metadata": {
    "collapsed": false
   },
   "source": [
    "Найдем с помощью метода локтя (см. 7 [статью](https://habrahabr.ru/company/ods/blog/325654/) курса) оптимальное число кластеров, которое стоит задать алгоритму kMeans в качестве гиперпараметра.\n",
    "\n",
    "<font color='red'>Вопрос. </font> Каким будет оптимальное число кластеров для данных событий, если оценивать его с помощью метода локтя? Используйте в kMeans `random_state=1`, данные не масштабируйте.\n",
    "\n",
    "В данном случае мы ищем наиболее выделеный излом в кривой расстояний до цетроидов в зависимости от числа кластеров. Будем рассматривать возможное число кластеров от 2 до 10. Как и в предыдущей задаче, нужно будет использовать `random_state=1` для инициализации алгоритма k-means."
   ]
  },
  {
   "cell_type": "code",
   "execution_count": 6,
   "metadata": {
    "collapsed": true
   },
   "outputs": [],
   "source": [
    "from sklearn.preprocessing import StandardScaler\n",
    "from sklearn.cluster import KMeans, AgglomerativeClustering"
   ]
  },
  {
   "cell_type": "code",
   "execution_count": 7,
   "metadata": {
    "collapsed": true
   },
   "outputs": [],
   "source": [
    "features = len(param)\n",
    "exdata=datum[param]"
   ]
  },
  {
   "cell_type": "markdown",
   "metadata": {},
   "source": [
    "##### Данные не масштабируемые"
   ]
  },
  {
   "cell_type": "code",
   "execution_count": 8,
   "metadata": {
    "collapsed": false
   },
   "outputs": [
    {
     "name": "stdout",
     "output_type": "stream",
     "text": [
      "k=2: D(k)=0.587\n",
      "k=3: D(k)=0.486\n",
      "k=4: D(k)=0.978\n",
      "k=5: D(k)=1.101\n",
      "k=6: D(k)=0.409\n",
      "k=7: D(k)=0.794\n",
      "k=8: D(k)=0.887\n",
      "k=9: D(k)=0.745\n",
      "k=10: D(k)=0.871\n",
      "k=11: D(k)=0.807\n",
      "k=12: D(k)=0.821\n",
      "k=13: D(k)=0.959\n",
      "k=14: D(k)=0.858\n",
      "k=15: D(k)=0.847\n",
      "k=16: D(k)=0.867\n",
      "k=17: D(k)=1.071\n",
      "k=18: D(k)=0.831\n"
     ]
    }
   ],
   "source": [
    "func = []\n",
    "for k in range(1, 20):\n",
    "    kmeans = KMeans(n_clusters=k, random_state=1).fit(exdata)\n",
    "    func.append(np.sqrt(kmeans.inertia_))\n",
    "\n",
    "scores=[]\n",
    "for i in range(1,18):\n",
    "    scores.append((func[i]-func[i+1]) / (func[i-1]-func[i]))\n",
    "    print(\"k={}: D(k)={}\".format(i + 1 , round(scores[i-1], 3)))"
   ]
  },
  {
   "cell_type": "code",
   "execution_count": 9,
   "metadata": {
    "collapsed": false
   },
   "outputs": [
    {
     "data": {
      "image/png": "[encoded data removed]",
      "text/plain": [
       "<matplotlib.figure.Figure at 0x7fe42b28ee10>"
      ]
     },
     "metadata": {},
     "output_type": "display_data"
    }
   ],
   "source": [
    "plt.plot(range(1, 20), func);"
   ]
  },
  {
   "cell_type": "code",
   "execution_count": 11,
   "metadata": {
    "collapsed": false
   },
   "outputs": [
    {
     "data": {
      "image/png": "[encoded data removed]",
      "text/plain": [
       "<matplotlib.figure.Figure at 0x7fe424fcc4e0>"
      ]
     },
     "metadata": {},
     "output_type": "display_data"
    }
   ],
   "source": [
    "plt.plot(range(1, 18), scores);"
   ]
  },
  {
   "cell_type": "markdown",
   "metadata": {},
   "source": [
    "<font color='red'>Ответ. </font> 6 кластеров."
   ]
  },
  {
   "cell_type": "markdown",
   "metadata": {},
   "source": [
    "##### Данные масштабируемые\n",
    "\n",
    "Если данные масштабировать, то такого явного локтя не выявляется."
   ]
  },
  {
   "cell_type": "code",
   "execution_count": 12,
   "metadata": {
    "collapsed": false
   },
   "outputs": [
    {
     "name": "stdout",
     "output_type": "stream",
     "text": [
      "k=2: D(k)=0.649\n",
      "k=3: D(k)=0.996\n",
      "k=4: D(k)=0.907\n",
      "k=5: D(k)=0.788\n",
      "k=6: D(k)=1.035\n",
      "k=7: D(k)=0.836\n",
      "k=8: D(k)=0.655\n",
      "k=9: D(k)=1.008\n",
      "k=10: D(k)=0.912\n",
      "k=11: D(k)=0.708\n",
      "k=12: D(k)=1.385\n",
      "k=13: D(k)=0.852\n",
      "k=14: D(k)=0.735\n",
      "k=15: D(k)=0.804\n",
      "k=16: D(k)=1.059\n",
      "k=17: D(k)=0.577\n",
      "k=18: D(k)=1.881\n"
     ]
    }
   ],
   "source": [
    "events_scaled = StandardScaler().fit_transform(exdata)\n",
    "\n",
    "func = []\n",
    "for k in range(1, 20):\n",
    "    kmeans = KMeans(n_clusters=k, random_state=1).fit(events_scaled)\n",
    "    func.append(np.sqrt(kmeans.inertia_))\n",
    "\n",
    "scores=[]\n",
    "for i in range(1,18):\n",
    "    scores.append((func[i]-func[i+1]) / (func[i-1]-func[i]))\n",
    "    print(\"k={}: D(k)={}\".format(i + 1 , round(scores[i-1], 3)))"
   ]
  },
  {
   "cell_type": "code",
   "execution_count": 13,
   "metadata": {
    "collapsed": false
   },
   "outputs": [
    {
     "data": {
      "image/png": "[encoded data removed]",
      "text/plain": [
       "<matplotlib.figure.Figure at 0x7fe424f7be80>"
      ]
     },
     "metadata": {},
     "output_type": "display_data"
    }
   ],
   "source": [
    "plt.plot(range(1, 20), func);"
   ]
  },
  {
   "cell_type": "markdown",
   "metadata": {},
   "source": [
    "Сравним результаты кластеризации фотографий с помощью 4 алгоритмов – KMeans, агломеративной кластеризации, AffinityPropagation и спектральной кластеризации. Параметры алгоритмов возьмите как в примере в конце [статьи](https://habrahabr.ru/company/ods/blog/325654/), только измените число кластеров на 12."
   ]
  },
  {
   "cell_type": "code",
   "execution_count": 25,
   "metadata": {
    "collapsed": true
   },
   "outputs": [],
   "source": [
    "from sklearn.cluster import KMeans, AgglomerativeClustering, AffinityPropagation, SpectralClustering\n",
    "from sklearn import metrics"
   ]
  },
  {
   "cell_type": "code",
   "execution_count": 26,
   "metadata": {
    "collapsed": false
   },
   "outputs": [],
   "source": [
    "clust = 2\n",
    "target = datum.EAS\n",
    "\n",
    "algorithms = [KMeans(n_clusters=clust, random_state=1),\n",
    "              AffinityPropagation(),\n",
    "              SpectralClustering(n_clusters=clust, random_state=1,\n",
    "                                     affinity='nearest_neighbors'),\n",
    "              AgglomerativeClustering(n_clusters=clust)]\n",
    "\n",
    "res = []\n",
    "for algo in algorithms:\n",
    "    algo.fit(events_scaled)\n",
    "    res.append(({\n",
    "        'ARI':          metrics.adjusted_rand_score(target, algo.labels_),\n",
    "        'AMI':          metrics.adjusted_mutual_info_score(target, algo.labels_),\n",
    "        'Homogenity':   metrics.homogeneity_score(target, algo.labels_),\n",
    "        'Completeness': metrics.completeness_score(target, algo.labels_),\n",
    "        'V-measure':    metrics.v_measure_score(target, algo.labels_),\n",
    "        'Silhouette':   metrics.silhouette_score(events_scaled, algo.labels_)}))"
   ]
  },
  {
   "cell_type": "code",
   "execution_count": 27,
   "metadata": {
    "collapsed": true
   },
   "outputs": [],
   "source": [
    "results = pd.DataFrame(data=res, \n",
    "                       columns =['ARI', 'AMI', 'Homogenity', \n",
    "                                 'Completeness', 'V-measure', 'Silhouette'],\n",
    "                       index   =['KMeans', 'Affinity', 'Spectral', 'Agglomerative'])"
   ]
  },
  {
   "cell_type": "code",
   "execution_count": 28,
   "metadata": {
    "collapsed": false
   },
   "outputs": [
    {
     "data": {
      "text/html": [
       "<div>\n",
       "<table border=\"1\" class=\"dataframe\">\n",
       "  <thead>\n",
       "    <tr style=\"text-align: right;\">\n",
       "      <th></th>\n",
       "      <th>ARI</th>\n",
       "      <th>AMI</th>\n",
       "      <th>Homogenity</th>\n",
       "      <th>Completeness</th>\n",
       "      <th>V-measure</th>\n",
       "      <th>Silhouette</th>\n",
       "    </tr>\n",
       "  </thead>\n",
       "  <tbody>\n",
       "    <tr>\n",
       "      <th>KMeans</th>\n",
       "      <td>0.257685</td>\n",
       "      <td>0.106797</td>\n",
       "      <td>0.108342</td>\n",
       "      <td>0.121919</td>\n",
       "      <td>0.114730</td>\n",
       "      <td>0.408622</td>\n",
       "    </tr>\n",
       "    <tr>\n",
       "      <th>Affinity</th>\n",
       "      <td>0.033895</td>\n",
       "      <td>0.105422</td>\n",
       "      <td>0.824268</td>\n",
       "      <td>0.119483</td>\n",
       "      <td>0.208711</td>\n",
       "      <td>0.175423</td>\n",
       "    </tr>\n",
       "    <tr>\n",
       "      <th>Spectral</th>\n",
       "      <td>0.490343</td>\n",
       "      <td>0.289213</td>\n",
       "      <td>0.290445</td>\n",
       "      <td>0.365449</td>\n",
       "      <td>0.323658</td>\n",
       "      <td>0.309313</td>\n",
       "    </tr>\n",
       "    <tr>\n",
       "      <th>Agglomerative</th>\n",
       "      <td>0.341495</td>\n",
       "      <td>0.167058</td>\n",
       "      <td>0.168507</td>\n",
       "      <td>0.258561</td>\n",
       "      <td>0.204039</td>\n",
       "      <td>0.447663</td>\n",
       "    </tr>\n",
       "  </tbody>\n",
       "</table>\n",
       "</div>"
      ],
      "text/plain": [
       "                    ARI       AMI  Homogenity  Completeness  V-measure  \\\n",
       "KMeans         0.257685  0.106797    0.108342      0.121919   0.114730   \n",
       "Affinity       0.033895  0.105422    0.824268      0.119483   0.208711   \n",
       "Spectral       0.490343  0.289213    0.290445      0.365449   0.323658   \n",
       "Agglomerative  0.341495  0.167058    0.168507      0.258561   0.204039   \n",
       "\n",
       "               Silhouette  \n",
       "KMeans           0.408622  \n",
       "Affinity         0.175423  \n",
       "Spectral         0.309313  \n",
       "Agglomerative    0.447663  "
      ]
     },
     "execution_count": 28,
     "metadata": {},
     "output_type": "execute_result"
    }
   ],
   "source": [
    "results"
   ]
  },
  {
   "cell_type": "markdown",
   "metadata": {},
   "source": [
    "## AffinityPropagation"
   ]
  },
  {
   "cell_type": "code",
   "execution_count": 55,
   "metadata": {
    "collapsed": false
   },
   "outputs": [
    {
     "name": "stdout",
     "output_type": "stream",
     "text": [
      "Estimated number of clusters: 17\n",
      "Homogeneity:  0.704\n",
      "Completeness: 0.160\n",
      "V-measure:    0.261\n",
      "Adjusted Rand Index:         0.123\n",
      "Adjusted Mutual Information: 0.155\n",
      "Silhouette Coefficient:      0.313\n"
     ]
    }
   ],
   "source": [
    "af = AffinityPropagation(preference=-100).fit(events_scaled)\n",
    "cluster_centers_indices = af.cluster_centers_indices_\n",
    "labels = af.labels_\n",
    "\n",
    "n_clusters_ = len(cluster_centers_indices)\n",
    "\n",
    "print('Estimated number of clusters: %d' % n_clusters_)\n",
    "print(\"Homogeneity:  %0.3f\" %  metrics.homogeneity_score(target, labels))\n",
    "print(\"Completeness: %0.3f\" %  metrics.completeness_score(target, labels))\n",
    "print(\"V-measure:    %0.3f\" %  metrics.v_measure_score(target, labels))\n",
    "print(\"Adjusted Rand Index:         %0.3f\"\n",
    "      % metrics.adjusted_rand_score(target, labels))\n",
    "print(\"Adjusted Mutual Information: %0.3f\"\n",
    "      % metrics.adjusted_mutual_info_score(target, labels))\n",
    "print(\"Silhouette Coefficient:      %0.3f\"\n",
    "      % metrics.silhouette_score(events_scaled, labels, metric='sqeuclidean'))"
   ]
  },
  {
   "cell_type": "code",
   "execution_count": 56,
   "metadata": {
    "collapsed": false
   },
   "outputs": [
    {
     "data": {
      "text/plain": [
       "<matplotlib.figure.Figure at 0x7f05a950b160>"
      ]
     },
     "metadata": {},
     "output_type": "display_data"
    },
    {
     "data": {
      "image/png": "[encoded data removed]",
      "text/plain": [
       "<matplotlib.figure.Figure at 0x7f05a950b1d0>"
      ]
     },
     "metadata": {},
     "output_type": "display_data"
    }
   ],
   "source": [
    "import matplotlib.pyplot as plt\n",
    "from   itertools  import cycle\n",
    "\n",
    "plt.close('all')\n",
    "plt.figure(1)\n",
    "plt.figure(figsize=(12,10))\n",
    "plt.clf()\n",
    "\n",
    "colors = cycle('bgrcmykbgrcmykbgrcmykbgrcmykbgrcmykbgrcmykbgrcmykbgrcmykbgrcmykbgrcmykbgrcmykbgrcmyk')\n",
    "for k, col in zip(range(n_clusters_), colors):\n",
    "    class_members = labels == k\n",
    "    cluster_center = events_scaled[cluster_centers_indices[k]]\n",
    "    plt.plot(events_scaled[class_members, 0], events_scaled[class_members, 1], col + '.')\n",
    "    plt.plot(cluster_center[0], cluster_center[1], 'o', markerfacecolor=col,\n",
    "             markeredgecolor='k', markersize=14)\n",
    "    for x in events_scaled[class_members]:\n",
    "        plt.plot([cluster_center[0], x[0]], [cluster_center[1], x[1]], col)\n",
    "\n",
    "plt.title('Estimated number of clusters: %d' % n_clusters_)\n",
    "plt.show()"
   ]
  },
  {
   "cell_type": "code",
   "execution_count": 32,
   "metadata": {
    "collapsed": false
   },
   "outputs": [
    {
     "data": {
      "text/plain": [
       "-0.270016272134252"
      ]
     },
     "execution_count": 32,
     "metadata": {},
     "output_type": "execute_result"
    }
   ],
   "source": [
    "cluster_center[0]"
   ]
  },
  {
   "cell_type": "code",
   "execution_count": 35,
   "metadata": {
    "collapsed": false
   },
   "outputs": [
    {
     "name": "stdout",
     "output_type": "stream",
     "text": [
      "[ -0.27001627  -0.19532933  14.45390706   2.5984208    1.01234784\n",
      "   5.12361306   4.48219235   3.58097689   1.05524623   1.03637127\n",
      "   4.37794464   0.20899875   0.28716426  -0.06822339   4.62293929\n",
      "  14.7287757   -0.74369314] [-0.270016272134252, -0.270016272134252] [-0.19532933292642007, -0.19532933292642007] y\n",
      "[ -0.27001627  -0.19532933  14.45390706   2.5984208    1.01234784\n",
      "   5.12361306   4.48219235   3.58097689   1.05524623   1.03637127\n",
      "   4.37794464   0.20899875   0.28716426  -0.06822339   4.62293929\n",
      "  14.7287757   -0.74369314] [-0.270016272134252, -0.270016272134252] [-0.19532933292642007, -0.19532933292642007] k\n",
      "[ -0.27001627  -0.19532933  14.45390706   2.5984208    1.01234784\n",
      "   5.12361306   4.48219235   3.58097689   1.05524623   1.03637127\n",
      "   4.37794464   0.20899875   0.28716426  -0.06822339   4.62293929\n",
      "  14.7287757   -0.74369314] [-0.270016272134252, -0.270016272134252] [-0.19532933292642007, -0.19532933292642007] b\n",
      "[ -0.27001627  -0.19532933  14.45390706   2.5984208    1.01234784\n",
      "   5.12361306   4.48219235   3.58097689   1.05524623   1.03637127\n",
      "   4.37794464   0.20899875   0.28716426  -0.06822339   4.62293929\n",
      "  14.7287757   -0.74369314] [-0.270016272134252, -0.270016272134252] [-0.19532933292642007, -0.19532933292642007] g\n",
      "[ -0.27001627  -0.19532933  14.45390706   2.5984208    1.01234784\n",
      "   5.12361306   4.48219235   3.58097689   1.05524623   1.03637127\n",
      "   4.37794464   0.20899875   0.28716426  -0.06822339   4.62293929\n",
      "  14.7287757   -0.74369314] [-0.270016272134252, -0.270016272134252] [-0.19532933292642007, -0.19532933292642007] r\n",
      "[ -0.27001627  -0.19532933  14.45390706   2.5984208    1.01234784\n",
      "   5.12361306   4.48219235   3.58097689   1.05524623   1.03637127\n",
      "   4.37794464   0.20899875   0.28716426  -0.06822339   4.62293929\n",
      "  14.7287757   -0.74369314] [-0.270016272134252, -0.270016272134252] [-0.19532933292642007, -0.19532933292642007] c\n",
      "[ -0.27001627  -0.19532933  14.45390706   2.5984208    1.01234784\n",
      "   5.12361306   4.48219235   3.58097689   1.05524623   1.03637127\n",
      "   4.37794464   0.20899875   0.28716426  -0.06822339   4.62293929\n",
      "  14.7287757   -0.74369314] [-0.270016272134252, -0.270016272134252] [-0.19532933292642007, -0.19532933292642007] m\n",
      "[ -0.27001627  -0.19532933  14.45390706   2.5984208    1.01234784\n",
      "   5.12361306   4.48219235   3.58097689   1.05524623   1.03637127\n",
      "   4.37794464   0.20899875   0.28716426  -0.06822339   4.62293929\n",
      "  14.7287757   -0.74369314] [-0.270016272134252, -0.270016272134252] [-0.19532933292642007, -0.19532933292642007] y\n",
      "[ -0.27001627  -0.19532933  14.45390706   2.5984208    1.01234784\n",
      "   5.12361306   4.48219235   3.58097689   1.05524623   1.03637127\n",
      "   4.37794464   0.20899875   0.28716426  -0.06822339   4.62293929\n",
      "  14.7287757   -0.74369314] [-0.270016272134252, -0.270016272134252] [-0.19532933292642007, -0.19532933292642007] k\n",
      "[ -0.27001627  -0.19532933  14.45390706   2.5984208    1.01234784\n",
      "   5.12361306   4.48219235   3.58097689   1.05524623   1.03637127\n",
      "   4.37794464   0.20899875   0.28716426  -0.06822339   4.62293929\n",
      "  14.7287757   -0.74369314] [-0.270016272134252, -0.270016272134252] [-0.19532933292642007, -0.19532933292642007] b\n",
      "[ -0.27001627  -0.19532933  14.45390706   2.5984208    1.01234784\n",
      "   5.12361306   4.48219235   3.58097689   1.05524623   1.03637127\n",
      "   4.37794464   0.20899875   0.28716426  -0.06822339   4.62293929\n",
      "  14.7287757   -0.74369314] [-0.270016272134252, -0.270016272134252] [-0.19532933292642007, -0.19532933292642007] g\n",
      "[ -0.27001627  -0.19532933  14.45390706   2.5984208    1.01234784\n",
      "   5.12361306   4.48219235   3.58097689   1.05524623   1.03637127\n",
      "   4.37794464   0.20899875   0.28716426  -0.06822339   4.62293929\n",
      "  14.7287757   -0.74369314] [-0.270016272134252, -0.270016272134252] [-0.19532933292642007, -0.19532933292642007] r\n",
      "[ -0.27001627  -0.19532933  14.45390706   2.5984208    1.01234784\n",
      "   5.12361306   4.48219235   3.58097689   1.05524623   1.03637127\n",
      "   4.37794464   0.20899875   0.28716426  -0.06822339   4.62293929\n",
      "  14.7287757   -0.74369314] [-0.270016272134252, -0.270016272134252] [-0.19532933292642007, -0.19532933292642007] c\n",
      "[ -0.27001627  -0.19532933  14.45390706   2.5984208    1.01234784\n",
      "   5.12361306   4.48219235   3.58097689   1.05524623   1.03637127\n",
      "   4.37794464   0.20899875   0.28716426  -0.06822339   4.62293929\n",
      "  14.7287757   -0.74369314] [-0.270016272134252, -0.270016272134252] [-0.19532933292642007, -0.19532933292642007] m\n",
      "[ -0.27001627  -0.19532933  14.45390706   2.5984208    1.01234784\n",
      "   5.12361306   4.48219235   3.58097689   1.05524623   1.03637127\n",
      "   4.37794464   0.20899875   0.28716426  -0.06822339   4.62293929\n",
      "  14.7287757   -0.74369314] [-0.270016272134252, -0.270016272134252] [-0.19532933292642007, -0.19532933292642007] y\n",
      "[ -0.27001627  -0.19532933  14.45390706   2.5984208    1.01234784\n",
      "   5.12361306   4.48219235   3.58097689   1.05524623   1.03637127\n",
      "   4.37794464   0.20899875   0.28716426  -0.06822339   4.62293929\n",
      "  14.7287757   -0.74369314] [-0.270016272134252, -0.270016272134252] [-0.19532933292642007, -0.19532933292642007] k\n",
      "[ -0.27001627  -0.19532933  14.45390706   2.5984208    1.01234784\n",
      "   5.12361306   4.48219235   3.58097689   1.05524623   1.03637127\n",
      "   4.37794464   0.20899875   0.28716426  -0.06822339   4.62293929\n",
      "  14.7287757   -0.74369314] [-0.270016272134252, -0.270016272134252] [-0.19532933292642007, -0.19532933292642007] b\n",
      "[ -0.27001627  -0.19532933  14.45390706   2.5984208    1.01234784\n",
      "   5.12361306   4.48219235   3.58097689   1.05524623   1.03637127\n",
      "   4.37794464   0.20899875   0.28716426  -0.06822339   4.62293929\n",
      "  14.7287757   -0.74369314] [-0.270016272134252, -0.270016272134252] [-0.19532933292642007, -0.19532933292642007] g\n",
      "[ -0.27001627  -0.19532933  14.45390706   2.5984208    1.01234784\n",
      "   5.12361306   4.48219235   3.58097689   1.05524623   1.03637127\n",
      "   4.37794464   0.20899875   0.28716426  -0.06822339   4.62293929\n",
      "  14.7287757   -0.74369314] [-0.270016272134252, -0.270016272134252] [-0.19532933292642007, -0.19532933292642007] r\n",
      "[ -0.27001627  -0.19532933  14.45390706   2.5984208    1.01234784\n",
      "   5.12361306   4.48219235   3.58097689   1.05524623   1.03637127\n",
      "   4.37794464   0.20899875   0.28716426  -0.06822339   4.62293929\n",
      "  14.7287757   -0.74369314] [-0.270016272134252, -0.270016272134252] [-0.19532933292642007, -0.19532933292642007] c\n",
      "[ -0.27001627  -0.19532933  14.45390706   2.5984208    1.01234784\n",
      "   5.12361306   4.48219235   3.58097689   1.05524623   1.03637127\n",
      "   4.37794464   0.20899875   0.28716426  -0.06822339   4.62293929\n",
      "  14.7287757   -0.74369314] [-0.270016272134252, -0.270016272134252] [-0.19532933292642007, -0.19532933292642007] m\n",
      "[ -0.27001627  -0.19532933  14.45390706   2.5984208    1.01234784\n",
      "   5.12361306   4.48219235   3.58097689   1.05524623   1.03637127\n",
      "   4.37794464   0.20899875   0.28716426  -0.06822339   4.62293929\n",
      "  14.7287757   -0.74369314] [-0.270016272134252, -0.270016272134252] [-0.19532933292642007, -0.19532933292642007] y\n",
      "[ -0.27001627  -0.19532933  14.45390706   2.5984208    1.01234784\n",
      "   5.12361306   4.48219235   3.58097689   1.05524623   1.03637127\n",
      "   4.37794464   0.20899875   0.28716426  -0.06822339   4.62293929\n",
      "  14.7287757   -0.74369314] [-0.270016272134252, -0.270016272134252] [-0.19532933292642007, -0.19532933292642007] k\n",
      "[ -0.27001627  -0.19532933  14.45390706   2.5984208    1.01234784\n",
      "   5.12361306   4.48219235   3.58097689   1.05524623   1.03637127\n",
      "   4.37794464   0.20899875   0.28716426  -0.06822339   4.62293929\n",
      "  14.7287757   -0.74369314] [-0.270016272134252, -0.270016272134252] [-0.19532933292642007, -0.19532933292642007] b\n",
      "[ -0.27001627  -0.19532933  14.45390706   2.5984208    1.01234784\n",
      "   5.12361306   4.48219235   3.58097689   1.05524623   1.03637127\n",
      "   4.37794464   0.20899875   0.28716426  -0.06822339   4.62293929\n",
      "  14.7287757   -0.74369314] [-0.270016272134252, -0.270016272134252] [-0.19532933292642007, -0.19532933292642007] g\n",
      "[ -0.27001627  -0.19532933  14.45390706   2.5984208    1.01234784\n",
      "   5.12361306   4.48219235   3.58097689   1.05524623   1.03637127\n",
      "   4.37794464   0.20899875   0.28716426  -0.06822339   4.62293929\n",
      "  14.7287757   -0.74369314] [-0.270016272134252, -0.270016272134252] [-0.19532933292642007, -0.19532933292642007] r\n",
      "[ -0.27001627  -0.19532933  14.45390706   2.5984208    1.01234784\n",
      "   5.12361306   4.48219235   3.58097689   1.05524623   1.03637127\n",
      "   4.37794464   0.20899875   0.28716426  -0.06822339   4.62293929\n",
      "  14.7287757   -0.74369314] [-0.270016272134252, -0.270016272134252] [-0.19532933292642007, -0.19532933292642007] c\n"
     ]
    }
   ],
   "source": [
    "for k, col in zip(range(n_clusters_), colors):\n",
    "    for x in events_scaled[class_members]:\n",
    "        print(x,[cluster_center[0], x[0]], [cluster_center[1], x[1]], col)"
   ]
  }
 ],
 "metadata": {
  "anaconda-cloud": {},
  "kernelspec": {
   "display_name": "Python [default]",
   "language": "python",
   "name": "python3"
  },
  "language_info": {
   "codemirror_mode": {
    "name": "ipython",
    "version": 3
   },
   "file_extension": ".py",
   "mimetype": "text/x-python",
   "name": "python",
   "nbconvert_exporter": "python",
   "pygments_lexer": "ipython3",
   "version": "3.5.2"
  }
 },
 "nbformat": 4,
 "nbformat_minor": 2
}
