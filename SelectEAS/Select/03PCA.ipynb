{
 "cells": [
  {
   "cell_type": "code",
   "execution_count": 1,
   "metadata": {
    "collapsed": false
   },
   "outputs": [
    {
     "name": "stdout",
     "output_type": "stream",
     "text": [
      "Втр Май 23 17:35:37 MSK 2017\n",
      "/home/sphere/github/Sphere/separate\n"
     ]
    }
   ],
   "source": [
    "!date\n",
    "!pwd"
   ]
  },
  {
   "cell_type": "code",
   "execution_count": 2,
   "metadata": {
    "collapsed": true
   },
   "outputs": [],
   "source": [
    "%matplotlib inline\n",
    "import pandas as pd\n",
    "import matplotlib.pyplot as plt\n",
    "import matplotlib as mp\n",
    "import math as mt\n",
    "import numpy as np"
   ]
  },
  {
   "cell_type": "code",
   "execution_count": 3,
   "metadata": {
    "collapsed": false
   },
   "outputs": [
    {
     "name": "stdout",
     "output_type": "stream",
     "text": [
      "(575, 25)\n"
     ]
    },
    {
     "data": {
      "text/html": [
       "<div>\n",
       "<table border=\"1\" class=\"dataframe\">\n",
       "  <thead>\n",
       "    <tr style=\"text-align: right;\">\n",
       "      <th></th>\n",
       "      <th>Type</th>\n",
       "      <th>Dt</th>\n",
       "      <th>Atotal</th>\n",
       "      <th>TG5time</th>\n",
       "      <th>TL2time</th>\n",
       "      <th>TL3time</th>\n",
       "      <th>TRIGGER</th>\n",
       "      <th>delay</th>\n",
       "      <th>H</th>\n",
       "      <th>UTC</th>\n",
       "      <th>...</th>\n",
       "      <th>TotalNoise_s</th>\n",
       "      <th>TotalNoise_n</th>\n",
       "      <th>NNear3</th>\n",
       "      <th>Theta</th>\n",
       "      <th>dt2_s</th>\n",
       "      <th>dt2_n</th>\n",
       "      <th>ng_s</th>\n",
       "      <th>ng_n</th>\n",
       "      <th>Crit1</th>\n",
       "      <th>Crit2</th>\n",
       "    </tr>\n",
       "    <tr>\n",
       "      <th>EID</th>\n",
       "      <th></th>\n",
       "      <th></th>\n",
       "      <th></th>\n",
       "      <th></th>\n",
       "      <th></th>\n",
       "      <th></th>\n",
       "      <th></th>\n",
       "      <th></th>\n",
       "      <th></th>\n",
       "      <th></th>\n",
       "      <th></th>\n",
       "      <th></th>\n",
       "      <th></th>\n",
       "      <th></th>\n",
       "      <th></th>\n",
       "      <th></th>\n",
       "      <th></th>\n",
       "      <th></th>\n",
       "      <th></th>\n",
       "      <th></th>\n",
       "      <th></th>\n",
       "    </tr>\n",
       "  </thead>\n",
       "  <tbody>\n",
       "    <tr>\n",
       "      <th>10675</th>\n",
       "      <td>E</td>\n",
       "      <td>10</td>\n",
       "      <td>688</td>\n",
       "      <td>242</td>\n",
       "      <td>241</td>\n",
       "      <td>242</td>\n",
       "      <td>241</td>\n",
       "      <td>360</td>\n",
       "      <td>307.8</td>\n",
       "      <td>2013-03-09 18:16:20</td>\n",
       "      <td>...</td>\n",
       "      <td>3.562</td>\n",
       "      <td>9.965</td>\n",
       "      <td>31.0</td>\n",
       "      <td>0.204204</td>\n",
       "      <td>0.766965</td>\n",
       "      <td>1.802776</td>\n",
       "      <td>34.0</td>\n",
       "      <td>32.0</td>\n",
       "      <td>2.497441</td>\n",
       "      <td>2.845292</td>\n",
       "    </tr>\n",
       "    <tr>\n",
       "      <th>10677</th>\n",
       "      <td>E</td>\n",
       "      <td>29</td>\n",
       "      <td>1336</td>\n",
       "      <td>241</td>\n",
       "      <td>240</td>\n",
       "      <td>243</td>\n",
       "      <td>240</td>\n",
       "      <td>112</td>\n",
       "      <td>307.8</td>\n",
       "      <td>2013-03-09 18:18:12</td>\n",
       "      <td>...</td>\n",
       "      <td>53.317</td>\n",
       "      <td>501.569</td>\n",
       "      <td>51.0</td>\n",
       "      <td>0.486947</td>\n",
       "      <td>1.157275</td>\n",
       "      <td>1.519109</td>\n",
       "      <td>56.0</td>\n",
       "      <td>13.0</td>\n",
       "      <td>5.654537</td>\n",
       "      <td>27.097272</td>\n",
       "    </tr>\n",
       "    <tr>\n",
       "      <th>10679</th>\n",
       "      <td>D</td>\n",
       "      <td>76</td>\n",
       "      <td>7143</td>\n",
       "      <td>242</td>\n",
       "      <td>250</td>\n",
       "      <td>252</td>\n",
       "      <td>242</td>\n",
       "      <td>13</td>\n",
       "      <td>307.6</td>\n",
       "      <td>2013-03-09 18:18:25</td>\n",
       "      <td>...</td>\n",
       "      <td>600.431</td>\n",
       "      <td>2820.565</td>\n",
       "      <td>9.0</td>\n",
       "      <td>1.193805</td>\n",
       "      <td>2.939874</td>\n",
       "      <td>1.058301</td>\n",
       "      <td>14.0</td>\n",
       "      <td>25.0</td>\n",
       "      <td>0.201590</td>\n",
       "      <td>1.311606</td>\n",
       "    </tr>\n",
       "    <tr>\n",
       "      <th>10683</th>\n",
       "      <td>E</td>\n",
       "      <td>22</td>\n",
       "      <td>505</td>\n",
       "      <td>236</td>\n",
       "      <td>243</td>\n",
       "      <td>472</td>\n",
       "      <td>236</td>\n",
       "      <td>181</td>\n",
       "      <td>305.9</td>\n",
       "      <td>2013-03-09 18:32:54</td>\n",
       "      <td>...</td>\n",
       "      <td>30.208</td>\n",
       "      <td>663.708</td>\n",
       "      <td>2.0</td>\n",
       "      <td>1.146681</td>\n",
       "      <td>1.483240</td>\n",
       "      <td>1.927248</td>\n",
       "      <td>5.0</td>\n",
       "      <td>7.0</td>\n",
       "      <td>0.928107</td>\n",
       "      <td>18.222066</td>\n",
       "    </tr>\n",
       "    <tr>\n",
       "      <th>10685</th>\n",
       "      <td>E</td>\n",
       "      <td>15</td>\n",
       "      <td>6588</td>\n",
       "      <td>242</td>\n",
       "      <td>242</td>\n",
       "      <td>242</td>\n",
       "      <td>242</td>\n",
       "      <td>1160</td>\n",
       "      <td>308.1</td>\n",
       "      <td>2013-03-09 18:52:14</td>\n",
       "      <td>...</td>\n",
       "      <td>33.247</td>\n",
       "      <td>1022.189</td>\n",
       "      <td>81.0</td>\n",
       "      <td>0.329867</td>\n",
       "      <td>0.681385</td>\n",
       "      <td>1.568929</td>\n",
       "      <td>84.0</td>\n",
       "      <td>39.0</td>\n",
       "      <td>4.959357</td>\n",
       "      <td>47.367534</td>\n",
       "    </tr>\n",
       "  </tbody>\n",
       "</table>\n",
       "<p>5 rows × 25 columns</p>\n",
       "</div>"
      ],
      "text/plain": [
       "      Type  Dt  Atotal  TG5time  TL2time  TL3time  TRIGGER  delay      H  \\\n",
       "EID                                                                        \n",
       "10675    E  10     688      242      241      242      241    360  307.8   \n",
       "10677    E  29    1336      241      240      243      240    112  307.8   \n",
       "10679    D  76    7143      242      250      252      242     13  307.6   \n",
       "10683    E  22     505      236      243      472      236    181  305.9   \n",
       "10685    E  15    6588      242      242      242      242   1160  308.1   \n",
       "\n",
       "                       UTC    ...      TotalNoise_s  TotalNoise_n  NNear3  \\\n",
       "EID                           ...                                           \n",
       "10675  2013-03-09 18:16:20    ...             3.562         9.965    31.0   \n",
       "10677  2013-03-09 18:18:12    ...            53.317       501.569    51.0   \n",
       "10679  2013-03-09 18:18:25    ...           600.431      2820.565     9.0   \n",
       "10683  2013-03-09 18:32:54    ...            30.208       663.708     2.0   \n",
       "10685  2013-03-09 18:52:14    ...            33.247      1022.189    81.0   \n",
       "\n",
       "          Theta     dt2_s     dt2_n  ng_s  ng_n     Crit1      Crit2  \n",
       "EID                                                                   \n",
       "10675  0.204204  0.766965  1.802776  34.0  32.0  2.497441   2.845292  \n",
       "10677  0.486947  1.157275  1.519109  56.0  13.0  5.654537  27.097272  \n",
       "10679  1.193805  2.939874  1.058301  14.0  25.0  0.201590   1.311606  \n",
       "10683  1.146681  1.483240  1.927248   5.0   7.0  0.928107  18.222066  \n",
       "10685  0.329867  0.681385  1.568929  84.0  39.0  4.959357  47.367534  \n",
       "\n",
       "[5 rows x 25 columns]"
      ]
     },
     "execution_count": 3,
     "metadata": {},
     "output_type": "execute_result"
    }
   ],
   "source": [
    "datum = pd.read_csv('01Events.dat', index_col=0)\n",
    "print(datum.shape)\n",
    "datum[:5]"
   ]
  },
  {
   "cell_type": "code",
   "execution_count": 4,
   "metadata": {
    "collapsed": false
   },
   "outputs": [
    {
     "name": "stdout",
     "output_type": "stream",
     "text": [
      "Index(['Type', 'Dt', 'Atotal', 'TG5time', 'TL2time', 'TL3time', 'TRIGGER',\n",
      "       'delay', 'H', 'UTC', 'EAS', 'SNRatio_s', 'SNRatio_n', 'AbsSignal_s',\n",
      "       'AbsSignal_n', 'TotalNoise_s', 'TotalNoise_n', 'NNear3', 'Theta',\n",
      "       'dt2_s', 'dt2_n', 'ng_s', 'ng_n', 'Crit1', 'Crit2'],\n",
      "      dtype='object')\n"
     ]
    }
   ],
   "source": [
    "print(datum.columns)"
   ]
  },
  {
   "cell_type": "code",
   "execution_count": 5,
   "metadata": {
    "collapsed": false
   },
   "outputs": [
    {
     "data": {
      "text/plain": [
       "17"
      ]
     },
     "execution_count": 5,
     "metadata": {},
     "output_type": "execute_result"
    }
   ],
   "source": [
    "param=['SNRatio_s','SNRatio_n','AbsSignal_s','AbsSignal_n','TotalNoise_s',       \n",
    "       'TotalNoise_n','NNear3','Theta','dt2_s','dt2_n','ng_s','ng_n', 'Crit1', 'Crit2',\n",
    "       'Dt', 'Atotal','delay'] \n",
    "len(param)"
   ]
  },
  {
   "cell_type": "markdown",
   "metadata": {
    "collapsed": false
   },
   "source": [
    "<font color='red'>Вопрос. </font>Какое **минимальное** число компонент PCA необходимо, чтобы объяснить 90% дисперсии масштабированных (при помощи StandardScaler) данных?"
   ]
  },
  {
   "cell_type": "code",
   "execution_count": 7,
   "metadata": {
    "collapsed": true
   },
   "outputs": [],
   "source": [
    "from sklearn.preprocessing import StandardScaler\n",
    "from sklearn.decomposition import PCA"
   ]
  },
  {
   "cell_type": "code",
   "execution_count": 8,
   "metadata": {
    "collapsed": true
   },
   "outputs": [],
   "source": [
    "exdata=datum[param]"
   ]
  },
  {
   "cell_type": "code",
   "execution_count": 24,
   "metadata": {
    "collapsed": false
   },
   "outputs": [
    {
     "name": "stdout",
     "output_type": "stream",
     "text": [
      "17 principal components explain 100.00% of variance\n"
     ]
    },
    {
     "data": {
      "image/png": "[encoded data removed]",
      "text/plain": [
       "<matplotlib.figure.Figure at 0x7fcae7120e80>"
      ]
     },
     "metadata": {},
     "output_type": "display_data"
    }
   ],
   "source": [
    "features = 17\n",
    "\n",
    "events_scaled = StandardScaler().fit_transform(exdata)\n",
    "\n",
    "pca = PCA(n_components=features, svd_solver='randomized', random_state=1)\n",
    "pca.fit(events_scaled)\n",
    "\n",
    "print('%d principal components explain %.2f%% of variance' %\n",
    "      (pca.n_components_, 100 * np.cumsum(pca.explained_variance_ratio_)[-1]))\n",
    "plt.figure(figsize=(10,7))\n",
    "plt.plot(np.cumsum(pca.explained_variance_ratio_), lw=2, color='k')\n",
    "plt.xlabel('Number of components')\n",
    "plt.ylabel('Total explained variance')\n",
    "plt.xlim(0, features)\n",
    "plt.yticks(np.arange(0, 1.1, 0.1))\n",
    "plt.axhline(0.9, c='r')\n",
    "plt.axvline(8, c='b')\n",
    "plt.axvline(7, c='b')\n",
    "plt.show()"
   ]
  },
  {
   "cell_type": "code",
   "execution_count": 13,
   "metadata": {
    "collapsed": false
   },
   "outputs": [
    {
     "name": "stdout",
     "output_type": "stream",
     "text": [
      "1 principal components explain 26.08% of variance\n",
      "2 principal components explain 41.73% of variance\n",
      "3 principal components explain 56.13% of variance\n",
      "4 principal components explain 65.64% of variance\n",
      "5 principal components explain 72.64% of variance\n",
      "6 principal components explain 78.89% of variance\n",
      "7 principal components explain 84.31% of variance\n",
      "8 principal components explain 88.19% of variance\n",
      "9 principal components explain 91.39% of variance\n",
      "10 principal components explain 94.30% of variance\n",
      "11 principal components explain 96.80% of variance\n",
      "12 principal components explain 97.91% of variance\n",
      "13 principal components explain 98.61% of variance\n",
      "14 principal components explain 99.28% of variance\n",
      "15 principal components explain 99.84% of variance\n",
      "16 principal components explain 99.97% of variance\n",
      "17 principal components explain 100.00% of variance\n"
     ]
    }
   ],
   "source": [
    "for i in range(len(param)):\n",
    "    print('%d principal components explain %.2f%% of variance' %\n",
    "        (i+1, 100 * np.cumsum(pca.explained_variance_ratio_)[i]))"
   ]
  },
  {
   "cell_type": "markdown",
   "metadata": {},
   "source": [
    "<font color='red'>Ответ. </font>Необходимо **9** компонент PCA, чтобы объяснить 90% дисперсии масштабированных при помощи StandardScaler данных."
   ]
  },
  {
   "cell_type": "markdown",
   "metadata": {},
   "source": [
    "Снизим размерность всего до 2 и увидим, разделяются ли события на кластеры."
   ]
  },
  {
   "cell_type": "code",
   "execution_count": 21,
   "metadata": {
    "collapsed": false
   },
   "outputs": [
    {
     "name": "stdout",
     "output_type": "stream",
     "text": [
      "Projecting 17-dimensional data to 2D\n"
     ]
    },
    {
     "data": {
      "text/plain": [
       "<matplotlib.text.Text at 0x7fcaece06b38>"
      ]
     },
     "execution_count": 21,
     "metadata": {},
     "output_type": "execute_result"
    },
    {
     "data": {
      "image/png": "[encoded data removed]",
      "text/plain": [
       "<matplotlib.figure.Figure at 0x7fcae7146668>"
      ]
     },
     "metadata": {},
     "output_type": "display_data"
    }
   ],
   "source": [
    "pca = PCA(n_components=2, svd_solver='randomized', random_state=1)\n",
    "X_reduced = pca.fit_transform(events_scaled)\n",
    "\n",
    "print('Projecting %d-dimensional data to 2D' % exdata.shape[1])\n",
    "\n",
    "plt.figure(figsize=(12,10))\n",
    "plt.scatter(X_reduced[:, 0], X_reduced[:, 1], c=datum.EAS, \n",
    "            edgecolor='none', alpha=0.7, s=40,\n",
    "            #cmap=plt.cm.get_cmap('nipy_spectral', 2)\n",
    "            cmap='rainbow')\n",
    "plt.colorbar()\n",
    "plt.title('Events. PCA projection')"
   ]
  },
  {
   "cell_type": "markdown",
   "metadata": {},
   "source": [
    "Видим, что есть область внизу слева, где кучкуются только шумовые события."
   ]
  }
 ],
 "metadata": {
  "anaconda-cloud": {},
  "kernelspec": {
   "display_name": "Python [default]",
   "language": "python",
   "name": "python3"
  },
  "language_info": {
   "codemirror_mode": {
    "name": "ipython",
    "version": 3
   },
   "file_extension": ".py",
   "mimetype": "text/x-python",
   "name": "python",
   "nbconvert_exporter": "python",
   "pygments_lexer": "ipython3",
   "version": "3.5.2"
  }
 },
 "nbformat": 4,
 "nbformat_minor": 2
}
