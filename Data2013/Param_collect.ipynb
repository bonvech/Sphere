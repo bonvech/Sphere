{
 "cells": [
  {
   "cell_type": "markdown",
   "metadata": {},
   "source": [
    "#  Подготовка данных для построения графиков для статьи  по данным"
   ]
  },
  {
   "cell_type": "code",
   "execution_count": 1,
   "metadata": {
    "collapsed": false
   },
   "outputs": [
    {
     "name": "stdout",
     "output_type": "stream",
     "text": [
      "Ср дек 13 18:46:49 MSK 2017\n",
      "/home/sphere/github/Sphere/Data2013\n"
     ]
    }
   ],
   "source": [
    "!date\n",
    "!pwd"
   ]
  },
  {
   "cell_type": "code",
   "execution_count": 2,
   "metadata": {
    "collapsed": true
   },
   "outputs": [],
   "source": [
    "%matplotlib inline\n",
    "import pandas as pd\n",
    "import matplotlib.pyplot as plt\n",
    "import matplotlib\n",
    "#from tqdm import tqdm\n",
    "#import math as mt\n",
    "import numpy as np"
   ]
  },
  {
   "cell_type": "code",
   "execution_count": 4,
   "metadata": {
    "collapsed": false
   },
   "outputs": [
    {
     "name": "stdout",
     "output_type": "stream",
     "text": [
      "flight1.dbg.2013.dat  flight3.dbg.2013.dat  flight5.dbg.2013.dat\r\n",
      "flight1.dbg.dat       flight3.dbg.dat\t    flight5.dbg.dat\r\n",
      "flight2.dbg.2013.dat  flight4.dbg.2013.dat\r\n",
      "flight2.dbg.dat       flight4.dbg.dat\r\n"
     ]
    }
   ],
   "source": [
    "!ls ./data"
   ]
  },
  {
   "cell_type": "code",
   "execution_count": 11,
   "metadata": {
    "collapsed": false
   },
   "outputs": [
    {
     "data": {
      "text/plain": [
       "377"
      ]
     },
     "execution_count": 11,
     "metadata": {},
     "output_type": "execute_result"
    }
   ],
   "source": [
    "datum1 = pd.read_csv('./data/flight1.dbg.2013.dat', header = 0, index_col=False, sep='\\t')\n",
    "datum2 = pd.read_csv('./data/flight2.dbg.2013.dat', header = 0, index_col=False, sep='\\t')\n",
    "datum3 = pd.read_csv('./data/flight3.dbg.2013.dat', header = 0, index_col=False, sep='\\t')\n",
    "datum4 = pd.read_csv('./data/flight4.dbg.2013.dat', header = 0, index_col=False, sep='\\t')\n",
    "datum5 = pd.read_csv('./data/flight5.dbg.2013.dat', header = 0, index_col=False, sep='\\t')\n",
    "len(datum1)"
   ]
  },
  {
   "cell_type": "code",
   "execution_count": 12,
   "metadata": {
    "collapsed": true
   },
   "outputs": [],
   "source": [
    "datum1['minuts'] = 60 * (datum1.time//10000) + datum1.time//100%100 - (13*60+7)\n",
    "datum2['minuts'] = 60 * (datum2.time//10000) + datum2.time//100%100 - (12*60+4)\n",
    "datum3['minuts'] = 60 * (datum3.time//10000) + datum3.time//100%100 - (12*60+49)\n",
    "datum4['minuts'] = 60 * (datum4.time//10000) + datum4.time//100%100 - (11*60+27)\n",
    "datum5['minuts'] = 60 * (datum5.time//10000) + datum5.time//100%100 - (11*60+26)"
   ]
  },
  {
   "cell_type": "code",
   "execution_count": 13,
   "metadata": {
    "collapsed": true
   },
   "outputs": [],
   "source": [
    "datum1['run'] = 1\n",
    "datum2['run'] = 2\n",
    "datum3['run'] = 3\n",
    "datum4['run'] = 4\n",
    "datum5['run'] = 5"
   ]
  },
  {
   "cell_type": "code",
   "execution_count": 20,
   "metadata": {
    "collapsed": true
   },
   "outputs": [],
   "source": [
    "data_by_2013 = [datum1, datum2,datum3,datum4,datum5]\n",
    "datum = pd.concat(data_by_2013)"
   ]
  },
  {
   "cell_type": "code",
   "execution_count": 23,
   "metadata": {
    "collapsed": false
   },
   "outputs": [
    {
     "data": {
      "text/plain": [
       "5    500\n",
       "4    486\n",
       "2    433\n",
       "1    377\n",
       "3    215\n",
       "Name: run, dtype: int64"
      ]
     },
     "execution_count": 23,
     "metadata": {},
     "output_type": "execute_result"
    }
   ],
   "source": [
    "datum.run.value_counts()"
   ]
  },
  {
   "cell_type": "code",
   "execution_count": 26,
   "metadata": {
    "collapsed": false
   },
   "outputs": [],
   "source": [
    "# посчитать высоту над поверхностью озера\n",
    "H0 = datum.H.min()\n",
    "datum['H-455'] = datum.H - H0"
   ]
  },
  {
   "cell_type": "code",
   "execution_count": 39,
   "metadata": {
    "collapsed": true
   },
   "outputs": [],
   "source": [
    "# удалить ненужные столбцы\n",
    "del datum['NUM']\n",
    "del datum['Num']"
   ]
  },
  {
   "cell_type": "code",
   "execution_count": 48,
   "metadata": {
    "collapsed": false
   },
   "outputs": [
    {
     "data": {
      "text/html": [
       "<div>\n",
       "<style scoped>\n",
       "    .dataframe tbody tr th:only-of-type {\n",
       "        vertical-align: middle;\n",
       "    }\n",
       "\n",
       "    .dataframe tbody tr th {\n",
       "        vertical-align: top;\n",
       "    }\n",
       "\n",
       "    .dataframe thead th {\n",
       "        text-align: right;\n",
       "    }\n",
       "</style>\n",
       "<table border=\"1\" class=\"dataframe\">\n",
       "  <thead>\n",
       "    <tr style=\"text-align: right;\">\n",
       "      <th></th>\n",
       "      <th>date</th>\n",
       "      <th>time</th>\n",
       "      <th>N</th>\n",
       "      <th>E</th>\n",
       "      <th>H</th>\n",
       "      <th>H-455</th>\n",
       "      <th>compass</th>\n",
       "      <th>P_hpa0</th>\n",
       "      <th>T0,C</th>\n",
       "      <th>P_hpa1</th>\n",
       "      <th>...</th>\n",
       "      <th>Tmos,C</th>\n",
       "      <th>Bot,C</th>\n",
       "      <th>Top,C</th>\n",
       "      <th>Clin1</th>\n",
       "      <th>Clin2</th>\n",
       "      <th>ClinTh</th>\n",
       "      <th>minuts</th>\n",
       "      <th>run</th>\n",
       "      <th>dN</th>\n",
       "      <th>dE</th>\n",
       "    </tr>\n",
       "  </thead>\n",
       "  <tbody>\n",
       "    <tr>\n",
       "      <th>94</th>\n",
       "      <td>15</td>\n",
       "      <td>131010</td>\n",
       "      <td>5147.8088</td>\n",
       "      <td>10423.3354</td>\n",
       "      <td>448.7</td>\n",
       "      <td>1.0</td>\n",
       "      <td>324.6</td>\n",
       "      <td>963.3</td>\n",
       "      <td>24.4</td>\n",
       "      <td>961.2</td>\n",
       "      <td>...</td>\n",
       "      <td>-6.00</td>\n",
       "      <td>23.2</td>\n",
       "      <td>24.9</td>\n",
       "      <td>-1.4</td>\n",
       "      <td>1.2</td>\n",
       "      <td>1.8</td>\n",
       "      <td>104</td>\n",
       "      <td>5</td>\n",
       "      <td>-7.590</td>\n",
       "      <td>28.938</td>\n",
       "    </tr>\n",
       "    <tr>\n",
       "      <th>95</th>\n",
       "      <td>15</td>\n",
       "      <td>131110</td>\n",
       "      <td>5147.8156</td>\n",
       "      <td>10423.3198</td>\n",
       "      <td>448.2</td>\n",
       "      <td>0.5</td>\n",
       "      <td>309.3</td>\n",
       "      <td>963.4</td>\n",
       "      <td>24.4</td>\n",
       "      <td>961.4</td>\n",
       "      <td>...</td>\n",
       "      <td>-6.25</td>\n",
       "      <td>23.2</td>\n",
       "      <td>24.9</td>\n",
       "      <td>-0.4</td>\n",
       "      <td>1.2</td>\n",
       "      <td>1.3</td>\n",
       "      <td>105</td>\n",
       "      <td>5</td>\n",
       "      <td>0.230</td>\n",
       "      <td>0.000</td>\n",
       "    </tr>\n",
       "    <tr>\n",
       "      <th>96</th>\n",
       "      <td>15</td>\n",
       "      <td>131210</td>\n",
       "      <td>5147.8155</td>\n",
       "      <td>10423.3198</td>\n",
       "      <td>447.7</td>\n",
       "      <td>0.0</td>\n",
       "      <td>309.3</td>\n",
       "      <td>963.4</td>\n",
       "      <td>24.4</td>\n",
       "      <td>961.4</td>\n",
       "      <td>...</td>\n",
       "      <td>-6.50</td>\n",
       "      <td>23.2</td>\n",
       "      <td>25.0</td>\n",
       "      <td>-0.4</td>\n",
       "      <td>1.2</td>\n",
       "      <td>1.3</td>\n",
       "      <td>106</td>\n",
       "      <td>5</td>\n",
       "      <td>0.115</td>\n",
       "      <td>0.000</td>\n",
       "    </tr>\n",
       "    <tr>\n",
       "      <th>97</th>\n",
       "      <td>15</td>\n",
       "      <td>131310</td>\n",
       "      <td>5147.8154</td>\n",
       "      <td>10423.3198</td>\n",
       "      <td>447.8</td>\n",
       "      <td>0.1</td>\n",
       "      <td>309.3</td>\n",
       "      <td>963.3</td>\n",
       "      <td>24.4</td>\n",
       "      <td>961.2</td>\n",
       "      <td>...</td>\n",
       "      <td>-6.50</td>\n",
       "      <td>23.3</td>\n",
       "      <td>24.9</td>\n",
       "      <td>-0.4</td>\n",
       "      <td>1.2</td>\n",
       "      <td>1.3</td>\n",
       "      <td>107</td>\n",
       "      <td>5</td>\n",
       "      <td>0.000</td>\n",
       "      <td>0.000</td>\n",
       "    </tr>\n",
       "    <tr>\n",
       "      <th>98</th>\n",
       "      <td>15</td>\n",
       "      <td>131410</td>\n",
       "      <td>5147.8154</td>\n",
       "      <td>10423.3198</td>\n",
       "      <td>447.9</td>\n",
       "      <td>0.2</td>\n",
       "      <td>310.2</td>\n",
       "      <td>963.4</td>\n",
       "      <td>24.5</td>\n",
       "      <td>961.4</td>\n",
       "      <td>...</td>\n",
       "      <td>-6.25</td>\n",
       "      <td>23.2</td>\n",
       "      <td>25.0</td>\n",
       "      <td>-0.4</td>\n",
       "      <td>1.2</td>\n",
       "      <td>1.3</td>\n",
       "      <td>108</td>\n",
       "      <td>5</td>\n",
       "      <td>0.000</td>\n",
       "      <td>0.000</td>\n",
       "    </tr>\n",
       "    <tr>\n",
       "      <th>99</th>\n",
       "      <td>15</td>\n",
       "      <td>131510</td>\n",
       "      <td>5147.8153</td>\n",
       "      <td>10423.3198</td>\n",
       "      <td>448.0</td>\n",
       "      <td>0.3</td>\n",
       "      <td>282.3</td>\n",
       "      <td>963.3</td>\n",
       "      <td>24.5</td>\n",
       "      <td>961.2</td>\n",
       "      <td>...</td>\n",
       "      <td>-6.25</td>\n",
       "      <td>23.3</td>\n",
       "      <td>25.0</td>\n",
       "      <td>-0.3</td>\n",
       "      <td>1.2</td>\n",
       "      <td>1.3</td>\n",
       "      <td>109</td>\n",
       "      <td>5</td>\n",
       "      <td>-0.115</td>\n",
       "      <td>0.000</td>\n",
       "    </tr>\n",
       "  </tbody>\n",
       "</table>\n",
       "<p>6 rows × 27 columns</p>\n",
       "</div>"
      ],
      "text/plain": [
       "    date    time          N           E      H  H-455  compass  P_hpa0  T0,C  \\\n",
       "94    15  131010  5147.8088  10423.3354  448.7    1.0    324.6   963.3  24.4   \n",
       "95    15  131110  5147.8156  10423.3198  448.2    0.5    309.3   963.4  24.4   \n",
       "96    15  131210  5147.8155  10423.3198  447.7    0.0    309.3   963.4  24.4   \n",
       "97    15  131310  5147.8154  10423.3198  447.8    0.1    309.3   963.3  24.4   \n",
       "98    15  131410  5147.8154  10423.3198  447.9    0.2    310.2   963.4  24.5   \n",
       "99    15  131510  5147.8153  10423.3198  448.0    0.3    282.3   963.3  24.5   \n",
       "\n",
       "    P_hpa1   ...    Tmos,C  Bot,C  Top,C  Clin1  Clin2  ClinTh  minuts  run  \\\n",
       "94   961.2   ...     -6.00   23.2   24.9   -1.4    1.2     1.8     104    5   \n",
       "95   961.4   ...     -6.25   23.2   24.9   -0.4    1.2     1.3     105    5   \n",
       "96   961.4   ...     -6.50   23.2   25.0   -0.4    1.2     1.3     106    5   \n",
       "97   961.2   ...     -6.50   23.3   24.9   -0.4    1.2     1.3     107    5   \n",
       "98   961.4   ...     -6.25   23.2   25.0   -0.4    1.2     1.3     108    5   \n",
       "99   961.2   ...     -6.25   23.3   25.0   -0.3    1.2     1.3     109    5   \n",
       "\n",
       "       dN      dE  \n",
       "94 -7.590  28.938  \n",
       "95  0.230   0.000  \n",
       "96  0.115   0.000  \n",
       "97  0.000   0.000  \n",
       "98  0.000   0.000  \n",
       "99 -0.115   0.000  \n",
       "\n",
       "[6 rows x 27 columns]"
      ]
     },
     "execution_count": 48,
     "metadata": {},
     "output_type": "execute_result"
    }
   ],
   "source": [
    "# место старта\n",
    "datum[(datum.run == 5) & (datum.minuts > 103) & (datum.minuts < 110)]"
   ]
  },
  {
   "cell_type": "code",
   "execution_count": null,
   "metadata": {
    "collapsed": true
   },
   "outputs": [],
   "source": []
  },
  {
   "cell_type": "markdown",
   "metadata": {},
   "source": [
    "## Пересчет изменения координат в метры"
   ]
  },
  {
   "cell_type": "code",
   "execution_count": 33,
   "metadata": {
    "collapsed": true
   },
   "outputs": [],
   "source": [
    "# пересчет из координат в метры\n",
    "# координаты стартовой площадки: \n",
    "# 51 47.8154 N 104 23.3198E\n",
    "# 51°47'48.9\"N 104°23'19.2\"E\n",
    "# 51.796923, 104.388663\n",
    "# ''' \n",
    "# длина дуги параллели в зависимости от широты в 1°, 1' и 1\" по долготе, метров\n",
    "# 0\t111321\t1855\t31\n",
    "# 51\t70199\t1170\t19\n",
    "# 52\t68679\t1145\t19\n",
    "# \n",
    "# Длина дуги меридиана в зависимости от широты в 1°, 1' и 1\" по широте, метров\n",
    "# 0\t110579\t1843\t31\n",
    "# 50\t111278\t1855\t31\n",
    "# 55\t111370\t1856\t31\n",
    "\n",
    "# длина одной минуты в метрах\n",
    "dN0m = 1150\n",
    "dE0m = 1855\n",
    "\n",
    "# расстояние до места старта в минутах широты или долготы\n",
    "N0 = 5147.8154\n",
    "E0 = 10423.3198"
   ]
  },
  {
   "cell_type": "code",
   "execution_count": 35,
   "metadata": {
    "collapsed": false
   },
   "outputs": [],
   "source": [
    "datum['dN'] = (datum['N'] - N0) * dN0m\n",
    "datum['dE'] = (datum['E'] - E0) * dE0m"
   ]
  },
  {
   "cell_type": "code",
   "execution_count": 41,
   "metadata": {
    "collapsed": true
   },
   "outputs": [],
   "source": [
    "datum['compass'] *= 0.1 "
   ]
  },
  {
   "cell_type": "code",
   "execution_count": 50,
   "metadata": {
    "collapsed": false
   },
   "outputs": [
    {
     "data": {
      "text/html": [
       "<div>\n",
       "<style scoped>\n",
       "    .dataframe tbody tr th:only-of-type {\n",
       "        vertical-align: middle;\n",
       "    }\n",
       "\n",
       "    .dataframe tbody tr th {\n",
       "        vertical-align: top;\n",
       "    }\n",
       "\n",
       "    .dataframe thead th {\n",
       "        text-align: right;\n",
       "    }\n",
       "</style>\n",
       "<table border=\"1\" class=\"dataframe\">\n",
       "  <thead>\n",
       "    <tr style=\"text-align: right;\">\n",
       "      <th></th>\n",
       "      <th>0</th>\n",
       "      <th>1</th>\n",
       "      <th>2</th>\n",
       "      <th>3</th>\n",
       "      <th>4</th>\n",
       "    </tr>\n",
       "  </thead>\n",
       "  <tbody>\n",
       "    <tr>\n",
       "      <th>date</th>\n",
       "      <td>9.0000</td>\n",
       "      <td>9.0000</td>\n",
       "      <td>9.0000</td>\n",
       "      <td>9.0000</td>\n",
       "      <td>9.0000</td>\n",
       "    </tr>\n",
       "    <tr>\n",
       "      <th>time</th>\n",
       "      <td>131704.0000</td>\n",
       "      <td>131804.0000</td>\n",
       "      <td>131904.0000</td>\n",
       "      <td>132004.0000</td>\n",
       "      <td>132205.0000</td>\n",
       "    </tr>\n",
       "    <tr>\n",
       "      <th>N</th>\n",
       "      <td>5147.8302</td>\n",
       "      <td>5147.8302</td>\n",
       "      <td>5147.8284</td>\n",
       "      <td>5147.8291</td>\n",
       "      <td>5147.8292</td>\n",
       "    </tr>\n",
       "    <tr>\n",
       "      <th>E</th>\n",
       "      <td>10423.3018</td>\n",
       "      <td>10423.3074</td>\n",
       "      <td>10423.3092</td>\n",
       "      <td>10423.3096</td>\n",
       "      <td>10423.3009</td>\n",
       "    </tr>\n",
       "    <tr>\n",
       "      <th>H</th>\n",
       "      <td>762.9000</td>\n",
       "      <td>762.5000</td>\n",
       "      <td>763.1000</td>\n",
       "      <td>762.9000</td>\n",
       "      <td>761.4000</td>\n",
       "    </tr>\n",
       "    <tr>\n",
       "      <th>H-455</th>\n",
       "      <td>315.2000</td>\n",
       "      <td>314.8000</td>\n",
       "      <td>315.4000</td>\n",
       "      <td>315.2000</td>\n",
       "      <td>313.7000</td>\n",
       "    </tr>\n",
       "    <tr>\n",
       "      <th>compass</th>\n",
       "      <td>31.8000</td>\n",
       "      <td>28.4000</td>\n",
       "      <td>33.8000</td>\n",
       "      <td>38.7000</td>\n",
       "      <td>19.2000</td>\n",
       "    </tr>\n",
       "    <tr>\n",
       "      <th>P_hpa0</th>\n",
       "      <td>930.2000</td>\n",
       "      <td>930.1000</td>\n",
       "      <td>930.2000</td>\n",
       "      <td>930.1000</td>\n",
       "      <td>930.4000</td>\n",
       "    </tr>\n",
       "    <tr>\n",
       "      <th>T0,C</th>\n",
       "      <td>18.3000</td>\n",
       "      <td>18.5000</td>\n",
       "      <td>18.7000</td>\n",
       "      <td>18.8000</td>\n",
       "      <td>19.2000</td>\n",
       "    </tr>\n",
       "    <tr>\n",
       "      <th>P_hpa1</th>\n",
       "      <td>929.5000</td>\n",
       "      <td>929.5000</td>\n",
       "      <td>929.5000</td>\n",
       "      <td>929.4000</td>\n",
       "      <td>929.4000</td>\n",
       "    </tr>\n",
       "    <tr>\n",
       "      <th>T1,C</th>\n",
       "      <td>-8.4000</td>\n",
       "      <td>-8.4000</td>\n",
       "      <td>-8.5000</td>\n",
       "      <td>-8.6000</td>\n",
       "      <td>-8.8000</td>\n",
       "    </tr>\n",
       "    <tr>\n",
       "      <th>dP,kpa</th>\n",
       "      <td>274.0000</td>\n",
       "      <td>274.0000</td>\n",
       "      <td>268.5200</td>\n",
       "      <td>257.5600</td>\n",
       "      <td>254.8200</td>\n",
       "    </tr>\n",
       "    <tr>\n",
       "      <th>U15,V</th>\n",
       "      <td>14.9600</td>\n",
       "      <td>14.9700</td>\n",
       "      <td>14.9700</td>\n",
       "      <td>14.9700</td>\n",
       "      <td>14.9700</td>\n",
       "    </tr>\n",
       "    <tr>\n",
       "      <th>U5,V</th>\n",
       "      <td>5.1500</td>\n",
       "      <td>5.1500</td>\n",
       "      <td>5.1500</td>\n",
       "      <td>5.1500</td>\n",
       "      <td>5.1500</td>\n",
       "    </tr>\n",
       "    <tr>\n",
       "      <th>Uac,V</th>\n",
       "      <td>18.7500</td>\n",
       "      <td>18.7400</td>\n",
       "      <td>18.7500</td>\n",
       "      <td>18.7500</td>\n",
       "      <td>18.7400</td>\n",
       "    </tr>\n",
       "    <tr>\n",
       "      <th>I,A</th>\n",
       "      <td>2.6000</td>\n",
       "      <td>2.6200</td>\n",
       "      <td>2.6000</td>\n",
       "      <td>2.6000</td>\n",
       "      <td>2.6200</td>\n",
       "    </tr>\n",
       "    <tr>\n",
       "      <th>Tpow,C</th>\n",
       "      <td>24.0000</td>\n",
       "      <td>24.5000</td>\n",
       "      <td>24.7500</td>\n",
       "      <td>25.0000</td>\n",
       "      <td>25.5000</td>\n",
       "    </tr>\n",
       "    <tr>\n",
       "      <th>Tmos,C</th>\n",
       "      <td>-8.5000</td>\n",
       "      <td>-8.5000</td>\n",
       "      <td>-8.5000</td>\n",
       "      <td>-8.2500</td>\n",
       "      <td>-8.0000</td>\n",
       "    </tr>\n",
       "    <tr>\n",
       "      <th>Bot,C</th>\n",
       "      <td>11.0000</td>\n",
       "      <td>11.1000</td>\n",
       "      <td>11.2000</td>\n",
       "      <td>11.4000</td>\n",
       "      <td>11.6000</td>\n",
       "    </tr>\n",
       "    <tr>\n",
       "      <th>Top,C</th>\n",
       "      <td>16.1000</td>\n",
       "      <td>15.2000</td>\n",
       "      <td>15.4000</td>\n",
       "      <td>15.6000</td>\n",
       "      <td>15.9000</td>\n",
       "    </tr>\n",
       "    <tr>\n",
       "      <th>Clin1</th>\n",
       "      <td>-2.8000</td>\n",
       "      <td>-2.8000</td>\n",
       "      <td>-2.8000</td>\n",
       "      <td>-2.8000</td>\n",
       "      <td>-2.9000</td>\n",
       "    </tr>\n",
       "    <tr>\n",
       "      <th>Clin2</th>\n",
       "      <td>1.0000</td>\n",
       "      <td>1.0000</td>\n",
       "      <td>1.0000</td>\n",
       "      <td>1.0000</td>\n",
       "      <td>0.9000</td>\n",
       "    </tr>\n",
       "    <tr>\n",
       "      <th>ClinTh</th>\n",
       "      <td>3.0000</td>\n",
       "      <td>3.0000</td>\n",
       "      <td>3.0000</td>\n",
       "      <td>2.9000</td>\n",
       "      <td>3.0000</td>\n",
       "    </tr>\n",
       "    <tr>\n",
       "      <th>minuts</th>\n",
       "      <td>10.0000</td>\n",
       "      <td>11.0000</td>\n",
       "      <td>12.0000</td>\n",
       "      <td>13.0000</td>\n",
       "      <td>15.0000</td>\n",
       "    </tr>\n",
       "    <tr>\n",
       "      <th>run</th>\n",
       "      <td>1.0000</td>\n",
       "      <td>1.0000</td>\n",
       "      <td>1.0000</td>\n",
       "      <td>1.0000</td>\n",
       "      <td>1.0000</td>\n",
       "    </tr>\n",
       "    <tr>\n",
       "      <th>dN</th>\n",
       "      <td>17.0200</td>\n",
       "      <td>17.0200</td>\n",
       "      <td>14.9500</td>\n",
       "      <td>15.7550</td>\n",
       "      <td>15.8700</td>\n",
       "    </tr>\n",
       "    <tr>\n",
       "      <th>dE</th>\n",
       "      <td>-33.3900</td>\n",
       "      <td>-23.0020</td>\n",
       "      <td>-19.6630</td>\n",
       "      <td>-18.9210</td>\n",
       "      <td>-35.0595</td>\n",
       "    </tr>\n",
       "  </tbody>\n",
       "</table>\n",
       "</div>"
      ],
      "text/plain": [
       "                   0            1            2            3            4\n",
       "date          9.0000       9.0000       9.0000       9.0000       9.0000\n",
       "time     131704.0000  131804.0000  131904.0000  132004.0000  132205.0000\n",
       "N          5147.8302    5147.8302    5147.8284    5147.8291    5147.8292\n",
       "E         10423.3018   10423.3074   10423.3092   10423.3096   10423.3009\n",
       "H           762.9000     762.5000     763.1000     762.9000     761.4000\n",
       "H-455       315.2000     314.8000     315.4000     315.2000     313.7000\n",
       "compass      31.8000      28.4000      33.8000      38.7000      19.2000\n",
       "P_hpa0      930.2000     930.1000     930.2000     930.1000     930.4000\n",
       "T0,C         18.3000      18.5000      18.7000      18.8000      19.2000\n",
       "P_hpa1      929.5000     929.5000     929.5000     929.4000     929.4000\n",
       "T1,C         -8.4000      -8.4000      -8.5000      -8.6000      -8.8000\n",
       "dP,kpa      274.0000     274.0000     268.5200     257.5600     254.8200\n",
       "U15,V        14.9600      14.9700      14.9700      14.9700      14.9700\n",
       "U5,V          5.1500       5.1500       5.1500       5.1500       5.1500\n",
       "Uac,V        18.7500      18.7400      18.7500      18.7500      18.7400\n",
       "I,A           2.6000       2.6200       2.6000       2.6000       2.6200\n",
       "Tpow,C       24.0000      24.5000      24.7500      25.0000      25.5000\n",
       "Tmos,C       -8.5000      -8.5000      -8.5000      -8.2500      -8.0000\n",
       "Bot,C        11.0000      11.1000      11.2000      11.4000      11.6000\n",
       "Top,C        16.1000      15.2000      15.4000      15.6000      15.9000\n",
       "Clin1        -2.8000      -2.8000      -2.8000      -2.8000      -2.9000\n",
       "Clin2         1.0000       1.0000       1.0000       1.0000       0.9000\n",
       "ClinTh        3.0000       3.0000       3.0000       2.9000       3.0000\n",
       "minuts       10.0000      11.0000      12.0000      13.0000      15.0000\n",
       "run           1.0000       1.0000       1.0000       1.0000       1.0000\n",
       "dN           17.0200      17.0200      14.9500      15.7550      15.8700\n",
       "dE          -33.3900     -23.0020     -19.6630     -18.9210     -35.0595"
      ]
     },
     "execution_count": 50,
     "metadata": {},
     "output_type": "execute_result"
    }
   ],
   "source": [
    "datum.head().T"
   ]
  },
  {
   "cell_type": "code",
   "execution_count": 49,
   "metadata": {
    "collapsed": true
   },
   "outputs": [],
   "source": [
    "datum.to_csv('data/datum_2013.csv')"
   ]
  },
  {
   "cell_type": "code",
   "execution_count": null,
   "metadata": {
    "collapsed": true
   },
   "outputs": [],
   "source": []
  }
 ],
 "metadata": {
  "anaconda-cloud": {},
  "kernelspec": {
   "display_name": "Python [conda root]",
   "language": "python",
   "name": "conda-root-py"
  },
  "language_info": {
   "codemirror_mode": {
    "name": "ipython",
    "version": 3
   },
   "file_extension": ".py",
   "mimetype": "text/x-python",
   "name": "python",
   "nbconvert_exporter": "python",
   "pygments_lexer": "ipython3",
   "version": "3.5.2"
  }
 },
 "nbformat": 4,
 "nbformat_minor": 2
}
