{
 "cells": [
  {
   "cell_type": "markdown",
   "metadata": {},
   "source": [
    "# Проверка работы симулятора триггера на экспериментальных данных 2013 года."
   ]
  },
  {
   "cell_type": "markdown",
   "metadata": {},
   "source": [
    "Ко всем кадрам, зарегистрированным в эксперименте 2013 года, применена процедура определения того факта, будет ли данное событие зарегистрировано установкой. Для каждого кадра определяется время срабатывания триггера, исходя из значения порогов, выставленных в эксперименте установкой на момент регистрации данного события.\n",
    "\n",
    "#### Чтение данных моделирования триггерного бита"
   ]
  },
  {
   "cell_type": "code",
   "execution_count": 107,
   "metadata": {
    "collapsed": false
   },
   "outputs": [
    {
     "name": "stdout",
     "output_type": "stream",
     "text": [
      "Срд Дек 21 20:58:34 MSK 2016\r\n"
     ]
    }
   ],
   "source": [
    "!date"
   ]
  },
  {
   "cell_type": "code",
   "execution_count": 108,
   "metadata": {
    "collapsed": false
   },
   "outputs": [
    {
     "name": "stdout",
     "output_type": "stream",
     "text": [
      "/home/sphere/Analysis/400CheckTrigger/results/all_events\r\n"
     ]
    }
   ],
   "source": [
    "!pwd"
   ]
  },
  {
   "cell_type": "code",
   "execution_count": 109,
   "metadata": {
    "collapsed": true
   },
   "outputs": [],
   "source": [
    "%matplotlib inline\n",
    "import pandas as pd\n",
    "import matplotlib.pyplot as plt\n",
    "import matplotlib as mp\n",
    "from tqdm import tqdm\n",
    "import math as mt\n",
    "import numpy as np"
   ]
  },
  {
   "cell_type": "code",
   "execution_count": 258,
   "metadata": {
    "collapsed": false
   },
   "outputs": [
    {
     "data": {
      "text/plain": [
       "3813"
      ]
     },
     "execution_count": 258,
     "metadata": {},
     "output_type": "execute_result"
    }
   ],
   "source": [
    "# чтение данных\n",
    "datum = pd.read_csv('log.txt', index_col=0, sep=' ')\n",
    "# оличество событий\n",
    "len(datum)"
   ]
  },
  {
   "cell_type": "code",
   "execution_count": 186,
   "metadata": {
    "collapsed": false
   },
   "outputs": [
    {
     "data": {
      "text/html": [
       "<div>\n",
       "<table border=\"1\" class=\"dataframe\">\n",
       "  <thead>\n",
       "    <tr style=\"text-align: right;\">\n",
       "      <th></th>\n",
       "      <th>FlagL3</th>\n",
       "      <th>FlagG5</th>\n",
       "      <th>TL3</th>\n",
       "      <th>TG5</th>\n",
       "      <th>TriggerFlag</th>\n",
       "      <th>TT</th>\n",
       "    </tr>\n",
       "    <tr>\n",
       "      <th>Event</th>\n",
       "      <th></th>\n",
       "      <th></th>\n",
       "      <th></th>\n",
       "      <th></th>\n",
       "      <th></th>\n",
       "      <th></th>\n",
       "    </tr>\n",
       "  </thead>\n",
       "  <tbody>\n",
       "    <tr>\n",
       "      <th>10675</th>\n",
       "      <td>1</td>\n",
       "      <td>1</td>\n",
       "      <td>238</td>\n",
       "      <td>238</td>\n",
       "      <td>1</td>\n",
       "      <td>3</td>\n",
       "    </tr>\n",
       "    <tr>\n",
       "      <th>10676</th>\n",
       "      <td>1</td>\n",
       "      <td>1</td>\n",
       "      <td>201</td>\n",
       "      <td>239</td>\n",
       "      <td>1</td>\n",
       "      <td>3</td>\n",
       "    </tr>\n",
       "  </tbody>\n",
       "</table>\n",
       "</div>"
      ],
      "text/plain": [
       "       FlagL3  FlagG5  TL3  TG5  TriggerFlag  TT\n",
       "Event                                           \n",
       "10675       1       1  238  238            1   3\n",
       "10676       1       1  201  239            1   3"
      ]
     },
     "execution_count": 186,
     "metadata": {},
     "output_type": "execute_result"
    }
   ],
   "source": [
    "datum[:2]"
   ]
  },
  {
   "cell_type": "markdown",
   "metadata": {},
   "source": [
    "Значения параметров:\n",
    "\n",
    "    FlagL3 - сработало ли триггерное условие L3: 0 - нет, 1 - да,\n",
    "    FlagG5 - сработало ли триггерное условие G5,\n",
    "    TL3 - время срабатывания триггерного условия L3,\n",
    "    TG5 - время срабатывания триггерного условия G5,\n",
    "    TriggerFlag - выработался ли вообще триггер на регистрацию\n",
    "    TT - условие, по которому выработался триггер. Т.е. какое из условий L3 и G5 наступило раньше."
   ]
  },
  {
   "cell_type": "markdown",
   "metadata": {},
   "source": [
    "### Распределение по TL3 и TG5"
   ]
  },
  {
   "cell_type": "markdown",
   "metadata": {},
   "source": [
    "Рассмотрены все 3813 кадров, зарегистрированные в 2013 г."
   ]
  },
  {
   "cell_type": "code",
   "execution_count": 203,
   "metadata": {
    "collapsed": false,
    "scrolled": true
   },
   "outputs": [
    {
     "name": "stdout",
     "output_type": "stream",
     "text": [
      "TriggerFlag: 3813\n",
      "FlagL3:      3813\n",
      "FlagG5:      3813\n"
     ]
    }
   ],
   "source": [
    "print('TriggerFlag:', len(datum[:][datum['TriggerFlag']==1]))\n",
    "print('FlagL3:     ', len(datum[:][datum['FlagL3']     ==1]))\n",
    "print('FlagG5:     ', len(datum[:][datum['FlagL3']     ==1]))"
   ]
  },
  {
   "cell_type": "markdown",
   "metadata": {},
   "source": [
    "Во всех 3813 событиях в процессе моделирования \"выработался\" итоговый триггер TriggerFlag, а также триггеры L3 и G5.\n",
    "\n",
    "Распределение по триггерам L3 и G5 следующее: в 3140 кадрах первым сработал триггер L3, в 673 кадрах --- G5. "
   ]
  },
  {
   "cell_type": "code",
   "execution_count": 206,
   "metadata": {
    "collapsed": false
   },
   "outputs": [
    {
     "name": "stdout",
     "output_type": "stream",
     "text": [
      "3    3140\n",
      "5     673\n",
      "Name: TT, dtype: int64\n"
     ]
    }
   ],
   "source": [
    "print(datum['TT'].value_counts());"
   ]
  },
  {
   "cell_type": "code",
   "execution_count": 251,
   "metadata": {
    "collapsed": false
   },
   "outputs": [
    {
     "name": "stdout",
     "output_type": "stream",
     "text": [
      "lenTL3 =  3140\n",
      "lenTG5 =  673\n"
     ]
    }
   ],
   "source": [
    "AllTrig_l3 = datum['TL3'][datum['TT']==3]\n",
    "print('lenTL3 = ',len(AllTrig_l3))\n",
    "AllTrig_g5 = datum['TG5'][datum['TT']==5]\n",
    "print('lenTG5 = ',len(AllTrig_g5))"
   ]
  },
  {
   "cell_type": "markdown",
   "metadata": {},
   "source": [
    "Построим распределение всех времен выработки триггера без отбора."
   ]
  },
  {
   "cell_type": "code",
   "execution_count": 220,
   "metadata": {
    "collapsed": false
   },
   "outputs": [
    {
     "data": {
      "image/png": "[encoded data removed]",
      "text/plain": [
       "<matplotlib.figure.Figure at 0x7f5a999b6320>"
      ]
     },
     "metadata": {},
     "output_type": "display_data"
    }
   ],
   "source": [
    "plt.figure(figsize=(16,6))\n",
    "plt.hist(datum['TL3'], range=[0, 500], bins=250, alpha=0.4, label=r\"TL3\")\n",
    "plt.hist(datum['TG5'], range=[0, 500], bins=250, alpha=0.4, label=r\"TG5\")\n",
    "plt.legend(loc=1)\n",
    "plt.yscale('log')\n",
    "plt.title('2013 Trigger time distribution')\n",
    "plt.xlabel('Time bin')\n",
    "plt.grid()"
   ]
  },
  {
   "cell_type": "markdown",
   "metadata": {},
   "source": [
    "Теперь построим распределение только того триггера, который случился раньше и \"вызвал\" регистрацию события. Он должен быть в районе 200-300 бина. Однако, наблюдаются триггеры, случившиеся ранее этого интервала."
   ]
  },
  {
   "cell_type": "code",
   "execution_count": 256,
   "metadata": {
    "collapsed": false
   },
   "outputs": [
    {
     "data": {
      "image/png": "[encoded data removed]",
      "text/plain": [
       "<matplotlib.figure.Figure at 0x7f5a99a8fac8>"
      ]
     },
     "metadata": {},
     "output_type": "display_data"
    }
   ],
   "source": [
    "plt.figure(figsize=(16,6))\n",
    "#plt.hist(datum['TL3'][datum['TT']==3], range=[0, 500], bins=250, alpha=0.4, label=r\"TL3\")\n",
    "#plt.hist(datum['TG5'][datum['TT']==5], range=[0, 500], bins=250, alpha=0.4, label=r\"TG5\")\n",
    "plt.hist(AllTrig_l3[:], range=[0, 500], bins=250, alpha=0.4, label=r\"TL3\")\n",
    "plt.hist(AllTrig_g5[:], range=[0, 500], bins=250, alpha=0.4, label=r\"TG5\")\n",
    "plt.legend(loc=1)\n",
    "plt.yscale('log')\n",
    "plt.title('2013 Trigger time distribution')\n",
    "plt.xlabel('Time bin')\n",
    "plt.grid()"
   ]
  },
  {
   "cell_type": "markdown",
   "metadata": {},
   "source": [
    "Посчитаем количество событий с триггерами раньше нужного."
   ]
  },
  {
   "cell_type": "code",
   "execution_count": 257,
   "metadata": {
    "collapsed": false
   },
   "outputs": [
    {
     "name": "stdout",
     "output_type": "stream",
     "text": [
      "TL3 < 180 : 50\n",
      "TG5 < 180 : 156\n"
     ]
    }
   ],
   "source": [
    "mint = 180\n",
    "print('TL3 <', mint, ':', len(Trig_l3[:][Trig_l3 < mint]))\n",
    "print('TG5 <', mint, ':', len(Trig_g5[:][Trig_g5 < mint]))"
   ]
  },
  {
   "cell_type": "markdown",
   "metadata": {},
   "source": [
    " Раньше нужного триггер L3 \"сработал\" в 50 из 3140 кадрах (1,5%), а триггер G5 в 156 из 673 кадров (23.2%)."
   ]
  },
  {
   "cell_type": "markdown",
   "metadata": {},
   "source": [
    "#### Чтение списка калибровочных событий"
   ]
  },
  {
   "cell_type": "code",
   "execution_count": 225,
   "metadata": {
    "collapsed": false
   },
   "outputs": [
    {
     "name": "stdout",
     "output_type": "stream",
     "text": [
      "len= 3813\n"
     ]
    }
   ],
   "source": [
    "calibr = pd.read_csv('Calibr.2013.txt', index_col=0, sep=' ')\n",
    "print('len=',len(calibr))"
   ]
  },
  {
   "cell_type": "code",
   "execution_count": 226,
   "metadata": {
    "collapsed": false
   },
   "outputs": [
    {
     "data": {
      "text/html": [
       "<div>\n",
       "<table border=\"1\" class=\"dataframe\">\n",
       "  <thead>\n",
       "    <tr style=\"text-align: right;\">\n",
       "      <th></th>\n",
       "      <th>Calibr</th>\n",
       "    </tr>\n",
       "    <tr>\n",
       "      <th>Event</th>\n",
       "      <th></th>\n",
       "    </tr>\n",
       "  </thead>\n",
       "  <tbody>\n",
       "    <tr>\n",
       "      <th>10675</th>\n",
       "      <td>0</td>\n",
       "    </tr>\n",
       "    <tr>\n",
       "      <th>10676</th>\n",
       "      <td>1</td>\n",
       "    </tr>\n",
       "  </tbody>\n",
       "</table>\n",
       "</div>"
      ],
      "text/plain": [
       "       Calibr\n",
       "Event        \n",
       "10675       0\n",
       "10676       1"
      ]
     },
     "execution_count": 226,
     "metadata": {},
     "output_type": "execute_result"
    }
   ],
   "source": [
    "calibr[:2]"
   ]
  },
  {
   "cell_type": "markdown",
   "metadata": {},
   "source": [
    "###  некалибровочные события"
   ]
  },
  {
   "cell_type": "code",
   "execution_count": 259,
   "metadata": {
    "collapsed": false
   },
   "outputs": [
    {
     "name": "stdout",
     "output_type": "stream",
     "text": [
      "NonCalibration events:  1937\n"
     ]
    },
    {
     "data": {
      "text/html": [
       "<div>\n",
       "<table border=\"1\" class=\"dataframe\">\n",
       "  <thead>\n",
       "    <tr style=\"text-align: right;\">\n",
       "      <th></th>\n",
       "      <th>FlagL3</th>\n",
       "      <th>FlagG5</th>\n",
       "      <th>TL3</th>\n",
       "      <th>TG5</th>\n",
       "      <th>TriggerFlag</th>\n",
       "      <th>TT</th>\n",
       "    </tr>\n",
       "    <tr>\n",
       "      <th>Event</th>\n",
       "      <th></th>\n",
       "      <th></th>\n",
       "      <th></th>\n",
       "      <th></th>\n",
       "      <th></th>\n",
       "      <th></th>\n",
       "    </tr>\n",
       "  </thead>\n",
       "  <tbody>\n",
       "    <tr>\n",
       "      <th>10675</th>\n",
       "      <td>1</td>\n",
       "      <td>1</td>\n",
       "      <td>238</td>\n",
       "      <td>238</td>\n",
       "      <td>1</td>\n",
       "      <td>3</td>\n",
       "    </tr>\n",
       "    <tr>\n",
       "      <th>10677</th>\n",
       "      <td>1</td>\n",
       "      <td>1</td>\n",
       "      <td>235</td>\n",
       "      <td>236</td>\n",
       "      <td>1</td>\n",
       "      <td>3</td>\n",
       "    </tr>\n",
       "    <tr>\n",
       "      <th>10679</th>\n",
       "      <td>1</td>\n",
       "      <td>1</td>\n",
       "      <td>224</td>\n",
       "      <td>233</td>\n",
       "      <td>1</td>\n",
       "      <td>3</td>\n",
       "    </tr>\n",
       "  </tbody>\n",
       "</table>\n",
       "</div>"
      ],
      "text/plain": [
       "       FlagL3  FlagG5  TL3  TG5  TriggerFlag  TT\n",
       "Event                                           \n",
       "10675       1       1  238  238            1   3\n",
       "10677       1       1  235  236            1   3\n",
       "10679       1       1  224  233            1   3"
      ]
     },
     "execution_count": 259,
     "metadata": {},
     "output_type": "execute_result"
    }
   ],
   "source": [
    "# отбор некалибровочных событий\n",
    "Events=datum[:][calibr['Calibr']==0]\n",
    "print('NonCalibration events: ', len(Events))\n",
    "Events[:3]"
   ]
  },
  {
   "cell_type": "code",
   "execution_count": 260,
   "metadata": {
    "collapsed": false
   },
   "outputs": [
    {
     "name": "stdout",
     "output_type": "stream",
     "text": [
      "TriggerFlag = 0: 0\n",
      "lenTL3 =  1339\n",
      "lenTG5 =  598\n"
     ]
    }
   ],
   "source": [
    "#\n",
    "print('TriggerFlag = 0:',len(Events[:][Events['TriggerFlag']==0]))\n",
    "Trig_l3 = Events['TL3'][Events['TT']==3]\n",
    "print('lenTL3 = ',len(Trig_l3))\n",
    "Trig_g5 = Events['TG5'][Events['TT']==5]\n",
    "print('lenTG5 = ',len(Trig_g5))"
   ]
  },
  {
   "cell_type": "markdown",
   "metadata": {},
   "source": [
    "В 1339 некалибровочных событиях первым сработал триггер L3, в 598 - G5."
   ]
  },
  {
   "cell_type": "code",
   "execution_count": 261,
   "metadata": {
    "collapsed": false
   },
   "outputs": [
    {
     "name": "stdout",
     "output_type": "stream",
     "text": [
      "TL3 < 180 : 36\n",
      "TG5 < 180 : 83\n"
     ]
    }
   ],
   "source": [
    "mint = 180\n",
    "print('TL3 <', mint, ':', len(Trig_l3[:][Trig_l3 < mint]))\n",
    "print('TG5 <', mint, ':', len(Trig_g5[:][Trig_g5 < mint]))"
   ]
  },
  {
   "cell_type": "markdown",
   "metadata": {},
   "source": [
    "В 36+83 некалибровочных кадрах триггер сработал до бина 180. \n",
    "\n",
    "Раньше нужного триггер L3 \"сработал\" в 36 из 1339 кадрах (2.7%), а триггер G5 в 83 из 598 кадров (13.9%).\n"
   ]
  },
  {
   "cell_type": "code",
   "execution_count": 179,
   "metadata": {
    "collapsed": false
   },
   "outputs": [],
   "source": [
    "#Events['TG5'][Events['TT']==5].value_counts()\n",
    "#Events['TL3'][Events['TT']==3].value_counts()"
   ]
  },
  {
   "cell_type": "code",
   "execution_count": 265,
   "metadata": {
    "collapsed": false
   },
   "outputs": [
    {
     "data": {
      "image/png": "[encoded data removed]",
      "text/plain": [
       "<matplotlib.figure.Figure at 0x7f5a9906dd30>"
      ]
     },
     "metadata": {},
     "output_type": "display_data"
    }
   ],
   "source": [
    "plt.figure(figsize=(16,8))\n",
    "plt.hist(Events['TL3'][Events['TT']==3], range=[0, 500], bins=250, alpha=0.4, label=r\"TL3\")\n",
    "plt.hist(Events['TG5'][Events['TT']==5], range=[0, 500], bins=250, alpha=0.4, label=r\"TG5\")\n",
    "plt.legend(loc=1)\n",
    "plt.yscale('log')\n",
    "plt.grid()"
   ]
  },
  {
   "cell_type": "markdown",
   "metadata": {},
   "source": [
    "## Калибровочные события"
   ]
  },
  {
   "cell_type": "code",
   "execution_count": 151,
   "metadata": {
    "collapsed": false
   },
   "outputs": [
    {
     "name": "stdout",
     "output_type": "stream",
     "text": [
      "Calibration events:  1839\n"
     ]
    },
    {
     "data": {
      "text/html": [
       "<div>\n",
       "<table border=\"1\" class=\"dataframe\">\n",
       "  <thead>\n",
       "    <tr style=\"text-align: right;\">\n",
       "      <th></th>\n",
       "      <th>FlagL3</th>\n",
       "      <th>FlagG5</th>\n",
       "      <th>TL3</th>\n",
       "      <th>TG5</th>\n",
       "      <th>TriggerFlag</th>\n",
       "      <th>TT</th>\n",
       "    </tr>\n",
       "    <tr>\n",
       "      <th>Event</th>\n",
       "      <th></th>\n",
       "      <th></th>\n",
       "      <th></th>\n",
       "      <th></th>\n",
       "      <th></th>\n",
       "      <th></th>\n",
       "    </tr>\n",
       "  </thead>\n",
       "  <tbody>\n",
       "    <tr>\n",
       "      <th>10676</th>\n",
       "      <td>1</td>\n",
       "      <td>1</td>\n",
       "      <td>201</td>\n",
       "      <td>239</td>\n",
       "      <td>1</td>\n",
       "      <td>3</td>\n",
       "    </tr>\n",
       "    <tr>\n",
       "      <th>10678</th>\n",
       "      <td>1</td>\n",
       "      <td>1</td>\n",
       "      <td>200</td>\n",
       "      <td>238</td>\n",
       "      <td>1</td>\n",
       "      <td>3</td>\n",
       "    </tr>\n",
       "    <tr>\n",
       "      <th>10682</th>\n",
       "      <td>1</td>\n",
       "      <td>1</td>\n",
       "      <td>201</td>\n",
       "      <td>239</td>\n",
       "      <td>1</td>\n",
       "      <td>3</td>\n",
       "    </tr>\n",
       "  </tbody>\n",
       "</table>\n",
       "</div>"
      ],
      "text/plain": [
       "       FlagL3  FlagG5  TL3  TG5  TriggerFlag  TT\n",
       "Event                                           \n",
       "10676       1       1  201  239            1   3\n",
       "10678       1       1  200  238            1   3\n",
       "10682       1       1  201  239            1   3"
      ]
     },
     "execution_count": 151,
     "metadata": {},
     "output_type": "execute_result"
    }
   ],
   "source": [
    "# отбор калибровочных событий\n",
    "Calibr=datum[:][calibr['Calibr']==1]\n",
    "print('Calibration events: ', len(Calibr))\n",
    "Calibr[:3]"
   ]
  },
  {
   "cell_type": "code",
   "execution_count": 232,
   "metadata": {
    "collapsed": false,
    "scrolled": true
   },
   "outputs": [
    {
     "data": {
      "image/png": "[encoded data removed]",
      "text/plain": [
       "<matplotlib.figure.Figure at 0x7f5a9977da90>"
      ]
     },
     "metadata": {},
     "output_type": "display_data"
    }
   ],
   "source": [
    "plt.figure(figsize=(16,6))\n",
    "plt.hist(Calibr['TL3'][Calibr['TT']==3], range=[0, 500], bins=250, alpha=0.4, label=r\"TL3\")\n",
    "plt.hist(Calibr['TG5'][Calibr['TT']==5], range=[0, 500], bins=250, alpha=0.4, label=r\"TG5\")\n",
    "plt.legend(loc=1)\n",
    "plt.yscale('log')\n",
    "plt.grid()"
   ]
  },
  {
   "cell_type": "code",
   "execution_count": 132,
   "metadata": {
    "collapsed": false
   },
   "outputs": [
    {
     "name": "stdout",
     "output_type": "stream",
     "text": [
      "lenTL3 =  1794\n",
      "lenTG5 =  45\n"
     ]
    }
   ],
   "source": [
    "print('lenTL3 = ',len(Calibr['TL3'][Calibr['TT']==3]))\n",
    "print('lenTG5 = ',len(Calibr['TG5'][Calibr['TT']==5]))"
   ]
  },
  {
   "cell_type": "code",
   "execution_count": 240,
   "metadata": {
    "collapsed": false
   },
   "outputs": [
    {
     "name": "stdout",
     "output_type": "stream",
     "text": [
      "TL3 < 180: 15\n",
      "TG5 < 180: 51\n"
     ]
    }
   ],
   "source": [
    "print('TL3 < 180:',len(Calibr['TL3'][Calibr['TL3']<180]))\n",
    "print('TG5 < 180:',len(Calibr['TG5'][Calibr['TG5']<180]))\n",
    "#Calibr['TG5'][Calibr['TT']==5].value_counts()\n",
    "#Calibr['TL3'][Calibr['TT']==3].value_counts()"
   ]
  }
 ],
 "metadata": {
  "kernelspec": {
   "display_name": "Python [Root]",
   "language": "python",
   "name": "Python [Root]"
  },
  "language_info": {
   "codemirror_mode": {
    "name": "ipython",
    "version": 3
   },
   "file_extension": ".py",
   "mimetype": "text/x-python",
   "name": "python",
   "nbconvert_exporter": "python",
   "pygments_lexer": "ipython3",
   "version": "3.5.1"
  }
 },
 "nbformat": 4,
 "nbformat_minor": 0
}
