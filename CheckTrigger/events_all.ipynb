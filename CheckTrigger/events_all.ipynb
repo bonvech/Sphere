{
 "cells": [
  {
   "cell_type": "markdown",
   "metadata": {},
   "source": [
    "# Проверка работы модели триггера на экспериментальных данных 2013 года."
   ]
  },
  {
   "cell_type": "markdown",
   "metadata": {},
   "source": [
    "Ко всем кадрам, зарегистрированным в эксперименте 2013 года, применена процедура определения того факта, будет ли данное событие зарегистрировано установкой. Для каждого кадра определяется время срабатывания триггера, исходя из значения порогов, выставленных в эксперименте установкой на момент регистрации данного события. \n",
    "\n",
    "Под триггером L3 понимается одновременное превышение порога в находящихся рядом трех ФЭУ. Под триггером G5 - превышение порога в любых пяти ФЭУ мозаики. \n",
    "\n",
    "Превышением считается значение сигнала сторого больше значения порога. Превышение считается одновременным, если произошло в течение 40 временных бинов (40 * 25 нс = 1000 нс). \n",
    "\n",
    "Проверка проведена на необработанных расшифрованных экспериментальных данных. Выравнивание каналов по светодиодному импульсу не проведено. Значения амплитуд сигналов и порогов - целые числа.\n",
    "\n",
    "Итог можно сразу прочитать внизу страницы."
   ]
  },
  {
   "cell_type": "markdown",
   "metadata": {},
   "source": [
    "#### Чтение данных моделирования триггерного бита"
   ]
  },
  {
   "cell_type": "code",
   "execution_count": 1,
   "metadata": {
    "collapsed": false
   },
   "outputs": [
    {
     "name": "stdout",
     "output_type": "stream",
     "text": [
      "Срд Дек 28 18:45:07 MSK 2016\n",
      "/home/sphere/Analysis/400CheckTrigger/results/all_events\n"
     ]
    }
   ],
   "source": [
    "!date\n",
    "!pwd"
   ]
  },
  {
   "cell_type": "code",
   "execution_count": 1,
   "metadata": {
    "collapsed": false
   },
   "outputs": [],
   "source": [
    "%matplotlib inline\n",
    "import pandas as pd\n",
    "import matplotlib.pyplot as plt\n",
    "import matplotlib as mp\n",
    "#from tqdm import tqdm\n",
    "import math as mt\n",
    "import numpy as np"
   ]
  },
  {
   "cell_type": "code",
   "execution_count": 2,
   "metadata": {
    "collapsed": false
   },
   "outputs": [
    {
     "data": {
      "text/plain": [
       "3813"
      ]
     },
     "execution_count": 2,
     "metadata": {},
     "output_type": "execute_result"
    }
   ],
   "source": [
    "# чтение данных обработки экспериментальных событий триггером\n",
    "datum = pd.read_csv('log.txt', index_col=0, sep=' ')\n",
    "# количество событий\n",
    "len(datum)"
   ]
  },
  {
   "cell_type": "code",
   "execution_count": 3,
   "metadata": {
    "collapsed": false
   },
   "outputs": [
    {
     "data": {
      "text/html": [
       "<div>\n",
       "<table border=\"1\" class=\"dataframe\">\n",
       "  <thead>\n",
       "    <tr style=\"text-align: right;\">\n",
       "      <th></th>\n",
       "      <th>FlagL3</th>\n",
       "      <th>FlagG5</th>\n",
       "      <th>TL3</th>\n",
       "      <th>TG5</th>\n",
       "      <th>TriggerFlag</th>\n",
       "      <th>TT</th>\n",
       "    </tr>\n",
       "    <tr>\n",
       "      <th>Event</th>\n",
       "      <th></th>\n",
       "      <th></th>\n",
       "      <th></th>\n",
       "      <th></th>\n",
       "      <th></th>\n",
       "      <th></th>\n",
       "    </tr>\n",
       "  </thead>\n",
       "  <tbody>\n",
       "    <tr>\n",
       "      <th>10675</th>\n",
       "      <td>1</td>\n",
       "      <td>1</td>\n",
       "      <td>238</td>\n",
       "      <td>238</td>\n",
       "      <td>1</td>\n",
       "      <td>3</td>\n",
       "    </tr>\n",
       "    <tr>\n",
       "      <th>10676</th>\n",
       "      <td>1</td>\n",
       "      <td>1</td>\n",
       "      <td>201</td>\n",
       "      <td>239</td>\n",
       "      <td>1</td>\n",
       "      <td>3</td>\n",
       "    </tr>\n",
       "  </tbody>\n",
       "</table>\n",
       "</div>"
      ],
      "text/plain": [
       "       FlagL3  FlagG5  TL3  TG5  TriggerFlag  TT\n",
       "Event                                           \n",
       "10675       1       1  238  238            1   3\n",
       "10676       1       1  201  239            1   3"
      ]
     },
     "execution_count": 3,
     "metadata": {},
     "output_type": "execute_result"
    }
   ],
   "source": [
    "# начало списка данных\n",
    "datum[:2]"
   ]
  },
  {
   "cell_type": "markdown",
   "metadata": {},
   "source": [
    "Значения параметров:\n",
    "\n",
    "    FlagL3 - сработало ли триггерное условие L3: 0 - нет, 1 - да,\n",
    "    FlagG5 - сработало ли триггерное условие G5,\n",
    "    TL3 - время срабатывания триггерного условия L3,\n",
    "    TG5 - время срабатывания триггерного условия G5,\n",
    "    TriggerFlag - выработался ли вообще триггер на регистрацию\n",
    "    TT - условие, по которому выработался триггер. Т.е. какое из условий L3 и G5 наступило раньше."
   ]
  },
  {
   "cell_type": "markdown",
   "metadata": {},
   "source": [
    "### Распределение по TL3 и TG5"
   ]
  },
  {
   "cell_type": "markdown",
   "metadata": {},
   "source": [
    "Рассмотрены все 3813 кадров, зарегистрированные в 2013 г."
   ]
  },
  {
   "cell_type": "code",
   "execution_count": 4,
   "metadata": {
    "collapsed": false,
    "scrolled": true
   },
   "outputs": [
    {
     "name": "stdout",
     "output_type": "stream",
     "text": [
      "TriggerFlag: 3813\n",
      "FlagL3:      3813\n",
      "FlagG5:      3813\n"
     ]
    }
   ],
   "source": [
    "print('TriggerFlag:', len(datum[:][datum['TriggerFlag']== 1]))\n",
    "print('FlagL3:     ', len(datum[:][datum['FlagL3']     == 1]))\n",
    "print('FlagG5:     ', len(datum[:][datum['FlagL3']     == 1]))"
   ]
  },
  {
   "cell_type": "code",
   "execution_count": 5,
   "metadata": {
    "collapsed": false
   },
   "outputs": [
    {
     "name": "stdout",
     "output_type": "stream",
     "text": [
      "TL3 =  3140\n",
      "TG5 =  673\n",
      "3    3140\n",
      "5     673\n",
      "Name: TT, dtype: int64\n"
     ]
    }
   ],
   "source": [
    "AllTrig_l3 = datum['TL3'][datum['TT']==3]\n",
    "print('TL3 = ',len(AllTrig_l3))\n",
    "AllTrig_g5 = datum['TG5'][datum['TT']==5]\n",
    "print('TG5 = ',len(AllTrig_g5))\n",
    "print(datum['TT'].value_counts());"
   ]
  },
  {
   "cell_type": "markdown",
   "metadata": {},
   "source": [
    "Во всех 3813 событиях в процессе моделирования \"выработался\" итоговый триггер TriggerFlag, а также триггеры L3 и G5.\n",
    "\n",
    "Распределение по триггерам L3 и G5 следующее: в 3140 кадрах первым сработал триггер L3, в 673 кадрах --- G5. "
   ]
  },
  {
   "cell_type": "markdown",
   "metadata": {},
   "source": [
    "Построим распределение того триггера, который случился раньше и \"вызвал\" регистрацию события. Он должен быть в районе 200-300 бина. Однако, наблюдаются триггеры, случившиеся ранее этого интервала. Также есть триггеры, сработавшие в конце кадра на калибровочном сигнале."
   ]
  },
  {
   "cell_type": "code",
   "execution_count": 6,
   "metadata": {
    "collapsed": false
   },
   "outputs": [
    {
     "data": {
      "image/png": "[encoded data removed]",
      "text/plain": [
       "<matplotlib.figure.Figure at 0x84f0748>"
      ]
     },
     "metadata": {},
     "output_type": "display_data"
    }
   ],
   "source": [
    "plt.figure(figsize=(16,6))\n",
    "#plt.hist(datum['TL3'], range=[0, 500], bins=250, alpha=0.4, label=r\"TL3\")\n",
    "#plt.hist(datum['TG5'], range=[0, 500], bins=250, alpha=0.4, label=r\"TG5\")\n",
    "plt.hist(AllTrig_l3[:], range=[0, 500], bins=250, alpha=0.4, label=r\"TL3\")\n",
    "plt.hist(AllTrig_g5[:], range=[0, 500], bins=250, alpha=0.4, label=r\"TG5\")\n",
    "plt.legend(loc=1)\n",
    "plt.yscale('log')\n",
    "plt.title('2013 Trigger time distribution')\n",
    "plt.xlabel('Time bin')\n",
    "plt.grid()"
   ]
  },
  {
   "cell_type": "markdown",
   "metadata": {},
   "source": [
    "Посчитаем количество событий с триггерами раньше нужного."
   ]
  },
  {
   "cell_type": "code",
   "execution_count": 7,
   "metadata": {
    "collapsed": false
   },
   "outputs": [
    {
     "name": "stdout",
     "output_type": "stream",
     "text": [
      "TL3 < 180 : 50\n",
      "TG5 < 180 : 156\n"
     ]
    }
   ],
   "source": [
    "mint = 180\n",
    "print('TL3 <', mint, ':', len(AllTrig_l3[:][AllTrig_l3 < mint]))\n",
    "print('TG5 <', mint, ':', len(AllTrig_g5[:][AllTrig_g5 < mint]))"
   ]
  },
  {
   "cell_type": "markdown",
   "metadata": {},
   "source": [
    " Раньше нужного триггер L3 \"сработал\" в 50 из 3140 кадрах (1,5%), а триггер G5 в 156 из 673 кадров (23.2%)."
   ]
  },
  {
   "cell_type": "code",
   "execution_count": 8,
   "metadata": {
    "collapsed": false
   },
   "outputs": [
    {
     "name": "stdout",
     "output_type": "stream",
     "text": [
      "TL3 > 300 : 16\n",
      "TG5 > 300 : 2\n"
     ]
    }
   ],
   "source": [
    "# Посчитаем количество кадров с поздними триггерами\n",
    "maxt = 300\n",
    "print('TL3 >', maxt, ':', len(AllTrig_l3[:][AllTrig_l3 > maxt]))\n",
    "print('TG5 >', maxt, ':', len(AllTrig_g5[:][AllTrig_g5 > maxt]))"
   ]
  },
  {
   "cell_type": "markdown",
   "metadata": {},
   "source": [
    "Триггер сработал слишком поздно в 18 событиях: L3: 16 из 3140 (0,5%) и G5 в 2 из 673 (0,3%).\n",
    "\n",
    "Рассмотрим отдельно триггеры в разных типах событий."
   ]
  },
  {
   "cell_type": "markdown",
   "metadata": {},
   "source": [
    "#### Чтение списка калибровочных событий\n",
    "\n",
    "Список калибровочных кадров получен в процессе классификации событий по алгоритму Тимура."
   ]
  },
  {
   "cell_type": "code",
   "execution_count": 9,
   "metadata": {
    "collapsed": false
   },
   "outputs": [
    {
     "name": "stdout",
     "output_type": "stream",
     "text": [
      "Events = 3813\n"
     ]
    },
    {
     "data": {
      "text/html": [
       "<div>\n",
       "<table border=\"1\" class=\"dataframe\">\n",
       "  <thead>\n",
       "    <tr style=\"text-align: right;\">\n",
       "      <th></th>\n",
       "      <th>Calibr</th>\n",
       "    </tr>\n",
       "    <tr>\n",
       "      <th>Event</th>\n",
       "      <th></th>\n",
       "    </tr>\n",
       "  </thead>\n",
       "  <tbody>\n",
       "    <tr>\n",
       "      <th>10675</th>\n",
       "      <td>0</td>\n",
       "    </tr>\n",
       "    <tr>\n",
       "      <th>10676</th>\n",
       "      <td>1</td>\n",
       "    </tr>\n",
       "  </tbody>\n",
       "</table>\n",
       "</div>"
      ],
      "text/plain": [
       "       Calibr\n",
       "Event        \n",
       "10675       0\n",
       "10676       1"
      ]
     },
     "execution_count": 9,
     "metadata": {},
     "output_type": "execute_result"
    }
   ],
   "source": [
    "calibr = pd.read_csv('Calibr.2013.txt', index_col=0, sep=' ')\n",
    "print('Events =',len(calibr))\n",
    "calibr[:2]"
   ]
  },
  {
   "cell_type": "markdown",
   "metadata": {},
   "source": [
    "##  Некалибровочные события"
   ]
  },
  {
   "cell_type": "code",
   "execution_count": 10,
   "metadata": {
    "collapsed": false
   },
   "outputs": [
    {
     "name": "stdout",
     "output_type": "stream",
     "text": [
      "NonCalibration events:  1937\n"
     ]
    },
    {
     "data": {
      "text/html": [
       "<div>\n",
       "<table border=\"1\" class=\"dataframe\">\n",
       "  <thead>\n",
       "    <tr style=\"text-align: right;\">\n",
       "      <th></th>\n",
       "      <th>FlagL3</th>\n",
       "      <th>FlagG5</th>\n",
       "      <th>TL3</th>\n",
       "      <th>TG5</th>\n",
       "      <th>TriggerFlag</th>\n",
       "      <th>TT</th>\n",
       "    </tr>\n",
       "    <tr>\n",
       "      <th>Event</th>\n",
       "      <th></th>\n",
       "      <th></th>\n",
       "      <th></th>\n",
       "      <th></th>\n",
       "      <th></th>\n",
       "      <th></th>\n",
       "    </tr>\n",
       "  </thead>\n",
       "  <tbody>\n",
       "    <tr>\n",
       "      <th>10675</th>\n",
       "      <td>1</td>\n",
       "      <td>1</td>\n",
       "      <td>238</td>\n",
       "      <td>238</td>\n",
       "      <td>1</td>\n",
       "      <td>3</td>\n",
       "    </tr>\n",
       "    <tr>\n",
       "      <th>10677</th>\n",
       "      <td>1</td>\n",
       "      <td>1</td>\n",
       "      <td>235</td>\n",
       "      <td>236</td>\n",
       "      <td>1</td>\n",
       "      <td>3</td>\n",
       "    </tr>\n",
       "    <tr>\n",
       "      <th>10679</th>\n",
       "      <td>1</td>\n",
       "      <td>1</td>\n",
       "      <td>224</td>\n",
       "      <td>233</td>\n",
       "      <td>1</td>\n",
       "      <td>3</td>\n",
       "    </tr>\n",
       "  </tbody>\n",
       "</table>\n",
       "</div>"
      ],
      "text/plain": [
       "       FlagL3  FlagG5  TL3  TG5  TriggerFlag  TT\n",
       "Event                                           \n",
       "10675       1       1  238  238            1   3\n",
       "10677       1       1  235  236            1   3\n",
       "10679       1       1  224  233            1   3"
      ]
     },
     "execution_count": 10,
     "metadata": {},
     "output_type": "execute_result"
    }
   ],
   "source": [
    "# отбор некалибровочных событий\n",
    "Events = datum[:][calibr['Calibr']==0]\n",
    "print('NonCalibration events: ', len(Events))\n",
    "Events[:3]"
   ]
  },
  {
   "cell_type": "code",
   "execution_count": 11,
   "metadata": {
    "collapsed": false
   },
   "outputs": [
    {
     "name": "stdout",
     "output_type": "stream",
     "text": [
      "lenTL3 =  1339\n",
      "lenTG5 =  598\n"
     ]
    }
   ],
   "source": [
    "# Распределение по триггерам некалибровочных событий\n",
    "Trig_l3 = Events['TL3'][Events['TT']==3]\n",
    "print('lenTL3 = ',len(Trig_l3))\n",
    "Trig_g5 = Events['TG5'][Events['TT']==5]\n",
    "print('lenTG5 = ',len(Trig_g5))"
   ]
  },
  {
   "cell_type": "markdown",
   "metadata": {},
   "source": [
    "Из 1937 некалибровочных событий в 1339 первым сработал триггер L3, в 598 - G5."
   ]
  },
  {
   "cell_type": "code",
   "execution_count": 12,
   "metadata": {
    "collapsed": false
   },
   "outputs": [
    {
     "name": "stdout",
     "output_type": "stream",
     "text": [
      "TL3 < 180 : 36\n",
      "TG5 < 180 : 83\n"
     ]
    }
   ],
   "source": [
    "print('TL3 <', mint, ':', len(Trig_l3[:][Trig_l3 < mint]))\n",
    "print('TG5 <', mint, ':', len(Trig_g5[:][Trig_g5 < mint]))"
   ]
  },
  {
   "cell_type": "markdown",
   "metadata": {},
   "source": [
    "В 36+83 некалибровочных кадрах триггер сработал до бина 180. \n",
    "\n",
    "Раньше нужного триггер L3 \"сработал\" в 36 из 1339 кадрах (2.7%), а триггер G5 в 83 из 598 кадров (13.9%).\n"
   ]
  },
  {
   "cell_type": "code",
   "execution_count": 13,
   "metadata": {
    "collapsed": false
   },
   "outputs": [
    {
     "name": "stdout",
     "output_type": "stream",
     "text": [
      "TL3 > 300 : 16\n",
      "TG5 > 300 : 2\n"
     ]
    }
   ],
   "source": [
    "print('TL3 >', maxt, ':', len(Trig_l3[:][Trig_l3 > maxt]))\n",
    "print('TG5 >', maxt, ':', len(Trig_g5[:][Trig_g5 > maxt]))"
   ]
  },
  {
   "cell_type": "code",
   "execution_count": 14,
   "metadata": {
    "collapsed": false
   },
   "outputs": [
    {
     "data": {
      "image/png": "[encoded data removed]",
      "text/plain": [
       "<matplotlib.figure.Figure at 0xad3c6d8>"
      ]
     },
     "metadata": {},
     "output_type": "display_data"
    }
   ],
   "source": [
    "plt.figure(figsize=(16,6))\n",
    "plt.hist(Events['TL3'][Events['TT']==3], range=[0, 500], bins=250, alpha=0.4, label=r\"TL3\")\n",
    "plt.hist(Events['TG5'][Events['TT']==5], range=[0, 500], bins=250, alpha=0.4, label=r\"TG5\")\n",
    "plt.legend(loc=1)\n",
    "plt.yscale('log')\n",
    "plt.title('2013 NonCalibration Events Trigger time distribution')\n",
    "plt.xlabel('Time bin')\n",
    "plt.grid()"
   ]
  },
  {
   "cell_type": "markdown",
   "metadata": {},
   "source": [
    "#### Кадры с запоздавшими триггерами: "
   ]
  },
  {
   "cell_type": "code",
   "execution_count": 15,
   "metadata": {
    "collapsed": false
   },
   "outputs": [
    {
     "data": {
      "text/plain": [
       "Event\n",
       "10733    467\n",
       "10831    466\n",
       "10869    439\n",
       "10953    432\n",
       "11018    431\n",
       "11042    430\n",
       "11168    467\n",
       "11302    466\n",
       "11318    467\n",
       "11452    467\n",
       "11534    467\n",
       "11804    467\n",
       "11910    467\n",
       "12076    467\n",
       "13766    467\n",
       "13818    459\n",
       "Name: TL3, dtype: int64"
      ]
     },
     "execution_count": 15,
     "metadata": {},
     "output_type": "execute_result"
    }
   ],
   "source": [
    "Trig_l3[:][Trig_l3 > maxt]"
   ]
  },
  {
   "cell_type": "code",
   "execution_count": 16,
   "metadata": {
    "collapsed": false
   },
   "outputs": [
    {
     "data": {
      "text/plain": [
       "Event\n",
       "10897    358\n",
       "10964    416\n",
       "Name: TG5, dtype: int64"
      ]
     },
     "execution_count": 16,
     "metadata": {},
     "output_type": "execute_result"
    }
   ],
   "source": [
    "Trig_g5[:][Trig_g5 > maxt]"
   ]
  },
  {
   "cell_type": "markdown",
   "metadata": {},
   "source": [
    "## Калибровочные события"
   ]
  },
  {
   "cell_type": "code",
   "execution_count": 17,
   "metadata": {
    "collapsed": false
   },
   "outputs": [
    {
     "name": "stdout",
     "output_type": "stream",
     "text": [
      "Calibration events:  1839\n"
     ]
    },
    {
     "data": {
      "text/html": [
       "<div>\n",
       "<table border=\"1\" class=\"dataframe\">\n",
       "  <thead>\n",
       "    <tr style=\"text-align: right;\">\n",
       "      <th></th>\n",
       "      <th>FlagL3</th>\n",
       "      <th>FlagG5</th>\n",
       "      <th>TL3</th>\n",
       "      <th>TG5</th>\n",
       "      <th>TriggerFlag</th>\n",
       "      <th>TT</th>\n",
       "    </tr>\n",
       "    <tr>\n",
       "      <th>Event</th>\n",
       "      <th></th>\n",
       "      <th></th>\n",
       "      <th></th>\n",
       "      <th></th>\n",
       "      <th></th>\n",
       "      <th></th>\n",
       "    </tr>\n",
       "  </thead>\n",
       "  <tbody>\n",
       "    <tr>\n",
       "      <th>10676</th>\n",
       "      <td>1</td>\n",
       "      <td>1</td>\n",
       "      <td>201</td>\n",
       "      <td>239</td>\n",
       "      <td>1</td>\n",
       "      <td>3</td>\n",
       "    </tr>\n",
       "    <tr>\n",
       "      <th>10678</th>\n",
       "      <td>1</td>\n",
       "      <td>1</td>\n",
       "      <td>200</td>\n",
       "      <td>238</td>\n",
       "      <td>1</td>\n",
       "      <td>3</td>\n",
       "    </tr>\n",
       "    <tr>\n",
       "      <th>10682</th>\n",
       "      <td>1</td>\n",
       "      <td>1</td>\n",
       "      <td>201</td>\n",
       "      <td>239</td>\n",
       "      <td>1</td>\n",
       "      <td>3</td>\n",
       "    </tr>\n",
       "  </tbody>\n",
       "</table>\n",
       "</div>"
      ],
      "text/plain": [
       "       FlagL3  FlagG5  TL3  TG5  TriggerFlag  TT\n",
       "Event                                           \n",
       "10676       1       1  201  239            1   3\n",
       "10678       1       1  200  238            1   3\n",
       "10682       1       1  201  239            1   3"
      ]
     },
     "execution_count": 17,
     "metadata": {},
     "output_type": "execute_result"
    }
   ],
   "source": [
    "# отбор калибровочных событий\n",
    "Calibr=datum[:][calibr['Calibr']==1]\n",
    "print('Calibration events: ', len(Calibr))\n",
    "Calibr[:3]"
   ]
  },
  {
   "cell_type": "code",
   "execution_count": 18,
   "metadata": {
    "collapsed": false
   },
   "outputs": [
    {
     "name": "stdout",
     "output_type": "stream",
     "text": [
      "lenTL3 =  1794\n",
      "lenTG5 =  45\n",
      "TL3 < 180 : 7\n",
      "TG5 < 180 : 44\n",
      "TL3 > 300 : 0\n",
      "TG5 > 300 : 0\n"
     ]
    }
   ],
   "source": [
    "# распределение по триггерам\n",
    "Trig_Calibrl3 = Calibr['TL3'][Calibr['TT']==3]\n",
    "Trig_Calibrg5 = Calibr['TG5'][Calibr['TT']==5]\n",
    "print('lenTL3 = ',len(Trig_Calibrl3))\n",
    "print('lenTG5 = ',len(Trig_Calibrg5))\n",
    "print('TL3 <', mint, ':', len(Trig_Calibrl3[:][Trig_Calibrl3 < mint]))\n",
    "print('TG5 <', mint, ':', len(Trig_Calibrg5[:][Trig_Calibrg5 < mint]))\n",
    "print('TL3 >', maxt, ':', len(Trig_Calibrl3[:][Trig_Calibrl3 > maxt]))\n",
    "print('TG5 >', maxt, ':', len(Trig_Calibrg5[:][Trig_Calibrg5 > maxt]))"
   ]
  },
  {
   "cell_type": "markdown",
   "metadata": {},
   "source": [
    "В 1794 калибровочных событиях первым сработал триггер L3, в 45 - G5.\n",
    "\n",
    "В 51 калибровочных кадрах триггер сработал до бина 180.\n",
    "Раньше нужного триггер L3 \"сработал\" в 7 из 1794 кадрах (0.4%), а триггер G5 в 44 из 45 кадров (98%). Поздних триггеров нет."
   ]
  },
  {
   "cell_type": "code",
   "execution_count": 19,
   "metadata": {
    "collapsed": false,
    "scrolled": true
   },
   "outputs": [
    {
     "data": {
      "image/png": "[encoded data removed]",
      "text/plain": [
       "<matplotlib.figure.Figure at 0x8555080>"
      ]
     },
     "metadata": {},
     "output_type": "display_data"
    }
   ],
   "source": [
    "plt.figure(figsize=(16,6))\n",
    "plt.hist(Calibr['TL3'][Calibr['TT']==3], range=[0, 500], bins=250, alpha=0.4, label=r\"TL3\")\n",
    "plt.hist(Calibr['TG5'][Calibr['TT']==5], range=[0, 500], bins=250, alpha=0.4, label=r\"TG5\")\n",
    "plt.legend(loc=1)\n",
    "plt.yscale('log')\n",
    "plt.title('2013 Calibration Events Trigger time distribution')\n",
    "plt.xlabel('Time bin')\n",
    "plt.grid()"
   ]
  },
  {
   "cell_type": "code",
   "execution_count": 20,
   "metadata": {
    "collapsed": false
   },
   "outputs": [
    {
     "data": {
      "text/plain": [
       "Event\n",
       "10728     0\n",
       "10786     0\n",
       "10941     2\n",
       "11115     0\n",
       "11155     0\n",
       "11593     8\n",
       "11601    20\n",
       "Name: TL3, dtype: int64"
      ]
     },
     "execution_count": 20,
     "metadata": {},
     "output_type": "execute_result"
    }
   ],
   "source": [
    "# номера калибровочных событий с малыми временами триггера L3\n",
    "Trig_Calibrl3[:][Trig_Calibrl3 < mint]\n",
    "#Trig_Calibrg5[:][Trig_Calibrg5 < mint]"
   ]
  },
  {
   "cell_type": "markdown",
   "metadata": {},
   "source": [
    "## Cобытия-кандидаты ШАЛ"
   ]
  },
  {
   "cell_type": "markdown",
   "metadata": {},
   "source": [
    "#### Чтение списка событий-кандидатов ШАЛ\n",
    "\n",
    "Используется файл Димы timur2013.txt от 22.09.2016 г с результатом обработки экспериментальных событий по 12 версии. В нём 482 события."
   ]
  },
  {
   "cell_type": "code",
   "execution_count": 21,
   "metadata": {
    "collapsed": false
   },
   "outputs": [
    {
     "data": {
      "text/html": [
       "<div>\n",
       "<table border=\"1\" class=\"dataframe\">\n",
       "  <thead>\n",
       "    <tr style=\"text-align: right;\">\n",
       "      <th></th>\n",
       "      <th>EAS</th>\n",
       "    </tr>\n",
       "    <tr>\n",
       "      <th>Number</th>\n",
       "      <th></th>\n",
       "    </tr>\n",
       "  </thead>\n",
       "  <tbody>\n",
       "    <tr>\n",
       "      <th>10675</th>\n",
       "      <td>1</td>\n",
       "    </tr>\n",
       "    <tr>\n",
       "      <th>10677</th>\n",
       "      <td>1</td>\n",
       "    </tr>\n",
       "    <tr>\n",
       "      <th>10685</th>\n",
       "      <td>1</td>\n",
       "    </tr>\n",
       "  </tbody>\n",
       "</table>\n",
       "</div>"
      ],
      "text/plain": [
       "        EAS\n",
       "Number     \n",
       "10675     1\n",
       "10677     1\n",
       "10685     1"
      ]
     },
     "execution_count": 21,
     "metadata": {},
     "output_type": "execute_result"
    }
   ],
   "source": [
    "dima = pd.read_csv('timur2013.csv', header = 0, index_col=2, sep=' ')\n",
    "eas = pd.core.frame.DataFrame(dima, columns=['EAS'])\n",
    "eas['EAS']=int(1)\n",
    "eas[:3]"
   ]
  },
  {
   "cell_type": "code",
   "execution_count": 22,
   "metadata": {
    "collapsed": false
   },
   "outputs": [
    {
     "data": {
      "text/html": [
       "<div>\n",
       "<table border=\"1\" class=\"dataframe\">\n",
       "  <thead>\n",
       "    <tr style=\"text-align: right;\">\n",
       "      <th></th>\n",
       "      <th>FlagL3</th>\n",
       "      <th>FlagG5</th>\n",
       "      <th>TL3</th>\n",
       "      <th>TG5</th>\n",
       "      <th>TriggerFlag</th>\n",
       "      <th>TT</th>\n",
       "      <th>EAS</th>\n",
       "    </tr>\n",
       "    <tr>\n",
       "      <th>Event</th>\n",
       "      <th></th>\n",
       "      <th></th>\n",
       "      <th></th>\n",
       "      <th></th>\n",
       "      <th></th>\n",
       "      <th></th>\n",
       "      <th></th>\n",
       "    </tr>\n",
       "  </thead>\n",
       "  <tbody>\n",
       "    <tr>\n",
       "      <th>10675</th>\n",
       "      <td>1</td>\n",
       "      <td>1</td>\n",
       "      <td>238</td>\n",
       "      <td>238</td>\n",
       "      <td>1</td>\n",
       "      <td>3</td>\n",
       "      <td>1.0</td>\n",
       "    </tr>\n",
       "    <tr>\n",
       "      <th>10676</th>\n",
       "      <td>1</td>\n",
       "      <td>1</td>\n",
       "      <td>201</td>\n",
       "      <td>239</td>\n",
       "      <td>1</td>\n",
       "      <td>3</td>\n",
       "      <td>NaN</td>\n",
       "    </tr>\n",
       "    <tr>\n",
       "      <th>10677</th>\n",
       "      <td>1</td>\n",
       "      <td>1</td>\n",
       "      <td>235</td>\n",
       "      <td>236</td>\n",
       "      <td>1</td>\n",
       "      <td>3</td>\n",
       "      <td>1.0</td>\n",
       "    </tr>\n",
       "  </tbody>\n",
       "</table>\n",
       "</div>"
      ],
      "text/plain": [
       "       FlagL3  FlagG5  TL3  TG5  TriggerFlag  TT  EAS\n",
       "Event                                                \n",
       "10675       1       1  238  238            1   3  1.0\n",
       "10676       1       1  201  239            1   3  NaN\n",
       "10677       1       1  235  236            1   3  1.0"
      ]
     },
     "execution_count": 22,
     "metadata": {},
     "output_type": "execute_result"
    }
   ],
   "source": [
    "alll=datum.join(eas)\n",
    "alll[:3]"
   ]
  },
  {
   "cell_type": "code",
   "execution_count": 23,
   "metadata": {
    "collapsed": false
   },
   "outputs": [
    {
     "name": "stdout",
     "output_type": "stream",
     "text": [
      "EAS events:  482\n"
     ]
    },
    {
     "data": {
      "text/html": [
       "<div>\n",
       "<table border=\"1\" class=\"dataframe\">\n",
       "  <thead>\n",
       "    <tr style=\"text-align: right;\">\n",
       "      <th></th>\n",
       "      <th>FlagL3</th>\n",
       "      <th>FlagG5</th>\n",
       "      <th>TL3</th>\n",
       "      <th>TG5</th>\n",
       "      <th>TriggerFlag</th>\n",
       "      <th>TT</th>\n",
       "      <th>EAS</th>\n",
       "    </tr>\n",
       "    <tr>\n",
       "      <th>Event</th>\n",
       "      <th></th>\n",
       "      <th></th>\n",
       "      <th></th>\n",
       "      <th></th>\n",
       "      <th></th>\n",
       "      <th></th>\n",
       "      <th></th>\n",
       "    </tr>\n",
       "  </thead>\n",
       "  <tbody>\n",
       "    <tr>\n",
       "      <th>10675</th>\n",
       "      <td>1</td>\n",
       "      <td>1</td>\n",
       "      <td>238</td>\n",
       "      <td>238</td>\n",
       "      <td>1</td>\n",
       "      <td>3</td>\n",
       "      <td>1.0</td>\n",
       "    </tr>\n",
       "    <tr>\n",
       "      <th>10677</th>\n",
       "      <td>1</td>\n",
       "      <td>1</td>\n",
       "      <td>235</td>\n",
       "      <td>236</td>\n",
       "      <td>1</td>\n",
       "      <td>3</td>\n",
       "      <td>1.0</td>\n",
       "    </tr>\n",
       "    <tr>\n",
       "      <th>10685</th>\n",
       "      <td>1</td>\n",
       "      <td>1</td>\n",
       "      <td>205</td>\n",
       "      <td>238</td>\n",
       "      <td>1</td>\n",
       "      <td>3</td>\n",
       "      <td>1.0</td>\n",
       "    </tr>\n",
       "  </tbody>\n",
       "</table>\n",
       "</div>"
      ],
      "text/plain": [
       "       FlagL3  FlagG5  TL3  TG5  TriggerFlag  TT  EAS\n",
       "Event                                                \n",
       "10675       1       1  238  238            1   3  1.0\n",
       "10677       1       1  235  236            1   3  1.0\n",
       "10685       1       1  205  238            1   3  1.0"
      ]
     },
     "execution_count": 23,
     "metadata": {},
     "output_type": "execute_result"
    }
   ],
   "source": [
    "# отбор событий EAS из полного списка\n",
    "EAS = alll[:][alll['EAS']==1]\n",
    "print('EAS events: ', len(EAS))\n",
    "EAS[:3]"
   ]
  },
  {
   "cell_type": "markdown",
   "metadata": {},
   "source": [
    "#### Анализ триггеров событий ШАЛ"
   ]
  },
  {
   "cell_type": "code",
   "execution_count": 24,
   "metadata": {
    "collapsed": false
   },
   "outputs": [
    {
     "name": "stdout",
     "output_type": "stream",
     "text": [
      "EAS events:  482\n",
      "TL3 =  464\n",
      "TG5 =  18\n",
      "TL3 < 180 : 1\n",
      "TG5 < 180 : 0\n",
      "TL3 > 300 : 5\n",
      "TG5 > 300 : 0\n"
     ]
    }
   ],
   "source": [
    "Trig_EASl3 = EAS['TL3'][EAS['TT']==3]\n",
    "Trig_EASg5 = EAS['TG5'][EAS['TT']==5]\n",
    "print('EAS events: ', len(EAS))\n",
    "print('TL3 = ',len(Trig_EASl3))\n",
    "print('TG5 = ',len(Trig_EASg5))\n",
    "print('TL3 <', mint, ':', len(Trig_EASl3[:][Trig_EASl3 < mint]))\n",
    "print('TG5 <', mint, ':', len(Trig_EASg5[:][Trig_EASg5 < mint]))\n",
    "print('TL3 >', maxt, ':', len(Trig_EASl3[:][Trig_EASl3 > maxt]))\n",
    "print('TG5 >', maxt, ':', len(Trig_EASg5[:][Trig_EASg5 > maxt]))"
   ]
  },
  {
   "cell_type": "markdown",
   "metadata": {},
   "source": [
    "В 464 \"событиях ШАЛ\" первым сработал триггер L3, в 18 - G5.\n",
    "Раньше нужного триггер L3 \"сработал\" только в 1 из 464 кадрах (0,2%). Ранних триггеров G5 нет.\n",
    "\n",
    "Но есть 5 поздних триггеров L3. Т.е. 5 событий, в которых триггер вырабатывается только на калибровочном всплеске в конце кадра."
   ]
  },
  {
   "cell_type": "code",
   "execution_count": 25,
   "metadata": {
    "collapsed": false
   },
   "outputs": [
    {
     "data": {
      "image/png": "[encoded data removed]",
      "text/plain": [
       "<matplotlib.figure.Figure at 0xb604470>"
      ]
     },
     "metadata": {},
     "output_type": "display_data"
    }
   ],
   "source": [
    "plt.figure(figsize=(16,6))\n",
    "plt.hist(EAS['TL3'][EAS['TT']==3], range=[0, 500], bins=250, alpha=0.4, label=r\"TL3\")\n",
    "plt.hist(EAS['TG5'][EAS['TT']==5], range=[0, 500], bins=250, alpha=0.4, label=r\"TG5\")\n",
    "plt.legend(loc=1)\n",
    "plt.yscale('log')\n",
    "plt.title('2013 EAS Events Trigger time distribution')\n",
    "plt.xlabel('Time bin')\n",
    "plt.grid()"
   ]
  },
  {
   "cell_type": "code",
   "execution_count": 26,
   "metadata": {
    "collapsed": false
   },
   "outputs": [
    {
     "data": {
      "text/plain": [
       "Event\n",
       "11544    0\n",
       "Name: TL3, dtype: int64"
      ]
     },
     "execution_count": 26,
     "metadata": {},
     "output_type": "execute_result"
    }
   ],
   "source": [
    "# номера калибровочных событий с малыми временами триггера\n",
    "Trig_EASl3[:][Trig_EASl3 < mint]"
   ]
  },
  {
   "cell_type": "code",
   "execution_count": 27,
   "metadata": {
    "collapsed": false
   },
   "outputs": [
    {
     "data": {
      "text/plain": [
       "Event\n",
       "11168    467\n",
       "11302    466\n",
       "11318    467\n",
       "11452    467\n",
       "11534    467\n",
       "Name: TL3, dtype: int64"
      ]
     },
     "execution_count": 27,
     "metadata": {},
     "output_type": "execute_result"
    }
   ],
   "source": [
    "# номера калибровочных событий с большими временами триггера\n",
    "Trig_EASl3[:][Trig_EASl3 > maxt]"
   ]
  },
  {
   "cell_type": "markdown",
   "metadata": {},
   "source": [
    "Из этих событий в утвержденном списке вручную отобранных событий есть одно событие 11168. Событий 11302, 11318, 11452, 11534 нет в списке.\n",
    "\n",
    "Таким образом, из событий ШАЛ через модель триггера некорректно проходят два ливня:\n",
    "11168 - триггер вырабатывается только на калибровочном всплеске, \n",
    "11544 - вырабатывается в самом начале кадра."
   ]
  },
  {
   "cell_type": "code",
   "execution_count": 28,
   "metadata": {
    "collapsed": false
   },
   "outputs": [
    {
     "data": {
      "text/plain": [
       "FlagL3           1.0\n",
       "FlagG5           1.0\n",
       "TL3            467.0\n",
       "TG5            468.0\n",
       "TriggerFlag      1.0\n",
       "TT               3.0\n",
       "EAS              1.0\n",
       "Name: 11168, dtype: float64"
      ]
     },
     "execution_count": 28,
     "metadata": {},
     "output_type": "execute_result"
    }
   ],
   "source": [
    "# все параметры для события 11168\n",
    "EAS.ix[11168]"
   ]
  },
  {
   "cell_type": "code",
   "execution_count": 29,
   "metadata": {
    "collapsed": false
   },
   "outputs": [
    {
     "data": {
      "text/plain": [
       "FlagL3         1.0\n",
       "FlagG5         1.0\n",
       "TL3            0.0\n",
       "TG5            0.0\n",
       "TriggerFlag    1.0\n",
       "TT             3.0\n",
       "EAS            1.0\n",
       "Name: 11544, dtype: float64"
      ]
     },
     "execution_count": 29,
     "metadata": {},
     "output_type": "execute_result"
    }
   ],
   "source": [
    "# все параметры для события 11544\n",
    "EAS.ix[11544]"
   ]
  },
  {
   "cell_type": "code",
   "execution_count": 30,
   "metadata": {
    "collapsed": false,
    "scrolled": true
   },
   "outputs": [
    {
     "data": {
      "text/plain": [
       "FlagL3           1\n",
       "FlagG5           1\n",
       "TL3            467\n",
       "TG5            467\n",
       "TriggerFlag      1\n",
       "TT               3\n",
       "Name: 10733, dtype: int64"
      ]
     },
     "execution_count": 30,
     "metadata": {},
     "output_type": "execute_result"
    }
   ],
   "source": [
    "# все параметры для события 10733\n",
    "datum.ix[10733]"
   ]
  },
  {
   "cell_type": "markdown",
   "metadata": {},
   "source": [
    "# Итоги"
   ]
  },
  {
   "cell_type": "markdown",
   "metadata": {},
   "source": [
    "Модель триггера проверена на экспериментальных данных 2013 г.\n",
    "\n",
    "Во всех 3813 экспериментальных событиях в процессе моделирования \"выработался\" итоговый триггер TriggerFlag, а также триггеры L3 и G5.\n",
    "Раньше нужного триггер L3 \"сработал\" в 50 из 3140 кадров (1,5%), а триггер G5 в 156 из 673 кадров (23.2%). Триггер сработал слишком поздно в 18 событиях: для L3 в 16 из 3140 (0,5%) и G5 в 2 из 673 (0,3%). Все поздние события - некалибровочные.\n",
    "\n",
    "Калибровочными считаются 1839 кадров. В 51 из них триггер сработал до бина 180. Раньше нужного триггер L3 \"сработал\" в 7 из 1794 кадрах (0.4%), а триггер G5 в 44 из 45 кадров (98%).\n",
    "\n",
    "В  1937 некалибровочных событиях раньше нужного триггер L3 \"сработал\" в 36 из 1339 кадров (2.7%), а триггер G5 в 83 из 598 кадров (13.9%). Поздних триггеры в 18 событиях: L3: 16 из 1339 (1,2%) и G5 в 2 из 598 (0,3%).\n",
    "\n",
    "Из 482 событий, классифицированных как ШАЛ, В 464 кадрах первым сработал триггер L3, в 18 - G5. Раньше нужного триггер L3 \"сработал\" только в 1 из 464 событий (0,2%) с номером 11544. Ранних триггеров G5 нет. Но есть событие 11168, в котором триггер вырабатывается только на калибровочном всплеске."
   ]
  },
  {
   "cell_type": "markdown",
   "metadata": {},
   "source": [
    "Результаты представлены в виде таблицы для удобства восприятия."
   ]
  },
  {
   "cell_type": "markdown",
   "metadata": {},
   "source": [
    "\\begin{array}{|c|r|r|r|r|r|r|r|r|r|r|}\n",
    "\\hline\n",
    "Trig & All  & All< 180   & Calibr & Cal< 180 & NoCal & NC< 180 & NC>300 & EAS & EAS < 180 & EAS > 300\\\\\n",
    "\\hline \n",
    "L3  & 3140 &  50  (1.5\\%) & 1794 & 7  (0.4\\%) & 1339 & 36 (2.7\\%) &16 (1.2\\%) & 464 & 1(0.2\\%) & 0 \\\\ \\hline \n",
    "G5  &  673 & 156  (23\\%)  &   45 & 44 (98\\%)  &  598 & 83 (14\\%)  & 2 (0.3\\%) &  18 & 0        & 5 \\\\ \\hline \n",
    "All & 3813 & 206  (5.4\\%) & 1839 & 51 (2.7\\%) & 1937 &119 (6.1\\%))&18 (0.9\\%) & 482 & 1(0.2\\%) & 5 \\\\ \n",
    "\\hline\n",
    "\\end{array}"
   ]
  },
  {
   "cell_type": "markdown",
   "metadata": {},
   "source": [
    "|Trig| All  | All< 180|All>300|| Calibr | Cal< 180 || NoCal| NC< 180 | NC>300 || EAS | EAS< 180 | EAS>300| \n",
    "| :- |----: | -------:| --:   ||----: |    ----:   ||----: |  ----:     | ----:     ||----:|   ----:  | -:|\n",
    "|L3  | 3140 |  50 (1.5%) | 16|| 1794 |  7 (0.4%) || 1339 | 36 (2.7%) |16 (1.2%) || 464 | 1(0.2%) | 0 | \n",
    "|G5  |  673 | 156 (23%)  |  2||   45 | 44 (98%)  ||  598 | 83 (14%)  | 2 (0.3%) ||  18 | 0       | 5 |\n",
    "|All | 3813 | 206 (5.4%) | 18|| 1839 | 51 (2.7%) || 1937 |119 (6.1%))|18 (0.9%) || 482 | 1(0.2%) | 5 |"
   ]
  },
  {
   "cell_type": "markdown",
   "metadata": {},
   "source": [
    "К недостаткам данной работы относится обработка событий с невыравненными по светодиодному импульсу каналами. Срабатывание на нулевом временном бине может быть объяснено шумами, имеющимися в некоторых кадрах в первых бинах. Можно исправить эти недочеты и заново проверить работу триггера.\n",
    "\n",
    "##### Можно ли считать такой триггер удовлетворительным?"
   ]
  }
 ],
 "metadata": {
  "anaconda-cloud": {},
  "kernelspec": {
   "display_name": "Python [Root]",
   "language": "python",
   "name": "Python [Root]"
  },
  "language_info": {
   "codemirror_mode": {
    "name": "ipython",
    "version": 3
   },
   "file_extension": ".py",
   "mimetype": "text/x-python",
   "name": "python",
   "nbconvert_exporter": "python",
   "pygments_lexer": "ipython3",
   "version": "3.5.1"
  }
 },
 "nbformat": 4,
 "nbformat_minor": 0
}
