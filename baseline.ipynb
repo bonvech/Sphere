{
 "cells": [
  {
   "cell_type": "markdown",
   "metadata": {},
   "source": [
    "# Предскажите зарплату по тексту объявления\n",
    "\n",
    "На сайтах для поиска работы можно найти сотни тысяч объявлений, каждое из которых состоит из пространного описания вакансии и предлагаемой зарплаты. Есть ли связь между описанием и зарплатой? Существуют ли определенные слова, которые наиболее сильно характеризуют зарплату? Можно ли найти другие информативные факторы? Вам предстоит ответить на эти вопросы, проанализировав выборку объявлений о работе в Великобритании. "
   ]
  },
  {
   "cell_type": "code",
   "execution_count": 1,
   "metadata": {
    "collapsed": false
   },
   "outputs": [
    {
     "name": "stdout",
     "output_type": "stream",
     "text": [
      "Populating the interactive namespace from numpy and matplotlib\n"
     ]
    }
   ],
   "source": [
    "%pylab inline"
   ]
  },
  {
   "cell_type": "code",
   "execution_count": 2,
   "metadata": {
    "collapsed": false
   },
   "outputs": [
    {
     "name": "stdout",
     "output_type": "stream",
     "text": [
      "Introduction.ipynb baseline.ipynb     features-train.zip\r\n",
      "adult.data         features-train.csv intro.ipynb\r\n"
     ]
    }
   ],
   "source": [
    "!ls"
   ]
  },
  {
   "cell_type": "markdown",
   "metadata": {},
   "source": [
    "Разархивируем скачанный архив с помощью консольной команды unzip"
   ]
  },
  {
   "cell_type": "code",
   "execution_count": 3,
   "metadata": {
    "collapsed": false
   },
   "outputs": [
    {
     "name": "stdout",
     "output_type": "stream",
     "text": [
      "UnZip 5.52 of 28 February 2005, by Info-ZIP.  Maintained by C. Spieler.  Send\r\n",
      "bug reports using http://www.info-zip.org/zip-bug.html; see README for details.\r\n",
      "\r\n",
      "Usage: unzip [-Z] [-opts[modifiers]] file[.zip] [list] [-x xlist] [-d exdir]\r\n",
      "  Default action is to extract files in list, except those in xlist, to exdir;\r\n",
      "  file[.zip] may be a wildcard.  -Z => ZipInfo mode (\"unzip -Z\" for usage).\r\n",
      "\r\n",
      "  -p  extract files to pipe, no messages     -l  list files (short format)\r\n",
      "  -f  freshen existing files, create none    -t  test compressed archive data\r\n",
      "  -u  update files, create if necessary      -z  display archive comment\r\n",
      "  -x  exclude files that follow (in xlist)   -d  extract files into exdir\r\n",
      "\r\n",
      "modifiers:                                   -q  quiet mode (-qq => quieter)\r\n",
      "  -n  never overwrite existing files         -a  auto-convert any text files\r\n",
      "  -o  overwrite files WITHOUT prompting      -aa treat ALL files as text\r\n",
      "  -j  junk paths (do not make directories)   -v  be verbose/print version info\r\n",
      "  -C  match filenames case-insensitively     -L  make (some) names lowercase\r\n",
      "  -X  restore UID/GID info                   -V  retain VMS version numbers\r\n",
      "  -K  keep setuid/setgid/tacky permissions   -M  pipe through \"more\" pager\r\n",
      "Examples (see unzip.txt for more info):\r\n",
      "  unzip data1 -x joe   => extract all files except joe from zipfile data1.zip\r\n",
      "  unzip -p foo | more  => send contents of foo.zip via pipe into program more\r\n",
      "  unzip -fo foo ReadMe => quietly replace existing ReadMe if archive file newer\r\n"
     ]
    }
   ],
   "source": [
    "!unzip --help"
   ]
  },
  {
   "cell_type": "code",
   "execution_count": 6,
   "metadata": {
    "collapsed": false
   },
   "outputs": [
    {
     "name": "stdout",
     "output_type": "stream",
     "text": [
      "Archive:  features-train.zip\n",
      "  inflating: features-train.csv      \n"
     ]
    }
   ],
   "source": [
    "!unzip features-train.zip"
   ]
  },
  {
   "cell_type": "code",
   "execution_count": 4,
   "metadata": {
    "collapsed": false
   },
   "outputs": [
    {
     "name": "stdout",
     "output_type": "stream",
     "text": [
      "Introduction.ipynb baseline.ipynb     features-train.zip\r\n",
      "adult.data         features-train.csv intro.ipynb\r\n"
     ]
    }
   ],
   "source": [
    "!ls"
   ]
  },
  {
   "cell_type": "markdown",
   "metadata": {},
   "source": [
    "Появился файл features-train.csv"
   ]
  },
  {
   "cell_type": "markdown",
   "metadata": {},
   "source": [
    "Объявляем используемые библиотеки"
   ]
  },
  {
   "cell_type": "code",
   "execution_count": 5,
   "metadata": {
    "collapsed": true
   },
   "outputs": [],
   "source": [
    "import numpy as np\n",
    "import pandas as pd\n",
    "import re\n",
    "import matplotlib.pyplot as plt\n",
    "\n",
    "from tqdm import tqdm"
   ]
  },
  {
   "cell_type": "code",
   "execution_count": 6,
   "metadata": {
    "collapsed": false,
    "scrolled": false
   },
   "outputs": [
    {
     "name": "stdout",
     "output_type": "stream",
     "text": [
      "Id,Title,FullDescription,LocationRaw,LocationNormalized,ContractType,ContractTime,Company,Category,SalaryRaw,SalaryNormalized,SourceName\r\n",
      "0,Chartered Senior Quantity Surveyor,\"Award winning multi disciplinary consultancy are looking for an experienced MRICS/FRICS Senior Quantity Surveyor to join their successful growing Quantity Surveying team. This is an excellent opportunity for an experienced Chartered Quantity Surveyor to take on team management responsibilities whilst maintaining a hands on involvement in providing and growing the Quantity Surveying team in the South West area. You will be highly involved in business development and will work alongside the Director on all cost related projects. You will be managing a small team of Quantity Surveyors mentoring APC junior Quantity Surveyors and guiding Chartered QS on a variety of projects from Pre contract  Post Contract. The successful candidate will need to be chartered MRICS/FRICS Senior Quantity Surveyor with consultancy experience. You will need be a client facing Senior Quantity Surveyor who has a proven track record in business development & has experience of growing a QS division. Candidates must be dynamic, ambitious & enthusiastic with good interpersonal & business development skills. You will need to have a broad range of sector experience and have proven consultancy experience delivering projects in Education, Offices, Retail, & Commercial sector, Some experience working with Housing Associations sector would be advantageous but not essential. If you feel you have the relevant experience and would like to discuss this fantastic opportunity in more detail please call Lee Faux  (Apply online only) or email\",Somerset,Somerset,,permanent,Resourcing Group,Consultancy Jobs,45000 - 55000/annum,50000,cv-library.co.uk\r\n"
     ]
    }
   ],
   "source": [
    "!head -n 2 features-train.csv"
   ]
  },
  {
   "cell_type": "code",
   "execution_count": 7,
   "metadata": {
    "collapsed": false
   },
   "outputs": [
    {
     "data": {
      "text/html": [
       "<div>\n",
       "<table border=\"1\" class=\"dataframe\">\n",
       "  <thead>\n",
       "    <tr style=\"text-align: right;\">\n",
       "      <th></th>\n",
       "      <th>Title</th>\n",
       "      <th>FullDescription</th>\n",
       "      <th>LocationRaw</th>\n",
       "      <th>LocationNormalized</th>\n",
       "      <th>ContractType</th>\n",
       "      <th>ContractTime</th>\n",
       "      <th>Company</th>\n",
       "      <th>Category</th>\n",
       "      <th>SalaryRaw</th>\n",
       "      <th>SalaryNormalized</th>\n",
       "      <th>SourceName</th>\n",
       "    </tr>\n",
       "    <tr>\n",
       "      <th>Id</th>\n",
       "      <th></th>\n",
       "      <th></th>\n",
       "      <th></th>\n",
       "      <th></th>\n",
       "      <th></th>\n",
       "      <th></th>\n",
       "      <th></th>\n",
       "      <th></th>\n",
       "      <th></th>\n",
       "      <th></th>\n",
       "      <th></th>\n",
       "    </tr>\n",
       "  </thead>\n",
       "  <tbody>\n",
       "    <tr>\n",
       "      <th>0</th>\n",
       "      <td>Chartered Senior Quantity Surveyor</td>\n",
       "      <td>Award winning multi disciplinary consultancy a...</td>\n",
       "      <td>Somerset</td>\n",
       "      <td>Somerset</td>\n",
       "      <td>NaN</td>\n",
       "      <td>permanent</td>\n",
       "      <td>Resourcing Group</td>\n",
       "      <td>Consultancy Jobs</td>\n",
       "      <td>45000 - 55000/annum</td>\n",
       "      <td>50000</td>\n",
       "      <td>cv-library.co.uk</td>\n",
       "    </tr>\n",
       "    <tr>\n",
       "      <th>1</th>\n",
       "      <td>Net Developer  VB / SQL  Central Manchester  *...</td>\n",
       "      <td>A senior / experienced VB.Net Developer, with ...</td>\n",
       "      <td>Manchester, Greater Manchester, England, Great...</td>\n",
       "      <td>Manchester</td>\n",
       "      <td>NaN</td>\n",
       "      <td>permanent</td>\n",
       "      <td>CV Screen Ltd</td>\n",
       "      <td>IT Jobs</td>\n",
       "      <td>30000 - 45000/annum + benefits</td>\n",
       "      <td>37500</td>\n",
       "      <td>cv-library.co.uk</td>\n",
       "    </tr>\n",
       "    <tr>\n",
       "      <th>2</th>\n",
       "      <td>Desktop Support Administrator  Windows 7, Exch...</td>\n",
       "      <td>Desktop Support Administrator  Windows 7, Exch...</td>\n",
       "      <td>Reading Berkshire South East</td>\n",
       "      <td>Reading</td>\n",
       "      <td>NaN</td>\n",
       "      <td>permanent</td>\n",
       "      <td>Spectrum IT</td>\n",
       "      <td>IT Jobs</td>\n",
       "      <td>26000 - 30000 per annum + excellent benefits</td>\n",
       "      <td>28000</td>\n",
       "      <td>totaljobs.com</td>\n",
       "    </tr>\n",
       "    <tr>\n",
       "      <th>3</th>\n",
       "      <td>Clinical Lead (RGN)</td>\n",
       "      <td>RGN Clinical Lead Mid Glamorgan Very competiti...</td>\n",
       "      <td>Merthyr Tydfil Mid Glamorgan Wales</td>\n",
       "      <td>UK</td>\n",
       "      <td>NaN</td>\n",
       "      <td>permanent</td>\n",
       "      <td>BROOK STREET BUREAU   Cardiff Care</td>\n",
       "      <td>Healthcare &amp; Nursing Jobs</td>\n",
       "      <td>26026 - 29029 per annum + Benefits</td>\n",
       "      <td>27527</td>\n",
       "      <td>totaljobs.com</td>\n",
       "    </tr>\n",
       "    <tr>\n",
       "      <th>4</th>\n",
       "      <td>Charity Fundraisers  GET PAID TO SAVE LIVES</td>\n",
       "      <td>CHARITY FUNDRAISING REPRESENTATIVES  GET PAID ...</td>\n",
       "      <td>Exeter,Devon,EXMOUTH,CREDITON,OTTERY ST MARY,D...</td>\n",
       "      <td>UK</td>\n",
       "      <td>NaN</td>\n",
       "      <td>permanent</td>\n",
       "      <td>Recruit4Talent</td>\n",
       "      <td>Sales Jobs</td>\n",
       "      <td>7 per hour + bonus</td>\n",
       "      <td>13440</td>\n",
       "      <td>jobsite.co.uk</td>\n",
       "    </tr>\n",
       "  </tbody>\n",
       "</table>\n",
       "</div>"
      ],
      "text/plain": [
       "                                                Title  \\\n",
       "Id                                                      \n",
       "0                  Chartered Senior Quantity Surveyor   \n",
       "1   Net Developer  VB / SQL  Central Manchester  *...   \n",
       "2   Desktop Support Administrator  Windows 7, Exch...   \n",
       "3                                 Clinical Lead (RGN)   \n",
       "4         Charity Fundraisers  GET PAID TO SAVE LIVES   \n",
       "\n",
       "                                      FullDescription  \\\n",
       "Id                                                      \n",
       "0   Award winning multi disciplinary consultancy a...   \n",
       "1   A senior / experienced VB.Net Developer, with ...   \n",
       "2   Desktop Support Administrator  Windows 7, Exch...   \n",
       "3   RGN Clinical Lead Mid Glamorgan Very competiti...   \n",
       "4   CHARITY FUNDRAISING REPRESENTATIVES  GET PAID ...   \n",
       "\n",
       "                                          LocationRaw LocationNormalized  \\\n",
       "Id                                                                         \n",
       "0                                            Somerset           Somerset   \n",
       "1   Manchester, Greater Manchester, England, Great...         Manchester   \n",
       "2                        Reading Berkshire South East            Reading   \n",
       "3                  Merthyr Tydfil Mid Glamorgan Wales                 UK   \n",
       "4   Exeter,Devon,EXMOUTH,CREDITON,OTTERY ST MARY,D...                 UK   \n",
       "\n",
       "   ContractType ContractTime                             Company  \\\n",
       "Id                                                                 \n",
       "0           NaN    permanent                    Resourcing Group   \n",
       "1           NaN    permanent                       CV Screen Ltd   \n",
       "2           NaN    permanent                         Spectrum IT   \n",
       "3           NaN    permanent  BROOK STREET BUREAU   Cardiff Care   \n",
       "4           NaN    permanent                      Recruit4Talent   \n",
       "\n",
       "                     Category                                     SalaryRaw  \\\n",
       "Id                                                                            \n",
       "0            Consultancy Jobs                           45000 - 55000/annum   \n",
       "1                     IT Jobs                30000 - 45000/annum + benefits   \n",
       "2                     IT Jobs  26000 - 30000 per annum + excellent benefits   \n",
       "3   Healthcare & Nursing Jobs            26026 - 29029 per annum + Benefits   \n",
       "4                  Sales Jobs                            7 per hour + bonus   \n",
       "\n",
       "    SalaryNormalized        SourceName  \n",
       "Id                                      \n",
       "0              50000  cv-library.co.uk  \n",
       "1              37500  cv-library.co.uk  \n",
       "2              28000     totaljobs.com  \n",
       "3              27527     totaljobs.com  \n",
       "4              13440     jobsite.co.uk  "
      ]
     },
     "execution_count": 7,
     "metadata": {},
     "output_type": "execute_result"
    }
   ],
   "source": [
    "data = pd.read_csv('features-train.csv', header=0, index_col=0, sep=',')\n",
    "data.head()"
   ]
  },
  {
   "cell_type": "code",
   "execution_count": 8,
   "metadata": {
    "collapsed": false
   },
   "outputs": [],
   "source": [
    "all_texts = data[filter(lambda c: 'Salary' not in c, data.columns)].values\n",
    "all_texts = map(lambda a: re.sub('[^a-z]', ' ', ' '.join(a).lower()), all_texts.astype(str))"
   ]
  },
  {
   "cell_type": "code",
   "execution_count": 9,
   "metadata": {
    "collapsed": false
   },
   "outputs": [
    {
     "data": {
      "text/plain": [
       "179999"
      ]
     },
     "execution_count": 9,
     "metadata": {},
     "output_type": "execute_result"
    }
   ],
   "source": [
    "len(all_texts)"
   ]
  },
  {
   "cell_type": "code",
   "execution_count": 10,
   "metadata": {
    "collapsed": false
   },
   "outputs": [
    {
     "data": {
      "text/plain": [
       "'chartered senior quantity surveyor award winning multi disciplinary consultancy are looking for an experienced mrics frics senior quantity surveyor to join their successful growing quantity surveying team  this is an excellent opportunity for an experienced chartered quantity surveyor to take on team management responsibilities whilst maintaining a hands on involvement in providing and growing the quantity surveying team in the south west area  you will be highly involved in business development and will work alongside the director on all cost related projects  you will be managing a small team of quantity surveyors mentoring apc junior quantity surveyors and guiding chartered qs on a variety of projects from pre contract  post contract  the successful candidate will need to be chartered mrics frics senior quantity surveyor with consultancy experience  you will need be a client facing senior quantity surveyor who has a proven track record in business development   has experience of growing a qs division  candidates must be dynamic  ambitious   enthusiastic with good interpersonal   business development skills  you will need to have a broad range of sector experience and have proven consultancy experience delivering projects in education  offices  retail    commercial sector  some experience working with housing associations sector would be advantageous but not essential  if you feel you have the relevant experience and would like to discuss this fantastic opportunity in more detail please call lee faux   apply online only  or email somerset somerset nan permanent resourcing group consultancy jobs cv library co uk'"
      ]
     },
     "execution_count": 10,
     "metadata": {},
     "output_type": "execute_result"
    }
   ],
   "source": [
    "all_texts[0]"
   ]
  },
  {
   "cell_type": "code",
   "execution_count": 11,
   "metadata": {
    "collapsed": false
   },
   "outputs": [],
   "source": [
    "from sklearn.feature_extraction.text import CountVectorizer, TfidfVectorizer\n",
    "\n",
    "vectorizer = TfidfVectorizer(stop_words='english', min_df=5)\n",
    "_ = vectorizer.fit(all_texts)"
   ]
  },
  {
   "cell_type": "code",
   "execution_count": 12,
   "metadata": {
    "collapsed": false
   },
   "outputs": [],
   "source": [
    "X = vectorizer.transform(all_texts)\n",
    "Y = data.SalaryNormalized.values"
   ]
  },
  {
   "cell_type": "markdown",
   "metadata": {},
   "source": [
    "# Ridge regression"
   ]
  },
  {
   "cell_type": "code",
   "execution_count": 13,
   "metadata": {
    "collapsed": true
   },
   "outputs": [],
   "source": [
    "from sklearn.linear_model import ElasticNet, Ridge"
   ]
  },
  {
   "cell_type": "code",
   "execution_count": 14,
   "metadata": {
    "collapsed": false
   },
   "outputs": [
    {
     "name": "stdout",
     "output_type": "stream",
     "text": [
      "CPU times: user 16 s, sys: 131 ms, total: 16.2 s\n",
      "Wall time: 16.3 s\n"
     ]
    }
   ],
   "source": [
    "%%time\n",
    "\n",
    "lr = Ridge(solver='sag', alpha=0.1)\n",
    "lr.fit(X,Y)"
   ]
  },
  {
   "cell_type": "code",
   "execution_count": 15,
   "metadata": {
    "collapsed": true
   },
   "outputs": [],
   "source": [
    "from sklearn.metrics import r2_score, mean_absolute_error, mean_squared_error"
   ]
  },
  {
   "cell_type": "code",
   "execution_count": 16,
   "metadata": {
    "collapsed": false
   },
   "outputs": [
    {
     "name": "stdout",
     "output_type": "stream",
     "text": [
      "R2 0.78\n",
      "MAE 5798.47\n",
      "RMSE 8311.72\n"
     ]
    }
   ],
   "source": [
    "print 'R2 %.2f' % r2_score(Y, lr.predict(X))\n",
    "print 'MAE %.2f' % mean_absolute_error(Y, lr.predict(X))\n",
    "print 'RMSE %.2f' % np.sqrt(mean_squared_error(Y, lr.predict(X)))"
   ]
  },
  {
   "cell_type": "code",
   "execution_count": 17,
   "metadata": {
    "collapsed": false
   },
   "outputs": [
    {
     "data": {
      "image/png": "[encoded data removed]",
      "text/plain": [
       "<matplotlib.figure.Figure at 0x11680c210>"
      ]
     },
     "metadata": {},
     "output_type": "display_data"
    }
   ],
   "source": [
    "figsize(16,8)\n",
    "plt.hist(Y - lr.predict(X), range=[-1e5, 1e5], bins=100, alpha=0.4)\n",
    "plt.hist(Y - np.mean(Y), range=[-1e5, 1e5], bins=100, alpha=0.4)\n",
    "plt.grid()"
   ]
  },
  {
   "cell_type": "code",
   "execution_count": 18,
   "metadata": {
    "collapsed": false
   },
   "outputs": [
    {
     "name": "stdout",
     "output_type": "stream",
     "text": [
      "gponline, 288926.42\n",
      "seanlejgroup, 253197.89\n",
      "openwork, 174770.07\n",
      "njf, 161952.14\n",
      "maneesha, 151935.64\n",
      "medicaljobs, 148975.79\n",
      "multitie, 148917.23\n",
      "bvi, 145065.23\n",
      "theladders, 136322.30\n",
      "lhb, 135784.49\n",
      "aifmd, 132141.74\n",
      "adastra, 131189.31\n",
      "davit, 125719.57\n",
      "chanleap, 125182.56\n",
      "honquest, 124786.90\n",
      "dentistryflamehealth, 124751.26\n",
      "johnjustgpjobs, 116657.06\n",
      "noobligation, 115612.14\n",
      "workcommitment, 113934.08\n",
      "justgp, 111711.57\n",
      "hindesite, 109209.68\n",
      "brightpool, 107592.41\n",
      "jumeirah, 105723.13\n",
      "swiftsure, 102781.05\n",
      "aiv, 102066.03\n",
      "infochasemedical, 99816.96\n",
      "fragmented, 97001.80\n",
      "requiredthornbury, 96597.14\n",
      "campion, 95419.05\n",
      "...\n",
      "stakes, -59566.03\n",
      "footpath, -59871.04\n",
      "beijing, -59962.84\n",
      "mcmillan, -60596.26\n",
      "sprinting, -60941.83\n",
      "opps, -60994.21\n",
      "pres, -61060.74\n",
      "finformatiq, -61414.26\n",
      "etech, -63011.66\n",
      "cja, -63831.10\n",
      "teksystems, -64642.79\n",
      "justine, -65356.38\n",
      "inlondonis, -65788.69\n",
      "bv, -66989.12\n",
      "abbas, -67547.51\n",
      "yogurt, -67649.71\n",
      "verticality, -67724.60\n",
      "victoriacpresourcing, -68051.87\n",
      "earthquake, -69695.26\n",
      "nonexecutive, -70650.44\n",
      "convertible, -72222.51\n",
      "stipend, -72693.96\n",
      "adopter, -73096.63\n",
      "businessworks, -73551.47\n",
      "petercvscreen, -76684.95\n",
      "juniorbroker, -80238.95\n",
      "distractions, -86994.35\n",
      "johnsonaustinfraser, -93805.20\n",
      "elance, -126170.62\n"
     ]
    }
   ],
   "source": [
    "f_weights = zip(vectorizer.get_feature_names(), lr.coef_)\n",
    "f_weights = sorted(f_weights, key=lambda i: i[1])\n",
    "for i in range(1,30):\n",
    "    print '%s, %.2f' % f_weights[-i]\n",
    "    \n",
    "print '...'\n",
    "for i in reversed(range(1,30)):\n",
    "    print '%s, %.2f' % f_weights[i]"
   ]
  },
  {
   "cell_type": "markdown",
   "metadata": {},
   "source": [
    "# Location one-hot encoding"
   ]
  },
  {
   "cell_type": "code",
   "execution_count": 19,
   "metadata": {
    "collapsed": true
   },
   "outputs": [],
   "source": [
    "from sklearn.preprocessing import LabelBinarizer\n",
    "from scipy.sparse import hstack"
   ]
  },
  {
   "cell_type": "code",
   "execution_count": 20,
   "metadata": {
    "collapsed": false
   },
   "outputs": [],
   "source": [
    "lb = LabelBinarizer()\n",
    "loc_features = lb.fit_transform(data.LocationNormalized.values)\n",
    "X = hstack([X, loc_features])"
   ]
  },
  {
   "cell_type": "code",
   "execution_count": 21,
   "metadata": {
    "collapsed": false
   },
   "outputs": [
    {
     "name": "stdout",
     "output_type": "stream",
     "text": [
      "CPU times: user 26.1 s, sys: 467 ms, total: 26.6 s\n",
      "Wall time: 26.8 s\n"
     ]
    }
   ],
   "source": [
    "%%time\n",
    "\n",
    "lr = Ridge(solver='sag', alpha=0.1)\n",
    "lr.fit(X,Y)"
   ]
  },
  {
   "cell_type": "code",
   "execution_count": 22,
   "metadata": {
    "collapsed": false
   },
   "outputs": [
    {
     "name": "stdout",
     "output_type": "stream",
     "text": [
      "R2 0.78\n",
      "MAE 5732.53\n",
      "RMSE 8215.62\n"
     ]
    }
   ],
   "source": [
    "print 'R2 %.2f' % r2_score(Y, lr.predict(X))\n",
    "print 'MAE %.2f' % mean_absolute_error(Y, lr.predict(X))\n",
    "print 'RMSE %.2f' % np.sqrt(mean_squared_error(Y, lr.predict(X)))"
   ]
  },
  {
   "cell_type": "markdown",
   "metadata": {},
   "source": [
    "# append SalaryRaw"
   ]
  },
  {
   "cell_type": "code",
   "execution_count": 23,
   "metadata": {
    "collapsed": false
   },
   "outputs": [],
   "source": [
    "all_texts = data[filter(lambda c: 'SalaryNormalized' not in c, data.columns)].values\n",
    "all_texts = map(lambda a: re.sub('[^a-z, 0-9]', ' ', ' '.join(a).lower()), all_texts.astype(str))"
   ]
  },
  {
   "cell_type": "code",
   "execution_count": 24,
   "metadata": {
    "collapsed": false
   },
   "outputs": [
    {
     "data": {
      "text/plain": [
       "'chartered senior quantity surveyor award winning multi disciplinary consultancy are looking for an experienced mrics frics senior quantity surveyor to join their successful growing quantity surveying team  this is an excellent opportunity for an experienced chartered quantity surveyor to take on team management responsibilities whilst maintaining a hands on involvement in providing and growing the quantity surveying team in the south west area  you will be highly involved in business development and will work alongside the director on all cost related projects  you will be managing a small team of quantity surveyors mentoring apc junior quantity surveyors and guiding chartered qs on a variety of projects from pre contract  post contract  the successful candidate will need to be chartered mrics frics senior quantity surveyor with consultancy experience  you will need be a client facing senior quantity surveyor who has a proven track record in business development   has experience of growing a qs division  candidates must be dynamic, ambitious   enthusiastic with good interpersonal   business development skills  you will need to have a broad range of sector experience and have proven consultancy experience delivering projects in education, offices, retail,   commercial sector, some experience working with housing associations sector would be advantageous but not essential  if you feel you have the relevant experience and would like to discuss this fantastic opportunity in more detail please call lee faux   apply online only  or email somerset somerset nan permanent resourcing group consultancy jobs 45000   55000 annum cv library co uk'"
      ]
     },
     "execution_count": 24,
     "metadata": {},
     "output_type": "execute_result"
    }
   ],
   "source": [
    "all_texts[0]"
   ]
  },
  {
   "cell_type": "code",
   "execution_count": 25,
   "metadata": {
    "collapsed": true
   },
   "outputs": [],
   "source": [
    "vectorizer = TfidfVectorizer(stop_words='english', min_df=5)\n",
    "_ = vectorizer.fit(all_texts)"
   ]
  },
  {
   "cell_type": "code",
   "execution_count": 26,
   "metadata": {
    "collapsed": true
   },
   "outputs": [],
   "source": [
    "X = vectorizer.transform(all_texts)\n",
    "Y = data.SalaryNormalized.values"
   ]
  },
  {
   "cell_type": "code",
   "execution_count": 27,
   "metadata": {
    "collapsed": false
   },
   "outputs": [
    {
     "name": "stdout",
     "output_type": "stream",
     "text": [
      "CPU times: user 14.8 s, sys: 305 ms, total: 15.1 s\n",
      "Wall time: 15.4 s\n"
     ]
    }
   ],
   "source": [
    "%%time\n",
    "\n",
    "lr = Ridge(solver='sag', alpha=0.1)\n",
    "lr.fit(X,Y)"
   ]
  },
  {
   "cell_type": "code",
   "execution_count": 28,
   "metadata": {
    "collapsed": false
   },
   "outputs": [
    {
     "name": "stdout",
     "output_type": "stream",
     "text": [
      "R2 0.86\n",
      "MAE 4565.02\n",
      "RMSE 6678.40\n"
     ]
    }
   ],
   "source": [
    "print 'R2 %.2f' % r2_score(Y, lr.predict(X))\n",
    "print 'MAE %.2f' % mean_absolute_error(Y, lr.predict(X))\n",
    "print 'RMSE %.2f' % np.sqrt(mean_squared_error(Y, lr.predict(X)))"
   ]
  },
  {
   "cell_type": "code",
   "execution_count": 29,
   "metadata": {
    "collapsed": false
   },
   "outputs": [
    {
     "name": "stdout",
     "output_type": "stream",
     "text": [
      "seanlejgroup, 292546.56\n",
      "gponline, 277491.43\n",
      "100000, 247770.12\n",
      "120000, 208860.18\n",
      "110000, 191720.43\n",
      "100k, 191046.20\n",
      "90000, 188479.61\n",
      "350, 186627.63\n",
      "150000, 185661.13\n",
      "120k, 177799.32\n",
      "theladders, 174599.15\n",
      "80000, 173681.13\n",
      "91000, 170566.04\n",
      "85000, 166706.04\n",
      "lhb, 165098.94\n",
      "bvi, 157451.17\n",
      "99999, 155671.99\n",
      "maneesha, 155118.72\n",
      "90k, 150639.55\n",
      "95000, 149503.82\n",
      "375, 147842.93\n",
      "openwork, 147156.50\n",
      "njf, 146204.20\n",
      "75000, 142488.61\n",
      "325, 142177.64\n",
      "400, 142061.43\n",
      "380, 142057.94\n",
      "adastra, 140467.20\n",
      "aifmd, 139717.86\n",
      "...\n",
      "requiredlocation, -54060.97\n",
      "supportengineer, -54808.74\n",
      "stipend, -55606.95\n",
      "stakes, -55809.46\n",
      "currys, -56706.95\n",
      "cja, -56965.78\n",
      "managering, -58013.42\n",
      "buxtonstaractuarial, -58864.50\n",
      "muiramrgroup, -58967.59\n",
      "mta, -59864.97\n",
      "nonexecutive, -59880.52\n",
      "5500, -60172.59\n",
      "ec1v, -62230.56\n",
      "10000, -63383.25\n",
      "5000, -63749.01\n",
      "081, -64262.79\n",
      "juniorbroker, -64545.36\n",
      "jobcentre, -65088.46\n",
      "graduatefasttrack, -65900.32\n",
      "safestyle, -66735.15\n",
      "sprinting, -72795.79\n",
      "gbp0, -74811.02\n",
      "bv, -76216.99\n",
      "petercvscreen, -78757.99\n",
      "50500, -83578.08\n",
      "harrisredlawrecruitment, -85747.20\n",
      "6760, -103049.76\n",
      "elance, -105961.98\n",
      "29999, -121225.91\n"
     ]
    }
   ],
   "source": [
    "f_weights = zip(vectorizer.get_feature_names(), lr.coef_)\n",
    "f_weights = sorted(f_weights, key=lambda i: i[1])\n",
    "for i in range(1,30):\n",
    "    print '%s, %.2f' % f_weights[-i]\n",
    "    \n",
    "print '...'\n",
    "for i in reversed(range(1,30)):\n",
    "    print '%s, %.2f' % f_weights[i]"
   ]
  }
 ],
 "metadata": {
  "kernelspec": {
   "display_name": "Python 2",
   "language": "python",
   "name": "python2"
  },
  "language_info": {
   "codemirror_mode": {
    "name": "ipython",
    "version": 2
   },
   "file_extension": ".py",
   "mimetype": "text/x-python",
   "name": "python",
   "nbconvert_exporter": "python",
   "pygments_lexer": "ipython2",
   "version": "2.7.10"
  }
 },
 "nbformat": 4,
 "nbformat_minor": 0
}
