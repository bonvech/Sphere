{
 "cells": [
  {
   "cell_type": "markdown",
   "metadata": {},
   "source": [
    "# Поканальные спектры"
   ]
  },
  {
   "cell_type": "code",
   "execution_count": 1,
   "metadata": {},
   "outputs": [
    {
     "name": "stdout",
     "output_type": "stream",
     "text": [
      "Сб янв 12 15:26:44 MSK 2019\n",
      "/home/alena/SPHERE/Data2018/Data/2018_12_07-08_run2/spectrum\n"
     ]
    }
   ],
   "source": [
    "!date\n",
    "!pwd"
   ]
  },
  {
   "cell_type": "code",
   "execution_count": 1,
   "metadata": {},
   "outputs": [],
   "source": [
    "#%matplotlib inline\n",
    "import pandas as pd\n",
    "import numpy as np\n",
    "import matplotlib.pyplot as plt\n",
    "import matplotlib\n",
    "from matplotlib import dates\n",
    "import datetime as dt"
   ]
  },
  {
   "cell_type": "code",
   "execution_count": 2,
   "metadata": {},
   "outputs": [],
   "source": [
    "plt.rcParams['figure.figsize'] =(8,4)\n",
    "plt.rcParams['lines.markersize'] = 3\n",
    "plt.rcParams['lines.markeredgewidth'] = 1\n",
    "plt.rcParams['lines.linewidth'] = 1\n",
    "plt.rcParams['grid.alpha'] = 0.7\n",
    "plt.rcParams['xtick.direction'] = 'in'\n",
    "plt.rcParams['ytick.direction'] = 'in'\n",
    "plt.rcParams['font.size'] = 12"
   ]
  },
  {
   "cell_type": "code",
   "execution_count": 3,
   "metadata": {},
   "outputs": [],
   "source": [
    "def read_data_file(filename):\n",
    "    try:\n",
    "        frame = pd.read_csv(filename, header = None, index_col=0, sep='\\s+', \n",
    "                            skiprows = 45, nrows = 800)\n",
    "\n",
    "        off = [38, 39, 42, 43, 46, 47, 50, 51, 54, 55, 58, 59, 62, 63, 64]\n",
    "        frame = frame.drop(columns = [x for x in off])\n",
    "        frame = frame.drop(columns = [x for x in range(65,113)])\n",
    "        return frame\n",
    "\n",
    "    except Exception as e:\n",
    "        errormsg = e.args[0]\n",
    "        #errortype = errormsg.split('.')[0].strip()\n",
    "        print(errormsg)\n",
    "        return 'NULL'"
   ]
  },
  {
   "cell_type": "code",
   "execution_count": 4,
   "metadata": {},
   "outputs": [
    {
     "name": "stdout",
     "output_type": "stream",
     "text": [
      "2122\n"
     ]
    },
    {
     "data": {
      "text/html": [
       "<div>\n",
       "<style scoped>\n",
       "    .dataframe tbody tr th:only-of-type {\n",
       "        vertical-align: middle;\n",
       "    }\n",
       "\n",
       "    .dataframe tbody tr th {\n",
       "        vertical-align: top;\n",
       "    }\n",
       "\n",
       "    .dataframe thead th {\n",
       "        text-align: right;\n",
       "    }\n",
       "</style>\n",
       "<table border=\"1\" class=\"dataframe\">\n",
       "  <thead>\n",
       "    <tr style=\"text-align: right;\">\n",
       "      <th></th>\n",
       "      <th>EID</th>\n",
       "      <th>I_coef</th>\n",
       "      <th>p0_1</th>\n",
       "      <th>p1_1</th>\n",
       "      <th>p0_2</th>\n",
       "      <th>p1_2</th>\n",
       "      <th>p0_3</th>\n",
       "      <th>p1_3</th>\n",
       "      <th>p0_4</th>\n",
       "      <th>p1_4</th>\n",
       "      <th>...</th>\n",
       "      <th>p0_53</th>\n",
       "      <th>p1_53</th>\n",
       "      <th>p0_56</th>\n",
       "      <th>p1_56</th>\n",
       "      <th>p0_57</th>\n",
       "      <th>p1_57</th>\n",
       "      <th>p0_60</th>\n",
       "      <th>p1_60</th>\n",
       "      <th>p0_61</th>\n",
       "      <th>p1_61</th>\n",
       "    </tr>\n",
       "  </thead>\n",
       "  <tbody>\n",
       "    <tr>\n",
       "      <th>2117</th>\n",
       "      <td>28499</td>\n",
       "      <td>1.000000</td>\n",
       "      <td>50.0</td>\n",
       "      <td>48.0</td>\n",
       "      <td>49.0</td>\n",
       "      <td>47.0</td>\n",
       "      <td>49.0</td>\n",
       "      <td>50.0</td>\n",
       "      <td>50.0</td>\n",
       "      <td>46.0</td>\n",
       "      <td>...</td>\n",
       "      <td>49.0</td>\n",
       "      <td>54.0</td>\n",
       "      <td>51.0</td>\n",
       "      <td>60.0</td>\n",
       "      <td>49.0</td>\n",
       "      <td>48.0</td>\n",
       "      <td>48.0</td>\n",
       "      <td>53.0</td>\n",
       "      <td>50.5</td>\n",
       "      <td>56.0</td>\n",
       "    </tr>\n",
       "    <tr>\n",
       "      <th>2118</th>\n",
       "      <td>28501</td>\n",
       "      <td>1.000000</td>\n",
       "      <td>50.0</td>\n",
       "      <td>49.0</td>\n",
       "      <td>49.0</td>\n",
       "      <td>47.0</td>\n",
       "      <td>48.5</td>\n",
       "      <td>49.0</td>\n",
       "      <td>49.5</td>\n",
       "      <td>47.0</td>\n",
       "      <td>...</td>\n",
       "      <td>50.0</td>\n",
       "      <td>55.0</td>\n",
       "      <td>51.5</td>\n",
       "      <td>59.0</td>\n",
       "      <td>49.0</td>\n",
       "      <td>48.0</td>\n",
       "      <td>47.0</td>\n",
       "      <td>53.0</td>\n",
       "      <td>50.0</td>\n",
       "      <td>56.0</td>\n",
       "    </tr>\n",
       "    <tr>\n",
       "      <th>2119</th>\n",
       "      <td>28783</td>\n",
       "      <td>0.971455</td>\n",
       "      <td>50.0</td>\n",
       "      <td>48.0</td>\n",
       "      <td>50.0</td>\n",
       "      <td>48.0</td>\n",
       "      <td>49.0</td>\n",
       "      <td>50.0</td>\n",
       "      <td>49.0</td>\n",
       "      <td>46.0</td>\n",
       "      <td>...</td>\n",
       "      <td>49.0</td>\n",
       "      <td>54.0</td>\n",
       "      <td>51.0</td>\n",
       "      <td>60.0</td>\n",
       "      <td>48.0</td>\n",
       "      <td>47.0</td>\n",
       "      <td>47.0</td>\n",
       "      <td>52.0</td>\n",
       "      <td>49.0</td>\n",
       "      <td>56.0</td>\n",
       "    </tr>\n",
       "    <tr>\n",
       "      <th>2120</th>\n",
       "      <td>28785</td>\n",
       "      <td>0.971455</td>\n",
       "      <td>50.0</td>\n",
       "      <td>48.0</td>\n",
       "      <td>50.0</td>\n",
       "      <td>47.5</td>\n",
       "      <td>49.0</td>\n",
       "      <td>50.0</td>\n",
       "      <td>49.0</td>\n",
       "      <td>46.0</td>\n",
       "      <td>...</td>\n",
       "      <td>49.0</td>\n",
       "      <td>54.0</td>\n",
       "      <td>51.5</td>\n",
       "      <td>59.0</td>\n",
       "      <td>49.5</td>\n",
       "      <td>48.0</td>\n",
       "      <td>48.0</td>\n",
       "      <td>52.5</td>\n",
       "      <td>50.0</td>\n",
       "      <td>57.0</td>\n",
       "    </tr>\n",
       "    <tr>\n",
       "      <th>2121</th>\n",
       "      <td>28787</td>\n",
       "      <td>0.971455</td>\n",
       "      <td>51.0</td>\n",
       "      <td>48.0</td>\n",
       "      <td>49.0</td>\n",
       "      <td>47.5</td>\n",
       "      <td>49.0</td>\n",
       "      <td>48.0</td>\n",
       "      <td>50.0</td>\n",
       "      <td>46.5</td>\n",
       "      <td>...</td>\n",
       "      <td>49.0</td>\n",
       "      <td>55.0</td>\n",
       "      <td>51.0</td>\n",
       "      <td>60.0</td>\n",
       "      <td>49.5</td>\n",
       "      <td>48.0</td>\n",
       "      <td>47.0</td>\n",
       "      <td>52.0</td>\n",
       "      <td>51.0</td>\n",
       "      <td>57.0</td>\n",
       "    </tr>\n",
       "  </tbody>\n",
       "</table>\n",
       "<p>5 rows × 100 columns</p>\n",
       "</div>"
      ],
      "text/plain": [
       "        EID    I_coef  p0_1  p1_1  p0_2  p1_2  p0_3  p1_3  p0_4  p1_4  ...    \\\n",
       "2117  28499  1.000000  50.0  48.0  49.0  47.0  49.0  50.0  50.0  46.0  ...     \n",
       "2118  28501  1.000000  50.0  49.0  49.0  47.0  48.5  49.0  49.5  47.0  ...     \n",
       "2119  28783  0.971455  50.0  48.0  50.0  48.0  49.0  50.0  49.0  46.0  ...     \n",
       "2120  28785  0.971455  50.0  48.0  50.0  47.5  49.0  50.0  49.0  46.0  ...     \n",
       "2121  28787  0.971455  51.0  48.0  49.0  47.5  49.0  48.0  50.0  46.5  ...     \n",
       "\n",
       "      p0_53  p1_53  p0_56  p1_56  p0_57  p1_57  p0_60  p1_60  p0_61  p1_61  \n",
       "2117   49.0   54.0   51.0   60.0   49.0   48.0   48.0   53.0   50.5   56.0  \n",
       "2118   50.0   55.0   51.5   59.0   49.0   48.0   47.0   53.0   50.0   56.0  \n",
       "2119   49.0   54.0   51.0   60.0   48.0   47.0   47.0   52.0   49.0   56.0  \n",
       "2120   49.0   54.0   51.5   59.0   49.5   48.0   48.0   52.5   50.0   57.0  \n",
       "2121   49.0   55.0   51.0   60.0   49.5   48.0   47.0   52.0   51.0   57.0  \n",
       "\n",
       "[5 rows x 100 columns]"
      ]
     },
     "execution_count": 4,
     "metadata": {},
     "output_type": "execute_result"
    }
   ],
   "source": [
    "''' чтение пьедесталов и коэффициентов для учета напряжения для событий '''\n",
    "\n",
    "pied = pd.read_csv('piedestal01.csv', index_col=0)\n",
    "print(len(pied))\n",
    "pied.tail()"
   ]
  },
  {
   "cell_type": "code",
   "execution_count": 5,
   "metadata": {},
   "outputs": [],
   "source": [
    "plt.close(\"all\")"
   ]
  },
  {
   "cell_type": "code",
   "execution_count": 6,
   "metadata": {},
   "outputs": [],
   "source": [
    "framecol = [ 1,  2,  3,  4,  5,  6,  7,  8,  9, 10, 11, 12, 13, 14, 15, 16, 17, 18, 19, 20, \n",
    "            21, 22, 23, 24, 25, 26, 27, 28, 29, 30, 31, 32, 33, 34, 35, 36, 37, \n",
    "            40, 41, 44, 45, 48, 49, 52, 53, 56, 57, 60, 61]"
   ]
  },
  {
   "cell_type": "code",
   "execution_count": 10,
   "metadata": {
    "scrolled": false
   },
   "outputs": [
    {
     "name": "stdout",
     "output_type": "stream",
     "text": [
      "1 6 11 16 21 26 31 36 41 46 51 56 61 66 71 76 81 86 91 96 101 106 111 116 121 126 131 136 141 146 151 156 161 166 171 176 181 186 191 196 201 206 211 216 221 226 231 236 241 246 251 256 261 266 271 276 281 286 291 296 301 306 311 316 321 326 331 336 341 346 351 356 361 366 371 376 381 386 391 396 401 406 411 416 421 426 431 436 441 446 451 456 461 466 471 476 481 486 491 496 501 506 511 516 521 526 531 536 541 546 551 556 561 566 571 576 581 586 591 596 601 606 611 616 621 626 631 636 641 646 651 656 661 666 671 676 681 686 691 696 701 706 711 716 721 726 731 736 741 746 751 756 761 766 771 776 781 786 791 796 801 806 811 816 821 826 831 836 841 846 851 856 861 866 871 876 881 886 891 896 901 906 911 916 921 926 931 936 941 946 951 956 961 966 971 976 981 986 991 996 1001 1006 1011 1016 1021 1026 1031 1036 1041 1046 1051 1056 1061 1066 1071 1076 1081 1086 1091 1096 1101 1106 1111 1116 1121 1126 1131 1136 1141 1146 1151 1156 1161 1166 1171 1176 1181 1186 1191 1196 1201 1206 1211 1216 1221 1226 1231 1236 1241 1246 1251 1256 1261 1266 1271 1276 1281 1286 1291 1296 1301 1306 1311 1316 1321 1326 1331 1336 1341 1346 1351 1356 1361 1366 1371 1376 1381 1386 1391 1396 1401 1406 1411 1416 1421 1426 1431 1436 1441 1446 1451 1456 1461 1466 1471 1476 1481 1486 1491 1496 1501 1506 1511 1516 1521 1526 1531 1536 1541 1546 1551 1556 1561 1566 1571 1576 1581 1586 1591 1596 1601 1606 1611 1616 1621 1626 1631 1636 1641 1646 1651 1656 1661 1666 1671 1676 1681 1686 1691 1696 1701 1706 1711 1716 1721 1726 1731 1736 1741 1746 1751 1756 1761 1766 1771 1776 1781 1786 1791 1796 1801 1806 1811 1816 1821 1826 1831 1836 1841 1846 1851 1856 1861 1866 1871 1876 1881 1886 1891 1896 1901 1906 1911 1916 1921 1926 1931 1936 1941 1946 1951 1956 1961 1966 1971 1976 1981 1986 1991 1996 2001 2006 2011 2016 2021 2026 2031 2036 2041 2046 2051 2056 2061 2066 2071 2076 2081 2086 2091 2096 2101 2106 2111 2116 2121 Ok\n",
      "CPU times: user 11min 36s, sys: 4.54 s, total: 11min 41s\n",
      "Wall time: 12min 47s\n"
     ]
    }
   ],
   "source": [
    "%%time\n",
    "''' проверка пьедесталов  '''\n",
    "\n",
    "dirname = '../data.txt/'\n",
    "for i in range(pied.shape[0]):\n",
    "    if i%5 == 1:\n",
    "        print(i, end=' ')\n",
    "        \n",
    "    ## read data frame\n",
    "    filename = dirname + str(pied.EID[i]) + '.txt'\n",
    "    frame = read_data_file(filename) \n",
    "    \n",
    "    # ''' new column with parity '''\n",
    "    for j in frame.index:\n",
    "        frame.loc[j,'par'] = int(j%2) \n",
    "\n",
    "    #for chan in [1,22]:\n",
    "    for chan in frame.columns[:-1]:\n",
    "    \n",
    "        ## ''' minus piedestal '''\n",
    "        p0 = pied.loc[i, 'p0_'+str(chan)]\n",
    "        p1 = pied.loc[i, 'p1_'+str(chan)]\n",
    "        if(p0 == 0 or p1 == 0):\n",
    "            print('p0 == 0 or p1 == 0:', p0, p1)\n",
    "            break\n",
    "\n",
    "print('Ok')"
   ]
  },
  {
   "cell_type": "code",
   "execution_count": null,
   "metadata": {},
   "outputs": [
    {
     "name": "stdout",
     "output_type": "stream",
     "text": [
      "40 41 42 "
     ]
    }
   ],
   "source": [
    "%%time\n",
    "''' построение спектра '''\n",
    "\n",
    "startevent = 40\n",
    "stopevent = startevent + 10\n",
    "\n",
    "dirname = '../data.txt/'\n",
    "startx,stopx = 450,600\n",
    "binnum = 1000    ## bin number in hist\n",
    "\n",
    "ss = [[0] * len(framecol)]* binnum\n",
    "diff = pd.DataFrame(ss, columns=framecol)\n",
    "\n",
    "for i in range(startevent,stopevent): #pied.shape[0]):\n",
    "    #if i%5 == 1:\n",
    "    print(i, end=' ')\n",
    "        \n",
    "    ## read data frame\n",
    "    filename = dirname + str(pied.EID[i]) + '.txt'\n",
    "    frame = read_data_file(filename) \n",
    "    \n",
    "    # ''' new column with parity '''\n",
    "    for j in frame.index:\n",
    "        frame.loc[j,'par'] = int(j%2) \n",
    "\n",
    "    #for chan in [1,22]:\n",
    "    for chan in frame.columns[:-1]:\n",
    "    \n",
    "        ## ''' minus piedestal '''\n",
    "        p0 = pied.loc[i, 'p0_'+str(chan)]\n",
    "        p1 = pied.loc[i, 'p1_'+str(chan)]\n",
    "            \n",
    "        datum = (frame[chan] - (1 - frame.par) * p0 - frame.par * p1)[startx:stopx]\n",
    "        hists = plt.hist(datum, bins=np.arange(0, binnum+1, 1))\n",
    "    \n",
    "        diff[chan] = diff[chan] + hists[0]\n",
    "        plt.close()\n",
    "\n",
    "## make integral spectrum      \n",
    "integral = pd.DataFrame([[0] * len(frame.columns[:-1])]* binnum)\n",
    "for chan in frame.columns[:-1]:\n",
    "    integral[chan] = diff[chan].sum() - diff[chan].cumsum()   \n",
    "\n",
    "## save spectrums to file\n",
    "filename='integral' + str(startevent) + '-' + str(stopevent) + '.csv'\n",
    "integral.to_csv(filename)\n",
    "filename='diff' + str(startevent) + '-' + str(stopevent) + '.csv'\n",
    "diff.to_csv(filename)"
   ]
  },
  {
   "cell_type": "code",
   "execution_count": 214,
   "metadata": {},
   "outputs": [
    {
     "data": {
      "image/png": "[encoded data removed]",
      "text/plain": [
       "<matplotlib.figure.Figure at 0x7fae52b4fb38>"
      ]
     },
     "metadata": {},
     "output_type": "display_data"
    }
   ],
   "source": [
    "''' Интегральный спектр '''\n",
    "\n",
    "for chan in frame.columns[:-1]:\n",
    "    plt.plot(integral[chan])\n",
    "plt.xscale('log')\n",
    "plt.yscale('log')"
   ]
  },
  {
   "cell_type": "code",
   "execution_count": 205,
   "metadata": {},
   "outputs": [],
   "source": [
    "#integral.to_csv('integral.csv')\n",
    "#diff.to_csv('diff.csv')"
   ]
  },
  {
   "cell_type": "markdown",
   "metadata": {},
   "source": [
    "### END"
   ]
  }
 ],
 "metadata": {
  "anaconda-cloud": {},
  "kernelspec": {
   "display_name": "Python 3",
   "language": "python",
   "name": "python3"
  },
  "language_info": {
   "codemirror_mode": {
    "name": "ipython",
    "version": 3
   },
   "file_extension": ".py",
   "mimetype": "text/x-python",
   "name": "python",
   "nbconvert_exporter": "python",
   "pygments_lexer": "ipython3",
   "version": "3.6.4"
  }
 },
 "nbformat": 4,
 "nbformat_minor": 2
}
