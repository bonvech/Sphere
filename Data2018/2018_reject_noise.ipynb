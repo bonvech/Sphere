{
 "cells": [
  {
   "cell_type": "markdown",
   "metadata": {},
   "source": [
    "# Отбор событий 2018_12_07-08_run2 для анализа "
   ]
  },
  {
   "cell_type": "code",
   "execution_count": 5,
   "metadata": {
    "collapsed": false
   },
   "outputs": [
    {
     "name": "stdout",
     "output_type": "stream",
     "text": [
      "Чт дек 13 12:06:51 MSK 2018\n",
      "/home/sphere/ExpData/2018/Data/2018_12_07-08_run2/checkTrigger/draw\n",
      "2  2018.out  draw  levels2018.dat  levels_events.txt\n"
     ]
    }
   ],
   "source": [
    "!date\n",
    "!pwd\n",
    "!ls"
   ]
  },
  {
   "cell_type": "code",
   "execution_count": 2,
   "metadata": {
    "collapsed": true
   },
   "outputs": [],
   "source": [
    "%matplotlib inline\n",
    "import pandas as pd\n",
    "import numpy as np\n",
    "import matplotlib.pyplot as plt\n",
    "import matplotlib\n",
    "#import matplotlib.gridspec as gridspec"
   ]
  },
  {
   "cell_type": "code",
   "execution_count": 3,
   "metadata": {
    "collapsed": true
   },
   "outputs": [],
   "source": [
    "plt.rcParams['figure.figsize'] =(12,6)\n",
    "plt.rcParams['lines.markersize'] = 3\n",
    "plt.rcParams['lines.markeredgewidth'] = 1\n",
    "plt.rcParams['lines.linewidth'] = 1\n",
    "plt.rcParams['grid.alpha'] = 0.7\n",
    "plt.rcParams['xtick.direction'] = 'in'\n",
    "plt.rcParams['ytick.direction'] = 'in'\n",
    "plt.rcParams['font.size'] = 12"
   ]
  },
  {
   "cell_type": "markdown",
   "metadata": {},
   "source": [
    "## Чтение данных"
   ]
  },
  {
   "cell_type": "code",
   "execution_count": 116,
   "metadata": {
    "collapsed": false
   },
   "outputs": [
    {
     "name": "stdout",
     "output_type": "stream",
     "text": [
      "5670\n"
     ]
    }
   ],
   "source": [
    "# чтение данных экспериментальных триггеров\n",
    "head=['EID','UTC','Type','Dt','Atotal',\n",
    "      'TG5time','TL2time','TL3time','TRIGGER','Amax']\n",
    "data = pd.read_csv('../2018.out', index_col=False, header=None, names=head)\n",
    "print(len(data))\n",
    "#data[:3]"
   ]
  },
  {
   "cell_type": "code",
   "execution_count": 117,
   "metadata": {
    "collapsed": false
   },
   "outputs": [
    {
     "name": "stdout",
     "output_type": "stream",
     "text": [
      "7963\n"
     ]
    }
   ],
   "source": [
    "# чтение данных экспериментальных триггеров\n",
    "head=['EID','Fifo_err']\n",
    "fifo = pd.read_csv('../fifo_err.dat', index_col=False, header=None, names=head, sep='\\s+')\n",
    "print(len(fifo))\n",
    "n=964\n",
    "#fifo[n:n+3]"
   ]
  },
  {
   "cell_type": "code",
   "execution_count": 118,
   "metadata": {
    "collapsed": false
   },
   "outputs": [
    {
     "data": {
      "text/plain": [
       "2293"
      ]
     },
     "execution_count": 118,
     "metadata": {},
     "output_type": "execute_result"
    }
   ],
   "source": [
    "len(fifo)-len(data)"
   ]
  },
  {
   "cell_type": "code",
   "execution_count": 119,
   "metadata": {
    "collapsed": false
   },
   "outputs": [
    {
     "name": "stdout",
     "output_type": "stream",
     "text": [
      "(5670, 11)\n"
     ]
    },
    {
     "data": {
      "text/html": [
       "<div>\n",
       "<style scoped>\n",
       "    .dataframe tbody tr th:only-of-type {\n",
       "        vertical-align: middle;\n",
       "    }\n",
       "\n",
       "    .dataframe tbody tr th {\n",
       "        vertical-align: top;\n",
       "    }\n",
       "\n",
       "    .dataframe thead th {\n",
       "        text-align: right;\n",
       "    }\n",
       "</style>\n",
       "<table border=\"1\" class=\"dataframe\">\n",
       "  <thead>\n",
       "    <tr style=\"text-align: right;\">\n",
       "      <th></th>\n",
       "      <th>EID</th>\n",
       "      <th>UTC</th>\n",
       "      <th>Type</th>\n",
       "      <th>Dt</th>\n",
       "      <th>Atotal</th>\n",
       "      <th>TG5time</th>\n",
       "      <th>TL2time</th>\n",
       "      <th>TL3time</th>\n",
       "      <th>TRIGGER</th>\n",
       "      <th>Amax</th>\n",
       "      <th>Fifo_err</th>\n",
       "    </tr>\n",
       "  </thead>\n",
       "  <tbody>\n",
       "    <tr>\n",
       "      <th>0</th>\n",
       "      <td>21510</td>\n",
       "      <td>2018-12-07  21:00:58</td>\n",
       "      <td>L</td>\n",
       "      <td>3</td>\n",
       "      <td>903</td>\n",
       "      <td>243</td>\n",
       "      <td>43</td>\n",
       "      <td>243</td>\n",
       "      <td>43</td>\n",
       "      <td>396</td>\n",
       "      <td>0</td>\n",
       "    </tr>\n",
       "    <tr>\n",
       "      <th>1</th>\n",
       "      <td>21511</td>\n",
       "      <td>2018-12-07  21:00:58</td>\n",
       "      <td>E</td>\n",
       "      <td>7</td>\n",
       "      <td>595</td>\n",
       "      <td>240</td>\n",
       "      <td>43</td>\n",
       "      <td>241</td>\n",
       "      <td>43</td>\n",
       "      <td>938</td>\n",
       "      <td>0</td>\n",
       "    </tr>\n",
       "    <tr>\n",
       "      <th>2</th>\n",
       "      <td>21512</td>\n",
       "      <td>2018-12-07  21:01:18</td>\n",
       "      <td>L</td>\n",
       "      <td>3</td>\n",
       "      <td>816</td>\n",
       "      <td>242</td>\n",
       "      <td>43</td>\n",
       "      <td>242</td>\n",
       "      <td>43</td>\n",
       "      <td>318</td>\n",
       "      <td>0</td>\n",
       "    </tr>\n",
       "    <tr>\n",
       "      <th>3</th>\n",
       "      <td>21513</td>\n",
       "      <td>2018-12-07  21:01:18</td>\n",
       "      <td>L</td>\n",
       "      <td>1</td>\n",
       "      <td>0</td>\n",
       "      <td>241</td>\n",
       "      <td>43</td>\n",
       "      <td>254</td>\n",
       "      <td>43</td>\n",
       "      <td>927</td>\n",
       "      <td>0</td>\n",
       "    </tr>\n",
       "    <tr>\n",
       "      <th>4</th>\n",
       "      <td>21514</td>\n",
       "      <td>2018-12-07  21:01:22</td>\n",
       "      <td>L</td>\n",
       "      <td>5</td>\n",
       "      <td>1417</td>\n",
       "      <td>242</td>\n",
       "      <td>43</td>\n",
       "      <td>242</td>\n",
       "      <td>43</td>\n",
       "      <td>455</td>\n",
       "      <td>0</td>\n",
       "    </tr>\n",
       "  </tbody>\n",
       "</table>\n",
       "</div>"
      ],
      "text/plain": [
       "     EID                   UTC Type  Dt  Atotal  TG5time  TL2time  TL3time  \\\n",
       "0  21510  2018-12-07  21:00:58    L   3     903      243       43      243   \n",
       "1  21511  2018-12-07  21:00:58    E   7     595      240       43      241   \n",
       "2  21512  2018-12-07  21:01:18    L   3     816      242       43      242   \n",
       "3  21513  2018-12-07  21:01:18    L   1       0      241       43      254   \n",
       "4  21514  2018-12-07  21:01:22    L   5    1417      242       43      242   \n",
       "\n",
       "   TRIGGER  Amax  Fifo_err  \n",
       "0       43   396         0  \n",
       "1       43   938         0  \n",
       "2       43   318         0  \n",
       "3       43   927         0  \n",
       "4       43   455         0  "
      ]
     },
     "execution_count": 119,
     "metadata": {},
     "output_type": "execute_result"
    }
   ],
   "source": [
    "data = pd.merge(data,fifo, how=\"inner\", on='EID')\n",
    "print(data.shape)\n",
    "data.head()"
   ]
  },
  {
   "cell_type": "markdown",
   "metadata": {},
   "source": [
    "## Свойства данных"
   ]
  },
  {
   "cell_type": "code",
   "execution_count": 120,
   "metadata": {
    "collapsed": false,
    "scrolled": true
   },
   "outputs": [
    {
     "data": {
      "text/html": [
       "<div>\n",
       "<style scoped>\n",
       "    .dataframe tbody tr th:only-of-type {\n",
       "        vertical-align: middle;\n",
       "    }\n",
       "\n",
       "    .dataframe tbody tr th {\n",
       "        vertical-align: top;\n",
       "    }\n",
       "\n",
       "    .dataframe thead th {\n",
       "        text-align: right;\n",
       "    }\n",
       "</style>\n",
       "<table border=\"1\" class=\"dataframe\">\n",
       "  <thead>\n",
       "    <tr style=\"text-align: right;\">\n",
       "      <th></th>\n",
       "      <th>EID</th>\n",
       "      <th>Dt</th>\n",
       "      <th>Atotal</th>\n",
       "      <th>TG5time</th>\n",
       "      <th>TL2time</th>\n",
       "      <th>TL3time</th>\n",
       "      <th>TRIGGER</th>\n",
       "      <th>Amax</th>\n",
       "      <th>Fifo_err</th>\n",
       "    </tr>\n",
       "  </thead>\n",
       "  <tbody>\n",
       "    <tr>\n",
       "      <th>count</th>\n",
       "      <td>5670.000000</td>\n",
       "      <td>5670.000000</td>\n",
       "      <td>5670.000000</td>\n",
       "      <td>5670.000000</td>\n",
       "      <td>5670.000000</td>\n",
       "      <td>5670.000000</td>\n",
       "      <td>5670.000000</td>\n",
       "      <td>5670.000000</td>\n",
       "      <td>5670.000000</td>\n",
       "    </tr>\n",
       "    <tr>\n",
       "      <th>mean</th>\n",
       "      <td>25665.358201</td>\n",
       "      <td>3.262257</td>\n",
       "      <td>1055.475309</td>\n",
       "      <td>345.242152</td>\n",
       "      <td>238.640564</td>\n",
       "      <td>310.308289</td>\n",
       "      <td>238.024339</td>\n",
       "      <td>658.144974</td>\n",
       "      <td>2.314109</td>\n",
       "    </tr>\n",
       "    <tr>\n",
       "      <th>std</th>\n",
       "      <td>1655.296806</td>\n",
       "      <td>2.520021</td>\n",
       "      <td>13018.840150</td>\n",
       "      <td>115.211591</td>\n",
       "      <td>40.631181</td>\n",
       "      <td>99.709351</td>\n",
       "      <td>40.488939</td>\n",
       "      <td>364.164700</td>\n",
       "      <td>7.529229</td>\n",
       "    </tr>\n",
       "    <tr>\n",
       "      <th>min</th>\n",
       "      <td>21510.000000</td>\n",
       "      <td>1.000000</td>\n",
       "      <td>0.000000</td>\n",
       "      <td>68.000000</td>\n",
       "      <td>43.000000</td>\n",
       "      <td>47.000000</td>\n",
       "      <td>43.000000</td>\n",
       "      <td>108.000000</td>\n",
       "      <td>0.000000</td>\n",
       "    </tr>\n",
       "    <tr>\n",
       "      <th>25%</th>\n",
       "      <td>24256.250000</td>\n",
       "      <td>2.000000</td>\n",
       "      <td>12.000000</td>\n",
       "      <td>242.000000</td>\n",
       "      <td>241.000000</td>\n",
       "      <td>244.000000</td>\n",
       "      <td>241.000000</td>\n",
       "      <td>178.000000</td>\n",
       "      <td>0.000000</td>\n",
       "    </tr>\n",
       "    <tr>\n",
       "      <th>50%</th>\n",
       "      <td>25673.500000</td>\n",
       "      <td>3.000000</td>\n",
       "      <td>39.000000</td>\n",
       "      <td>254.000000</td>\n",
       "      <td>242.000000</td>\n",
       "      <td>255.000000</td>\n",
       "      <td>242.000000</td>\n",
       "      <td>934.500000</td>\n",
       "      <td>0.000000</td>\n",
       "    </tr>\n",
       "    <tr>\n",
       "      <th>75%</th>\n",
       "      <td>27090.750000</td>\n",
       "      <td>4.000000</td>\n",
       "      <td>484.750000</td>\n",
       "      <td>472.000000</td>\n",
       "      <td>243.000000</td>\n",
       "      <td>472.000000</td>\n",
       "      <td>243.000000</td>\n",
       "      <td>981.000000</td>\n",
       "      <td>0.000000</td>\n",
       "    </tr>\n",
       "    <tr>\n",
       "      <th>max</th>\n",
       "      <td>28788.000000</td>\n",
       "      <td>62.000000</td>\n",
       "      <td>668027.000000</td>\n",
       "      <td>473.000000</td>\n",
       "      <td>472.000000</td>\n",
       "      <td>473.000000</td>\n",
       "      <td>472.000000</td>\n",
       "      <td>998.000000</td>\n",
       "      <td>32.000000</td>\n",
       "    </tr>\n",
       "  </tbody>\n",
       "</table>\n",
       "</div>"
      ],
      "text/plain": [
       "                EID           Dt         Atotal      TG5time      TL2time  \\\n",
       "count   5670.000000  5670.000000    5670.000000  5670.000000  5670.000000   \n",
       "mean   25665.358201     3.262257    1055.475309   345.242152   238.640564   \n",
       "std     1655.296806     2.520021   13018.840150   115.211591    40.631181   \n",
       "min    21510.000000     1.000000       0.000000    68.000000    43.000000   \n",
       "25%    24256.250000     2.000000      12.000000   242.000000   241.000000   \n",
       "50%    25673.500000     3.000000      39.000000   254.000000   242.000000   \n",
       "75%    27090.750000     4.000000     484.750000   472.000000   243.000000   \n",
       "max    28788.000000    62.000000  668027.000000   473.000000   472.000000   \n",
       "\n",
       "           TL3time      TRIGGER         Amax     Fifo_err  \n",
       "count  5670.000000  5670.000000  5670.000000  5670.000000  \n",
       "mean    310.308289   238.024339   658.144974     2.314109  \n",
       "std      99.709351    40.488939   364.164700     7.529229  \n",
       "min      47.000000    43.000000   108.000000     0.000000  \n",
       "25%     244.000000   241.000000   178.000000     0.000000  \n",
       "50%     255.000000   242.000000   934.500000     0.000000  \n",
       "75%     472.000000   243.000000   981.000000     0.000000  \n",
       "max     473.000000   472.000000   998.000000    32.000000  "
      ]
     },
     "execution_count": 120,
     "metadata": {},
     "output_type": "execute_result"
    }
   ],
   "source": [
    "data.describe()"
   ]
  },
  {
   "cell_type": "code",
   "execution_count": 121,
   "metadata": {
    "collapsed": false
   },
   "outputs": [
    {
     "data": {
      "image/png": "[encoded data removed]",
      "text/plain": [
       "<matplotlib.figure.Figure at 0x7f1cceb356d8>"
      ]
     },
     "metadata": {},
     "output_type": "display_data"
    },
    {
     "data": {
      "image/png": "[encoded data removed]",
      "text/plain": [
       "<matplotlib.figure.Figure at 0x7f1cd68cad68>"
      ]
     },
     "metadata": {},
     "output_type": "display_data"
    },
    {
     "data": {
      "image/png": "[encoded data removed]",
      "text/plain": [
       "<matplotlib.figure.Figure at 0x7f1cd6a38b00>"
      ]
     },
     "metadata": {},
     "output_type": "display_data"
    },
    {
     "data": {
      "image/png": "[encoded data removed]",
      "text/plain": [
       "<matplotlib.figure.Figure at 0x7f1ccee1b6a0>"
      ]
     },
     "metadata": {},
     "output_type": "display_data"
    },
    {
     "data": {
      "image/png": "[encoded data removed]",
      "text/plain": [
       "<matplotlib.figure.Figure at 0x7f1ccea1b5c0>"
      ]
     },
     "metadata": {},
     "output_type": "display_data"
    },
    {
     "data": {
      "image/png": "[encoded data removed]",
      "text/plain": [
       "<matplotlib.figure.Figure at 0x7f1cceb14ba8>"
      ]
     },
     "metadata": {},
     "output_type": "display_data"
    }
   ],
   "source": [
    "for x in ['Dt','Atotal','TG5time','TL2time','TL3time','TRIGGER']:\n",
    "    plt.figure(figsize=(8,2))\n",
    "    plt.plot(data[x],   label = x)\n",
    "    plt.xlim(0)\n",
    "    plt.legend()"
   ]
  },
  {
   "cell_type": "code",
   "execution_count": 122,
   "metadata": {
    "collapsed": false
   },
   "outputs": [
    {
     "data": {
      "image/png": "[encoded data removed]",
      "text/plain": [
       "<matplotlib.figure.Figure at 0x7f1cca3f4e10>"
      ]
     },
     "metadata": {},
     "output_type": "display_data"
    },
    {
     "data": {
      "image/png": "[encoded data removed]",
      "text/plain": [
       "<matplotlib.figure.Figure at 0x7f1ccebfeda0>"
      ]
     },
     "metadata": {},
     "output_type": "display_data"
    },
    {
     "data": {
      "image/png": "[encoded data removed]",
      "text/plain": [
       "<matplotlib.figure.Figure at 0x7f1cca3b9748>"
      ]
     },
     "metadata": {},
     "output_type": "display_data"
    },
    {
     "data": {
      "image/png": "[encoded data removed]",
      "text/plain": [
       "<matplotlib.figure.Figure at 0x7f1cce8a7da0>"
      ]
     },
     "metadata": {},
     "output_type": "display_data"
    },
    {
     "data": {
      "image/png": "[encoded data removed]",
      "text/plain": [
       "<matplotlib.figure.Figure at 0x7f1ccec6b3c8>"
      ]
     },
     "metadata": {},
     "output_type": "display_data"
    },
    {
     "data": {
      "image/png": "[encoded data removed]",
      "text/plain": [
       "<matplotlib.figure.Figure at 0x7f1ccec22b38>"
      ]
     },
     "metadata": {},
     "output_type": "display_data"
    },
    {
     "data": {
      "image/png": "[encoded data removed]",
      "text/plain": [
       "<matplotlib.figure.Figure at 0x7f1cce740a20>"
      ]
     },
     "metadata": {},
     "output_type": "display_data"
    },
    {
     "data": {
      "image/png": "[encoded data removed]",
      "text/plain": [
       "<matplotlib.figure.Figure at 0x7f1cd6a25f28>"
      ]
     },
     "metadata": {},
     "output_type": "display_data"
    },
    {
     "data": {
      "image/png": "[encoded data removed]",
      "text/plain": [
       "<matplotlib.figure.Figure at 0x7f1cd6ddd0b8>"
      ]
     },
     "metadata": {},
     "output_type": "display_data"
    }
   ],
   "source": [
    "for x in ['Type','Dt','Atotal','TG5time','TL2time','TL3time','TRIGGER','Fifo_err','Amax']:\n",
    "    plt.figure(figsize=(8,2))\n",
    "    plt.hist(data[x], 50, label = x)\n",
    "    plt.xlim(0)\n",
    "    plt.legend()"
   ]
  },
  {
   "cell_type": "code",
   "execution_count": 123,
   "metadata": {
    "collapsed": false
   },
   "outputs": [
    {
     "data": {
      "text/plain": [
       "571"
      ]
     },
     "execution_count": 123,
     "metadata": {},
     "output_type": "execute_result"
    }
   ],
   "source": [
    "data.Dt[data['Fifo_err'] > 2].count()"
   ]
  },
  {
   "cell_type": "markdown",
   "metadata": {},
   "source": [
    "## Отсев"
   ]
  },
  {
   "cell_type": "code",
   "execution_count": 154,
   "metadata": {
    "collapsed": false
   },
   "outputs": [
    {
     "name": "stdout",
     "output_type": "stream",
     "text": [
      "All data       : 5670\n",
      "Fifo_err <  3  : 5099\n",
      "TL2time < 350  : 5060\n",
      "TL2time > 220  : 4882\n",
      "Amax   <  900  : 2256\n",
      "Atotal < 100000: 2251\n",
      "Atotal >    0  : 2143\n"
     ]
    },
    {
     "data": {
      "text/html": [
       "<div>\n",
       "<style scoped>\n",
       "    .dataframe tbody tr th:only-of-type {\n",
       "        vertical-align: middle;\n",
       "    }\n",
       "\n",
       "    .dataframe tbody tr th {\n",
       "        vertical-align: top;\n",
       "    }\n",
       "\n",
       "    .dataframe thead th {\n",
       "        text-align: right;\n",
       "    }\n",
       "</style>\n",
       "<table border=\"1\" class=\"dataframe\">\n",
       "  <thead>\n",
       "    <tr style=\"text-align: right;\">\n",
       "      <th></th>\n",
       "      <th>EID</th>\n",
       "      <th>Dt</th>\n",
       "      <th>Atotal</th>\n",
       "      <th>TG5time</th>\n",
       "      <th>TL2time</th>\n",
       "      <th>TL3time</th>\n",
       "      <th>TRIGGER</th>\n",
       "      <th>Amax</th>\n",
       "      <th>Fifo_err</th>\n",
       "    </tr>\n",
       "  </thead>\n",
       "  <tbody>\n",
       "    <tr>\n",
       "      <th>count</th>\n",
       "      <td>2143.000000</td>\n",
       "      <td>2143.000000</td>\n",
       "      <td>2143.000000</td>\n",
       "      <td>2143.000000</td>\n",
       "      <td>2143.000000</td>\n",
       "      <td>2143.000000</td>\n",
       "      <td>2143.000000</td>\n",
       "      <td>2143.000000</td>\n",
       "      <td>2143.000000</td>\n",
       "    </tr>\n",
       "    <tr>\n",
       "      <th>mean</th>\n",
       "      <td>25580.870275</td>\n",
       "      <td>4.167056</td>\n",
       "      <td>1548.576762</td>\n",
       "      <td>453.719085</td>\n",
       "      <td>240.835278</td>\n",
       "      <td>359.219319</td>\n",
       "      <td>240.835278</td>\n",
       "      <td>364.088194</td>\n",
       "      <td>0.004666</td>\n",
       "    </tr>\n",
       "    <tr>\n",
       "      <th>std</th>\n",
       "      <td>1630.287151</td>\n",
       "      <td>2.332352</td>\n",
       "      <td>4535.544003</td>\n",
       "      <td>61.982373</td>\n",
       "      <td>4.482087</td>\n",
       "      <td>114.656473</td>\n",
       "      <td>4.482087</td>\n",
       "      <td>240.485129</td>\n",
       "      <td>0.096516</td>\n",
       "    </tr>\n",
       "    <tr>\n",
       "      <th>min</th>\n",
       "      <td>23001.000000</td>\n",
       "      <td>1.000000</td>\n",
       "      <td>1.000000</td>\n",
       "      <td>241.000000</td>\n",
       "      <td>221.000000</td>\n",
       "      <td>240.000000</td>\n",
       "      <td>221.000000</td>\n",
       "      <td>121.000000</td>\n",
       "      <td>0.000000</td>\n",
       "    </tr>\n",
       "    <tr>\n",
       "      <th>25%</th>\n",
       "      <td>24150.000000</td>\n",
       "      <td>3.000000</td>\n",
       "      <td>263.000000</td>\n",
       "      <td>472.000000</td>\n",
       "      <td>241.000000</td>\n",
       "      <td>243.000000</td>\n",
       "      <td>241.000000</td>\n",
       "      <td>159.000000</td>\n",
       "      <td>0.000000</td>\n",
       "    </tr>\n",
       "    <tr>\n",
       "      <th>50%</th>\n",
       "      <td>25433.000000</td>\n",
       "      <td>4.000000</td>\n",
       "      <td>619.000000</td>\n",
       "      <td>472.000000</td>\n",
       "      <td>242.000000</td>\n",
       "      <td>472.000000</td>\n",
       "      <td>242.000000</td>\n",
       "      <td>194.000000</td>\n",
       "      <td>0.000000</td>\n",
       "    </tr>\n",
       "    <tr>\n",
       "      <th>75%</th>\n",
       "      <td>27123.000000</td>\n",
       "      <td>5.000000</td>\n",
       "      <td>1825.000000</td>\n",
       "      <td>472.000000</td>\n",
       "      <td>243.000000</td>\n",
       "      <td>472.000000</td>\n",
       "      <td>243.000000</td>\n",
       "      <td>618.500000</td>\n",
       "      <td>0.000000</td>\n",
       "    </tr>\n",
       "    <tr>\n",
       "      <th>max</th>\n",
       "      <td>28787.000000</td>\n",
       "      <td>20.000000</td>\n",
       "      <td>88750.000000</td>\n",
       "      <td>473.000000</td>\n",
       "      <td>245.000000</td>\n",
       "      <td>473.000000</td>\n",
       "      <td>245.000000</td>\n",
       "      <td>896.000000</td>\n",
       "      <td>2.000000</td>\n",
       "    </tr>\n",
       "  </tbody>\n",
       "</table>\n",
       "</div>"
      ],
      "text/plain": [
       "                EID           Dt        Atotal      TG5time      TL2time  \\\n",
       "count   2143.000000  2143.000000   2143.000000  2143.000000  2143.000000   \n",
       "mean   25580.870275     4.167056   1548.576762   453.719085   240.835278   \n",
       "std     1630.287151     2.332352   4535.544003    61.982373     4.482087   \n",
       "min    23001.000000     1.000000      1.000000   241.000000   221.000000   \n",
       "25%    24150.000000     3.000000    263.000000   472.000000   241.000000   \n",
       "50%    25433.000000     4.000000    619.000000   472.000000   242.000000   \n",
       "75%    27123.000000     5.000000   1825.000000   472.000000   243.000000   \n",
       "max    28787.000000    20.000000  88750.000000   473.000000   245.000000   \n",
       "\n",
       "           TL3time      TRIGGER         Amax     Fifo_err  \n",
       "count  2143.000000  2143.000000  2143.000000  2143.000000  \n",
       "mean    359.219319   240.835278   364.088194     0.004666  \n",
       "std     114.656473     4.482087   240.485129     0.096516  \n",
       "min     240.000000   221.000000   121.000000     0.000000  \n",
       "25%     243.000000   241.000000   159.000000     0.000000  \n",
       "50%     472.000000   242.000000   194.000000     0.000000  \n",
       "75%     472.000000   243.000000   618.500000     0.000000  \n",
       "max     473.000000   245.000000   896.000000     2.000000  "
      ]
     },
     "execution_count": 154,
     "metadata": {},
     "output_type": "execute_result"
    }
   ],
   "source": [
    "print('All data       :', data.shape[0])\n",
    "new = data[data.Fifo_err < 3] #\n",
    "print('Fifo_err <  3  :', new.shape[0])\n",
    "new = new[new.TL2time < 350]  #\n",
    "print('TL2time < 350  :', new.shape[0])\n",
    "new = new[new.TL2time > 220]  #\n",
    "print('TL2time > 220  :', new.shape[0])\n",
    "new = new[new.Amax   < 900]\n",
    "print('Amax   <  900  :', new.shape[0])\n",
    "new = new[new.Atotal < 100000] #\n",
    "print('Atotal < 100000:', new.shape[0])\n",
    "new = new[new.Atotal > 0] #\n",
    "print('Atotal >    0  :', new.shape[0])\n",
    "new.describe()"
   ]
  },
  {
   "cell_type": "code",
   "execution_count": 150,
   "metadata": {
    "collapsed": false
   },
   "outputs": [
    {
     "data": {
      "image/png": "[encoded data removed]",
      "text/plain": [
       "<matplotlib.figure.Figure at 0x7f1ccea5c4a8>"
      ]
     },
     "metadata": {},
     "output_type": "display_data"
    },
    {
     "data": {
      "image/png": "[encoded data removed]",
      "text/plain": [
       "<matplotlib.figure.Figure at 0x7f1cd6da82e8>"
      ]
     },
     "metadata": {},
     "output_type": "display_data"
    },
    {
     "data": {
      "image/png": "[encoded data removed]",
      "text/plain": [
       "<matplotlib.figure.Figure at 0x7f1cce9d16a0>"
      ]
     },
     "metadata": {},
     "output_type": "display_data"
    },
    {
     "data": {
      "image/png": "[encoded data removed]",
      "text/plain": [
       "<matplotlib.figure.Figure at 0x7f1ccec6f7f0>"
      ]
     },
     "metadata": {},
     "output_type": "display_data"
    },
    {
     "data": {
      "image/png": "[encoded data removed]",
      "text/plain": [
       "<matplotlib.figure.Figure at 0x7f1cca4017b8>"
      ]
     },
     "metadata": {},
     "output_type": "display_data"
    },
    {
     "data": {
      "image/png": "[encoded data removed]",
      "text/plain": [
       "<matplotlib.figure.Figure at 0x7f1ccea59438>"
      ]
     },
     "metadata": {},
     "output_type": "display_data"
    },
    {
     "data": {
      "image/png": "[encoded data removed]",
      "text/plain": [
       "<matplotlib.figure.Figure at 0x7f1cced242b0>"
      ]
     },
     "metadata": {},
     "output_type": "display_data"
    },
    {
     "data": {
      "image/png": "[encoded data removed]",
      "text/plain": [
       "<matplotlib.figure.Figure at 0x7f1cce876978>"
      ]
     },
     "metadata": {},
     "output_type": "display_data"
    }
   ],
   "source": [
    "for x in ['Type','Dt','Atotal','TG5time','TL2time','TL3time','TRIGGER','Amax']:\n",
    "    plt.figure(figsize=(8,2))\n",
    "    plt.hist(new[x], 50, label = x)\n",
    "    #plt.yscale('log')\n",
    "    #plt.xlim(0)\n",
    "    plt.legend()"
   ]
  },
  {
   "cell_type": "code",
   "execution_count": 167,
   "metadata": {
    "collapsed": false
   },
   "outputs": [],
   "source": [
    "nums = list(new.EID[:])"
   ]
  },
  {
   "cell_type": "code",
   "execution_count": 160,
   "metadata": {
    "collapsed": true
   },
   "outputs": [],
   "source": [
    "new.to_csv('data_to_analyze.csv')"
   ]
  },
  {
   "cell_type": "code",
   "execution_count": 170,
   "metadata": {
    "collapsed": true
   },
   "outputs": [],
   "source": [
    "import csv \n",
    "\n",
    "with open(\"nums.csv\", \"w\", newline='\\n') as file:\n",
    "    csv.writer(file).writerow(nums)"
   ]
  },
  {
   "cell_type": "code",
   "execution_count": 171,
   "metadata": {
    "collapsed": true
   },
   "outputs": [],
   "source": [
    "with open(\"nums.txt\", \"w\") as outfile:\n",
    "    print(*nums, file=outfile, sep=\"\\n\")"
   ]
  }
 ],
 "metadata": {
  "anaconda-cloud": {},
  "kernelspec": {
   "display_name": "Python [default]",
   "language": "python",
   "name": "python3"
  },
  "language_info": {
   "codemirror_mode": {
    "name": "ipython",
    "version": 3
   },
   "file_extension": ".py",
   "mimetype": "text/x-python",
   "name": "python",
   "nbconvert_exporter": "python",
   "pygments_lexer": "ipython3",
   "version": "3.5.2"
  }
 },
 "nbformat": 4,
 "nbformat_minor": 2
}
