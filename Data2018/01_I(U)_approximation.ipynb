{
 "cells": [
  {
   "cell_type": "markdown",
   "metadata": {},
   "source": [
    "## Аппроксимация зависимости тока SiPM от напряжения\n",
    "\n",
    "по данным ноября 2018г"
   ]
  },
  {
   "cell_type": "code",
   "execution_count": 1,
   "metadata": {},
   "outputs": [
    {
     "name": "stdout",
     "output_type": "stream",
     "text": [
      "Чт янв 10 15:42:21 MSK 2019\n",
      "/home/sphere/ExpData/2018/Data/2018_12_07-08_run2/spectrums\n"
     ]
    }
   ],
   "source": [
    "!date\n",
    "!pwd"
   ]
  },
  {
   "cell_type": "code",
   "execution_count": 2,
   "metadata": {
    "collapsed": true
   },
   "outputs": [],
   "source": [
    "ydata = [ 0.01,   5.260959,   5.396308,  24.728257, \n",
    "         30.622831,  36.058619,  41.530859]\n",
    "xdata = [ 0.01, -25.780528, -25.783670, -27.975076, \n",
    "        -28.385462, -28.809897, -29.240659]"
   ]
  },
  {
   "cell_type": "markdown",
   "metadata": {},
   "source": [
    "## Экспоненциальное приближение"
   ]
  },
  {
   "cell_type": "code",
   "execution_count": 3,
   "metadata": {},
   "outputs": [
    {
     "name": "stderr",
     "output_type": "stream",
     "text": [
      "/home/sphere/Soft/anaconda3/lib/python3.5/site-packages/ipykernel/__main__.py:5: DeprecationWarning: It is recommended to provide names to Variable explicitly as automatic generation of names will be dropped in future `symfit` versions.\n"
     ]
    },
    {
     "data": {
      "text/plain": [
       "OrderedDict([('par_0', 0.015339357487257682),\n",
       "             ('par_1', 0.50774429106013497),\n",
       "             ('par_2', -13.569451723931062)])"
      ]
     },
     "execution_count": 3,
     "metadata": {},
     "output_type": "execute_result"
    }
   ],
   "source": [
    "from symfit import Parameter, Variable, Fit, exp \n",
    "import numpy as np \n",
    "import matplotlib.pyplot as plt \n",
    "\n",
    "x = Variable() \n",
    "A = Parameter() \n",
    "B = Parameter() \n",
    "#sig = Parameter(value=1.4, min=1.0, max=2.0) \n",
    "x0 = Parameter() \n",
    "# model function\n",
    "model = A * exp(-B *(x - x0)) \n",
    "#model = A * exp(B * x ) \n",
    "\n",
    "fit = Fit(model, xdata, ydata) \n",
    "fit_result = fit.execute() \n",
    "fit_result.params"
   ]
  },
  {
   "cell_type": "code",
   "execution_count": 4,
   "metadata": {},
   "outputs": [
    {
     "data": {
      "image/png": "[encoded data removed]",
      "text/plain": [
       "<matplotlib.figure.Figure at 0x7fbeb86b1208>"
      ]
     },
     "metadata": {},
     "output_type": "display_data"
    }
   ],
   "source": [
    "# exponenta fit for voltage\n",
    "def f(x):\n",
    "    #return 0.0159 * np.exp(-0.502*(x + 13.4)**1)\n",
    "    return 0.01534 * np.exp(-0.508*(x + 13.57)**1)\n",
    "\n",
    "x = [-29.143, -29.143]\n",
    "y = [10, 50]\n",
    "plt.plot(x,y,'b-')\n",
    "\n",
    "t1 = np.arange(-29.4, 0, 0.2)\n",
    "plt.plot(t1, f(t1), 'r-')\n",
    "\n",
    "plt.plot(xdata, ydata, 'go-') \n",
    "\n",
    "plt.xlim(-29.5,-26)\n",
    "plt.show() "
   ]
  },
  {
   "cell_type": "code",
   "execution_count": 5,
   "metadata": {},
   "outputs": [
    {
     "data": {
      "text/plain": [
       "1.8704566544566545"
      ]
     },
     "execution_count": 5,
     "metadata": {},
     "output_type": "execute_result"
    }
   ],
   "source": [
    "2.048/4095*3740"
   ]
  },
  {
   "cell_type": "code",
   "execution_count": 6,
   "metadata": {},
   "outputs": [
    {
     "data": {
      "text/plain": [
       "-29.139999999999997"
      ]
     },
     "execution_count": 6,
     "metadata": {},
     "output_type": "execute_result"
    }
   ],
   "source": [
    "-27.24 - 1.9"
   ]
  },
  {
   "cell_type": "markdown",
   "metadata": {},
   "source": [
    "### Линейная аппроксимация"
   ]
  },
  {
   "cell_type": "code",
   "execution_count": 7,
   "metadata": {
    "collapsed": true
   },
   "outputs": [],
   "source": [
    "y = [ 24.728257, 30.622831,  36.058619,  41.530859]\n",
    "x = [ -27.975076, -28.385462, -28.809897, -29.240659]"
   ]
  },
  {
   "cell_type": "code",
   "execution_count": 8,
   "metadata": {},
   "outputs": [
    {
     "name": "stdout",
     "output_type": "stream",
     "text": [
      " \n",
      "-13.23 x - 345\n"
     ]
    }
   ],
   "source": [
    "import scipy as sp\n",
    "from scipy.optimize import fsolve\n",
    "\n",
    "fp, residuals, rank, sv, rcond = sp.polyfit(x, y, 1, full=True)\n",
    "f = sp.poly1d(fp)\n",
    "print(f)"
   ]
  },
  {
   "cell_type": "code",
   "execution_count": 9,
   "metadata": {
    "scrolled": true
   },
   "outputs": [
    {
     "data": {
      "image/png": "[encoded data removed]",
      "text/plain": [
       "<matplotlib.figure.Figure at 0x7fbe89ded128>"
      ]
     },
     "metadata": {},
     "output_type": "display_data"
    }
   ],
   "source": [
    "# linear fit for voltage\n",
    "def flin(x):\n",
    "    #return -10.32 * x - 261.7\n",
    "    return -13.23 * x - 345\n",
    "\n",
    "x = [-29.143, -29.143]\n",
    "y = [17, 50]\n",
    "plt.plot(x,y,'b-')\n",
    "\n",
    "t1 = np.arange(-29.5,-25.5,0.1)\n",
    "plt.plot(t1, f(t1),    'r-')\n",
    "plt.plot(t1, flin(t1), 'm-')\n",
    "\n",
    "plt.plot(xdata, ydata, 'go') \n",
    "\n",
    "plt.xlim(-29.5,-26)\n",
    "plt.show() "
   ]
  },
  {
   "cell_type": "markdown",
   "metadata": {},
   "source": [
    "## Результат\n",
    "\n",
    "В диапазоне от -27.0 до -29.5 В можно использовать линейное приближение:\n",
    "\n",
    "I(U) = -13.23 * U - 345"
   ]
  },
  {
   "cell_type": "code",
   "execution_count": null,
   "metadata": {
    "collapsed": true
   },
   "outputs": [],
   "source": []
  }
 ],
 "metadata": {
  "anaconda-cloud": {},
  "kernelspec": {
   "display_name": "Python 3",
   "language": "python",
   "name": "python3"
  },
  "language_info": {
   "codemirror_mode": {
    "name": "ipython",
    "version": 3
   },
   "file_extension": ".py",
   "mimetype": "text/x-python",
   "name": "python",
   "nbconvert_exporter": "python",
   "pygments_lexer": "ipython3",
   "version": "3.6.4"
  }
 },
 "nbformat": 4,
 "nbformat_minor": 2
}
