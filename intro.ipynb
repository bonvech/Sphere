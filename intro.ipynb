{
 "cells": [
  {
   "cell_type": "markdown",
   "metadata": {},
   "source": [
    "# Практическое руководство по анализу данных\n",
    "\n",
    "\n",
    "---"
   ]
  },
  {
   "cell_type": "markdown",
   "metadata": {},
   "source": [
    "# Рабочее окружение: Jupyter"
   ]
  },
  {
   "cell_type": "markdown",
   "metadata": {},
   "source": [
    "### Ноутбуки (тетрадки)\n",
    "\n",
    "- Разметка\n",
    "- Возможность вывода графиков, изображений и тд."
   ]
  },
  {
   "cell_type": "markdown",
   "metadata": {},
   "source": [
    "### Редактирование python-файлов\n",
    "\n",
    "- Как создавать файлы\n",
    "- Идея: выносить сложные куски кода в python-модули, в ноутбуке оставлять эксперименты"
   ]
  },
  {
   "cell_type": "markdown",
   "metadata": {},
   "source": [
    "### Работа в консоли\n",
    "\n",
    "- Вызов команд консоли из ноутбука: `!ls -l`\n",
    "- Использование терминала"
   ]
  },
  {
   "cell_type": "code",
   "execution_count": 1,
   "metadata": {
    "collapsed": false
   },
   "outputs": [
    {
     "name": "stdout",
     "output_type": "stream",
     "text": [
      "wget: missing URL\r\n",
      "Usage: wget [OPTION]... [URL]...\r\n",
      "\r\n",
      "Try `wget --help' for more options.\r\n"
     ]
    }
   ],
   "source": [
    "!wget"
   ]
  },
  {
   "cell_type": "code",
   "execution_count": 2,
   "metadata": {
    "collapsed": false
   },
   "outputs": [
    {
     "name": "stdout",
     "output_type": "stream",
     "text": [
      "Dockerfile           adult.data           environment.yml\r\n",
      "Dockerfile.datanight advanced.ipynb       \u001b[34mscripts\u001b[m\u001b[m\r\n",
      "Introduction.ipynb   baseline.ipynb       submit.py\r\n",
      "README.md            datanight.py         template.ipynb\r\n"
     ]
    }
   ],
   "source": [
    "!ls"
   ]
  },
  {
   "cell_type": "code",
   "execution_count": 3,
   "metadata": {
    "collapsed": false
   },
   "outputs": [
    {
     "name": "stdout",
     "output_type": "stream",
     "text": [
      "tar: Option f requires an argument\r\n",
      "Usage:\r\n",
      "  List:    tar -tf <archive-filename>\r\n",
      "  Extract: tar -xf <archive-filename>\r\n",
      "  Create:  tar -cf <archive-filename> [filenames...]\r\n",
      "  Help:    tar --help\r\n"
     ]
    }
   ],
   "source": [
    "!tar xvf "
   ]
  },
  {
   "cell_type": "code",
   "execution_count": 4,
   "metadata": {
    "collapsed": false
   },
   "outputs": [
    {
     "name": "stdout",
     "output_type": "stream",
     "text": [
      "UnZip 5.52 of 28 February 2005, by Info-ZIP.  Maintained by C. Spieler.  Send\r\n",
      "bug reports using http://www.info-zip.org/zip-bug.html; see README for details.\r\n",
      "\r\n",
      "Usage: unzip [-Z] [-opts[modifiers]] file[.zip] [list] [-x xlist] [-d exdir]\r\n",
      "  Default action is to extract files in list, except those in xlist, to exdir;\r\n",
      "  file[.zip] may be a wildcard.  -Z => ZipInfo mode (\"unzip -Z\" for usage).\r\n",
      "\r\n",
      "  -p  extract files to pipe, no messages     -l  list files (short format)\r\n",
      "  -f  freshen existing files, create none    -t  test compressed archive data\r\n",
      "  -u  update files, create if necessary      -z  display archive comment\r\n",
      "  -x  exclude files that follow (in xlist)   -d  extract files into exdir\r\n",
      "\r\n",
      "modifiers:                                   -q  quiet mode (-qq => quieter)\r\n",
      "  -n  never overwrite existing files         -a  auto-convert any text files\r\n",
      "  -o  overwrite files WITHOUT prompting      -aa treat ALL files as text\r\n",
      "  -j  junk paths (do not make directories)   -v  be verbose/print version info\r\n",
      "  -C  match filenames case-insensitively     -L  make (some) names lowercase\r\n",
      "  -X  restore UID/GID info                   -V  retain VMS version numbers\r\n",
      "  -K  keep setuid/setgid/tacky permissions   -M  pipe through \"more\" pager\r\n",
      "Examples (see unzip.txt for more info):\r\n",
      "  unzip data1 -x joe   => extract all files except joe from zipfile data1.zip\r\n",
      "  unzip -p foo | more  => send contents of foo.zip via pipe into program more\r\n",
      "  unzip -fo foo ReadMe => quietly replace existing ReadMe if archive file newer\r\n"
     ]
    }
   ],
   "source": [
    "!unzip"
   ]
  },
  {
   "cell_type": "markdown",
   "metadata": {},
   "source": [
    "# Получение и работа с данными"
   ]
  },
  {
   "cell_type": "markdown",
   "metadata": {},
   "source": [
    "## Табличные данные"
   ]
  },
  {
   "cell_type": "code",
   "execution_count": 1,
   "metadata": {
    "collapsed": true
   },
   "outputs": [],
   "source": [
    "import pandas"
   ]
  },
  {
   "cell_type": "code",
   "execution_count": null,
   "metadata": {
    "collapsed": false
   },
   "outputs": [],
   "source": [
    "pandas.read_csv('http://')"
   ]
  },
  {
   "cell_type": "code",
   "execution_count": null,
   "metadata": {
    "collapsed": false
   },
   "outputs": [],
   "source": [
    "pandas.read_csv('')"
   ]
  },
  {
   "cell_type": "markdown",
   "metadata": {},
   "source": [
    "## Таблицы со станиц интернета"
   ]
  },
  {
   "cell_type": "code",
   "execution_count": 7,
   "metadata": {
    "collapsed": true
   },
   "outputs": [],
   "source": [
    "import pandas"
   ]
  },
  {
   "cell_type": "code",
   "execution_count": null,
   "metadata": {
    "collapsed": false
   },
   "outputs": [],
   "source": [
    "tables = pandas.read_html(\n",
    "    'https://en.wikipedia.org/w/index.php?search=Dow+Jones+Industrial+Average&title=Special%3ASearch&go=Go', \n",
    "    attrs={'class': 'wikitable'},  # фильтруем только таблицы с данными\n",
    "    header=0, # делаем первую строчку — заголовком\n",
    ")"
   ]
  },
  {
   "cell_type": "code",
   "execution_count": null,
   "metadata": {
    "collapsed": false
   },
   "outputs": [],
   "source": [
    "tables[0]"
   ]
  },
  {
   "cell_type": "markdown",
   "metadata": {},
   "source": [
    "## Использование HTTP API\n",
    "\n",
    "Пример API:\n",
    " - Яндекс Карты"
   ]
  },
  {
   "cell_type": "code",
   "execution_count": 10,
   "metadata": {
    "collapsed": true
   },
   "outputs": [],
   "source": [
    "import requests\n",
    "import json"
   ]
  },
  {
   "cell_type": "code",
   "execution_count": 171,
   "metadata": {
    "collapsed": false
   },
   "outputs": [],
   "source": [
    "resp = requests.get(\n",
    "    'https://geocode-maps.yandex.ru/1.x/',\n",
    "    params={'format': 'json', 'geocode': 'Масква Тверская улца дом 7'},\n",
    ")"
   ]
  },
  {
   "cell_type": "code",
   "execution_count": 172,
   "metadata": {
    "collapsed": false
   },
   "outputs": [],
   "source": [
    "found = resp.json()['response']['GeoObjectCollection']['featureMember'][0]['GeoObject']"
   ]
  },
  {
   "cell_type": "code",
   "execution_count": 173,
   "metadata": {
    "collapsed": false
   },
   "outputs": [
    {
     "name": "stdout",
     "output_type": "stream",
     "text": [
      "{\n",
      "  \"metaDataProperty\": {\n",
      "    \"GeocoderMetaData\": {\n",
      "      \"text\": \"Россия, Москва, Тверская улица, 7\", \n",
      "      \"kind\": \"house\", \n",
      "      \"AddressDetails\": {\n",
      "        \"Country\": {\n",
      "          \"CountryName\": \"Россия\", \n",
      "          \"AdministrativeArea\": {\n",
      "            \"AdministrativeAreaName\": \"Москва\", \n",
      "            \"Locality\": {\n",
      "              \"Thoroughfare\": {\n",
      "                \"Premise\": {\n",
      "                  \"PremiseNumber\": \"7\"\n",
      "                }, \n",
      "                \"ThoroughfareName\": \"Тверская улица\"\n",
      "              }, \n",
      "              \"LocalityName\": \"Москва\"\n",
      "            }\n",
      "          }, \n",
      "          \"AddressLine\": \"Москва, Тверская улица, 7\", \n",
      "          \"CountryNameCode\": \"RU\"\n",
      "        }\n",
      "      }, \n",
      "      \"precision\": \"exact\"\n",
      "    }\n",
      "  }, \n",
      "  \"boundedBy\": {\n",
      "    \"Envelope\": {\n",
      "      \"upperCorner\": \"37.619234 55.762601\", \n",
      "      \"lowerCorner\": \"37.602777 55.753321\"\n",
      "    }\n",
      "  }, \n",
      "  \"Point\": {\n",
      "    \"pos\": \"37.611006 55.757962\"\n",
      "  }, \n",
      "  \"description\": \"Москва, Россия\", \n",
      "  \"name\": \"Тверская улица, 7\"\n",
      "}\n"
     ]
    }
   ],
   "source": [
    "print json.dumps(found, indent=2, encoding='utf8', ensure_ascii=False)"
   ]
  },
  {
   "cell_type": "markdown",
   "metadata": {},
   "source": [
    "## Извлечение данных со страниц\n",
    "\n",
    "- [Scrapy](http://scrapy.org/)\n",
    "- [Пример работы с селекторами](http://doc.scrapy.org/en/1.0/topics/selectors.html)\n",
    "- [Документация по css селекторам](http://www.w3schools.com/cssref/css_selectors.asp)"
   ]
  },
  {
   "cell_type": "code",
   "execution_count": 174,
   "metadata": {
    "collapsed": false
   },
   "outputs": [],
   "source": [
    "resp = requests.get('https://www.hse.ru/staff/arjanstev')"
   ]
  },
  {
   "cell_type": "code",
   "execution_count": null,
   "metadata": {
    "collapsed": false
   },
   "outputs": [],
   "source": [
    "import scrapy"
   ]
  },
  {
   "cell_type": "code",
   "execution_count": 40,
   "metadata": {
    "collapsed": false
   },
   "outputs": [],
   "source": [
    "page = scrapy.Selector(text=resp.content)"
   ]
  },
  {
   "cell_type": "code",
   "execution_count": 45,
   "metadata": {
    "collapsed": false
   },
   "outputs": [
    {
     "data": {
      "text/plain": [
       "u'<dl class=\"main-list large main-list-language-knowledge-level\"><dt class=\"b\">\\u0412\\u043b\\u0430\\u0434\\u0435\\u043d\\u0438\\u0435 \\u044f\\u0437\\u044b\\u043a\\u0430\\u043c\\u0438</dt><dd>\\u0430\\u043d\\u0433\\u043b\\u0438\\u0439\\u0441\\u043a\\u0438\\u0439</dd><dd>\\u0443\\u043a\\u0440\\u0430\\u0438\\u043d\\u0441\\u043a\\u0438\\u0439</dd><dd>\\u043d\\u0435\\u043c\\u0435\\u0446\\u043a\\u0438\\u0439</dd><dd>\\u0444\\u0440\\u0430\\u043d\\u0446\\u0443\\u0437\\u0441\\u043a\\u0438\\u0439</dd></dl>'"
      ]
     },
     "execution_count": 45,
     "metadata": {},
     "output_type": "execute_result"
    }
   ],
   "source": [
    "page.css('dl.main-list-language-knowledge-level').extract_first()"
   ]
  },
  {
   "cell_type": "code",
   "execution_count": 48,
   "metadata": {
    "collapsed": false
   },
   "outputs": [
    {
     "name": "stdout",
     "output_type": "stream",
     "text": [
      "английский\n",
      "украинский\n",
      "немецкий\n",
      "французский\n"
     ]
    }
   ],
   "source": [
    "langs = page.css('dl.main-list-language-knowledge-level dd ::text').extract()\n",
    "for lang in langs:\n",
    "    print lang"
   ]
  },
  {
   "cell_type": "markdown",
   "metadata": {},
   "source": [
    "## Таблица из набора JSON-записей"
   ]
  },
  {
   "cell_type": "code",
   "execution_count": 2,
   "metadata": {
    "collapsed": false
   },
   "outputs": [
    {
     "data": {
      "text/html": [
       "<div>\n",
       "<table border=\"1\" class=\"dataframe\">\n",
       "  <thead>\n",
       "    <tr style=\"text-align: right;\">\n",
       "      <th></th>\n",
       "      <th>x</th>\n",
       "      <th>y</th>\n",
       "    </tr>\n",
       "  </thead>\n",
       "  <tbody>\n",
       "    <tr>\n",
       "      <th>0</th>\n",
       "      <td>1</td>\n",
       "      <td>a</td>\n",
       "    </tr>\n",
       "    <tr>\n",
       "      <th>1</th>\n",
       "      <td>2</td>\n",
       "      <td>b</td>\n",
       "    </tr>\n",
       "    <tr>\n",
       "      <th>2</th>\n",
       "      <td>3</td>\n",
       "      <td>a</td>\n",
       "    </tr>\n",
       "    <tr>\n",
       "      <th>3</th>\n",
       "      <td>4</td>\n",
       "      <td>b</td>\n",
       "    </tr>\n",
       "  </tbody>\n",
       "</table>\n",
       "</div>"
      ],
      "text/plain": [
       "   x  y\n",
       "0  1  a\n",
       "1  2  b\n",
       "2  3  a\n",
       "3  4  b"
      ]
     },
     "execution_count": 2,
     "metadata": {},
     "output_type": "execute_result"
    }
   ],
   "source": [
    "pandas.DataFrame({\n",
    "        'x': [1, 2, 3, 4],\n",
    "        'y': ['a', 'b', 'a', 'b']\n",
    "    })"
   ]
  },
  {
   "cell_type": "code",
   "execution_count": 3,
   "metadata": {
    "collapsed": false
   },
   "outputs": [
    {
     "data": {
      "text/html": [
       "<div>\n",
       "<table border=\"1\" class=\"dataframe\">\n",
       "  <thead>\n",
       "    <tr style=\"text-align: right;\">\n",
       "      <th></th>\n",
       "      <th>x</th>\n",
       "      <th>y</th>\n",
       "    </tr>\n",
       "  </thead>\n",
       "  <tbody>\n",
       "    <tr>\n",
       "      <th>0</th>\n",
       "      <td>1</td>\n",
       "      <td>a</td>\n",
       "    </tr>\n",
       "    <tr>\n",
       "      <th>1</th>\n",
       "      <td>2</td>\n",
       "      <td>b</td>\n",
       "    </tr>\n",
       "  </tbody>\n",
       "</table>\n",
       "</div>"
      ],
      "text/plain": [
       "   x  y\n",
       "0  1  a\n",
       "1  2  b"
      ]
     },
     "execution_count": 3,
     "metadata": {},
     "output_type": "execute_result"
    }
   ],
   "source": [
    "pandas.DataFrame.from_records([\n",
    "        {'x': 1, 'y': 'a'},\n",
    "        {'x': 2, 'y': 'b'}\n",
    "    ])"
   ]
  },
  {
   "cell_type": "markdown",
   "metadata": {},
   "source": [
    "# Машинное обучение"
   ]
  },
  {
   "cell_type": "markdown",
   "metadata": {},
   "source": [
    "Рассмотрим выборку [Census Income Data Set](https://archive.ics.uci.edu/ml/machine-learning-databases/adult/)\n",
    "\n",
    "Решаем следующую задачу - по социальным признакам человека необходимо определить зарабатывает ли он более 50к или менее."
   ]
  },
  {
   "cell_type": "markdown",
   "metadata": {},
   "source": [
    "## Предобработка данных, извлечение признаков"
   ]
  },
  {
   "cell_type": "markdown",
   "metadata": {},
   "source": [
    "### Качаем выборку"
   ]
  },
  {
   "cell_type": "code",
   "execution_count": 5,
   "metadata": {
    "collapsed": false
   },
   "outputs": [
    {
     "name": "stdout",
     "output_type": "stream",
     "text": [
      "--2016-07-01 22:30:44--  https://archive.ics.uci.edu/ml/machine-learning-databases/adult/adult.data\n",
      "Resolving archive.ics.uci.edu... 128.195.10.249\n",
      "Connecting to archive.ics.uci.edu|128.195.10.249|:443... connected.\n",
      "HTTP request sent, awaiting response... 200 OK\n",
      "Length: 3974305 (3.8M) [text/plain]\n",
      "Saving to: 'adult.data'\n",
      "\n",
      "adult.data          100%[=====================>]   3.79M  55.9KB/s   in 84s    \n",
      "\n",
      "2016-07-01 22:32:11 (46.0 KB/s) - 'adult.data' saved [3974305/3974305]\n",
      "\n"
     ]
    }
   ],
   "source": [
    "!wget https://archive.ics.uci.edu/ml/machine-learning-databases/adult/adult.data"
   ]
  },
  {
   "cell_type": "markdown",
   "metadata": {},
   "source": [
    "Посмотрим как выглядит начало файла с данными"
   ]
  },
  {
   "cell_type": "code",
   "execution_count": 6,
   "metadata": {
    "collapsed": false
   },
   "outputs": [
    {
     "name": "stdout",
     "output_type": "stream",
     "text": [
      "39, State-gov, 77516, Bachelors, 13, Never-married, Adm-clerical, Not-in-family, White, Male, 2174, 0, 40, United-States, <=50K\r\n",
      "50, Self-emp-not-inc, 83311, Bachelors, 13, Married-civ-spouse, Exec-managerial, Husband, White, Male, 0, 0, 13, United-States, <=50K\r\n",
      "38, Private, 215646, HS-grad, 9, Divorced, Handlers-cleaners, Not-in-family, White, Male, 0, 0, 40, United-States, <=50K\r\n",
      "53, Private, 234721, 11th, 7, Married-civ-spouse, Handlers-cleaners, Husband, Black, Male, 0, 0, 40, United-States, <=50K\r\n",
      "28, Private, 338409, Bachelors, 13, Married-civ-spouse, Prof-specialty, Wife, Black, Female, 0, 0, 40, Cuba, <=50K\r\n",
      "37, Private, 284582, Masters, 14, Married-civ-spouse, Exec-managerial, Wife, White, Female, 0, 0, 40, United-States, <=50K\r\n",
      "49, Private, 160187, 9th, 5, Married-spouse-absent, Other-service, Not-in-family, Black, Female, 0, 0, 16, Jamaica, <=50K\r\n",
      "52, Self-emp-not-inc, 209642, HS-grad, 9, Married-civ-spouse, Exec-managerial, Husband, White, Male, 0, 0, 45, United-States, >50K\r\n",
      "31, Private, 45781, Masters, 14, Never-married, Prof-specialty, Not-in-family, White, Female, 14084, 0, 50, United-States, >50K\r\n",
      "42, Private, 159449, Bachelors, 13, Married-civ-spouse, Exec-managerial, Husband, White, Male, 5178, 0, 40, United-States, >50K\r\n"
     ]
    }
   ],
   "source": [
    "!head adult.data"
   ]
  },
  {
   "cell_type": "markdown",
   "metadata": {},
   "source": [
    "Импортируем необходимые библиотеки"
   ]
  },
  {
   "cell_type": "code",
   "execution_count": 7,
   "metadata": {
    "collapsed": true
   },
   "outputs": [],
   "source": [
    "import pandas\n",
    "import numpy"
   ]
  },
  {
   "cell_type": "markdown",
   "metadata": {},
   "source": [
    "Загружаем файл и делаем из него pandas.DataFrame"
   ]
  },
  {
   "cell_type": "code",
   "execution_count": 8,
   "metadata": {
    "collapsed": false
   },
   "outputs": [
    {
     "name": "stdout",
     "output_type": "stream",
     "text": [
      "(32561, 15)\n"
     ]
    },
    {
     "data": {
      "text/html": [
       "<div>\n",
       "<table border=\"1\" class=\"dataframe\">\n",
       "  <thead>\n",
       "    <tr style=\"text-align: right;\">\n",
       "      <th></th>\n",
       "      <th>0</th>\n",
       "      <th>1</th>\n",
       "      <th>2</th>\n",
       "      <th>3</th>\n",
       "      <th>4</th>\n",
       "      <th>5</th>\n",
       "      <th>6</th>\n",
       "      <th>7</th>\n",
       "      <th>8</th>\n",
       "      <th>9</th>\n",
       "      <th>10</th>\n",
       "      <th>11</th>\n",
       "      <th>12</th>\n",
       "      <th>13</th>\n",
       "      <th>14</th>\n",
       "    </tr>\n",
       "  </thead>\n",
       "  <tbody>\n",
       "    <tr>\n",
       "      <th>0</th>\n",
       "      <td>39</td>\n",
       "      <td>State-gov</td>\n",
       "      <td>77516</td>\n",
       "      <td>Bachelors</td>\n",
       "      <td>13</td>\n",
       "      <td>Never-married</td>\n",
       "      <td>Adm-clerical</td>\n",
       "      <td>Not-in-family</td>\n",
       "      <td>White</td>\n",
       "      <td>Male</td>\n",
       "      <td>2174</td>\n",
       "      <td>0</td>\n",
       "      <td>40</td>\n",
       "      <td>United-States</td>\n",
       "      <td>&lt;=50K</td>\n",
       "    </tr>\n",
       "    <tr>\n",
       "      <th>1</th>\n",
       "      <td>50</td>\n",
       "      <td>Self-emp-not-inc</td>\n",
       "      <td>83311</td>\n",
       "      <td>Bachelors</td>\n",
       "      <td>13</td>\n",
       "      <td>Married-civ-spouse</td>\n",
       "      <td>Exec-managerial</td>\n",
       "      <td>Husband</td>\n",
       "      <td>White</td>\n",
       "      <td>Male</td>\n",
       "      <td>0</td>\n",
       "      <td>0</td>\n",
       "      <td>13</td>\n",
       "      <td>United-States</td>\n",
       "      <td>&lt;=50K</td>\n",
       "    </tr>\n",
       "    <tr>\n",
       "      <th>2</th>\n",
       "      <td>38</td>\n",
       "      <td>Private</td>\n",
       "      <td>215646</td>\n",
       "      <td>HS-grad</td>\n",
       "      <td>9</td>\n",
       "      <td>Divorced</td>\n",
       "      <td>Handlers-cleaners</td>\n",
       "      <td>Not-in-family</td>\n",
       "      <td>White</td>\n",
       "      <td>Male</td>\n",
       "      <td>0</td>\n",
       "      <td>0</td>\n",
       "      <td>40</td>\n",
       "      <td>United-States</td>\n",
       "      <td>&lt;=50K</td>\n",
       "    </tr>\n",
       "    <tr>\n",
       "      <th>3</th>\n",
       "      <td>53</td>\n",
       "      <td>Private</td>\n",
       "      <td>234721</td>\n",
       "      <td>11th</td>\n",
       "      <td>7</td>\n",
       "      <td>Married-civ-spouse</td>\n",
       "      <td>Handlers-cleaners</td>\n",
       "      <td>Husband</td>\n",
       "      <td>Black</td>\n",
       "      <td>Male</td>\n",
       "      <td>0</td>\n",
       "      <td>0</td>\n",
       "      <td>40</td>\n",
       "      <td>United-States</td>\n",
       "      <td>&lt;=50K</td>\n",
       "    </tr>\n",
       "    <tr>\n",
       "      <th>4</th>\n",
       "      <td>28</td>\n",
       "      <td>Private</td>\n",
       "      <td>338409</td>\n",
       "      <td>Bachelors</td>\n",
       "      <td>13</td>\n",
       "      <td>Married-civ-spouse</td>\n",
       "      <td>Prof-specialty</td>\n",
       "      <td>Wife</td>\n",
       "      <td>Black</td>\n",
       "      <td>Female</td>\n",
       "      <td>0</td>\n",
       "      <td>0</td>\n",
       "      <td>40</td>\n",
       "      <td>Cuba</td>\n",
       "      <td>&lt;=50K</td>\n",
       "    </tr>\n",
       "  </tbody>\n",
       "</table>\n",
       "</div>"
      ],
      "text/plain": [
       "   0                  1       2           3   4                    5   \\\n",
       "0  39          State-gov   77516   Bachelors  13        Never-married   \n",
       "1  50   Self-emp-not-inc   83311   Bachelors  13   Married-civ-spouse   \n",
       "2  38            Private  215646     HS-grad   9             Divorced   \n",
       "3  53            Private  234721        11th   7   Married-civ-spouse   \n",
       "4  28            Private  338409   Bachelors  13   Married-civ-spouse   \n",
       "\n",
       "                   6               7       8        9     10  11  12  \\\n",
       "0        Adm-clerical   Not-in-family   White     Male  2174   0  40   \n",
       "1     Exec-managerial         Husband   White     Male     0   0  13   \n",
       "2   Handlers-cleaners   Not-in-family   White     Male     0   0  40   \n",
       "3   Handlers-cleaners         Husband   Black     Male     0   0  40   \n",
       "4      Prof-specialty            Wife   Black   Female     0   0  40   \n",
       "\n",
       "               13      14  \n",
       "0   United-States   <=50K  \n",
       "1   United-States   <=50K  \n",
       "2   United-States   <=50K  \n",
       "3   United-States   <=50K  \n",
       "4            Cuba   <=50K  "
      ]
     },
     "execution_count": 8,
     "metadata": {},
     "output_type": "execute_result"
    }
   ],
   "source": [
    "data = pandas.read_csv('adult.data', header=None)\n",
    "print data.shape\n",
    "data.head()"
   ]
  },
  {
   "cell_type": "markdown",
   "metadata": {},
   "source": [
    "Выберем непрерывные (числовые) признаки и дискретные (категориальные) признаки."
   ]
  },
  {
   "cell_type": "code",
   "execution_count": 9,
   "metadata": {
    "collapsed": true
   },
   "outputs": [],
   "source": [
    "continious_features = [0,2,4,10,11,12]\n",
    "discreete_features = [1,3,5,6,7,8,9,13]\n",
    "target = [14]"
   ]
  },
  {
   "cell_type": "markdown",
   "metadata": {},
   "source": [
    "Создадим матрицу, где строчкой будет объект, а столбцом признак. Сначала составим матрицу из непрерывных признаков."
   ]
  },
  {
   "cell_type": "code",
   "execution_count": 10,
   "metadata": {
    "collapsed": false
   },
   "outputs": [
    {
     "name": "stdout",
     "output_type": "stream",
     "text": [
      "(32561, 6)\n"
     ]
    },
    {
     "data": {
      "text/plain": [
       "array([[    39,  77516,     13,   2174,      0,     40],\n",
       "       [    50,  83311,     13,      0,      0,     13],\n",
       "       [    38, 215646,      9,      0,      0,     40],\n",
       "       ..., \n",
       "       [    58, 151910,      9,      0,      0,     40],\n",
       "       [    22, 201490,      9,      0,      0,     20],\n",
       "       [    52, 287927,      9,  15024,      0,     40]])"
      ]
     },
     "execution_count": 10,
     "metadata": {},
     "output_type": "execute_result"
    }
   ],
   "source": [
    "X = data.iloc[:,continious_features].values\n",
    "print X.shape\n",
    "X"
   ]
  },
  {
   "cell_type": "markdown",
   "metadata": {},
   "source": [
    "### Обработка категориальных признаков"
   ]
  },
  {
   "cell_type": "code",
   "execution_count": 11,
   "metadata": {
    "collapsed": true
   },
   "outputs": [],
   "source": [
    "from sklearn.preprocessing import LabelBinarizer"
   ]
  },
  {
   "cell_type": "markdown",
   "metadata": {},
   "source": [
    "Для каждого категориального признака последовательно бинаризуем его и добавим получившиеся признаки к уже существующим"
   ]
  },
  {
   "cell_type": "code",
   "execution_count": 12,
   "metadata": {
    "collapsed": false
   },
   "outputs": [
    {
     "name": "stdout",
     "output_type": "stream",
     "text": [
      "(32561, 107)\n"
     ]
    },
    {
     "data": {
      "text/plain": [
       "array([[    39,  77516,     13, ...,      1,      0,      0],\n",
       "       [    50,  83311,     13, ...,      1,      0,      0],\n",
       "       [    38, 215646,      9, ...,      1,      0,      0],\n",
       "       ..., \n",
       "       [    58, 151910,      9, ...,      1,      0,      0],\n",
       "       [    22, 201490,      9, ...,      1,      0,      0],\n",
       "       [    52, 287927,      9, ...,      1,      0,      0]])"
      ]
     },
     "execution_count": 12,
     "metadata": {},
     "output_type": "execute_result"
    }
   ],
   "source": [
    "lb = LabelBinarizer()\n",
    "for f in discreete_features:\n",
    "    X = numpy.hstack([X,lb.fit_transform(data.iloc[:,f])])\n",
    "\n",
    "print X.shape\n",
    "X"
   ]
  },
  {
   "cell_type": "markdown",
   "metadata": {},
   "source": [
    "Также бинаризуем таргет"
   ]
  },
  {
   "cell_type": "code",
   "execution_count": 13,
   "metadata": {
    "collapsed": false
   },
   "outputs": [
    {
     "name": "stdout",
     "output_type": "stream",
     "text": [
      "(32561, 1)\n"
     ]
    },
    {
     "data": {
      "text/plain": [
       "array([[0],\n",
       "       [0],\n",
       "       [0],\n",
       "       ..., \n",
       "       [0],\n",
       "       [0],\n",
       "       [1]])"
      ]
     },
     "execution_count": 13,
     "metadata": {},
     "output_type": "execute_result"
    }
   ],
   "source": [
    "Y = lb.fit_transform(data.iloc[:,target])\n",
    "print Y.shape\n",
    "Y"
   ]
  },
  {
   "cell_type": "markdown",
   "metadata": {},
   "source": [
    "Наконец разбиваем выборку на обучающую часть и тестовую"
   ]
  },
  {
   "cell_type": "code",
   "execution_count": 14,
   "metadata": {
    "collapsed": false
   },
   "outputs": [],
   "source": [
    "ids = numpy.arange(X.shape[0])\n",
    "numpy.random.shuffle(ids)\n",
    "\n",
    "train_len = int(len(ids) * 0.8)\n",
    "\n",
    "X_train = X[ids[:train_len],:]\n",
    "Y_train = Y[ids[:train_len],:]\n",
    "X_test = X[ids[train_len:],:]\n",
    "Y_test = Y[ids[train_len:],:]"
   ]
  },
  {
   "cell_type": "markdown",
   "metadata": {},
   "source": [
    "### Построим гистограммы признаков"
   ]
  },
  {
   "cell_type": "code",
   "execution_count": 16,
   "metadata": {
    "collapsed": false
   },
   "outputs": [
    {
     "name": "stdout",
     "output_type": "stream",
     "text": [
      "Populating the interactive namespace from numpy and matplotlib\n"
     ]
    }
   ],
   "source": [
    "%pylab inline\n",
    "import matplotlib.pyplot as plt"
   ]
  },
  {
   "cell_type": "code",
   "execution_count": 17,
   "metadata": {
    "collapsed": false
   },
   "outputs": [
    {
     "data": {
      "image/png": "[encoded data removed]",
      "text/plain": [
       "<matplotlib.figure.Figure at 0x10bac1290>"
      ]
     },
     "metadata": {},
     "output_type": "display_data"
    }
   ],
   "source": [
    "figsize(8,6)\n",
    "data[discreete_features[3]].value_counts().plot(kind='bar')\n",
    "plt.show()"
   ]
  },
  {
   "cell_type": "markdown",
   "metadata": {},
   "source": [
    "Теперь построим гистограммы для непрерывных признаков, при этом разным цветом - разные таргеты\n",
    "\n",
    "Красным - где таргет 0, синим - таргет 1"
   ]
  },
  {
   "cell_type": "code",
   "execution_count": 18,
   "metadata": {
    "collapsed": false
   },
   "outputs": [
    {
     "data": {
      "image/png": "[encoded data removed]",
      "text/plain": [
       "<matplotlib.figure.Figure at 0x10c71a8d0>"
      ]
     },
     "metadata": {},
     "output_type": "display_data"
    }
   ],
   "source": [
    "figsize(20,10)\n",
    "plt.figure(1)\n",
    "for i in range(len(continious_features)):\n",
    "    plt.subplot(231 + i)\n",
    "    plt.hist(X[np.where(Y == 1)[0], continious_features[i]], bins = 100, alpha = 0.3, color = 'b', normed=True)\n",
    "    plt.hist(X[np.where(Y == 0)[0], continious_features[i]], bins = 100, alpha = 0.3, color = 'r', normed=True)\n",
    "    plt.title(continious_features[i])\n",
    "plt.show()"
   ]
  },
  {
   "cell_type": "markdown",
   "metadata": {},
   "source": [
    "## Модели машинного обучения\n",
    "\n",
    "К получившейся выборке применим различные модели Машинного Обучения"
   ]
  },
  {
   "cell_type": "markdown",
   "metadata": {},
   "source": [
    "### Линейные модели"
   ]
  },
  {
   "cell_type": "code",
   "execution_count": 19,
   "metadata": {
    "collapsed": true
   },
   "outputs": [],
   "source": [
    "from sklearn.linear_model import LogisticRegression"
   ]
  },
  {
   "cell_type": "code",
   "execution_count": 20,
   "metadata": {
    "collapsed": false
   },
   "outputs": [
    {
     "data": {
      "text/plain": [
       "LogisticRegression(C=1.0, class_weight=None, dual=False, fit_intercept=True,\n",
       "          intercept_scaling=1, max_iter=100, multi_class='ovr', n_jobs=1,\n",
       "          penalty='l2', random_state=None, solver='liblinear', tol=0.0001,\n",
       "          verbose=0, warm_start=False)"
      ]
     },
     "execution_count": 20,
     "metadata": {},
     "output_type": "execute_result"
    }
   ],
   "source": [
    "lr = LogisticRegression()\n",
    "lr.fit(X_train, Y_train.flatten())"
   ]
  },
  {
   "cell_type": "code",
   "execution_count": 21,
   "metadata": {
    "collapsed": false
   },
   "outputs": [
    {
     "data": {
      "text/plain": [
       "array([[ 0.72982237,  0.27017763],\n",
       "       [ 0.03506048,  0.96493952],\n",
       "       [ 0.69082835,  0.30917165],\n",
       "       ..., \n",
       "       [ 0.71641788,  0.28358212],\n",
       "       [ 0.92192874,  0.07807126],\n",
       "       [ 0.87424998,  0.12575002]])"
      ]
     },
     "execution_count": 21,
     "metadata": {},
     "output_type": "execute_result"
    }
   ],
   "source": [
    "lr_preds = lr.predict_proba(X_test)\n",
    "lr_preds"
   ]
  },
  {
   "cell_type": "markdown",
   "metadata": {},
   "source": [
    "## Деревья, композиции, бустинг"
   ]
  },
  {
   "cell_type": "markdown",
   "metadata": {},
   "source": [
    "### Random Forest"
   ]
  },
  {
   "cell_type": "code",
   "execution_count": 22,
   "metadata": {
    "collapsed": true
   },
   "outputs": [],
   "source": [
    "from sklearn.ensemble import RandomForestClassifier"
   ]
  },
  {
   "cell_type": "code",
   "execution_count": 23,
   "metadata": {
    "collapsed": false
   },
   "outputs": [
    {
     "data": {
      "text/plain": [
       "RandomForestClassifier(bootstrap=True, class_weight=None, criterion='gini',\n",
       "            max_depth=5, max_features='auto', max_leaf_nodes=None,\n",
       "            min_samples_leaf=1, min_samples_split=2,\n",
       "            min_weight_fraction_leaf=0.0, n_estimators=200, n_jobs=1,\n",
       "            oob_score=False, random_state=None, verbose=0,\n",
       "            warm_start=False)"
      ]
     },
     "execution_count": 23,
     "metadata": {},
     "output_type": "execute_result"
    }
   ],
   "source": [
    "rf = RandomForestClassifier(n_estimators=200, max_depth=5)\n",
    "rf.fit(X_train, Y_train.flatten())"
   ]
  },
  {
   "cell_type": "code",
   "execution_count": 24,
   "metadata": {
    "collapsed": false
   },
   "outputs": [
    {
     "data": {
      "text/plain": [
       "array([[ 0.92065546,  0.07934454],\n",
       "       [ 0.52118878,  0.47881122],\n",
       "       [ 0.71481779,  0.28518221],\n",
       "       ..., \n",
       "       [ 0.88815438,  0.11184562],\n",
       "       [ 0.90371173,  0.09628827],\n",
       "       [ 0.38856595,  0.61143405]])"
      ]
     },
     "execution_count": 24,
     "metadata": {},
     "output_type": "execute_result"
    }
   ],
   "source": [
    "rf_preds = rf.predict_proba(X_test)\n",
    "rf_preds"
   ]
  },
  {
   "cell_type": "markdown",
   "metadata": {},
   "source": [
    "### Gradient Boosting"
   ]
  },
  {
   "cell_type": "code",
   "execution_count": 25,
   "metadata": {
    "collapsed": true
   },
   "outputs": [],
   "source": [
    "from sklearn.ensemble import GradientBoostingClassifier"
   ]
  },
  {
   "cell_type": "code",
   "execution_count": 26,
   "metadata": {
    "collapsed": false
   },
   "outputs": [
    {
     "data": {
      "text/plain": [
       "GradientBoostingClassifier(init=None, learning_rate=0.1, loss='deviance',\n",
       "              max_depth=5, max_features=None, max_leaf_nodes=None,\n",
       "              min_samples_leaf=1, min_samples_split=2,\n",
       "              min_weight_fraction_leaf=0.0, n_estimators=200,\n",
       "              presort='auto', random_state=None, subsample=1.0, verbose=0,\n",
       "              warm_start=False)"
      ]
     },
     "execution_count": 26,
     "metadata": {},
     "output_type": "execute_result"
    }
   ],
   "source": [
    "bst = GradientBoostingClassifier(n_estimators=200, max_depth=5)\n",
    "bst.fit(X_train, Y_train.flatten())"
   ]
  },
  {
   "cell_type": "code",
   "execution_count": 27,
   "metadata": {
    "collapsed": false
   },
   "outputs": [
    {
     "data": {
      "text/plain": [
       "array([[ 0.99155558,  0.00844442],\n",
       "       [ 0.00612689,  0.99387311],\n",
       "       [ 0.88705946,  0.11294054],\n",
       "       ..., \n",
       "       [ 0.97296891,  0.02703109],\n",
       "       [ 0.9785387 ,  0.0214613 ],\n",
       "       [ 0.16223688,  0.83776312]])"
      ]
     },
     "execution_count": 27,
     "metadata": {},
     "output_type": "execute_result"
    }
   ],
   "source": [
    "bst_preds = bst.predict_proba(X_test)\n",
    "bst_preds"
   ]
  },
  {
   "cell_type": "markdown",
   "metadata": {},
   "source": [
    "## Оценка качества моделей"
   ]
  },
  {
   "cell_type": "markdown",
   "metadata": {},
   "source": [
    "### Метрики"
   ]
  },
  {
   "cell_type": "code",
   "execution_count": 28,
   "metadata": {
    "collapsed": false
   },
   "outputs": [],
   "source": [
    "from sklearn.metrics import roc_auc_score, roc_curve, accuracy_score\n",
    "import matplotlib.pyplot as plt"
   ]
  },
  {
   "cell_type": "markdown",
   "metadata": {},
   "source": [
    "#### Качество Logistic Regression"
   ]
  },
  {
   "cell_type": "code",
   "execution_count": 29,
   "metadata": {
    "collapsed": false
   },
   "outputs": [
    {
     "name": "stdout",
     "output_type": "stream",
     "text": [
      "AUC 0.570825783729\n",
      "accuracy 0.799017349916\n"
     ]
    }
   ],
   "source": [
    "print 'AUC', roc_auc_score(Y_test, lr_preds[:,1])\n",
    "print 'accuracy', accuracy_score(Y_test, lr.predict(X_test))"
   ]
  },
  {
   "cell_type": "code",
   "execution_count": 30,
   "metadata": {
    "collapsed": false
   },
   "outputs": [
    {
     "data": {
      "image/png": "[encoded data removed]",
      "text/plain": [
       "<matplotlib.figure.Figure at 0x115b70710>"
      ]
     },
     "metadata": {},
     "output_type": "display_data"
    }
   ],
   "source": [
    "fpr_lr, tpr_lr, thresholds = roc_curve(Y_test, lr_preds[:,1])\n",
    "\n",
    "figsize(8,8)\n",
    "plt.plot(np.arange(0.,1.,1e-5),np.arange(0.,1.,1e-5), c='black')\n",
    "plt.plot(fpr_lr,tpr_lr, c='b')\n",
    "plt.title('ROC curve', size=20)\n",
    "plt.xlabel('False Positive Rate', size=20)\n",
    "plt.ylabel('True Positive Rate', size=20)\n",
    "plt.grid()"
   ]
  },
  {
   "cell_type": "markdown",
   "metadata": {},
   "source": [
    "#### Качество Random Forest"
   ]
  },
  {
   "cell_type": "code",
   "execution_count": 31,
   "metadata": {
    "collapsed": false
   },
   "outputs": [
    {
     "name": "stdout",
     "output_type": "stream",
     "text": [
      "AUC 0.898554574007\n",
      "accuracy 0.833717181023\n"
     ]
    }
   ],
   "source": [
    "print 'AUC', roc_auc_score(Y_test, rf_preds[:,1])\n",
    "print 'accuracy', accuracy_score(Y_test, rf.predict(X_test))"
   ]
  },
  {
   "cell_type": "code",
   "execution_count": 32,
   "metadata": {
    "collapsed": false
   },
   "outputs": [
    {
     "data": {
      "image/png": "[encoded data removed]",
      "text/plain": [
       "<matplotlib.figure.Figure at 0x10c895050>"
      ]
     },
     "metadata": {},
     "output_type": "display_data"
    }
   ],
   "source": [
    "fpr_rf, tpr_rf, thresholds = roc_curve(Y_test, rf_preds[:,1])\n",
    "\n",
    "figsize(8,8)\n",
    "plt.plot(np.arange(0.,1.,1e-5),np.arange(0.,1.,1e-5), c='black')\n",
    "plt.plot(fpr_rf,tpr_rf, c='b')\n",
    "plt.title('ROC curve', size=20)\n",
    "plt.xlabel('False Positive Rate', size=20)\n",
    "plt.ylabel('True Positive Rate', size=20)\n",
    "plt.grid()"
   ]
  },
  {
   "cell_type": "markdown",
   "metadata": {},
   "source": [
    "#### Качество Gradient Boosting"
   ]
  },
  {
   "cell_type": "code",
   "execution_count": 33,
   "metadata": {
    "collapsed": false
   },
   "outputs": [
    {
     "name": "stdout",
     "output_type": "stream",
     "text": [
      "AUC 0.930304408798\n",
      "accuracy 0.872869645325\n"
     ]
    }
   ],
   "source": [
    "print 'AUC', roc_auc_score(Y_test, bst_preds[:,1])\n",
    "print 'accuracy', accuracy_score(Y_test, bst.predict(X_test))"
   ]
  },
  {
   "cell_type": "code",
   "execution_count": 34,
   "metadata": {
    "collapsed": false
   },
   "outputs": [
    {
     "data": {
      "image/png": "[encoded data removed]",
      "text/plain": [
       "<matplotlib.figure.Figure at 0x115b70a50>"
      ]
     },
     "metadata": {},
     "output_type": "display_data"
    }
   ],
   "source": [
    "fpr_gb, tpr_gb, thresholds = roc_curve(Y_test, bst_preds[:,1])\n",
    "\n",
    "figsize(8,8)\n",
    "plt.plot(np.arange(0.,1.,1e-5),np.arange(0.,1.,1e-5), c='black')\n",
    "plt.plot(fpr_gb,tpr_gb, c='b')\n",
    "plt.title('ROC curve', size=20)\n",
    "plt.xlabel('False Positive Rate', size=20)\n",
    "plt.ylabel('True Positive Rate', size=20)\n",
    "plt.grid()"
   ]
  },
  {
   "cell_type": "markdown",
   "metadata": {},
   "source": [
    "#### Кросс-валидация"
   ]
  },
  {
   "cell_type": "code",
   "execution_count": 35,
   "metadata": {
    "collapsed": false
   },
   "outputs": [],
   "source": [
    "from sklearn.cross_validation import ShuffleSplit, KFold\n",
    "from tqdm import tqdm"
   ]
  },
  {
   "cell_type": "code",
   "execution_count": 36,
   "metadata": {
    "collapsed": false
   },
   "outputs": [
    {
     "name": "stderr",
     "output_type": "stream",
     "text": [
      "100%|██████████| 5/5 [04:40<00:00, 55.51s/it]\n"
     ]
    }
   ],
   "source": [
    "cv = KFold(X.shape[0], n_folds=5, shuffle=True, random_state=123)\n",
    "\n",
    "lr_aucs = []\n",
    "lr_accs = []\n",
    "rf_aucs = []\n",
    "rf_accs = []\n",
    "bst_aucs = []\n",
    "bst_accs = []\n",
    "for train_ids, test_ids in tqdm(cv):\n",
    "    X_train, Y_train = X[train_ids, :], Y[train_ids, :]\n",
    "    X_test, Y_test = X[test_ids, :], Y[test_ids, :]\n",
    "    lr.fit(X_train, Y_train.flatten())\n",
    "    lr_aucs.append(roc_auc_score(Y_test, lr.predict_proba(X_test)[:,1]))\n",
    "    lr_accs.append(accuracy_score(Y_test, lr.predict(X_test)))\n",
    "    \n",
    "    rf.fit(X_train, Y_train.flatten())\n",
    "    rf_aucs.append(roc_auc_score(Y_test, rf.predict_proba(X_test)[:,1]))\n",
    "    rf_accs.append(accuracy_score(Y_test, rf.predict(X_test)))\n",
    "    \n",
    "    bst.fit(X_train, Y_train.flatten())\n",
    "    bst_aucs.append(roc_auc_score(Y_test, bst.predict_proba(X_test)[:,1]))\n",
    "    bst_accs.append(accuracy_score(Y_test, bst.predict(X_test)))"
   ]
  },
  {
   "cell_type": "markdown",
   "metadata": {},
   "source": [
    "#### Смотрим как себя ведёт качество на разных фолдах"
   ]
  },
  {
   "cell_type": "code",
   "execution_count": 37,
   "metadata": {
    "collapsed": false
   },
   "outputs": [
    {
     "data": {
      "text/plain": [
       "<matplotlib.legend.Legend at 0x10c92bc90>"
      ]
     },
     "execution_count": 37,
     "metadata": {},
     "output_type": "execute_result"
    },
    {
     "data": {
      "image/png": "[encoded data removed]",
      "text/plain": [
       "<matplotlib.figure.Figure at 0x10cba36d0>"
      ]
     },
     "metadata": {},
     "output_type": "display_data"
    }
   ],
   "source": [
    "figsize(16,8)\n",
    "\n",
    "plt.subplot(121)\n",
    "plt.ylabel('AUC', size=20)\n",
    "plt.xlabel('fold number', size=20)\n",
    "plt.plot(range(5), lr_aucs, label='Logistic Regression')\n",
    "plt.plot(range(5), rf_aucs, label='Random Forest')\n",
    "plt.plot(range(5), bst_aucs, label='Gradient Boosting')\n",
    "plt.legend()\n",
    "\n",
    "plt.subplot(122)\n",
    "plt.ylabel('accuracy', size=20)\n",
    "plt.xlabel('fold number', size=20)\n",
    "plt.plot(range(5), lr_accs, label='Logistic Regression')\n",
    "plt.plot(range(5), rf_accs, label='Random Forest')\n",
    "plt.plot(range(5), bst_accs, label='Gradient Boosting')\n",
    "plt.legend()"
   ]
  },
  {
   "cell_type": "markdown",
   "metadata": {},
   "source": [
    "## XGBoost"
   ]
  },
  {
   "cell_type": "code",
   "execution_count": 38,
   "metadata": {
    "collapsed": true
   },
   "outputs": [],
   "source": [
    "import xgboost as xgb"
   ]
  },
  {
   "cell_type": "code",
   "execution_count": 39,
   "metadata": {
    "collapsed": true
   },
   "outputs": [],
   "source": [
    "ids = numpy.arange(X.shape[0])\n",
    "numpy.random.shuffle(ids)\n",
    "\n",
    "train_len = int(len(ids) * 0.8)\n",
    "dtrain = xgb.DMatrix(X[ids[:train_len],:], label=Y[ids[:train_len],:])\n",
    "dtest = xgb.DMatrix(X[ids[train_len:],:], label=Y[ids[train_len:],:])"
   ]
  },
  {
   "cell_type": "code",
   "execution_count": 40,
   "metadata": {
    "collapsed": false,
    "scrolled": false
   },
   "outputs": [
    {
     "name": "stderr",
     "output_type": "stream",
     "text": [
      "[0]\teval-auc:0.897135\ttrain-auc:0.899652\n",
      "[1]\teval-auc:0.898265\ttrain-auc:0.901246\n",
      "[2]\teval-auc:0.901657\ttrain-auc:0.904741\n",
      "[3]\teval-auc:0.902253\ttrain-auc:0.904900\n",
      "[4]\teval-auc:0.902486\ttrain-auc:0.905188\n",
      "[5]\teval-auc:0.902717\ttrain-auc:0.905179\n",
      "[6]\teval-auc:0.902963\ttrain-auc:0.905302\n",
      "[7]\teval-auc:0.906802\ttrain-auc:0.909157\n",
      "[8]\teval-auc:0.906394\ttrain-auc:0.908932\n",
      "[9]\teval-auc:0.906416\ttrain-auc:0.909180\n",
      "[10]\teval-auc:0.906722\ttrain-auc:0.909417\n",
      "[11]\teval-auc:0.907473\ttrain-auc:0.910112\n",
      "[12]\teval-auc:0.907877\ttrain-auc:0.910470\n",
      "[13]\teval-auc:0.908610\ttrain-auc:0.911046\n",
      "[14]\teval-auc:0.909162\ttrain-auc:0.911809\n",
      "[15]\teval-auc:0.909672\ttrain-auc:0.912366\n",
      "[16]\teval-auc:0.910069\ttrain-auc:0.913085\n",
      "[17]\teval-auc:0.910818\ttrain-auc:0.913977\n",
      "[18]\teval-auc:0.911233\ttrain-auc:0.914369\n",
      "[19]\teval-auc:0.911340\ttrain-auc:0.914578\n",
      "[20]\teval-auc:0.911383\ttrain-auc:0.914829\n",
      "[21]\teval-auc:0.911681\ttrain-auc:0.915104\n",
      "[22]\teval-auc:0.911770\ttrain-auc:0.915350\n",
      "[23]\teval-auc:0.912173\ttrain-auc:0.915593\n",
      "[24]\teval-auc:0.912125\ttrain-auc:0.915955\n",
      "[25]\teval-auc:0.912432\ttrain-auc:0.916134\n",
      "[26]\teval-auc:0.912552\ttrain-auc:0.916322\n",
      "[27]\teval-auc:0.913065\ttrain-auc:0.916884\n",
      "[28]\teval-auc:0.913118\ttrain-auc:0.917095\n",
      "[29]\teval-auc:0.913707\ttrain-auc:0.917588\n",
      "[30]\teval-auc:0.913872\ttrain-auc:0.917700\n",
      "[31]\teval-auc:0.914554\ttrain-auc:0.918341\n",
      "[32]\teval-auc:0.914640\ttrain-auc:0.918571\n",
      "[33]\teval-auc:0.914840\ttrain-auc:0.918859\n",
      "[34]\teval-auc:0.915446\ttrain-auc:0.919160\n",
      "[35]\teval-auc:0.915810\ttrain-auc:0.919380\n",
      "[36]\teval-auc:0.915658\ttrain-auc:0.919693\n",
      "[37]\teval-auc:0.915881\ttrain-auc:0.919870\n",
      "[38]\teval-auc:0.916272\ttrain-auc:0.920208\n",
      "[39]\teval-auc:0.916549\ttrain-auc:0.920466\n",
      "[40]\teval-auc:0.916831\ttrain-auc:0.920852\n",
      "[41]\teval-auc:0.917104\ttrain-auc:0.921322\n",
      "[42]\teval-auc:0.917235\ttrain-auc:0.921510\n",
      "[43]\teval-auc:0.917429\ttrain-auc:0.921744\n",
      "[44]\teval-auc:0.917766\ttrain-auc:0.922054\n",
      "[45]\teval-auc:0.917954\ttrain-auc:0.922271\n",
      "[46]\teval-auc:0.918188\ttrain-auc:0.922593\n",
      "[47]\teval-auc:0.918592\ttrain-auc:0.923056\n",
      "[48]\teval-auc:0.918803\ttrain-auc:0.923302\n",
      "[49]\teval-auc:0.919146\ttrain-auc:0.923711\n",
      "[50]\teval-auc:0.919279\ttrain-auc:0.923982\n",
      "[51]\teval-auc:0.919523\ttrain-auc:0.924328\n",
      "[52]\teval-auc:0.919794\ttrain-auc:0.924666\n",
      "[53]\teval-auc:0.919882\ttrain-auc:0.924890\n",
      "[54]\teval-auc:0.920040\ttrain-auc:0.925098\n",
      "[55]\teval-auc:0.920214\ttrain-auc:0.925345\n",
      "[56]\teval-auc:0.920445\ttrain-auc:0.925622\n",
      "[57]\teval-auc:0.920612\ttrain-auc:0.925775\n",
      "[58]\teval-auc:0.920808\ttrain-auc:0.926044\n",
      "[59]\teval-auc:0.920953\ttrain-auc:0.926300\n",
      "[60]\teval-auc:0.921190\ttrain-auc:0.926598\n",
      "[61]\teval-auc:0.921327\ttrain-auc:0.926892\n",
      "[62]\teval-auc:0.921650\ttrain-auc:0.927249\n",
      "[63]\teval-auc:0.921778\ttrain-auc:0.927485\n",
      "[64]\teval-auc:0.922041\ttrain-auc:0.927668\n",
      "[65]\teval-auc:0.922166\ttrain-auc:0.927902\n",
      "[66]\teval-auc:0.922270\ttrain-auc:0.928133\n",
      "[67]\teval-auc:0.922486\ttrain-auc:0.928417\n",
      "[68]\teval-auc:0.922705\ttrain-auc:0.928639\n",
      "[69]\teval-auc:0.922743\ttrain-auc:0.928788\n",
      "[70]\teval-auc:0.922761\ttrain-auc:0.928912\n",
      "[71]\teval-auc:0.922928\ttrain-auc:0.929135\n",
      "[72]\teval-auc:0.923046\ttrain-auc:0.929339\n",
      "[73]\teval-auc:0.923219\ttrain-auc:0.929560\n",
      "[74]\teval-auc:0.923363\ttrain-auc:0.929757\n",
      "[75]\teval-auc:0.923583\ttrain-auc:0.930037\n",
      "[76]\teval-auc:0.923774\ttrain-auc:0.930240\n",
      "[77]\teval-auc:0.923887\ttrain-auc:0.930381\n",
      "[78]\teval-auc:0.923954\ttrain-auc:0.930520\n",
      "[79]\teval-auc:0.924089\ttrain-auc:0.930686\n",
      "[80]\teval-auc:0.924218\ttrain-auc:0.930870\n",
      "[81]\teval-auc:0.924377\ttrain-auc:0.931096\n",
      "[82]\teval-auc:0.924472\ttrain-auc:0.931258\n",
      "[83]\teval-auc:0.924648\ttrain-auc:0.931438\n",
      "[84]\teval-auc:0.924751\ttrain-auc:0.931567\n",
      "[85]\teval-auc:0.924878\ttrain-auc:0.931708\n",
      "[86]\teval-auc:0.925008\ttrain-auc:0.931906\n",
      "[87]\teval-auc:0.925033\ttrain-auc:0.932047\n",
      "[88]\teval-auc:0.925170\ttrain-auc:0.932243\n",
      "[89]\teval-auc:0.925328\ttrain-auc:0.932380\n",
      "[90]\teval-auc:0.925433\ttrain-auc:0.932625\n",
      "[91]\teval-auc:0.925543\ttrain-auc:0.932827\n",
      "[92]\teval-auc:0.925625\ttrain-auc:0.932930\n",
      "[93]\teval-auc:0.925754\ttrain-auc:0.933141\n",
      "[94]\teval-auc:0.925877\ttrain-auc:0.933357\n",
      "[95]\teval-auc:0.925991\ttrain-auc:0.933465\n",
      "[96]\teval-auc:0.926100\ttrain-auc:0.933624\n",
      "[97]\teval-auc:0.926208\ttrain-auc:0.933791\n",
      "[98]\teval-auc:0.926275\ttrain-auc:0.933951\n",
      "[99]\teval-auc:0.926381\ttrain-auc:0.934158\n",
      "[100]\teval-auc:0.926512\ttrain-auc:0.934370\n",
      "[101]\teval-auc:0.926558\ttrain-auc:0.934430\n",
      "[102]\teval-auc:0.926629\ttrain-auc:0.934678\n",
      "[103]\teval-auc:0.926746\ttrain-auc:0.934801\n",
      "[104]\teval-auc:0.926761\ttrain-auc:0.934908\n",
      "[105]\teval-auc:0.926832\ttrain-auc:0.934992\n",
      "[106]\teval-auc:0.926910\ttrain-auc:0.935162\n",
      "[107]\teval-auc:0.926994\ttrain-auc:0.935231\n",
      "[108]\teval-auc:0.927085\ttrain-auc:0.935426\n",
      "[109]\teval-auc:0.927146\ttrain-auc:0.935520\n",
      "[110]\teval-auc:0.927257\ttrain-auc:0.935691\n",
      "[111]\teval-auc:0.927307\ttrain-auc:0.935824\n",
      "[112]\teval-auc:0.927354\ttrain-auc:0.935904\n",
      "[113]\teval-auc:0.927384\ttrain-auc:0.936024\n",
      "[114]\teval-auc:0.927499\ttrain-auc:0.936152\n",
      "[115]\teval-auc:0.927546\ttrain-auc:0.936218\n",
      "[116]\teval-auc:0.927613\ttrain-auc:0.936365\n",
      "[117]\teval-auc:0.927727\ttrain-auc:0.936494\n",
      "[118]\teval-auc:0.927782\ttrain-auc:0.936553\n",
      "[119]\teval-auc:0.927925\ttrain-auc:0.936789\n",
      "[120]\teval-auc:0.927963\ttrain-auc:0.936854\n",
      "[121]\teval-auc:0.928019\ttrain-auc:0.937027\n",
      "[122]\teval-auc:0.928066\ttrain-auc:0.937082\n",
      "[123]\teval-auc:0.928085\ttrain-auc:0.937155\n",
      "[124]\teval-auc:0.928116\ttrain-auc:0.937210\n",
      "[125]\teval-auc:0.928211\ttrain-auc:0.937306\n",
      "[126]\teval-auc:0.928299\ttrain-auc:0.937420\n",
      "[127]\teval-auc:0.928453\ttrain-auc:0.937617\n",
      "[128]\teval-auc:0.928481\ttrain-auc:0.937685\n",
      "[129]\teval-auc:0.928445\ttrain-auc:0.937830\n",
      "[130]\teval-auc:0.928486\ttrain-auc:0.937865\n",
      "[131]\teval-auc:0.928575\ttrain-auc:0.937972\n",
      "[132]\teval-auc:0.928649\ttrain-auc:0.938160\n",
      "[133]\teval-auc:0.928701\ttrain-auc:0.938206\n",
      "[134]\teval-auc:0.928776\ttrain-auc:0.938308\n",
      "[135]\teval-auc:0.928854\ttrain-auc:0.938382\n",
      "[136]\teval-auc:0.928868\ttrain-auc:0.938563\n",
      "[137]\teval-auc:0.928898\ttrain-auc:0.938641\n",
      "[138]\teval-auc:0.928932\ttrain-auc:0.938677\n",
      "[139]\teval-auc:0.928965\ttrain-auc:0.938852\n",
      "[140]\teval-auc:0.928978\ttrain-auc:0.938899\n",
      "[141]\teval-auc:0.928985\ttrain-auc:0.939083\n",
      "[142]\teval-auc:0.929062\ttrain-auc:0.939148\n",
      "[143]\teval-auc:0.929060\ttrain-auc:0.939251\n",
      "[144]\teval-auc:0.929073\ttrain-auc:0.939291\n",
      "[145]\teval-auc:0.929071\ttrain-auc:0.939319\n",
      "[146]\teval-auc:0.929123\ttrain-auc:0.939474\n",
      "[147]\teval-auc:0.929182\ttrain-auc:0.939591\n",
      "[148]\teval-auc:0.929208\ttrain-auc:0.939621\n",
      "[149]\teval-auc:0.929255\ttrain-auc:0.939744\n",
      "[150]\teval-auc:0.929240\ttrain-auc:0.939794\n",
      "[151]\teval-auc:0.929256\ttrain-auc:0.939839\n",
      "[152]\teval-auc:0.929208\ttrain-auc:0.939964\n",
      "[153]\teval-auc:0.929222\ttrain-auc:0.940054\n",
      "[154]\teval-auc:0.929258\ttrain-auc:0.940100\n",
      "[155]\teval-auc:0.929314\ttrain-auc:0.940228\n",
      "[156]\teval-auc:0.929337\ttrain-auc:0.940263\n",
      "[157]\teval-auc:0.929406\ttrain-auc:0.940338\n",
      "[158]\teval-auc:0.929406\ttrain-auc:0.940378\n",
      "[159]\teval-auc:0.929426\ttrain-auc:0.940401\n",
      "[160]\teval-auc:0.929473\ttrain-auc:0.940473\n",
      "[161]\teval-auc:0.929510\ttrain-auc:0.940506\n",
      "[162]\teval-auc:0.929548\ttrain-auc:0.940529\n",
      "[163]\teval-auc:0.929594\ttrain-auc:0.940701\n",
      "[164]\teval-auc:0.929529\ttrain-auc:0.940796\n",
      "[165]\teval-auc:0.929549\ttrain-auc:0.940822\n",
      "[166]\teval-auc:0.929578\ttrain-auc:0.940847\n",
      "[167]\teval-auc:0.929621\ttrain-auc:0.940899\n",
      "[168]\teval-auc:0.929652\ttrain-auc:0.941044\n",
      "[169]\teval-auc:0.929714\ttrain-auc:0.941109\n",
      "[170]\teval-auc:0.929728\ttrain-auc:0.941194\n",
      "[171]\teval-auc:0.929750\ttrain-auc:0.941215\n",
      "[172]\teval-auc:0.929733\ttrain-auc:0.941258\n",
      "[173]\teval-auc:0.929741\ttrain-auc:0.941302\n",
      "[174]\teval-auc:0.929794\ttrain-auc:0.941360\n",
      "[175]\teval-auc:0.929824\ttrain-auc:0.941419\n",
      "[176]\teval-auc:0.929858\ttrain-auc:0.941483\n",
      "[177]\teval-auc:0.929883\ttrain-auc:0.941608\n",
      "[178]\teval-auc:0.929903\ttrain-auc:0.941637\n",
      "[179]\teval-auc:0.929936\ttrain-auc:0.941657\n",
      "[180]\teval-auc:0.929923\ttrain-auc:0.941679\n",
      "[181]\teval-auc:0.929958\ttrain-auc:0.941799\n",
      "[182]\teval-auc:0.929965\ttrain-auc:0.941914\n",
      "[183]\teval-auc:0.929966\ttrain-auc:0.942029\n",
      "[184]\teval-auc:0.929990\ttrain-auc:0.942048\n",
      "[185]\teval-auc:0.930001\ttrain-auc:0.942081\n",
      "[186]\teval-auc:0.930032\ttrain-auc:0.942122\n",
      "[187]\teval-auc:0.930081\ttrain-auc:0.942262\n",
      "[188]\teval-auc:0.930094\ttrain-auc:0.942289\n",
      "[189]\teval-auc:0.930107\ttrain-auc:0.942325\n",
      "[190]\teval-auc:0.930128\ttrain-auc:0.942364\n",
      "[191]\teval-auc:0.930132\ttrain-auc:0.942534\n",
      "[192]\teval-auc:0.930165\ttrain-auc:0.942552\n",
      "[193]\teval-auc:0.930158\ttrain-auc:0.942656\n",
      "[194]\teval-auc:0.930175\ttrain-auc:0.942676\n",
      "[195]\teval-auc:0.930188\ttrain-auc:0.942784\n",
      "[196]\teval-auc:0.930217\ttrain-auc:0.942864\n",
      "[197]\teval-auc:0.930239\ttrain-auc:0.942900\n",
      "[198]\teval-auc:0.930239\ttrain-auc:0.943003\n",
      "[199]\teval-auc:0.930223\ttrain-auc:0.943025\n",
      "[200]\teval-auc:0.930245\ttrain-auc:0.943040\n",
      "[201]\teval-auc:0.930268\ttrain-auc:0.943104\n",
      "[202]\teval-auc:0.930387\ttrain-auc:0.943244\n",
      "[203]\teval-auc:0.930421\ttrain-auc:0.943273\n",
      "[204]\teval-auc:0.930445\ttrain-auc:0.943333\n",
      "[205]\teval-auc:0.930451\ttrain-auc:0.943384\n",
      "[206]\teval-auc:0.930461\ttrain-auc:0.943398\n",
      "[207]\teval-auc:0.930456\ttrain-auc:0.943450\n",
      "[208]\teval-auc:0.930429\ttrain-auc:0.943564\n",
      "[209]\teval-auc:0.930454\ttrain-auc:0.943581\n",
      "[210]\teval-auc:0.930479\ttrain-auc:0.943612\n",
      "[211]\teval-auc:0.930491\ttrain-auc:0.943629\n",
      "[212]\teval-auc:0.930561\ttrain-auc:0.943726\n",
      "[213]\teval-auc:0.930569\ttrain-auc:0.943798\n",
      "[214]\teval-auc:0.930569\ttrain-auc:0.943824\n",
      "[215]\teval-auc:0.930587\ttrain-auc:0.943837\n",
      "[216]\teval-auc:0.930620\ttrain-auc:0.943864\n",
      "[217]\teval-auc:0.930645\ttrain-auc:0.943966\n",
      "[218]\teval-auc:0.930607\ttrain-auc:0.944046\n",
      "[219]\teval-auc:0.930658\ttrain-auc:0.944071\n",
      "[220]\teval-auc:0.930675\ttrain-auc:0.944085\n",
      "[221]\teval-auc:0.930663\ttrain-auc:0.944174\n",
      "[222]\teval-auc:0.930669\ttrain-auc:0.944185\n",
      "[223]\teval-auc:0.930669\ttrain-auc:0.944280\n",
      "[224]\teval-auc:0.930696\ttrain-auc:0.944306\n",
      "[225]\teval-auc:0.930787\ttrain-auc:0.944381\n",
      "[226]\teval-auc:0.930800\ttrain-auc:0.944392\n",
      "[227]\teval-auc:0.930819\ttrain-auc:0.944475\n",
      "[228]\teval-auc:0.930822\ttrain-auc:0.944501\n",
      "[229]\teval-auc:0.930803\ttrain-auc:0.944598\n",
      "[230]\teval-auc:0.930800\ttrain-auc:0.944652\n",
      "[231]\teval-auc:0.930798\ttrain-auc:0.944713\n",
      "[232]\teval-auc:0.930812\ttrain-auc:0.944726\n",
      "[233]\teval-auc:0.930837\ttrain-auc:0.944747\n",
      "[234]\teval-auc:0.930850\ttrain-auc:0.944758\n",
      "[235]\teval-auc:0.930862\ttrain-auc:0.944792\n",
      "[236]\teval-auc:0.930865\ttrain-auc:0.944822\n",
      "[237]\teval-auc:0.930880\ttrain-auc:0.944836\n",
      "[238]\teval-auc:0.930908\ttrain-auc:0.944890\n",
      "[239]\teval-auc:0.930928\ttrain-auc:0.944915\n",
      "[240]\teval-auc:0.930938\ttrain-auc:0.944969\n",
      "[241]\teval-auc:0.930950\ttrain-auc:0.945046\n",
      "[242]\teval-auc:0.931018\ttrain-auc:0.945150\n",
      "[243]\teval-auc:0.931037\ttrain-auc:0.945162\n",
      "[244]\teval-auc:0.931046\ttrain-auc:0.945242\n",
      "[245]\teval-auc:0.931046\ttrain-auc:0.945256\n",
      "[246]\teval-auc:0.931072\ttrain-auc:0.945272\n",
      "[247]\teval-auc:0.931078\ttrain-auc:0.945289\n",
      "[248]\teval-auc:0.931057\ttrain-auc:0.945352\n",
      "[249]\teval-auc:0.931093\ttrain-auc:0.945426\n",
      "[250]\teval-auc:0.931115\ttrain-auc:0.945466\n",
      "[251]\teval-auc:0.931124\ttrain-auc:0.945474\n",
      "[252]\teval-auc:0.931135\ttrain-auc:0.945482\n",
      "[253]\teval-auc:0.931158\ttrain-auc:0.945499\n",
      "[254]\teval-auc:0.931162\ttrain-auc:0.945508\n",
      "[255]\teval-auc:0.931177\ttrain-auc:0.945557\n",
      "[256]\teval-auc:0.931204\ttrain-auc:0.945588\n",
      "[257]\teval-auc:0.931216\ttrain-auc:0.945601\n",
      "[258]\teval-auc:0.931246\ttrain-auc:0.945641\n",
      "[259]\teval-auc:0.931254\ttrain-auc:0.945655\n",
      "[260]\teval-auc:0.931238\ttrain-auc:0.945700\n",
      "[261]\teval-auc:0.931294\ttrain-auc:0.945790\n",
      "[262]\teval-auc:0.931311\ttrain-auc:0.945803\n",
      "[263]\teval-auc:0.931322\ttrain-auc:0.945814\n",
      "[264]\teval-auc:0.931309\ttrain-auc:0.945852\n",
      "[265]\teval-auc:0.931307\ttrain-auc:0.945861\n",
      "[266]\teval-auc:0.931331\ttrain-auc:0.945905\n",
      "[267]\teval-auc:0.931346\ttrain-auc:0.945920\n",
      "[268]\teval-auc:0.931359\ttrain-auc:0.945956\n",
      "[269]\teval-auc:0.931367\ttrain-auc:0.945962\n",
      "[270]\teval-auc:0.931347\ttrain-auc:0.945982\n",
      "[271]\teval-auc:0.931337\ttrain-auc:0.946037\n",
      "[272]\teval-auc:0.931351\ttrain-auc:0.946089\n",
      "[273]\teval-auc:0.931347\ttrain-auc:0.946102\n",
      "[274]\teval-auc:0.931382\ttrain-auc:0.946142\n",
      "[275]\teval-auc:0.931398\ttrain-auc:0.946155\n",
      "[276]\teval-auc:0.931411\ttrain-auc:0.946167\n",
      "[277]\teval-auc:0.931410\ttrain-auc:0.946190\n",
      "[278]\teval-auc:0.931370\ttrain-auc:0.946257\n",
      "[279]\teval-auc:0.931381\ttrain-auc:0.946265\n",
      "[280]\teval-auc:0.931387\ttrain-auc:0.946335\n",
      "[281]\teval-auc:0.931391\ttrain-auc:0.946342\n",
      "[282]\teval-auc:0.931373\ttrain-auc:0.946405\n",
      "[283]\teval-auc:0.931432\ttrain-auc:0.946461\n",
      "[284]\teval-auc:0.931445\ttrain-auc:0.946474\n",
      "[285]\teval-auc:0.931461\ttrain-auc:0.946488\n",
      "[286]\teval-auc:0.931461\ttrain-auc:0.946522\n",
      "[287]\teval-auc:0.931461\ttrain-auc:0.946533\n",
      "[288]\teval-auc:0.931464\ttrain-auc:0.946572\n",
      "[289]\teval-auc:0.931482\ttrain-auc:0.946623\n",
      "[290]\teval-auc:0.931462\ttrain-auc:0.946651\n",
      "[291]\teval-auc:0.931466\ttrain-auc:0.946666\n",
      "[292]\teval-auc:0.931472\ttrain-auc:0.946681\n",
      "[293]\teval-auc:0.931476\ttrain-auc:0.946711\n",
      "[294]\teval-auc:0.931485\ttrain-auc:0.946738\n",
      "[295]\teval-auc:0.931496\ttrain-auc:0.946797\n",
      "[296]\teval-auc:0.931496\ttrain-auc:0.946803\n",
      "[297]\teval-auc:0.931527\ttrain-auc:0.946875\n",
      "[298]\teval-auc:0.931516\ttrain-auc:0.946907\n",
      "[299]\teval-auc:0.931513\ttrain-auc:0.947036\n"
     ]
    }
   ],
   "source": [
    "param = {'bst:max_depth':6, 'bst:eta':0.05, 'objective':'binary:logistic' }\n",
    "param['eval_metric'] = 'auc'\n",
    "\n",
    "evallist  = [(dtest,'eval'), (dtrain,'train')]\n",
    "num_round = 300\n",
    "bst = xgb.train(param, dtrain, num_round, evallist)"
   ]
  },
  {
   "cell_type": "markdown",
   "metadata": {},
   "source": [
    "### Качество XGBoost"
   ]
  },
  {
   "cell_type": "code",
   "execution_count": 42,
   "metadata": {
    "collapsed": false
   },
   "outputs": [
    {
     "name": "stdout",
     "output_type": "stream",
     "text": [
      "AUC 0.931513323496\n",
      "accuracy 0.872101949946\n"
     ]
    }
   ],
   "source": [
    "labels = dtest.get_label()\n",
    "preds = bst.predict(dtest)\n",
    "\n",
    "print 'AUC', roc_auc_score(labels, preds)\n",
    "print 'accuracy', accuracy_score(labels, np.array(preds > 0.5, dtype=int))"
   ]
  },
  {
   "cell_type": "code",
   "execution_count": 43,
   "metadata": {
    "collapsed": false
   },
   "outputs": [
    {
     "data": {
      "image/png": "[encoded data removed]",
      "text/plain": [
       "<matplotlib.figure.Figure at 0x115cdef90>"
      ]
     },
     "metadata": {},
     "output_type": "display_data"
    }
   ],
   "source": [
    "fpr_xgb, tpr_xgb, thresholds = roc_curve(labels, preds)\n",
    "\n",
    "figsize(8,8)\n",
    "plt.plot(np.arange(0.,1.,1e-5),np.arange(0.,1.,1e-5), c='black')\n",
    "plt.plot(fpr_xgb,tpr_xgb, c='b')\n",
    "plt.title('ROC curve', size=20)\n",
    "plt.xlabel('False Positive Rate', size=20)\n",
    "plt.ylabel('True Positive Rate', size=20)\n",
    "plt.grid()"
   ]
  },
  {
   "cell_type": "markdown",
   "metadata": {},
   "source": [
    "### RoC кривые разных моделей на одном графике"
   ]
  },
  {
   "cell_type": "code",
   "execution_count": 44,
   "metadata": {
    "collapsed": false
   },
   "outputs": [
    {
     "data": {
      "image/png": "[encoded data removed]",
      "text/plain": [
       "<matplotlib.figure.Figure at 0x10cc0e310>"
      ]
     },
     "metadata": {},
     "output_type": "display_data"
    }
   ],
   "source": [
    "figsize(8,8)\n",
    "plt.plot(np.arange(0.,1.,1e-5),np.arange(0.,1.,1e-5), c='black')\n",
    "plt.plot(fpr_lr,tpr_lr, label = 'Logistic Regression')\n",
    "plt.plot(fpr_rf,tpr_rf, label = 'Random Forest')\n",
    "plt.plot(fpr_gb,tpr_gb, label = 'Gradient Boosting')\n",
    "plt.plot(fpr_xgb,tpr_xgb, label = 'XGBoost')\n",
    "plt.title('ROC curve', size=20)\n",
    "plt.xlabel('False Positive Rate', size=20)\n",
    "plt.ylabel('True Positive Rate', size=20)\n",
    "plt.legend()\n",
    "plt.grid()"
   ]
  },
  {
   "cell_type": "markdown",
   "metadata": {},
   "source": [
    "### Feature importance"
   ]
  },
  {
   "cell_type": "markdown",
   "metadata": {},
   "source": [
    "Посмотрим на важность признаков в модели"
   ]
  },
  {
   "cell_type": "code",
   "execution_count": 45,
   "metadata": {
    "collapsed": false
   },
   "outputs": [
    {
     "data": {
      "text/plain": [
       "<matplotlib.text.Text at 0x115b701d0>"
      ]
     },
     "execution_count": 45,
     "metadata": {},
     "output_type": "execute_result"
    },
    {
     "data": {
      "image/png": "[encoded data removed]",
      "text/plain": [
       "<matplotlib.figure.Figure at 0x10cc42590>"
      ]
     },
     "metadata": {},
     "output_type": "display_data"
    }
   ],
   "source": [
    "figsize(10,6)\n",
    "plt.plot([i[1] for i in sorted(bst.get_fscore().iteritems(), key = lambda s : -s[1])])\n",
    "plt.title('Feature importances plot', size=20)\n",
    "plt.xlabel('sorted feature number', size=20)\n",
    "plt.ylabel('importance', size=20)"
   ]
  },
  {
   "cell_type": "markdown",
   "metadata": {},
   "source": [
    "### Кросс валидация для XGBoost"
   ]
  },
  {
   "cell_type": "code",
   "execution_count": 46,
   "metadata": {
    "collapsed": false
   },
   "outputs": [],
   "source": [
    "dtrain_cv = xgb.DMatrix(X, label = Y)\n",
    "\n",
    "param = {'bst:max_depth':6, 'bst:eta':0.05, 'objective':'binary:logistic' }\n",
    "param['eval_metric'] = 'auc'\n",
    "\n",
    "num_round = 300\n",
    "cv_results = xgb.cv(param, dtrain_cv, num_round, as_pandas=True)"
   ]
  },
  {
   "cell_type": "markdown",
   "metadata": {},
   "source": [
    "Выведем результаты кросс-валидации на последних 10 итерациях"
   ]
  },
  {
   "cell_type": "code",
   "execution_count": 47,
   "metadata": {
    "collapsed": false
   },
   "outputs": [
    {
     "data": {
      "text/html": [
       "<div>\n",
       "<table border=\"1\" class=\"dataframe\">\n",
       "  <thead>\n",
       "    <tr style=\"text-align: right;\">\n",
       "      <th></th>\n",
       "      <th>test-auc-mean</th>\n",
       "      <th>test-auc-std</th>\n",
       "      <th>train-auc-mean</th>\n",
       "      <th>train-auc-std</th>\n",
       "    </tr>\n",
       "  </thead>\n",
       "  <tbody>\n",
       "    <tr>\n",
       "      <th>290</th>\n",
       "      <td>0.928893</td>\n",
       "      <td>0.002024</td>\n",
       "      <td>0.948755</td>\n",
       "      <td>0.000750</td>\n",
       "    </tr>\n",
       "    <tr>\n",
       "      <th>291</th>\n",
       "      <td>0.928900</td>\n",
       "      <td>0.002033</td>\n",
       "      <td>0.948790</td>\n",
       "      <td>0.000783</td>\n",
       "    </tr>\n",
       "    <tr>\n",
       "      <th>292</th>\n",
       "      <td>0.928922</td>\n",
       "      <td>0.002032</td>\n",
       "      <td>0.948853</td>\n",
       "      <td>0.000755</td>\n",
       "    </tr>\n",
       "    <tr>\n",
       "      <th>293</th>\n",
       "      <td>0.928932</td>\n",
       "      <td>0.002020</td>\n",
       "      <td>0.948920</td>\n",
       "      <td>0.000723</td>\n",
       "    </tr>\n",
       "    <tr>\n",
       "      <th>294</th>\n",
       "      <td>0.928942</td>\n",
       "      <td>0.002024</td>\n",
       "      <td>0.948969</td>\n",
       "      <td>0.000697</td>\n",
       "    </tr>\n",
       "    <tr>\n",
       "      <th>295</th>\n",
       "      <td>0.928943</td>\n",
       "      <td>0.002022</td>\n",
       "      <td>0.949021</td>\n",
       "      <td>0.000691</td>\n",
       "    </tr>\n",
       "    <tr>\n",
       "      <th>296</th>\n",
       "      <td>0.928949</td>\n",
       "      <td>0.002018</td>\n",
       "      <td>0.949061</td>\n",
       "      <td>0.000712</td>\n",
       "    </tr>\n",
       "    <tr>\n",
       "      <th>297</th>\n",
       "      <td>0.928955</td>\n",
       "      <td>0.002022</td>\n",
       "      <td>0.949103</td>\n",
       "      <td>0.000742</td>\n",
       "    </tr>\n",
       "    <tr>\n",
       "      <th>298</th>\n",
       "      <td>0.928953</td>\n",
       "      <td>0.002003</td>\n",
       "      <td>0.949167</td>\n",
       "      <td>0.000673</td>\n",
       "    </tr>\n",
       "    <tr>\n",
       "      <th>299</th>\n",
       "      <td>0.928956</td>\n",
       "      <td>0.001994</td>\n",
       "      <td>0.949215</td>\n",
       "      <td>0.000648</td>\n",
       "    </tr>\n",
       "  </tbody>\n",
       "</table>\n",
       "</div>"
      ],
      "text/plain": [
       "     test-auc-mean  test-auc-std  train-auc-mean  train-auc-std\n",
       "290       0.928893      0.002024        0.948755       0.000750\n",
       "291       0.928900      0.002033        0.948790       0.000783\n",
       "292       0.928922      0.002032        0.948853       0.000755\n",
       "293       0.928932      0.002020        0.948920       0.000723\n",
       "294       0.928942      0.002024        0.948969       0.000697\n",
       "295       0.928943      0.002022        0.949021       0.000691\n",
       "296       0.928949      0.002018        0.949061       0.000712\n",
       "297       0.928955      0.002022        0.949103       0.000742\n",
       "298       0.928953      0.002003        0.949167       0.000673\n",
       "299       0.928956      0.001994        0.949215       0.000648"
      ]
     },
     "execution_count": 47,
     "metadata": {},
     "output_type": "execute_result"
    }
   ],
   "source": [
    "cv_results.iloc[290:,:]"
   ]
  },
  {
   "cell_type": "markdown",
   "metadata": {},
   "source": [
    "### Кривая обучения"
   ]
  },
  {
   "cell_type": "code",
   "execution_count": 48,
   "metadata": {
    "collapsed": false
   },
   "outputs": [
    {
     "data": {
      "image/png": "[encoded data removed]",
      "text/plain": [
       "<matplotlib.figure.Figure at 0x10cb97850>"
      ]
     },
     "metadata": {},
     "output_type": "display_data"
    }
   ],
   "source": [
    "plt.plot(cv_results['train-auc-mean'], label = 'train')\n",
    "plt.plot(cv_results['test-auc-mean'], label = 'test')\n",
    "plt.xlabel('n_iter', size=20)\n",
    "plt.ylabel('auc', size=20)\n",
    "plt.legend()\n",
    "plt.show()"
   ]
  },
  {
   "cell_type": "markdown",
   "metadata": {},
   "source": [
    "## Визуализация точек на карте: pygeoplot\n",
    "\n",
    "[пример с камерами видеонаблюдения](http://nbviewer.jupyter.org/github/romovpa/pygeoplot/blob/master/ipynb/DemoMoscowCCTV.ipynb)"
   ]
  },
  {
   "cell_type": "code",
   "execution_count": null,
   "metadata": {
    "collapsed": true
   },
   "outputs": [],
   "source": []
  }
 ],
 "metadata": {
  "anaconda-cloud": {},
  "kernelspec": {
   "display_name": "Python [Root]",
   "language": "python",
   "name": "Python [Root]"
  },
  "language_info": {
   "codemirror_mode": {
    "name": "ipython",
    "version": 3
   },
   "file_extension": ".py",
   "mimetype": "text/x-python",
   "name": "python",
   "nbconvert_exporter": "python",
   "pygments_lexer": "ipython3",
   "version": "3.5.1"
  }
 },
 "nbformat": 4,
 "nbformat_minor": 0
}
