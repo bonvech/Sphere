{
 "cells": [
  {
   "cell_type": "markdown",
   "metadata": {},
   "source": [
    "# Доля легких ядер"
   ]
  },
  {
   "cell_type": "code",
   "execution_count": 1,
   "metadata": {
    "collapsed": false
   },
   "outputs": [
    {
     "name": "stdout",
     "output_type": "stream",
     "text": [
      "Чтв Мар 16 17:44:23 MSK 2017\n",
      "/home/sphere/Papers/Pictures/MassComposition/2017_Rus\n"
     ]
    }
   ],
   "source": [
    "!date\n",
    "!pwd"
   ]
  },
  {
   "cell_type": "code",
   "execution_count": 1,
   "metadata": {
    "collapsed": true
   },
   "outputs": [],
   "source": [
    "import warnings\n",
    "warnings.simplefilter('ignore')\n",
    "\n",
    "%matplotlib inline\n",
    "import pandas as pd\n",
    "import matplotlib\n",
    "import matplotlib.pyplot as plt\n",
    "import numpy as np"
   ]
  },
  {
   "cell_type": "code",
   "execution_count": 113,
   "metadata": {
    "collapsed": true
   },
   "outputs": [],
   "source": [
    "import seaborn as sns\n",
    "\n",
    "# настройка внешнего вида графиков в seaborn\n",
    "sns.set_style(\"dark\")\n",
    "sns.set_palette(\"RdBu\")\n",
    "sns.set_context(\"notebook\", font_scale = 1.5, \n",
    "                rc = { \"figure.figsize\" : (15, 5), \"axes.titlesize\" : 18 })\n",
    "sns.set(style=\"white\", color_codes=True)"
   ]
  },
  {
   "cell_type": "code",
   "execution_count": 28,
   "metadata": {
    "collapsed": false
   },
   "outputs": [
    {
     "name": "stdout",
     "output_type": "stream",
     "text": [
      "(7, 3)\n"
     ]
    },
    {
     "data": {
      "text/html": [
       "<div>\n",
       "<table border=\"1\" class=\"dataframe\">\n",
       "  <thead>\n",
       "    <tr style=\"text-align: right;\">\n",
       "      <th></th>\n",
       "      <th>E</th>\n",
       "      <th>frac</th>\n",
       "      <th>err</th>\n",
       "    </tr>\n",
       "  </thead>\n",
       "  <tbody>\n",
       "    <tr>\n",
       "      <th>1</th>\n",
       "      <td>1.050000e+16</td>\n",
       "      <td>0.456031</td>\n",
       "      <td>0.081608</td>\n",
       "    </tr>\n",
       "    <tr>\n",
       "      <th>2</th>\n",
       "      <td>2.100000e+16</td>\n",
       "      <td>0.251703</td>\n",
       "      <td>0.042707</td>\n",
       "    </tr>\n",
       "    <tr>\n",
       "      <th>3</th>\n",
       "      <td>4.200000e+16</td>\n",
       "      <td>0.327038</td>\n",
       "      <td>0.073026</td>\n",
       "    </tr>\n",
       "    <tr>\n",
       "      <th>4</th>\n",
       "      <td>8.400000e+16</td>\n",
       "      <td>0.130884</td>\n",
       "      <td>0.086044</td>\n",
       "    </tr>\n",
       "    <tr>\n",
       "      <th>5</th>\n",
       "      <td>1.680000e+17</td>\n",
       "      <td>0.681186</td>\n",
       "      <td>0.220691</td>\n",
       "    </tr>\n",
       "  </tbody>\n",
       "</table>\n",
       "</div>"
      ],
      "text/plain": [
       "              E      frac       err\n",
       "1  1.050000e+16  0.456031  0.081608\n",
       "2  2.100000e+16  0.251703  0.042707\n",
       "3  4.200000e+16  0.327038  0.073026\n",
       "4  8.400000e+16  0.130884  0.086044\n",
       "5  1.680000e+17  0.681186  0.220691"
      ]
     },
     "execution_count": 28,
     "metadata": {},
     "output_type": "execute_result"
    }
   ],
   "source": [
    "# === read SPHERE data\n",
    "filename = './Data/frac'\n",
    "sphere = pd.read_csv(filename, sep='\\s+', index_col=None)\n",
    "print(sphere.shape)\n",
    "sphere = sphere[sphere.E > 6]\n",
    "sphere['E'] = sphere.E * 1e15\n",
    "sphere[:]"
   ]
  },
  {
   "cell_type": "code",
   "execution_count": 3,
   "metadata": {
    "collapsed": false
   },
   "outputs": [
    {
     "data": {
      "text/plain": [
       "array([ 0.08160819,  0.0427072 ,  0.07302552,  0.08604414,  0.2206915 ])"
      ]
     },
     "execution_count": 3,
     "metadata": {},
     "output_type": "execute_result"
    }
   ],
   "source": [
    "yerr = np.array(sphere.err)\n",
    "yerr"
   ]
  },
  {
   "cell_type": "code",
   "execution_count": 22,
   "metadata": {
    "collapsed": true
   },
   "outputs": [],
   "source": [
    "def read_kascade_data(filename):\n",
    "    tmp = pd.read_csv(filename, sep='\\s+', index_col=None)\n",
    "    print(tmp.shape)\n",
    "    #tmp['E'] = 10**(tmp.logE - 15)\n",
    "    tmp['E'] = 10**(tmp.logE)\n",
    "    return tmp[['E','frac','errmin','errplus']]"
   ]
  },
  {
   "cell_type": "code",
   "execution_count": 23,
   "metadata": {
    "collapsed": false
   },
   "outputs": [
    {
     "name": "stdout",
     "output_type": "stream",
     "text": [
      "(13, 4)\n"
     ]
    },
    {
     "data": {
      "text/html": [
       "<div>\n",
       "<table border=\"1\" class=\"dataframe\">\n",
       "  <thead>\n",
       "    <tr style=\"text-align: right;\">\n",
       "      <th></th>\n",
       "      <th>E</th>\n",
       "      <th>frac</th>\n",
       "      <th>errmin</th>\n",
       "      <th>errplus</th>\n",
       "    </tr>\n",
       "  </thead>\n",
       "  <tbody>\n",
       "    <tr>\n",
       "      <th>0</th>\n",
       "      <td>4.471982e+16</td>\n",
       "      <td>0.244</td>\n",
       "      <td>0.018</td>\n",
       "      <td>0.015</td>\n",
       "    </tr>\n",
       "    <tr>\n",
       "      <th>1</th>\n",
       "      <td>5.642869e+16</td>\n",
       "      <td>0.225</td>\n",
       "      <td>0.020</td>\n",
       "      <td>0.018</td>\n",
       "    </tr>\n",
       "    <tr>\n",
       "      <th>2</th>\n",
       "      <td>7.090878e+16</td>\n",
       "      <td>0.212</td>\n",
       "      <td>0.023</td>\n",
       "      <td>0.021</td>\n",
       "    </tr>\n",
       "  </tbody>\n",
       "</table>\n",
       "</div>"
      ],
      "text/plain": [
       "              E   frac  errmin  errplus\n",
       "0  4.471982e+16  0.244   0.018    0.015\n",
       "1  5.642869e+16  0.225   0.020    0.018\n",
       "2  7.090878e+16  0.212   0.023    0.021"
      ]
     },
     "execution_count": 23,
     "metadata": {},
     "output_type": "execute_result"
    }
   ],
   "source": [
    "# === read kascade data\n",
    "filename = './Data/kascade_ratio.dat'\n",
    "kascade = read_kascade_data(filename)\n",
    "kascade [:3]"
   ]
  },
  {
   "cell_type": "code",
   "execution_count": 24,
   "metadata": {
    "collapsed": false
   },
   "outputs": [
    {
     "name": "stdout",
     "output_type": "stream",
     "text": [
      "(16, 4)\n"
     ]
    },
    {
     "data": {
      "text/html": [
       "<div>\n",
       "<table border=\"1\" class=\"dataframe\">\n",
       "  <thead>\n",
       "    <tr style=\"text-align: right;\">\n",
       "      <th></th>\n",
       "      <th>E</th>\n",
       "      <th>frac</th>\n",
       "      <th>errmin</th>\n",
       "      <th>errplus</th>\n",
       "    </tr>\n",
       "  </thead>\n",
       "  <tbody>\n",
       "    <tr>\n",
       "      <th>0</th>\n",
       "      <td>1.778279e+16</td>\n",
       "      <td>0.782</td>\n",
       "      <td>0.028</td>\n",
       "      <td>0.021</td>\n",
       "    </tr>\n",
       "    <tr>\n",
       "      <th>1</th>\n",
       "      <td>2.249055e+16</td>\n",
       "      <td>0.793</td>\n",
       "      <td>0.028</td>\n",
       "      <td>0.028</td>\n",
       "    </tr>\n",
       "    <tr>\n",
       "      <th>2</th>\n",
       "      <td>2.824880e+16</td>\n",
       "      <td>0.789</td>\n",
       "      <td>0.035</td>\n",
       "      <td>0.031</td>\n",
       "    </tr>\n",
       "  </tbody>\n",
       "</table>\n",
       "</div>"
      ],
      "text/plain": [
       "              E   frac  errmin  errplus\n",
       "0  1.778279e+16  0.782   0.028    0.021\n",
       "1  2.249055e+16  0.793   0.028    0.028\n",
       "2  2.824880e+16  0.789   0.035    0.031"
      ]
     },
     "execution_count": 24,
     "metadata": {},
     "output_type": "execute_result"
    }
   ],
   "source": [
    "# === read kascade Epos data\n",
    "filename = './Data/epos_ratio.dat'\n",
    "epos = read_kascade_data(filename)\n",
    "epos[:3]"
   ]
  },
  {
   "cell_type": "code",
   "execution_count": 25,
   "metadata": {
    "collapsed": false
   },
   "outputs": [
    {
     "name": "stdout",
     "output_type": "stream",
     "text": [
      "(16, 4)\n"
     ]
    },
    {
     "data": {
      "text/html": [
       "<div>\n",
       "<table border=\"1\" class=\"dataframe\">\n",
       "  <thead>\n",
       "    <tr style=\"text-align: right;\">\n",
       "      <th></th>\n",
       "      <th>E</th>\n",
       "      <th>frac</th>\n",
       "      <th>errmin</th>\n",
       "      <th>errplus</th>\n",
       "    </tr>\n",
       "  </thead>\n",
       "  <tbody>\n",
       "    <tr>\n",
       "      <th>0</th>\n",
       "      <td>1.766038e+16</td>\n",
       "      <td>0.535</td>\n",
       "      <td>0.029</td>\n",
       "      <td>0.030</td>\n",
       "    </tr>\n",
       "    <tr>\n",
       "      <th>1</th>\n",
       "      <td>2.223310e+16</td>\n",
       "      <td>0.484</td>\n",
       "      <td>0.031</td>\n",
       "      <td>0.031</td>\n",
       "    </tr>\n",
       "    <tr>\n",
       "      <th>2</th>\n",
       "      <td>2.798981e+16</td>\n",
       "      <td>0.496</td>\n",
       "      <td>0.038</td>\n",
       "      <td>0.035</td>\n",
       "    </tr>\n",
       "  </tbody>\n",
       "</table>\n",
       "</div>"
      ],
      "text/plain": [
       "              E   frac  errmin  errplus\n",
       "0  1.766038e+16  0.535   0.029    0.030\n",
       "1  2.223310e+16  0.484   0.031    0.031\n",
       "2  2.798981e+16  0.496   0.038    0.035"
      ]
     },
     "execution_count": 25,
     "metadata": {},
     "output_type": "execute_result"
    }
   ],
   "source": [
    "# === read kascade sibyll data\n",
    "filename = './Data/sibyll_ratio.dat'\n",
    "sibyll = read_kascade_data(filename)\n",
    "sibyll[:3]"
   ]
  },
  {
   "cell_type": "code",
   "execution_count": 8,
   "metadata": {
    "collapsed": false
   },
   "outputs": [],
   "source": [
    "# -*- coding: utf-8 -*-\n",
    "\n",
    "#решение проблемы с выводом на график русских шрифтов\n",
    "from matplotlib import rcParams\n",
    "rcParams['text.usetex']=False\n",
    "rcParams['font.sans-serif'] = ['Liberation Sans']\n",
    "rcParams['font.serif'] = ['Liberation Serif']\n",
    "#pylab.rc('font',**{'family':'verdana'})"
   ]
  },
  {
   "cell_type": "code",
   "execution_count": 9,
   "metadata": {
    "collapsed": true
   },
   "outputs": [],
   "source": [
    "matplotlib.rc('font', **{'family':'verdana'})\n",
    "matplotlib.rc('font', family='Verdana')"
   ]
  },
  {
   "cell_type": "code",
   "execution_count": 11,
   "metadata": {
    "collapsed": false
   },
   "outputs": [],
   "source": [
    "# Cyrillic letters in Matplotlib,\n",
    "# thanks to Alexey for solution, see http://koldunov.net/?p=290#comments\n",
    "from matplotlib import rc\n",
    "rc('font',**{'family':'serif'})\n",
    "#rc('text', usetex=False)\n",
    "#rc('text.latex',unicode=True)\n",
    "#rc('text.latex',preamble='\\usepackage[utf8]{inputenc}')\n",
    "#rc('text.latex',preamble = '\\usepackage[russian]{babel}')"
   ]
  },
  {
   "cell_type": "code",
   "execution_count": 66,
   "metadata": {
    "collapsed": false,
    "scrolled": true
   },
   "outputs": [
    {
     "data": {
      "image/png": "[encoded data removed]",
      "text/plain": [
       "<matplotlib.figure.Figure at 0x7f7316bbf3c8>"
      ]
     },
     "metadata": {},
     "output_type": "display_data"
    }
   ],
   "source": [
    "yerr = np.array(sphere.err)\n",
    "plt.errorbar(sphere.E, sphere.frac,  yerr = [yerr,yerr], fmt='ro', label = u'SPHERE-II')\n",
    "\n",
    "tmp = kascade\n",
    "x,y,yerr1, yerr2 = tmp.E, tmp.frac, np.array(tmp.errmin), np.array(tmp.errplus)\n",
    "plt.errorbar(x, y, yerr = [yerr1,yerr2], fmt='g^', label = r'KASCADE-QGSJET-II')\n",
    "\n",
    "tmp = sibyll\n",
    "x,y,yerr1, yerr2 = tmp.E, tmp.frac, np.array(tmp.errmin), np.array(tmp.errplus)\n",
    "plt.errorbar(x, y, yerr = [yerr1,yerr2], fmt='md', label = r'KASCADE-SIBYLL')\n",
    "\n",
    "yerr1 = np.array(epos.errmin)\n",
    "yerr2 = np.array(epos.errplus)\n",
    "plt.errorbar(epos.E, epos.frac,  yerr = [yerr1,yerr2], fmt='b*', label = r'KASCADE-EPOS')\n",
    "\n",
    "# === оси и надписи ===\n",
    "plt.axis([8e15, 410e15, 0., 1.2])\n",
    "plt.tick_params(axis='both', which='major', labelsize=13)\n",
    "plt.xscale('log') \n",
    "plt.xlabel('Energy E [eV]',           fontsize = 13)\n",
    "plt.ylabel('Fraction (Light Nuclei)', fontsize = 13) #'large')\n",
    "plt.title(u'Fraction of Light Nuclei')\n",
    "plt.legend(loc=2, numpoints=1, fontsize = 'medium' )\n",
    "plt.grid(False)\n",
    "\n",
    "plt.savefig('mass_comp.png', dpi=200)\n",
    "plt.savefig('mass_comp.eps')"
   ]
  },
  {
   "cell_type": "code",
   "execution_count": 65,
   "metadata": {
    "collapsed": false
   },
   "outputs": [
    {
     "data": {
      "image/png": "[encoded data removed]",
      "text/plain": [
       "<matplotlib.figure.Figure at 0x7f7317097358>"
      ]
     },
     "metadata": {},
     "output_type": "display_data"
    }
   ],
   "source": [
    "yerr = np.array(sphere.err)\n",
    "plt.errorbar(sphere.E, sphere.frac,  yerr = [yerr,yerr], fmt='ro', label = u'СФЕРА')\n",
    "\n",
    "tmp = kascade\n",
    "x,y,yerr1, yerr2 = tmp.E, tmp.frac, np.array(tmp.errmin), np.array(tmp.errplus)\n",
    "plt.errorbar(x, y,  yerr = [yerr1,yerr2], fmt='g^', label = r'KASCADE-QGSJET-II')\n",
    "\n",
    "tmp = sibyll\n",
    "x,y,yerr1, yerr2 = tmp.E, tmp.frac, np.array(tmp.errmin), np.array(tmp.errplus)\n",
    "plt.errorbar(x, y,  yerr = [yerr1,yerr2], fmt='md', label = r'KASCADE-SIBYLL')\n",
    "\n",
    "yerr1 = np.array(epos.errmin)\n",
    "yerr2 = np.array(epos.errplus)\n",
    "plt.errorbar(epos.E, epos.frac,  yerr = [yerr1,yerr2], fmt='b*', label = r'KASCADE-EPOS')\n",
    "\n",
    "# === оси и надписи ===\n",
    "plt.axis([8e15, 410e15, 0., 1.2])\n",
    "plt.tick_params(axis='both', which='major', labelsize=13)\n",
    "plt.xscale('log') \n",
    "plt.xlabel('Энергия E [эВ]',   fontsize = 13)\n",
    "plt.ylabel('Доля легких ядер', fontsize = 13) #'large')\n",
    "plt.title(u'Доля легких ядер')\n",
    "plt.legend(loc=2, numpoints=1, fontsize = 'medium' )\n",
    "plt.grid(False)\n",
    "\n",
    "plt.savefig('mass_comp_ru.png', dpi=200)\n",
    "plt.savefig('mass_comp_ru.eps')"
   ]
  },
  {
   "cell_type": "code",
   "execution_count": null,
   "metadata": {
    "collapsed": true
   },
   "outputs": [],
   "source": []
  }
 ],
 "metadata": {
  "anaconda-cloud": {},
  "kernelspec": {
   "display_name": "Python [conda root]",
   "language": "python",
   "name": "conda-root-py"
  },
  "language_info": {
   "codemirror_mode": {
    "name": "ipython",
    "version": 3
   },
   "file_extension": ".py",
   "mimetype": "text/x-python",
   "name": "python",
   "nbconvert_exporter": "python",
   "pygments_lexer": "ipython3",
   "version": "3.5.2"
  }
 },
 "nbformat": 4,
 "nbformat_minor": 1
}
