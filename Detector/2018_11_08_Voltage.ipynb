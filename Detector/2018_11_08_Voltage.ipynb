{
 "cells": [
  {
   "cell_type": "markdown",
   "metadata": {},
   "source": [
    "# Коеффициент перехода от кода высокого 255 к коду 250\n",
    "\n",
    "По данным, полученным с 20:17 по 20:36 08.11.2018г. п. Научный КрАО.  "
   ]
  },
  {
   "cell_type": "code",
   "execution_count": 1,
   "metadata": {
    "collapsed": false
   },
   "outputs": [
    {
     "name": "stdout",
     "output_type": "stream",
     "text": [
      "Чт ноя 15 19:45:55 MSK 2018\n",
      "/home/sphere/ExpData/Program/Sketch/Data\n"
     ]
    }
   ],
   "source": [
    "!date\n",
    "!pwd\n",
    "## Чт ноя 15 13:54:55 MSK 2018\n",
    "## /home/sphere/ExpData/Program/Sketch/Data"
   ]
  },
  {
   "cell_type": "code",
   "execution_count": 2,
   "metadata": {
    "collapsed": true
   },
   "outputs": [],
   "source": [
    "import pandas as pd\n",
    "import numpy as np"
   ]
  },
  {
   "cell_type": "code",
   "execution_count": 3,
   "metadata": {
    "collapsed": false
   },
   "outputs": [
    {
     "data": {
      "text/html": [
       "<div>\n",
       "<style scoped>\n",
       "    .dataframe tbody tr th:only-of-type {\n",
       "        vertical-align: middle;\n",
       "    }\n",
       "\n",
       "    .dataframe tbody tr th {\n",
       "        vertical-align: top;\n",
       "    }\n",
       "\n",
       "    .dataframe thead th {\n",
       "        text-align: right;\n",
       "    }\n",
       "</style>\n",
       "<table border=\"1\" class=\"dataframe\">\n",
       "  <thead>\n",
       "    <tr style=\"text-align: right;\">\n",
       "      <th></th>\n",
       "      <th>date</th>\n",
       "      <th>time</th>\n",
       "      <th>On</th>\n",
       "      <th>u</th>\n",
       "      <th>i</th>\n",
       "      <th>t</th>\n",
       "      <th>u5</th>\n",
       "      <th>dac</th>\n",
       "      <th>CH0</th>\n",
       "      <th>CH1</th>\n",
       "      <th>CH2</th>\n",
       "      <th>CH3</th>\n",
       "      <th>U</th>\n",
       "      <th>I</th>\n",
       "      <th>U5</th>\n",
       "      <th>T</th>\n",
       "    </tr>\n",
       "  </thead>\n",
       "  <tbody>\n",
       "    <tr>\n",
       "      <th>0</th>\n",
       "      <td>Input:</td>\n",
       "      <td>6:w_210</td>\n",
       "      <td>NaN</td>\n",
       "      <td>NaN</td>\n",
       "      <td>NaN</td>\n",
       "      <td>NaN</td>\n",
       "      <td>NaN</td>\n",
       "      <td>NaN</td>\n",
       "      <td>NaN</td>\n",
       "      <td>NaN</td>\n",
       "      <td>NaN</td>\n",
       "      <td>NaN</td>\n",
       "      <td>NaN</td>\n",
       "      <td>NaN</td>\n",
       "      <td>NaN</td>\n",
       "      <td>NaN</td>\n",
       "    </tr>\n",
       "    <tr>\n",
       "      <th>6</th>\n",
       "      <td>08.11.2018</td>\n",
       "      <td>19:28:41</td>\n",
       "      <td>ON</td>\n",
       "      <td>-U=-23.7V</td>\n",
       "      <td>I=4.9uA</td>\n",
       "      <td>T=13.6C</td>\n",
       "      <td>Us=4.9V</td>\n",
       "      <td>DAC:210</td>\n",
       "      <td>863.0</td>\n",
       "      <td>4043.0</td>\n",
       "      <td>474.0</td>\n",
       "      <td>1272.0</td>\n",
       "      <td>-25.77136</td>\n",
       "      <td>4.917084</td>\n",
       "      <td>4.94</td>\n",
       "      <td>13.6</td>\n",
       "    </tr>\n",
       "    <tr>\n",
       "      <th>7</th>\n",
       "      <td>08.11.2018</td>\n",
       "      <td>19:28:42</td>\n",
       "      <td>ON</td>\n",
       "      <td>-U=-23.7V</td>\n",
       "      <td>I=4.8uA</td>\n",
       "      <td>T=13.6C</td>\n",
       "      <td>Us=4.9V</td>\n",
       "      <td>DAC:210</td>\n",
       "      <td>863.0</td>\n",
       "      <td>4044.0</td>\n",
       "      <td>474.0</td>\n",
       "      <td>1272.0</td>\n",
       "      <td>-25.77136</td>\n",
       "      <td>4.820671</td>\n",
       "      <td>4.94</td>\n",
       "      <td>13.6</td>\n",
       "    </tr>\n",
       "    <tr>\n",
       "      <th>8</th>\n",
       "      <td>08.11.2018</td>\n",
       "      <td>19:28:43</td>\n",
       "      <td>ON</td>\n",
       "      <td>-U=-23.7V</td>\n",
       "      <td>I=5.0uA</td>\n",
       "      <td>T=13.6C</td>\n",
       "      <td>Us=4.9V</td>\n",
       "      <td>DAC:210</td>\n",
       "      <td>863.0</td>\n",
       "      <td>4042.0</td>\n",
       "      <td>474.0</td>\n",
       "      <td>1272.0</td>\n",
       "      <td>-25.77136</td>\n",
       "      <td>5.013498</td>\n",
       "      <td>4.94</td>\n",
       "      <td>13.6</td>\n",
       "    </tr>\n",
       "    <tr>\n",
       "      <th>9</th>\n",
       "      <td>08.11.2018</td>\n",
       "      <td>19:28:44</td>\n",
       "      <td>ON</td>\n",
       "      <td>-U=-23.7V</td>\n",
       "      <td>I=4.8uA</td>\n",
       "      <td>T=13.6C</td>\n",
       "      <td>Us=4.9V</td>\n",
       "      <td>DAC:210</td>\n",
       "      <td>863.0</td>\n",
       "      <td>4044.0</td>\n",
       "      <td>474.0</td>\n",
       "      <td>1272.0</td>\n",
       "      <td>-25.77136</td>\n",
       "      <td>4.820671</td>\n",
       "      <td>4.94</td>\n",
       "      <td>13.6</td>\n",
       "    </tr>\n",
       "  </tbody>\n",
       "</table>\n",
       "</div>"
      ],
      "text/plain": [
       "         date      time   On          u        i        t       u5      dac  \\\n",
       "0      Input:   6:w_210  NaN        NaN      NaN      NaN      NaN      NaN   \n",
       "6  08.11.2018  19:28:41   ON  -U=-23.7V  I=4.9uA  T=13.6C  Us=4.9V  DAC:210   \n",
       "7  08.11.2018  19:28:42   ON  -U=-23.7V  I=4.8uA  T=13.6C  Us=4.9V  DAC:210   \n",
       "8  08.11.2018  19:28:43   ON  -U=-23.7V  I=5.0uA  T=13.6C  Us=4.9V  DAC:210   \n",
       "9  08.11.2018  19:28:44   ON  -U=-23.7V  I=4.8uA  T=13.6C  Us=4.9V  DAC:210   \n",
       "\n",
       "     CH0     CH1    CH2     CH3         U         I    U5     T  \n",
       "0    NaN     NaN    NaN     NaN       NaN       NaN   NaN   NaN  \n",
       "6  863.0  4043.0  474.0  1272.0 -25.77136  4.917084  4.94  13.6  \n",
       "7  863.0  4044.0  474.0  1272.0 -25.77136  4.820671  4.94  13.6  \n",
       "8  863.0  4042.0  474.0  1272.0 -25.77136  5.013498  4.94  13.6  \n",
       "9  863.0  4044.0  474.0  1272.0 -25.77136  4.820671  4.94  13.6  "
      ]
     },
     "execution_count": 3,
     "metadata": {},
     "output_type": "execute_result"
    }
   ],
   "source": [
    "\"\"\"  Читаем файл с логами \"\"\"\n",
    "## ['date', 'time', 'On', 'u', 'i', 't', 'u5', 'dac', 'CH0', 'CH1', 'CH2', 'CH3', 'U']\n",
    "dtype = {'date': str, 'time': str, 'On': str, 'u': str, 'i': str, 't': str, 'u5': str, 'dac': str,\n",
    "         'CH0': np.uint8, 'CH1': np.uint8, 'CH2': np.uint8, 'CH3': np.uint8}\n",
    "data = pd.read_csv(\"2018_11_08_Voltage.txt\", index_col=False, sep='\\\\s+')\n",
    "\n",
    "data = data[~data.On.isin(['OFF'])]\n",
    "data = data[~data.date.isin(['OK','>','Recv','ADC_on:','DAC_write', 'ADC_off:','SEND','Start'])] \n",
    "data = data[~data.date.str.contains(r'AT+')]\n",
    "data = data[~data.date.str.contains(r'SEN')]\n",
    "\n",
    "## add columns\n",
    "data[\"U\"]  = data.CH0 * 0.01528 - 36.91 - 2.048\n",
    "data[\"I\"]  = (4094.0 - data.CH1)/10.372\n",
    "data[\"U5\"] = (data.CH2 + 20.0)*0.01\n",
    "data[\"T\"]  = (data.CH3/2.0 - 500) * 0.1\n",
    "\n",
    "data = data.drop(columns = \"adc\")\n",
    "data.head()"
   ]
  },
  {
   "cell_type": "code",
   "execution_count": 4,
   "metadata": {
    "collapsed": false
   },
   "outputs": [
    {
     "name": "stdout",
     "output_type": "stream",
     "text": [
      "(7, 3)\n"
     ]
    }
   ],
   "source": [
    "\"\"\" Читаем файл расписания с временами и напряжениями \"\"\"\n",
    "table = pd.read_csv('Voltage_table.txt', index_col=False, sep='\\s+')\n",
    "print(table.shape)\n",
    "#table"
   ]
  },
  {
   "cell_type": "code",
   "execution_count": 5,
   "metadata": {
    "collapsed": false
   },
   "outputs": [],
   "source": [
    "\"\"\" Читаем файл расписания с временами и напряжениями \"\"\"\n",
    "for i in range(1,table.shape[0]):\n",
    "    part=data[(data.time >= table.begin[i]) & (data.time <= table.end[i])]\n",
    "    #print(i, part.U.count(), part.U.mean(), sep='\\t')\n",
    "    table.loc[i, 'count'] = part.U.count()                 ## количество измерений (секунд)\n",
    "    table.loc[i, 'U']     = part.U.mean()                  ## среднее напряжения источника -2.048\n",
    "    table.loc[i, 'Ustd']  = part.U.std()                   ## станд. отклонение напряжения источника\n",
    "    table.loc[i, 'I']     = part.I.mean()                  ## ток\n",
    "    table.loc[i, 'Istd']  = part.I.std()\n",
    "    table.loc[i, 'T']     = part['T'].mean()               ## температура\n",
    "    table.loc[i, 'Tstd']  = part['T'].std()\n",
    "    table.loc[i, 'index0'] = part.index[0]                 ## номер первого кадра в серии\n",
    "    table.loc[i, 'index1'] = part.index[part.U.count()-1]  ## номер последнего кадра"
   ]
  },
  {
   "cell_type": "markdown",
   "metadata": {},
   "source": [
    "Таблица характеристик серий измерений\n",
    "\n",
    "    name      --- комментарий к периоду измерений\n",
    "    w         --- код DAC высокого напряжения\n",
    "    begin     --- время начала периода измерений\n",
    "    end       --- время окончания периода измерений\n",
    "    count     --- количество измерений (секунд)\n",
    "    U, Ustd   --- среднее и станд. отклонение напряжения источника  \n",
    "    I, Istd   --- то же для тока SiPM\n",
    "    T, Tstd   --- то же для температуры"
   ]
  },
  {
   "cell_type": "code",
   "execution_count": 6,
   "metadata": {
    "collapsed": false
   },
   "outputs": [
    {
     "data": {
      "text/html": [
       "<div>\n",
       "<style scoped>\n",
       "    .dataframe tbody tr th:only-of-type {\n",
       "        vertical-align: middle;\n",
       "    }\n",
       "\n",
       "    .dataframe tbody tr th {\n",
       "        vertical-align: top;\n",
       "    }\n",
       "\n",
       "    .dataframe thead th {\n",
       "        text-align: right;\n",
       "    }\n",
       "</style>\n",
       "<table border=\"1\" class=\"dataframe\">\n",
       "  <thead>\n",
       "    <tr style=\"text-align: right;\">\n",
       "      <th></th>\n",
       "      <th>w</th>\n",
       "      <th>begin</th>\n",
       "      <th>end</th>\n",
       "      <th>count</th>\n",
       "      <th>U</th>\n",
       "      <th>Ustd</th>\n",
       "      <th>I</th>\n",
       "      <th>Istd</th>\n",
       "      <th>T</th>\n",
       "      <th>Tstd</th>\n",
       "      <th>index0</th>\n",
       "      <th>index1</th>\n",
       "    </tr>\n",
       "  </thead>\n",
       "  <tbody>\n",
       "    <tr>\n",
       "      <th>0</th>\n",
       "      <td>off</td>\n",
       "      <td>20:17:05</td>\n",
       "      <td>20:19:04</td>\n",
       "      <td>NaN</td>\n",
       "      <td>NaN</td>\n",
       "      <td>NaN</td>\n",
       "      <td>NaN</td>\n",
       "      <td>NaN</td>\n",
       "      <td>NaN</td>\n",
       "      <td>NaN</td>\n",
       "      <td>NaN</td>\n",
       "      <td>NaN</td>\n",
       "    </tr>\n",
       "    <tr>\n",
       "      <th>1</th>\n",
       "      <td>210</td>\n",
       "      <td>20:19:18</td>\n",
       "      <td>20:19:48</td>\n",
       "      <td>30.0</td>\n",
       "      <td>-25.780528</td>\n",
       "      <td>0.007614</td>\n",
       "      <td>5.260959</td>\n",
       "      <td>0.159499</td>\n",
       "      <td>8.600000</td>\n",
       "      <td>0.032163</td>\n",
       "      <td>2574.0</td>\n",
       "      <td>2603.0</td>\n",
       "    </tr>\n",
       "    <tr>\n",
       "      <th>2</th>\n",
       "      <td>240</td>\n",
       "      <td>20:19:49</td>\n",
       "      <td>20:20:16</td>\n",
       "      <td>27.0</td>\n",
       "      <td>-27.975076</td>\n",
       "      <td>0.006474</td>\n",
       "      <td>24.728257</td>\n",
       "      <td>0.432309</td>\n",
       "      <td>8.598148</td>\n",
       "      <td>0.021845</td>\n",
       "      <td>2610.0</td>\n",
       "      <td>2636.0</td>\n",
       "    </tr>\n",
       "    <tr>\n",
       "      <th>3</th>\n",
       "      <td>245</td>\n",
       "      <td>20:20:17</td>\n",
       "      <td>20:21:08</td>\n",
       "      <td>50.0</td>\n",
       "      <td>-28.385462</td>\n",
       "      <td>0.004187</td>\n",
       "      <td>30.622831</td>\n",
       "      <td>0.619001</td>\n",
       "      <td>8.562000</td>\n",
       "      <td>0.025873</td>\n",
       "      <td>2644.0</td>\n",
       "      <td>2693.0</td>\n",
       "    </tr>\n",
       "    <tr>\n",
       "      <th>4</th>\n",
       "      <td>250</td>\n",
       "      <td>20:21:09</td>\n",
       "      <td>20:21:59</td>\n",
       "      <td>49.0</td>\n",
       "      <td>-28.809897</td>\n",
       "      <td>0.005402</td>\n",
       "      <td>36.058619</td>\n",
       "      <td>1.032419</td>\n",
       "      <td>8.537755</td>\n",
       "      <td>0.026082</td>\n",
       "      <td>2700.0</td>\n",
       "      <td>2748.0</td>\n",
       "    </tr>\n",
       "    <tr>\n",
       "      <th>5</th>\n",
       "      <td>255</td>\n",
       "      <td>20:22:00</td>\n",
       "      <td>20:23:03</td>\n",
       "      <td>62.0</td>\n",
       "      <td>-29.240659</td>\n",
       "      <td>0.003306</td>\n",
       "      <td>41.530859</td>\n",
       "      <td>0.573104</td>\n",
       "      <td>8.511290</td>\n",
       "      <td>0.027786</td>\n",
       "      <td>2756.0</td>\n",
       "      <td>2817.0</td>\n",
       "    </tr>\n",
       "    <tr>\n",
       "      <th>6</th>\n",
       "      <td>210</td>\n",
       "      <td>20:23:05</td>\n",
       "      <td>20:35:59</td>\n",
       "      <td>746.0</td>\n",
       "      <td>-25.783670</td>\n",
       "      <td>0.006254</td>\n",
       "      <td>5.396308</td>\n",
       "      <td>0.143368</td>\n",
       "      <td>8.291354</td>\n",
       "      <td>0.111257</td>\n",
       "      <td>2824.0</td>\n",
       "      <td>3569.0</td>\n",
       "    </tr>\n",
       "  </tbody>\n",
       "</table>\n",
       "</div>"
      ],
      "text/plain": [
       "     w     begin       end  count          U      Ustd          I      Istd  \\\n",
       "0  off  20:17:05  20:19:04    NaN        NaN       NaN        NaN       NaN   \n",
       "1  210  20:19:18  20:19:48   30.0 -25.780528  0.007614   5.260959  0.159499   \n",
       "2  240  20:19:49  20:20:16   27.0 -27.975076  0.006474  24.728257  0.432309   \n",
       "3  245  20:20:17  20:21:08   50.0 -28.385462  0.004187  30.622831  0.619001   \n",
       "4  250  20:21:09  20:21:59   49.0 -28.809897  0.005402  36.058619  1.032419   \n",
       "5  255  20:22:00  20:23:03   62.0 -29.240659  0.003306  41.530859  0.573104   \n",
       "6  210  20:23:05  20:35:59  746.0 -25.783670  0.006254   5.396308  0.143368   \n",
       "\n",
       "          T      Tstd  index0  index1  \n",
       "0       NaN       NaN     NaN     NaN  \n",
       "1  8.600000  0.032163  2574.0  2603.0  \n",
       "2  8.598148  0.021845  2610.0  2636.0  \n",
       "3  8.562000  0.025873  2644.0  2693.0  \n",
       "4  8.537755  0.026082  2700.0  2748.0  \n",
       "5  8.511290  0.027786  2756.0  2817.0  \n",
       "6  8.291354  0.111257  2824.0  3569.0  "
      ]
     },
     "execution_count": 6,
     "metadata": {},
     "output_type": "execute_result"
    }
   ],
   "source": [
    "table"
   ]
  },
  {
   "cell_type": "markdown",
   "metadata": {},
   "source": [
    "## Результат:\n",
    "\n",
    "отношение токов при коде высокого 250 и 255 равно 0.868"
   ]
  },
  {
   "cell_type": "code",
   "execution_count": 7,
   "metadata": {
    "collapsed": false
   },
   "outputs": [
    {
     "name": "stdout",
     "output_type": "stream",
     "text": [
      "0.868236791852\n"
     ]
    }
   ],
   "source": [
    "print(table.I[4] / table.I[5])"
   ]
  }
 ],
 "metadata": {
  "anaconda-cloud": {},
  "kernelspec": {
   "display_name": "Python [default]",
   "language": "python",
   "name": "python3"
  },
  "language_info": {
   "codemirror_mode": {
    "name": "ipython",
    "version": 3
   },
   "file_extension": ".py",
   "mimetype": "text/x-python",
   "name": "python",
   "nbconvert_exporter": "python",
   "pygments_lexer": "ipython3",
   "version": "3.5.2"
  }
 },
 "nbformat": 4,
 "nbformat_minor": 2
}
