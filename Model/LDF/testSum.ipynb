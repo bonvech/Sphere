{
 "cells": [
  {
   "cell_type": "markdown",
   "metadata": {},
   "source": []
  },
  {
   "cell_type": "code",
   "execution_count": 1,
   "metadata": {
    "collapsed": true
   },
   "outputs": [],
   "source": [
    "%matplotlib inline\n",
    "import pandas as pd\n",
    "import matplotlib.pyplot as plt\n",
    "import matplotlib as mp\n",
    "import math as mt\n",
    "import numpy as np"
   ]
  },
  {
   "cell_type": "code",
   "execution_count": 4,
   "metadata": {
    "collapsed": false
   },
   "outputs": [
    {
     "data": {
      "text/html": [
       "<div>\n",
       "<table border=\"1\" class=\"dataframe\">\n",
       "  <thead>\n",
       "    <tr style=\"text-align: right;\">\n",
       "      <th></th>\n",
       "      <th>0</th>\n",
       "      <th>1</th>\n",
       "      <th>2</th>\n",
       "      <th>3</th>\n",
       "      <th>4</th>\n",
       "      <th>5</th>\n",
       "      <th>6</th>\n",
       "      <th>7</th>\n",
       "      <th>8</th>\n",
       "      <th>9</th>\n",
       "      <th>...</th>\n",
       "      <th>470</th>\n",
       "      <th>471</th>\n",
       "      <th>472</th>\n",
       "      <th>473</th>\n",
       "      <th>474</th>\n",
       "      <th>475</th>\n",
       "      <th>476</th>\n",
       "      <th>477</th>\n",
       "      <th>478</th>\n",
       "      <th>479</th>\n",
       "    </tr>\n",
       "  </thead>\n",
       "  <tbody>\n",
       "    <tr>\n",
       "      <th>0</th>\n",
       "      <td>23490.0</td>\n",
       "      <td>23660.0</td>\n",
       "      <td>24050.0</td>\n",
       "      <td>23770.0</td>\n",
       "      <td>24120.0</td>\n",
       "      <td>24250.0</td>\n",
       "      <td>24350.0</td>\n",
       "      <td>24670.0</td>\n",
       "      <td>24780.0</td>\n",
       "      <td>25130.0</td>\n",
       "      <td>...</td>\n",
       "      <td>23760.0</td>\n",
       "      <td>23590.0</td>\n",
       "      <td>23450.0</td>\n",
       "      <td>23360.0</td>\n",
       "      <td>23120.0</td>\n",
       "      <td>22940.0</td>\n",
       "      <td>22810.0</td>\n",
       "      <td>22810.0</td>\n",
       "      <td>22300.0</td>\n",
       "      <td>22310.0</td>\n",
       "    </tr>\n",
       "    <tr>\n",
       "      <th>1</th>\n",
       "      <td>23760.0</td>\n",
       "      <td>23750.0</td>\n",
       "      <td>23880.0</td>\n",
       "      <td>24400.0</td>\n",
       "      <td>24280.0</td>\n",
       "      <td>24440.0</td>\n",
       "      <td>24220.0</td>\n",
       "      <td>24880.0</td>\n",
       "      <td>24790.0</td>\n",
       "      <td>25100.0</td>\n",
       "      <td>...</td>\n",
       "      <td>23720.0</td>\n",
       "      <td>23630.0</td>\n",
       "      <td>23680.0</td>\n",
       "      <td>23380.0</td>\n",
       "      <td>23290.0</td>\n",
       "      <td>22840.0</td>\n",
       "      <td>23030.0</td>\n",
       "      <td>22920.0</td>\n",
       "      <td>22410.0</td>\n",
       "      <td>22480.0</td>\n",
       "    </tr>\n",
       "    <tr>\n",
       "      <th>2</th>\n",
       "      <td>23790.0</td>\n",
       "      <td>23930.0</td>\n",
       "      <td>23960.0</td>\n",
       "      <td>23860.0</td>\n",
       "      <td>24600.0</td>\n",
       "      <td>24730.0</td>\n",
       "      <td>24600.0</td>\n",
       "      <td>24780.0</td>\n",
       "      <td>25090.0</td>\n",
       "      <td>25100.0</td>\n",
       "      <td>...</td>\n",
       "      <td>24070.0</td>\n",
       "      <td>23830.0</td>\n",
       "      <td>23610.0</td>\n",
       "      <td>23420.0</td>\n",
       "      <td>23300.0</td>\n",
       "      <td>23210.0</td>\n",
       "      <td>22750.0</td>\n",
       "      <td>23000.0</td>\n",
       "      <td>22910.0</td>\n",
       "      <td>22200.0</td>\n",
       "    </tr>\n",
       "  </tbody>\n",
       "</table>\n",
       "<p>3 rows × 480 columns</p>\n",
       "</div>"
      ],
      "text/plain": [
       "       0        1        2        3        4        5        6        7    \\\n",
       "0  23490.0  23660.0  24050.0  23770.0  24120.0  24250.0  24350.0  24670.0   \n",
       "1  23760.0  23750.0  23880.0  24400.0  24280.0  24440.0  24220.0  24880.0   \n",
       "2  23790.0  23930.0  23960.0  23860.0  24600.0  24730.0  24600.0  24780.0   \n",
       "\n",
       "       8        9     ...         470      471      472      473      474  \\\n",
       "0  24780.0  25130.0   ...     23760.0  23590.0  23450.0  23360.0  23120.0   \n",
       "1  24790.0  25100.0   ...     23720.0  23630.0  23680.0  23380.0  23290.0   \n",
       "2  25090.0  25100.0   ...     24070.0  23830.0  23610.0  23420.0  23300.0   \n",
       "\n",
       "       475      476      477      478      479  \n",
       "0  22940.0  22810.0  22810.0  22300.0  22310.0  \n",
       "1  22840.0  23030.0  22920.0  22410.0  22480.0  \n",
       "2  23210.0  22750.0  23000.0  22910.0  22200.0  \n",
       "\n",
       "[3 rows x 480 columns]"
      ]
     },
     "execution_count": 4,
     "metadata": {},
     "output_type": "execute_result"
    }
   ],
   "source": [
    "#Прочитать файл \n",
    "filename = '/home/sphere/Model/Data/3RawLDF_full/30PeV/I/h/00-20/h-30PeV-I-00-20-000'\n",
    "data = pd.read_csv(filename,header = None, index_col=None, sep='\\s+')\n",
    "data[:3]"
   ]
  },
  {
   "cell_type": "code",
   "execution_count": 12,
   "metadata": {
    "collapsed": false
   },
   "outputs": [],
   "source": [
    "from math import sqrt "
   ]
  },
  {
   "cell_type": "code",
   "execution_count": 24,
   "metadata": {
    "collapsed": false
   },
   "outputs": [
    {
     "name": "stdout",
     "output_type": "stream",
     "text": [
      "[0, 0, 0, 0, 0, 0, 0, 0, 0, 0, 0, 0, 0, 0, 0, 0, 0, 0, 0, 0, 0, 0, 0, 0, 0, 0, 0, 0, 0, 0, 0, 0, 0, 0, 0, 0, 0, 0, 0, 0, 0, 0, 0, 0, 0, 0, 0, 0, 0, 0, 0, 0, 0, 0, 0, 0, 0, 0, 0, 0, 0, 0, 0, 0, 0, 0, 0, 0, 0, 0, 0, 0, 0, 0, 0, 0, 0, 0, 0, 0, 0, 0, 0, 0, 0, 0, 0, 0, 0, 0, 0, 0, 0, 0, 0, 0, 0, 0, 0, 0, 0, 0, 0, 0, 0, 0, 0, 0, 0, 0, 0, 0, 0, 0, 0, 0, 0, 0, 0, 0, 0, 0, 0, 0, 0, 0, 0, 0, 0, 0, 0, 0, 0, 0, 0, 0, 0, 0, 0, 0, 0, 0, 0, 0, 0, 0, 0, 0, 0, 0, 0, 0, 0, 0, 0, 0, 0, 0, 0, 0, 0, 0, 0, 0, 0, 0, 0, 0, 0, 0, 0, 0, 0, 0, 0, 0, 0, 0, 0, 0, 0, 0, 0, 0, 0, 0, 0, 0, 0, 0, 0, 0, 0, 0, 0, 0, 0, 0, 0, 0, 0, 0, 0, 0, 0, 0, 0, 0, 0, 0, 0, 0, 0, 0, 0, 0, 0, 0, 0, 0, 0, 0, 0, 0, 0, 0, 0, 0, 0, 0, 0, 0, 0, 0, 0, 0, 0, 0, 0, 0, 0, 0, 0, 0, 0, 0, 0, 0, 0, 0, 0, 0, 0, 0, 0, 0, 0, 0, 0, 0, 0, 0, 0, 0, 0, 0, 0, 0, 0, 0, 0, 0, 0, 0, 0, 0, 0, 0, 0, 0, 0, 0, 0, 0, 0, 0, 0, 0, 0, 0, 0, 0, 0, 0, 0, 0, 0, 0, 0, 0, 0, 0, 0, 0, 0, 0, 0, 0, 0, 0, 0, 0, 0, 0, 0, 0, 0, 0, 0, 0, 0, 0, 0, 0, 0, 0, 0, 0, 0, 0, 0, 0, 0, 0, 0, 0, 0, 0, 0, 0]\n"
     ]
    }
   ],
   "source": [
    "a = [0 for i in range(340)]\n",
    "print(a)"
   ]
  },
  {
   "cell_type": "code",
   "execution_count": 34,
   "metadata": {
    "collapsed": false
   },
   "outputs": [],
   "source": [
    "a = [0 for i in range(345)]\n",
    "for i in range(480):\n",
    "    #print(i)\n",
    "    for j in range(480):\n",
    "        dist2 = (i-239)**2 + (j-239)**2\n",
    "        dist = sqrt(dist2)\n",
    "        #print(i,j, dist)\n",
    "        a[int (dist)] += data[i][j]"
   ]
  },
  {
   "cell_type": "code",
   "execution_count": 35,
   "metadata": {
    "collapsed": false
   },
   "outputs": [
    {
     "name": "stdout",
     "output_type": "stream",
     "text": [
      "[25210000.0, 173040000.0, 279250000.0, 301240000.0, 322680000.0, 481430000.0, 396290000.0, 489029000.0, 530521000.0, 498094000.0, 571430000.0, 510993000.0, 608566000.0, 666416000.0, 609564000.0, 638953000.0, 615155000.0, 716155000.0, 713655000.0, 689278000.0, 689667000.0, 774662000.0, 709212000.0, 708974000.0, 747517000.0, 801697000.0, 814555000.0, 737901000.0, 735739000.0, 817961000.0, 779133000.0, 838007000.0, 783423000.0, 792089000.0, 843347000.0, 747466000.0, 809870000.0, 772714000.0, 840739000.0, 788964000.0, 728041000.0, 812205000.0, 762218000.0, 803096000.0, 742992000.0, 707235000.0, 742434000.0, 705721000.0, 725668000.0, 680026000.0, 721754000.0, 668461000.0, 619868000.0, 657971000.0, 592954000.0, 653970000.0, 569250000.0, 570438000.0, 554658000.0, 540347000.0, 555126000.0, 530489000.0, 518001000.0, 511668000.0, 480916000.0, 518803000.0, 465854000.0, 479249000.0, 495728000.0, 443109000.0, 463959600.0, 431142000.0, 470041600.0, 441851000.0, 430046100.0, 429637600.0, 421956200.0, 424764500.0, 397411900.0, 403877600.0, 412862700.0, 387225600.0, 405002200.0, 371764900.0, 386045100.0, 385381000.0, 373518600.0, 370341200.0, 343713600.0, 384621300.0, 345822100.0, 352945200.0, 347605000.0, 342398000.0, 348721100.0, 325550100.0, 329766000.0, 339986200.0, 320187200.0, 332125400.0, 307113300.0, 328517000.0, 312081500.0, 296401100.0, 312913400.0, 293905500.0, 311440800.0, 294701900.0, 285593300.0, 288635800.0, 284773600.0, 292350500.0, 278826900.0, 278285800.0, 285307400.0, 270920100.0, 264562300.0, 267062600.0, 267891400.0, 264443400.0, 258308200.0, 248376900.0, 256007600.0, 268221800.0, 240515500.0, 253917600.0, 233540300.0, 247793000.0, 245870400.0, 231128000.0, 242230700.0, 229100200.0, 240775400.0, 231253900.0, 215654000.0, 233318000.0, 222119600.0, 223594900.0, 217981300.0, 211525200.0, 222742200.0, 209564100.0, 211941700.0, 209516100.0, 208940400.0, 211032500.0, 201470800.0, 199260600.0, 204776300.0, 199887800.0, 197650000.0, 188944700.0, 197388700.0, 188840900.0, 196172900.0, 185479100.0, 185816000.0, 191264600.0, 177356300.0, 182053300.0, 180089200.0, 186598500.0, 178252200.0, 170884700.0, 175902900.0, 172053800.0, 177444300.0, 166458600.0, 163523700.0, 172567100.0, 166951800.0, 165195400.0, 160504900.0, 165385000.0, 162491900.0, 156217400.0, 158621100.0, 152536500.0, 159883300.0, 155479700.0, 149577700.0, 152355100.0, 153436600.0, 152332100.0, 142650200.0, 147343900.0, 149313800.0, 143894600.0, 143446400.0, 139634600.0, 140633800.0, 143027700.0, 135166500.0, 141573800.0, 133878100.0, 137925600.0, 136129600.0, 131774300.0, 133949400.0, 129288660.0, 134279670.0, 126441870.0, 125273200.0, 132439430.0, 124882550.0, 128348480.0, 121376990.0, 123685110.0, 123998900.0, 120606310.0, 119883200.0, 121640970.0, 119052540.0, 118308090.0, 116847430.0, 113730030.0, 117436080.0, 115327560.0, 112314940.0, 113236210.0, 111892890.0, 111480940.0, 112349850.0, 107286780.0, 110318960.0, 106288840.0, 107126000.0, 105253440.0, 106682540.0, 108593780.0, 100452510.0, 102132940.0, 101799490.0, 102006960.0, 103553630.0, 97749000.0, 99067630.0, 100573820.0, 94968970.0, 99324380.0, 88219310.0, 85741210.0, 78750850.0, 73159780.0, 71587270.0, 65215880.0, 69262270.0, 62557340.0, 59078770.0, 58886270.0, 55507640.0, 56472110.0, 51825020.0, 50817030.0, 50684570.0, 48404510.0, 46590880.0, 43559070.0, 46008340.0, 41371560.0, 41326640.0, 39656750.0, 38435310.0, 38607870.0, 35654370.0, 35839470.0, 34126450.0, 32628050.0, 32848000.0, 31185040.0, 31036800.0, 28539250.0, 29136740.0, 27402640.0, 26935770.0, 27001390.0, 24821680.0, 25075610.0, 23121150.0, 22381370.0, 23649570.0, 20769230.0, 22338180.0, 19226630.0, 19837010.0, 19939670.0, 17096920.0, 19534410.0, 16436770.0, 16725240.0, 16409190.0, 14623470.0, 16517170.0, 14034270.0, 14184020.0, 13759160.0, 12917480.0, 13341730.0, 11425980.0, 12256020.0, 11064610.0, 11081390.0, 10844820.0, 9161760.0, 10245180.0, 8987770.0, 9268650.0, 8546310.0, 7223050.0, 9005300.0, 6478730.0, 7860520.0, 6466090.0, 6288000.0, 6576200.0, 5118240.0, 6337090.0, 4672790.0, 5084170.0, 4701820.0, 3549160.0, 4829950.0, 3367640.0, 3871480.0, 3197750.0, 2744900.0, 3239340.0, 1760030.0, 3181070.0, 1422070.0, 2212670.0, 1396200.0, 988650.0, 1663720.0, 678310.0, 1057920.0, 381270.0, 377810.0, 189470.0, 24440.0, 0, 0, 0, 0, 0]\n"
     ]
    }
   ],
   "source": [
    "print(a)"
   ]
  },
  {
   "cell_type": "code",
   "execution_count": 39,
   "metadata": {
    "collapsed": false
   },
   "outputs": [
    {
     "data": {
      "text/plain": [
       "[<matplotlib.lines.Line2D at 0x7f7d91cf3198>]"
      ]
     },
     "execution_count": 39,
     "metadata": {},
     "output_type": "execute_result"
    },
    {
     "data": {
      "image/png": "[encoded data removed]",
      "text/plain": [
       "<matplotlib.figure.Figure at 0x7f7d91d14b00>"
      ]
     },
     "metadata": {},
     "output_type": "display_data"
    }
   ],
   "source": [
    "plt.plot(a)"
   ]
  },
  {
   "cell_type": "code",
   "execution_count": 45,
   "metadata": {
    "collapsed": false
   },
   "outputs": [
    {
     "name": "stdout",
     "output_type": "stream",
     "text": [
      "4068214000.0 21302372000.0 83018181560.0\n"
     ]
    }
   ],
   "source": [
    "# 1 шаг = 5 м\n",
    "step = 5\n",
    "Q50 = 0\n",
    "Q200 = 0\n",
    "Q = 0\n",
    "for i in range (len(a)):\n",
    "    Q   += a[i]\n",
    "    r = i * step\n",
    "    if(r <= 50):\n",
    "        Q50 += a[i]\n",
    "    if((r > 50) & (r < 200)):\n",
    "        Q200 += a[i]\n",
    "print(Q50, Q200, Q)"
   ]
  },
  {
   "cell_type": "code",
   "execution_count": null,
   "metadata": {
    "collapsed": true
   },
   "outputs": [],
   "source": [
    "4068214000.0 21302372000.0 83018181560.0\n"
   ]
  }
 ],
 "metadata": {
  "anaconda-cloud": {},
  "kernelspec": {
   "display_name": "Python [default]",
   "language": "python",
   "name": "python3"
  },
  "language_info": {
   "codemirror_mode": {
    "name": "ipython",
    "version": 3
   },
   "file_extension": ".py",
   "mimetype": "text/x-python",
   "name": "python",
   "nbconvert_exporter": "python",
   "pygments_lexer": "ipython3",
   "version": "3.5.2"
  }
 },
 "nbformat": 4,
 "nbformat_minor": 1
}
